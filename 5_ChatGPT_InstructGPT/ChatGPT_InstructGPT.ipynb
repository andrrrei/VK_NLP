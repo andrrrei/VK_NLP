{
  "cells": [
    {
      "cell_type": "code",
      "execution_count": 1,
      "metadata": {
        "colab": {
          "base_uri": "https://localhost:8080/"
        },
        "id": "ymnTEOhN3Ytl",
        "outputId": "3f6556e2-66ca-40b1-e317-cabc3509d0ae"
      },
      "outputs": [
        {
          "output_type": "stream",
          "name": "stdout",
          "text": [
            "argilla_df.parquet  sample_data\n"
          ]
        }
      ],
      "source": [
        "! ls"
      ]
    },
    {
      "cell_type": "code",
      "execution_count": 2,
      "metadata": {
        "colab": {
          "base_uri": "https://localhost:8080/"
        },
        "id": "695xY_Hk3f7E",
        "outputId": "4f1b51ee-d7ee-4276-be5b-e04da5def65b"
      },
      "outputs": [
        {
          "output_type": "stream",
          "name": "stdout",
          "text": [
            "Cloning into 'gpt2'...\n",
            "remote: Enumerating objects: 87, done.\u001b[K\n",
            "remote: Counting objects: 100% (21/21), done.\u001b[K\n",
            "remote: Compressing objects: 100% (7/7), done.\u001b[K\n",
            "remote: Total 87 (delta 17), reused 13 (delta 13), pack-reused 66 (from 1)\u001b[K\n",
            "Unpacking objects: 100% (87/87), 1.65 MiB | 3.41 MiB/s, done.\n",
            "Filtering content: 100% (11/11), 5.23 GiB | 55.70 MiB/s, done.\n"
          ]
        }
      ],
      "source": [
        "! git clone https://huggingface.co/openai-community/gpt2"
      ]
    },
    {
      "cell_type": "markdown",
      "metadata": {
        "id": "Fuu1sk6o4Vjh"
      },
      "source": [
        "# **Загрузка модели**"
      ]
    },
    {
      "cell_type": "code",
      "execution_count": 3,
      "metadata": {
        "id": "1zuU-b6G4MR8"
      },
      "outputs": [],
      "source": [
        "import transformers\n",
        "import torch"
      ]
    },
    {
      "cell_type": "code",
      "execution_count": 4,
      "metadata": {
        "id": "TeKWzYwZ4MUj"
      },
      "outputs": [],
      "source": [
        "device = 'cuda'"
      ]
    },
    {
      "cell_type": "code",
      "execution_count": 5,
      "metadata": {
        "colab": {
          "base_uri": "https://localhost:8080/"
        },
        "id": "Dd5vp1vC4MXa",
        "outputId": "532c7af9-2c99-4165-ac06-6b213a65c370"
      },
      "outputs": [
        {
          "output_type": "execute_result",
          "data": {
            "text/plain": [
              "GPT2LMHeadModel(\n",
              "  (transformer): GPT2Model(\n",
              "    (wte): Embedding(50257, 768)\n",
              "    (wpe): Embedding(1024, 768)\n",
              "    (drop): Dropout(p=0.1, inplace=False)\n",
              "    (h): ModuleList(\n",
              "      (0-11): 12 x GPT2Block(\n",
              "        (ln_1): LayerNorm((768,), eps=1e-05, elementwise_affine=True)\n",
              "        (attn): GPT2Attention(\n",
              "          (c_attn): Conv1D()\n",
              "          (c_proj): Conv1D()\n",
              "          (attn_dropout): Dropout(p=0.1, inplace=False)\n",
              "          (resid_dropout): Dropout(p=0.1, inplace=False)\n",
              "        )\n",
              "        (ln_2): LayerNorm((768,), eps=1e-05, elementwise_affine=True)\n",
              "        (mlp): GPT2MLP(\n",
              "          (c_fc): Conv1D()\n",
              "          (c_proj): Conv1D()\n",
              "          (act): NewGELUActivation()\n",
              "          (dropout): Dropout(p=0.1, inplace=False)\n",
              "        )\n",
              "      )\n",
              "    )\n",
              "    (ln_f): LayerNorm((768,), eps=1e-05, elementwise_affine=True)\n",
              "  )\n",
              "  (lm_head): Linear(in_features=768, out_features=50257, bias=False)\n",
              ")"
            ]
          },
          "metadata": {},
          "execution_count": 5
        }
      ],
      "source": [
        "model = transformers.AutoModelForCausalLM.from_pretrained(\n",
        "    'gpt2',\n",
        "    torch_dtype=torch.float64,\n",
        ")\n",
        "\n",
        "model.to(device)"
      ]
    },
    {
      "cell_type": "code",
      "execution_count": 6,
      "metadata": {
        "colab": {
          "base_uri": "https://localhost:8080/"
        },
        "id": "kG6Y5VXs4Maj",
        "outputId": "df6a1edb-a140-41b8-ab2b-43547eecee10"
      },
      "outputs": [
        {
          "output_type": "execute_result",
          "data": {
            "text/plain": [
              "1"
            ]
          },
          "metadata": {},
          "execution_count": 6
        }
      ],
      "source": [
        "tokenizer = transformers.AutoTokenizer.from_pretrained(\"gpt2\")\n",
        "tokenizer.add_special_tokens({'pad_token': \"<|endoftext|>\"})"
      ]
    },
    {
      "cell_type": "markdown",
      "metadata": {
        "id": "xwnnFYLe4dey"
      },
      "source": [
        "# **Задание 1. LayerNorm vs RMSNorm**\n",
        "\n",
        "для примера ниже нужно релизовать подсчет var и вычислить входной вектор в случае LayerNorm и RMSNorm\n",
        "\n",
        "\n",
        "\n",
        "1) LayerNorm:\n",
        "\n",
        "the paper: https://arxiv.org/abs/1607.06450\n",
        "\n",
        "\n"
      ]
    },
    {
      "cell_type": "markdown",
      "metadata": {
        "id": "YqikWhZwDXkC"
      },
      "source": [
        "![](https://drive.google.com/uc?export=view&id=1rUfBxhGNGBw98EGWlCq7rOKYUEoyld2i)"
      ]
    },
    {
      "cell_type": "markdown",
      "metadata": {
        "id": "EI0bBsLNEx_k"
      },
      "source": [
        "2) RMSNorm:\n",
        "\n",
        "the paper: https://arxiv.org/pdf/1910.07467v1.pdf"
      ]
    },
    {
      "cell_type": "markdown",
      "metadata": {
        "id": "QY-MMa7xEyD-"
      },
      "source": [
        "\n",
        "![](https://drive.google.com/uc?export=view&id=1s5Ed7ZRsZ1KvIT6Np-zSiBhckYc1NfWQ)"
      ]
    },
    {
      "cell_type": "code",
      "execution_count": 7,
      "metadata": {
        "id": "JHximgUQ4QFO"
      },
      "outputs": [],
      "source": [
        "example = torch.Tensor([[1, 2, 3, 4, 5], [2, 3, 4, 5, 6]])"
      ]
    },
    {
      "cell_type": "code",
      "execution_count": 8,
      "metadata": {
        "colab": {
          "base_uri": "https://localhost:8080/"
        },
        "id": "0_Nez0oT4QI4",
        "outputId": "31313f99-c88a-40b2-abba-2877e96c7d72"
      },
      "outputs": [
        {
          "output_type": "execute_result",
          "data": {
            "text/plain": [
              "tensor([[1., 2., 3., 4., 5.],\n",
              "        [2., 3., 4., 5., 6.]])"
            ]
          },
          "metadata": {},
          "execution_count": 8
        }
      ],
      "source": [
        "example"
      ]
    },
    {
      "cell_type": "code",
      "execution_count": 9,
      "metadata": {
        "id": "pt8hCAW94m_o"
      },
      "outputs": [],
      "source": [
        "class LayerNorm:\n",
        "  def __init__(self, eps: float = 1e-5):\n",
        "    self.eps = eps\n",
        "\n",
        "  def __call__(self, input: torch.Tensor):\n",
        "    mean = (input.sum(axis=1) / input.shape[1]).reshape(-1, 1)\n",
        "    print((input - mean) ** 2)\n",
        "    var = (torch.sum((input - mean) ** 2, axis=1) / input.shape[1]).reshape(-1, 1)\n",
        "    print(var)\n",
        "    return (input - mean) / (torch.sqrt(var + self.eps))"
      ]
    },
    {
      "cell_type": "code",
      "execution_count": 10,
      "metadata": {
        "colab": {
          "base_uri": "https://localhost:8080/"
        },
        "id": "_ZIO1D8ZFtW9",
        "outputId": "9b19b963-cd1b-41ac-8ead-3e3ac9380320"
      },
      "outputs": [
        {
          "output_type": "stream",
          "name": "stdout",
          "text": [
            "tensor([[4., 1., 0., 1., 4.],\n",
            "        [4., 1., 0., 1., 4.]])\n",
            "tensor([[2.],\n",
            "        [2.]])\n"
          ]
        },
        {
          "output_type": "execute_result",
          "data": {
            "text/plain": [
              "tensor([[-1.4142, -0.7071,  0.0000,  0.7071,  1.4142],\n",
              "        [-1.4142, -0.7071,  0.0000,  0.7071,  1.4142]])"
            ]
          },
          "metadata": {},
          "execution_count": 10
        }
      ],
      "source": [
        "layer_norm = LayerNorm()\n",
        "result = layer_norm(example)\n",
        "result"
      ]
    },
    {
      "cell_type": "code",
      "execution_count": 11,
      "metadata": {
        "colab": {
          "base_uri": "https://localhost:8080/"
        },
        "id": "c3DAbpG6F5IK",
        "outputId": "25b3892f-f7d6-4259-dae3-85bf1a267d6e"
      },
      "outputs": [
        {
          "output_type": "execute_result",
          "data": {
            "text/plain": [
              "tensor(-1.4142)"
            ]
          },
          "metadata": {},
          "execution_count": 11
        }
      ],
      "source": [
        "result[0][0]"
      ]
    },
    {
      "cell_type": "code",
      "execution_count": 12,
      "metadata": {
        "id": "9X6bFai14nFn"
      },
      "outputs": [],
      "source": [
        "class RMSNorm:\n",
        "  def __init__(self, eps: float = 1e-5):\n",
        "    self.eps = eps\n",
        "\n",
        "  def __call__(self, input: torch.Tensor):\n",
        "    var = torch.var(input)\n",
        "    return input / torch.sqrt(var + self.eps)"
      ]
    },
    {
      "cell_type": "code",
      "execution_count": 13,
      "metadata": {
        "colab": {
          "base_uri": "https://localhost:8080/"
        },
        "id": "nylEtfu84nIc",
        "outputId": "529fa3fb-5ee5-4ecb-dff8-5a05f428fe53"
      },
      "outputs": [
        {
          "output_type": "execute_result",
          "data": {
            "text/plain": [
              "tensor([[0.6325, 1.2649, 1.8974, 2.5298, 3.1623],\n",
              "        [1.2649, 1.8974, 2.5298, 3.1623, 3.7947]])"
            ]
          },
          "metadata": {},
          "execution_count": 13
        }
      ],
      "source": [
        "rms_norm = RMSNorm()\n",
        "result = rms_norm(example)\n",
        "result"
      ]
    },
    {
      "cell_type": "code",
      "execution_count": 14,
      "metadata": {
        "colab": {
          "base_uri": "https://localhost:8080/"
        },
        "id": "97YxTO6r4nLm",
        "outputId": "6ca01f16-14d8-4029-e0d7-8e62efb62c8b"
      },
      "outputs": [
        {
          "output_type": "execute_result",
          "data": {
            "text/plain": [
              "tensor(0.6325)"
            ]
          },
          "metadata": {},
          "execution_count": 14
        }
      ],
      "source": [
        "result[0][0]"
      ]
    },
    {
      "cell_type": "markdown",
      "metadata": {
        "id": "X5mQkHoBzl7j"
      },
      "source": [
        "# Задание 2. Обучение модели.\n",
        "\n",
        "1) необходимо подобрать такой lr, при котором лосс будет иметь тенденцию к снижению (скользящее срденее которого убывает)\n",
        "\n"
      ]
    },
    {
      "cell_type": "code",
      "execution_count": 15,
      "metadata": {
        "id": "RnyMTIT-9QUg"
      },
      "outputs": [],
      "source": [
        "import pandas as pd\n",
        "from torch import nn\n",
        "import transformers\n",
        "import torch"
      ]
    },
    {
      "cell_type": "code",
      "execution_count": 16,
      "metadata": {
        "id": "MRgsSN9Fzt2k"
      },
      "outputs": [],
      "source": [
        "sft_df = pd.read_parquet('argilla_df.parquet')"
      ]
    },
    {
      "cell_type": "code",
      "execution_count": 17,
      "metadata": {
        "id": "Erd0jNdFzt5e"
      },
      "outputs": [],
      "source": [
        "from torch.utils.data import Dataset, DataLoader, Sampler\n",
        "from typing import Dict, Sequence, List, Iterator, Tuple\n",
        "\n",
        "IGNORE_INDEX: int = -100\n",
        "pad_token_id = 60000\n",
        "\n",
        "def _tokenize_fn(text: str, max_length: int, tokenizer: transformers.PreTrainedTokenizer) -> List[int]:\n",
        "    return tokenizer(\n",
        "        text,\n",
        "        max_length=max_length,\n",
        "        truncation=True,\n",
        "        add_special_tokens=False,\n",
        "    )['input_ids']\n",
        "\n",
        "class SupervisedDataset(Dataset):\n",
        "    \"\"\"Dataset for supervised fine-tuning.\"\"\"\n",
        "    def __init__(self, dataset, tokenizer: transformers.PreTrainedTokenizer):\n",
        "        super(SupervisedDataset, self).__init__()\n",
        "        self.tokenizer = tokenizer\n",
        "\n",
        "        bos_token = tokenizer.bos_token if tokenizer.bos_token is not None else ''\n",
        "        self.sources = [f\"{bos_token}{example[0]}\" for example in dataset]\n",
        "        self.targets = [f\"{example[1]}{tokenizer.eos_token}\" for example in dataset]\n",
        "\n",
        "    def __len__(self) -> int:\n",
        "        return len(self.sources)\n",
        "\n",
        "    def padding(self, ids: torch.tensor, max_length: int) -> torch.tensor:\n",
        "        return\n",
        "\n",
        "    def __getitem__(self, i: int) -> Dict[str, List[int]]:\n",
        "        source_ids = _tokenize_fn(self.sources[i], self.tokenizer.model_max_length, self.tokenizer)\n",
        "        target_ids = _tokenize_fn(self.targets[i], self.tokenizer.model_max_length - len(source_ids), self.tokenizer)\n",
        "        input_ids = torch.tensor(source_ids + target_ids)\n",
        "\n",
        "        input_pad_len = self.tokenizer.model_max_length - len(input_ids)\n",
        "        input_ids_pad = torch.tensor(source_ids + target_ids + [self.tokenizer.pad_token_id]*input_pad_len)\n",
        "        input_att_mask = torch.tensor([[1]*len(input_ids) + [0]*input_pad_len])\n",
        "\n",
        "        ### делаем сдвиг на 1, поскольку для последовательности 1, 2, 3, 4, 5\n",
        "        ### таргетами будет последовательность, которую надо предсказать после n-токенов: 2,3,4,5,pad_token\n",
        "        ### если вы используете библиотечную функцию train - в датасете сдвиг делать не нужно, его сделают во время train\n",
        "        labels = torch.tensor([IGNORE_INDEX] * (len(source_ids) - 1) + target_ids + [pad_token_id]*(input_pad_len + 1))\n",
        "\n",
        "        return dict(input_ids=input_ids_pad, input_att_mask=input_att_mask,\n",
        "                    labels=labels)\n"
      ]
    },
    {
      "cell_type": "code",
      "execution_count": 18,
      "metadata": {
        "colab": {
          "base_uri": "https://localhost:8080/"
        },
        "id": "tfd6DMaBGY27",
        "outputId": "19fa4422-2fd4-4e27-b742-6668ed4489dd"
      },
      "outputs": [
        {
          "output_type": "execute_result",
          "data": {
            "text/plain": [
              "50256"
            ]
          },
          "metadata": {},
          "execution_count": 18
        }
      ],
      "source": [
        "tokenizer.pad_token_id"
      ]
    },
    {
      "cell_type": "code",
      "execution_count": 19,
      "metadata": {
        "id": "QHAG29nMzt8D"
      },
      "outputs": [],
      "source": [
        "train_batch = SupervisedDataset(\n",
        "    dataset=sft_df[:200][['prompt', 'original_response']].values,\n",
        "    tokenizer=tokenizer,\n",
        ")"
      ]
    },
    {
      "cell_type": "code",
      "execution_count": 20,
      "metadata": {
        "id": "JIM0iv5pzt-7"
      },
      "outputs": [],
      "source": [
        "train_batch_loader = DataLoader(\n",
        "    dataset=train_batch,\n",
        "    batch_size=1,\n",
        "    shuffle=False,\n",
        ")"
      ]
    },
    {
      "cell_type": "code",
      "execution_count": 21,
      "metadata": {
        "colab": {
          "base_uri": "https://localhost:8080/"
        },
        "id": "hs3ZJpxQzlxu",
        "outputId": "d007c66a-2613-42b8-930c-9e7d3053783c"
      },
      "outputs": [
        {
          "output_type": "stream",
          "name": "stdout",
          "text": [
            "Loss value: 3.9249044199086724\n",
            "Loss value: 3.220990455902605\n",
            "Loss value: 0.8911405203400206\n",
            "Loss value: 1.8348591082001304\n",
            "Loss value: 3.2810972232425906\n",
            "Loss value: 3.2623954559902444\n",
            "Loss value: 3.2407610412763512\n",
            "Loss value: 2.9124945949874927\n",
            "Loss value: 2.9982373196828704\n",
            "Loss value: 2.044439932162508\n",
            "Loss value: 1.4910950813588264\n",
            "Loss value: 3.684528984501194\n",
            "Loss value: 0.4752830559634096\n",
            "Loss value: 4.574996535758256\n",
            "Loss value: 1.313060569574327\n",
            "Loss value: 2.56733425683005\n",
            "Loss value: 1.5710115502934257\n",
            "Loss value: 2.813252872184948\n",
            "Loss value: 3.4283651360469296\n",
            "Loss value: 3.294562686187608\n",
            "Loss value: 3.681605564683886\n",
            "Loss value: 2.5936214553850325\n",
            "Loss value: 1.3395890402513428\n",
            "Loss value: 1.7914759446818322\n",
            "Loss value: 5.73879251475878\n",
            "Loss value: 8.946744079912158\n",
            "Loss value: 2.1990817245529497\n",
            "Loss value: 3.3216852574343814\n",
            "Loss value: 3.826705352493775\n",
            "Loss value: 3.763135347921063\n",
            "Loss value: 2.170707262585545\n",
            "Loss value: 1.716586457383057\n",
            "Loss value: 2.8752768289835964\n",
            "Loss value: 1.505468803250377\n",
            "Loss value: 2.881175684177067\n",
            "Loss value: 4.128769424984744\n",
            "Loss value: 1.8591315572826796\n",
            "Loss value: 3.6692321062021565\n",
            "Loss value: 3.2274834706990427\n",
            "Loss value: 3.4052930399698114\n",
            "Loss value: 3.0323338539550493\n",
            "Loss value: 4.2560746436915915\n",
            "Loss value: 2.2289349167217263\n",
            "Loss value: 2.5446416577646063\n",
            "Loss value: 2.4249088961564227\n",
            "Loss value: 1.7756848450771656\n",
            "Loss value: 1.5781037060516245\n",
            "Loss value: 2.6374811055523772\n",
            "Loss value: 4.169152085668397\n",
            "Loss value: 3.3932338811751426\n",
            "Loss value: 3.516125446595396\n",
            "Loss value: 3.269435947508898\n",
            "Loss value: 2.4247020148100487\n",
            "Loss value: 3.0653675019592113\n",
            "Loss value: 4.071640160570878\n",
            "Loss value: 2.4276409099742455\n",
            "Loss value: 3.488949651943408\n",
            "Loss value: 3.8238191986301793\n",
            "Loss value: 4.38969498904739\n",
            "Loss value: 3.175980600749067\n",
            "Loss value: 1.8008682461924754\n",
            "Loss value: 1.6436081332290724\n",
            "Loss value: 4.487042881885461\n",
            "Loss value: 4.195762230080591\n",
            "Loss value: 3.5749482219353976\n",
            "Loss value: 3.194837353188168\n",
            "Loss value: 3.6974080829036398\n",
            "Loss value: 2.6156208342312377\n",
            "Loss value: 1.6528766590707562\n",
            "Loss value: 2.310683332794474\n",
            "Loss value: 2.067397621643884\n",
            "Loss value: 4.309919034192971\n",
            "Loss value: 0.8892406597395588\n",
            "Loss value: 1.6528380194748558\n",
            "Loss value: 2.704958649595398\n",
            "Loss value: 3.869065573978026\n",
            "Loss value: 2.9274672359751803\n",
            "Loss value: 2.838285336220336\n",
            "Loss value: 3.621487501608978\n",
            "Loss value: 3.5382999647310074\n",
            "Loss value: 3.2272981488251604\n",
            "Loss value: 2.9876250786675795\n",
            "Loss value: 3.956828355472591\n",
            "Loss value: 2.990211609668495\n",
            "Loss value: 4.038513688390777\n",
            "Loss value: 2.3501384640947993\n",
            "Loss value: 2.917835178933359\n",
            "Loss value: 1.7122698579011841\n",
            "Loss value: 3.4882579257615602\n",
            "Loss value: 3.652681350934211\n",
            "Loss value: 3.996376071817309\n",
            "Loss value: 2.4021289806524724\n",
            "Loss value: 2.903107029680159\n",
            "Loss value: 1.3389891895828985\n",
            "Loss value: 2.188002032972544\n",
            "Loss value: 3.3018158205613077\n",
            "Loss value: 2.600380354833738\n",
            "Loss value: 3.139634203732279\n",
            "Loss value: 3.6681840262292833\n",
            "Loss value: 3.820069174534743\n"
          ]
        }
      ],
      "source": [
        "loss = nn.CrossEntropyLoss()\n",
        "optimizer = torch.optim.Adam(params=model.parameters(), lr= 1e-5)\n",
        "N_ITERATIONS = 100\n",
        "cur_iteration = 0\n",
        "loss_values = []\n",
        "for x in train_batch_loader:\n",
        "    if cur_iteration == N_ITERATIONS:\n",
        "      break\n",
        "\n",
        "    model.train()\n",
        "    #################\n",
        "    input_tokens = x['input_ids'].to(device)\n",
        "    attention_mask = x['input_att_mask'].to(device)\n",
        "    labels = x['labels'].clone().to(device)\n",
        "    out_logits = model(input_ids=input_tokens, attention_mask=attention_mask).logits\n",
        "\n",
        "    ### не затираем токены начала и конца, чтобы модель училась останавливаться ###\n",
        "    labels[labels == pad_token_id] = -100\n",
        "\n",
        "    loss_value = loss(out_logits.permute(0, 2, 1), labels)\n",
        "    #################\n",
        "    print(f\"Loss value: {loss_value.item()}\")\n",
        "    loss_value.backward()\n",
        "    optimizer.step()\n",
        "\n",
        "    model.eval()\n",
        "    cur_iteration += 1\n",
        "    loss_values.append(loss_value.cpu().detach().numpy())"
      ]
    },
    {
      "cell_type": "markdown",
      "metadata": {
        "id": "x4HgHb93MdFS"
      },
      "source": [
        "\n",
        "### 2) обратите внимание на то, как выглядит лосс"
      ]
    },
    {
      "cell_type": "code",
      "execution_count": 22,
      "metadata": {
        "colab": {
          "base_uri": "https://localhost:8080/",
          "height": 472
        },
        "id": "7hijd8mYHgJ6",
        "outputId": "7986376b-a4c9-4b51-8b7e-f3985a22c438"
      },
      "outputs": [
        {
          "output_type": "display_data",
          "data": {
            "text/plain": [
              "<Figure size 640x480 with 1 Axes>"
            ],
            "image/png": "[encoded data removed]"
          },
          "metadata": {}
        }
      ],
      "source": [
        "import matplotlib.pyplot as plt\n",
        "import numpy as np\n",
        "\n",
        "# Data for plotting\n",
        "t = [i for i in range(len(loss_values))]\n",
        "s = loss_values\n",
        "\n",
        "fig, ax = plt.subplots()\n",
        "ax.plot(t, s)\n",
        "\n",
        "ax.set(xlabel='step', ylabel='loss value',\n",
        "       title='Train Loss')\n",
        "ax.grid()\n",
        "\n",
        "plt.show()"
      ]
    },
    {
      "cell_type": "markdown",
      "metadata": {
        "id": "PoxX75EbMINU"
      },
      "source": [
        "## 3) попробуйте явно прописать задание модели, то есть в качестве промпта задать: Тебе необходимо ответить на вопрос, приведенные ниже: ....\n",
        "\n",
        "вставьте следующий текст перед самим вопросом: \"You must answer the question correctly. Question: \"\n",
        "\n",
        "вставьте следующие текст между самим вопросом и правильным ответом на вопрос: \"\\n###answer: \""
      ]
    },
    {
      "cell_type": "code",
      "execution_count": null,
      "metadata": {
        "id": "1ysMvyaP-uNF"
      },
      "outputs": [],
      "source": [
        "from torch.utils.data import Dataset, DataLoader, Sampler\n",
        "from typing import Dict, Sequence, List, Iterator, Tuple\n",
        "\n",
        "IGNORE_INDEX: int = -100\n",
        "pad_token_id = 60000\n",
        "\n",
        "def _tokenize_fn(text: str, max_length: int, tokenizer: transformers.PreTrainedTokenizer) -> List[int]:\n",
        "    return tokenizer(\n",
        "        text,\n",
        "        max_length=max_length,\n",
        "        truncation=True,\n",
        "        add_special_tokens=False,\n",
        "    )['input_ids']\n",
        "\n",
        "class SupervisedDataset(Dataset):\n",
        "    \"\"\"Dataset for supervised fine-tuning.\"\"\"\n",
        "    def __init__(self, dataset, tokenizer: transformers.PreTrainedTokenizer):\n",
        "        super(SupervisedDataset, self).__init__()\n",
        "        self.tokenizer = tokenizer\n",
        "\n",
        "        bos_token = tokenizer.bos_token if tokenizer.bos_token is not None else ''\n",
        "        self.sources = [f\"{bos_token} You must answer the question correctly. Question: {example[0]}\" for example in dataset]\n",
        "        self.targets = [\"\\n###answer: \" + f\"{example[1]}{tokenizer.eos_token}\" for example in dataset]\n",
        "\n",
        "    def __len__(self) -> int:\n",
        "        return len(self.sources)\n",
        "\n",
        "    def padding(self, ids: torch.tensor, max_length: int) -> torch.tensor:\n",
        "        return\n",
        "\n",
        "    def __getitem__(self, i: int) -> Dict[str, List[int]]:\n",
        "        source_ids = _tokenize_fn(self.sources[i], self.tokenizer.model_max_length, self.tokenizer)\n",
        "        target_ids = _tokenize_fn(self.targets[i], self.tokenizer.model_max_length - len(source_ids), self.tokenizer)\n",
        "        input_ids = torch.tensor(source_ids + target_ids)\n",
        "\n",
        "        input_pad_len = self.tokenizer.model_max_length - len(input_ids)\n",
        "        input_ids_pad = torch.tensor(source_ids + target_ids + [self.tokenizer.pad_token_id]*input_pad_len)\n",
        "        input_att_mask = torch.tensor([[1]*len(input_ids) + [0]*input_pad_len])\n",
        "\n",
        "        labels = torch.tensor([IGNORE_INDEX] * (len(source_ids) - 1) + target_ids + [pad_token_id]*(input_pad_len + 1))\n",
        "\n",
        "        return dict(input_ids=input_ids_pad, input_att_mask=input_att_mask,\n",
        "                    labels=labels)\n"
      ]
    },
    {
      "cell_type": "code",
      "execution_count": null,
      "metadata": {
        "id": "7JnQ31zfJ0q9"
      },
      "outputs": [],
      "source": [
        "### вставьте следующий текст перед самим вопросом: \"You must answer the question correctly. Question: \"\n",
        "### вставьте следующие текст между самим вопросом и правильным ответом на вопрос: \"\\n###answer: \""
      ]
    },
    {
      "cell_type": "code",
      "execution_count": null,
      "metadata": {
        "id": "GE40vy5HpYf5"
      },
      "outputs": [],
      "source": [
        "train_batch = SupervisedDataset(\n",
        "    dataset=sft_df[:200][['prompt', 'original_response']].values,\n",
        "    tokenizer=tokenizer,\n",
        ")"
      ]
    },
    {
      "cell_type": "code",
      "execution_count": null,
      "metadata": {
        "id": "LtGwpF_zqtON"
      },
      "outputs": [],
      "source": [
        "train_batch_loader = DataLoader(\n",
        "    dataset=train_batch,\n",
        "    batch_size=1,\n",
        "    shuffle=False,\n",
        ")"
      ]
    },
    {
      "cell_type": "code",
      "execution_count": null,
      "metadata": {
        "colab": {
          "base_uri": "https://localhost:8080/"
        },
        "id": "tYPhU8dvKiM_",
        "outputId": "4a175dc5-85c4-4589-8de8-376a9d2c02ce"
      },
      "outputs": [
        {
          "name": "stdout",
          "output_type": "stream",
          "text": [
            "{'input_ids': tensor([[ 1639,  1276,  3280,  ..., 50256, 50256, 50256]]), 'input_att_mask': tensor([[[1, 1, 1,  ..., 0, 0, 0]]]), 'labels': tensor([[ -100,  -100,  -100,  ..., 60000, 60000, 60000]])}\n"
          ]
        }
      ],
      "source": [
        "for x in train_batch_loader:\n",
        "    print(x)\n",
        "    break"
      ]
    },
    {
      "cell_type": "code",
      "execution_count": null,
      "metadata": {
        "colab": {
          "base_uri": "https://localhost:8080/"
        },
        "id": "RJSo4Jx6gdHs",
        "outputId": "5e7df59a-2cf6-4fb5-8fb0-42151ef1a409"
      },
      "outputs": [
        {
          "data": {
            "text/plain": [
              "GPT2LMHeadModel(\n",
              "  (transformer): GPT2Model(\n",
              "    (wte): Embedding(50257, 768)\n",
              "    (wpe): Embedding(1024, 768)\n",
              "    (drop): Dropout(p=0.1, inplace=False)\n",
              "    (h): ModuleList(\n",
              "      (0-11): 12 x GPT2Block(\n",
              "        (ln_1): LayerNorm((768,), eps=1e-05, elementwise_affine=True)\n",
              "        (attn): GPT2Attention(\n",
              "          (c_attn): Conv1D()\n",
              "          (c_proj): Conv1D()\n",
              "          (attn_dropout): Dropout(p=0.1, inplace=False)\n",
              "          (resid_dropout): Dropout(p=0.1, inplace=False)\n",
              "        )\n",
              "        (ln_2): LayerNorm((768,), eps=1e-05, elementwise_affine=True)\n",
              "        (mlp): GPT2MLP(\n",
              "          (c_fc): Conv1D()\n",
              "          (c_proj): Conv1D()\n",
              "          (act): NewGELUActivation()\n",
              "          (dropout): Dropout(p=0.1, inplace=False)\n",
              "        )\n",
              "      )\n",
              "    )\n",
              "    (ln_f): LayerNorm((768,), eps=1e-05, elementwise_affine=True)\n",
              "  )\n",
              "  (lm_head): Linear(in_features=768, out_features=50257, bias=False)\n",
              ")"
            ]
          },
          "execution_count": 35,
          "metadata": {},
          "output_type": "execute_result"
        }
      ],
      "source": [
        "model = transformers.AutoModelForCausalLM.from_pretrained(\n",
        "    'gpt2',\n",
        "    torch_dtype=torch.float64,\n",
        ")\n",
        "\n",
        "model.to(device)"
      ]
    },
    {
      "cell_type": "code",
      "execution_count": null,
      "metadata": {
        "colab": {
          "base_uri": "https://localhost:8080/"
        },
        "id": "rxRAl4lygNuB",
        "outputId": "afe16c04-686f-4a87-9965-65e14fc142bd"
      },
      "outputs": [
        {
          "name": "stdout",
          "output_type": "stream",
          "text": [
            "Loss value: 2.24248100064901\n",
            "Loss value: 2.660657127969456\n",
            "Loss value: 0.29960402274232395\n",
            "Loss value: 0.7681532957418983\n",
            "Loss value: 3.1315375414773743\n",
            "Loss value: 2.9464519135725253\n",
            "Loss value: 1.155810030460493\n",
            "Loss value: 1.6212739881971179\n",
            "Loss value: 2.7953048651384886\n",
            "Loss value: 1.0722393085109652\n",
            "Loss value: 0.902785947164193\n",
            "Loss value: 2.7763502550764207\n",
            "Loss value: 0.42230220518713335\n",
            "Loss value: 4.096564417550312\n",
            "Loss value: 1.0263901547847403\n",
            "Loss value: 1.374801844540966\n",
            "Loss value: 1.0161914003071675\n",
            "Loss value: 1.626075080674178\n",
            "Loss value: 2.343232980411125\n",
            "Loss value: 2.9411741379444085\n",
            "Loss value: 3.2400133307515486\n",
            "Loss value: 2.2607476317718596\n",
            "Loss value: 1.2922413522815814\n",
            "Loss value: 1.279505358767061\n",
            "Loss value: 3.659752985902492\n",
            "Loss value: 2.1828843479730664\n",
            "Loss value: 2.1858455065079507\n",
            "Loss value: 3.342965263505418\n",
            "Loss value: 3.6954562265566424\n",
            "Loss value: 3.66696922404828\n",
            "Loss value: 1.8590421777510753\n",
            "Loss value: 1.8133300148350793\n",
            "Loss value: 2.563920864238254\n",
            "Loss value: 1.2709386338379005\n",
            "Loss value: 2.4895506186150813\n",
            "Loss value: 3.907745121787057\n",
            "Loss value: 1.702174949368941\n",
            "Loss value: 3.1831730646772325\n",
            "Loss value: 2.714671275549219\n",
            "Loss value: 0.9789631101040536\n",
            "Loss value: 2.914110081173957\n",
            "Loss value: 1.3403143529505857\n",
            "Loss value: 2.125735537074694\n",
            "Loss value: 2.3511459132828656\n",
            "Loss value: 2.313057480365701\n",
            "Loss value: 1.8473878241864639\n",
            "Loss value: 1.2343072413138159\n",
            "Loss value: 0.9111787797162929\n",
            "Loss value: 4.165472134449031\n",
            "Loss value: 3.1564658158641503\n",
            "Loss value: 3.249213759138973\n",
            "Loss value: 3.1104355627623916\n",
            "Loss value: 2.3157784274464768\n",
            "Loss value: 1.3047974677682082\n",
            "Loss value: 4.129757263986547\n",
            "Loss value: 2.358729504235352\n",
            "Loss value: 3.4048115382039947\n",
            "Loss value: 3.237916788619191\n",
            "Loss value: 3.9415172617156626\n",
            "Loss value: 2.790331671021681\n",
            "Loss value: 1.6583215266285465\n",
            "Loss value: 1.3100397538005681\n",
            "Loss value: 4.490317220116775\n",
            "Loss value: 4.188132160213615\n",
            "Loss value: 3.5172445592041677\n",
            "Loss value: 3.105889717627056\n",
            "Loss value: 1.0880961118689367\n",
            "Loss value: 1.371020139792785\n",
            "Loss value: 1.391782472683746\n",
            "Loss value: 2.089620048581017\n",
            "Loss value: 1.631740853003881\n",
            "Loss value: 3.86031889203072\n",
            "Loss value: 0.5439757071180304\n",
            "Loss value: 1.7279096414172175\n",
            "Loss value: 2.3262476778476158\n",
            "Loss value: 4.086893139473521\n",
            "Loss value: 2.9882617274243275\n",
            "Loss value: 2.8267603434746422\n",
            "Loss value: 2.073330018285858\n",
            "Loss value: 3.561509189801863\n",
            "Loss value: 2.7161582063040233\n",
            "Loss value: 2.414355496420726\n",
            "Loss value: 2.951218739207799\n",
            "Loss value: 2.6460742744997323\n",
            "Loss value: 3.3849827488653297\n",
            "Loss value: 1.9260405046491298\n",
            "Loss value: 2.288138474496124\n",
            "Loss value: 1.599782529484338\n",
            "Loss value: 2.6348577117790657\n",
            "Loss value: 3.6339803294343507\n",
            "Loss value: 3.7052192800128423\n",
            "Loss value: 2.0964737299030096\n",
            "Loss value: 2.701387078071348\n",
            "Loss value: 1.1300679819377277\n",
            "Loss value: 1.556650871072461\n",
            "Loss value: 3.384174335639511\n",
            "Loss value: 2.493143175457798\n",
            "Loss value: 3.0015939306360315\n",
            "Loss value: 3.7665714251169717\n",
            "Loss value: 2.6859721584490206\n"
          ]
        }
      ],
      "source": [
        "loss = nn.CrossEntropyLoss()\n",
        "optimizer = torch.optim.Adam(params=model.parameters(), lr=1e-5)\n",
        "N_ITERATIONS = 100\n",
        "cur_iteration = 0\n",
        "loss_values = []\n",
        "for x in train_batch_loader:\n",
        "    if cur_iteration == N_ITERATIONS:\n",
        "      break\n",
        "\n",
        "    model.train()\n",
        "    #################\n",
        "    input_tokens = x['input_ids'].to(device)\n",
        "    attention_mask = x['input_att_mask'].to(device)\n",
        "    labels = x['labels'].clone().to(device)\n",
        "    out_logits = model(input_ids=input_tokens, attention_mask=attention_mask).logits\n",
        "\n",
        "    ### не затираем токены начала и конца, чтобы модель училась останавливаться ###\n",
        "    labels[labels == pad_token_id] = -100\n",
        "\n",
        "    loss_value = loss(out_logits.permute(0, 2, 1), labels)\n",
        "    #################\n",
        "    print(f\"Loss value: {loss_value.item()}\")\n",
        "    loss_value.backward()\n",
        "    optimizer.step()\n",
        "\n",
        "    model.eval()\n",
        "    cur_iteration += 1\n",
        "    loss_values.append(loss_value.cpu().detach().numpy())"
      ]
    },
    {
      "cell_type": "code",
      "execution_count": null,
      "metadata": {
        "colab": {
          "base_uri": "https://localhost:8080/",
          "height": 472
        },
        "id": "OnE3oz-FgNwj",
        "outputId": "179151ec-90f9-42a3-ba88-5d890026762a"
      },
      "outputs": [
        {
          "data": {
            "image/png": "[encoded data removed]",
            "text/plain": [
              "<Figure size 640x480 with 1 Axes>"
            ]
          },
          "metadata": {},
          "output_type": "display_data"
        }
      ],
      "source": [
        "import matplotlib.pyplot as plt\n",
        "import numpy as np\n",
        "\n",
        "# Data for plotting\n",
        "t = [i for i in range(len(loss_values))]\n",
        "s = loss_values\n",
        "\n",
        "fig, ax = plt.subplots()\n",
        "ax.plot(t, s)\n",
        "\n",
        "ax.set(xlabel='step', ylabel='loss value',\n",
        "       title='Train Loss')\n",
        "ax.grid()\n",
        "\n",
        "plt.show()"
      ]
    }
  ],
  "metadata": {
    "accelerator": "GPU",
    "colab": {
      "gpuType": "T4",
      "provenance": []
    },
    "kernelspec": {
      "display_name": "Python 3",
      "name": "python3"
    },
    "language_info": {
      "name": "python"
    }
  },
  "nbformat": 4,
  "nbformat_minor": 0
}