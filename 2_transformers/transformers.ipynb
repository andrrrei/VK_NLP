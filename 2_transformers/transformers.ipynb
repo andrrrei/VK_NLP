{
  "cells": [
    {
      "cell_type": "code",
      "execution_count": null,
      "metadata": {
        "id": "HqmeAVjlbEmc"
      },
      "outputs": [],
      "source": [
        "import math\n",
        "import numpy as np\n",
        "import torch\n",
        "import torch.nn.functional as F\n",
        "from transformers import (\n",
        "    T5ForConditionalGeneration,\n",
        "    AutoTokenizer,\n",
        "    Seq2SeqTrainer,\n",
        "    Seq2SeqTrainingArguments,\n",
        "    DataCollatorForSeq2Seq\n",
        ")"
      ]
    },
    {
      "cell_type": "markdown",
      "metadata": {
        "id": "Jhi-KGiLbEmj"
      },
      "source": [
        "### Задание 1\n",
        "\n",
        "Ниже даны матрица $X$ (каждая строка - эмбеддинг очередного токена) и матрицы проекций $W_Q$, $W_K$ и $W_V$."
      ]
    },
    {
      "cell_type": "code",
      "execution_count": null,
      "metadata": {
        "id": "9GyEqSwkbEmo"
      },
      "outputs": [],
      "source": [
        "X = torch.tensor([[-1.51, -1.57,  0.87,  1.1 , -0.74],\n",
        "                  [ 0.46, -0.4 , -0.64,  0.12, -0.02],\n",
        "                  [-0.75,  0.44,  1.05,  0.38, -0.16]])\n",
        "W_Q = torch.tensor([[ 1.88, -0.04, -1.51,  0.5 ,  0.18],\n",
        "                    [-0.79,  1.06,  0.09, -0.3 ,  0.55],\n",
        "                    [ 0.03,  0.44,  3.06, -1.91,  1.52],\n",
        "                    [-0.1 , -2.17,  0.93,  0.82, -0.35],\n",
        "                    [ 0.27,  0.54, -0.42, -0.8 ,  1.41]])\n",
        "W_K = torch.tensor([[-0.03,  1.33, -1.91, -1.73,  0.73],\n",
        "                    [ 1.06,  0.08,  1.01,  0.9 , -0.  ],\n",
        "                    [ 0.17, -0.11, -0.11, -0.49,  0.7 ],\n",
        "                    [-0.66, -1.44, -0.56,  0.95, -0.72],\n",
        "                    [-0.5 , -1.2 ,  1.59, -0.47, -0.34]])\n",
        "W_V = torch.tensor([[-1.55, -1.48,  2.23,  0.57, -1.53],\n",
        "                    [-1.45, -0.91, -1.69,  0.43,  0.44],\n",
        "                    [-1.05,  0.19, -0.65, -0.34,  0.12],\n",
        "                    [-1.29,  1.48,  0.18,  0.24,  0.83],\n",
        "                    [ 2.12,  1.09,  0.79, -0.21, -0.95]])"
      ]
    },
    {
      "cell_type": "markdown",
      "metadata": {
        "id": "t83hyeKYbEmr"
      },
      "source": [
        "**Вопрос:** Каким будет новое представление входной последовательности после применения self-attention?\n",
        "\n",
        "Полезные операции со ссылками на документацию: [`torch.matmul`](https://pytorch.org/docs/stable/generated/torch.matmul.html), [`F.softmax`](https://pytorch.org/docs/stable/generated/torch.nn.functional.softmax.html), [`math.sqrt`](https://docs.python.org/3/library/math.html) и метод [`transpose`](https://pytorch.org/docs/stable/generated/torch.Tensor.transpose.html) у тензора."
      ]
    },
    {
      "cell_type": "code",
      "execution_count": null,
      "metadata": {
        "id": "4K7p7paUbEms"
      },
      "outputs": [],
      "source": [
        "Q = ...\n",
        "K = ...\n",
        "V = ...\n",
        "a = ...\n",
        "alpha = ...\n",
        "z = ...\n",
        "print(z)"
      ]
    },
    {
      "cell_type": "markdown",
      "metadata": {
        "id": "7OaTW1TybEmu"
      },
      "source": [
        "### Задание 2\n",
        "\n",
        "В этом задании и далее мы будем работать с библиотекой [`transformers`](https://huggingface.co/docs/transformers/index) от [`HuggingFace`](https://huggingface.co/). На сегодняшний день это, пожалуй, самая популярная и удобная библиотека для работы с моделями на базе трансформерной архитектуры.\n",
        "\n",
        "В качестве [`модели`](https://huggingface.co/utrobinmv/t5_translate_en_ru_zh_small_1024) возьмем [`T5`](https://huggingface.co/docs/transformers/model_doc/t5), обученную на задачу перевода с одного языка на другой.\n",
        "\n",
        "Прежде всего, загрузим токенизатор, который будет превращать текст в последовательность номеров токенов из словаря."
      ]
    },
    {
      "cell_type": "code",
      "execution_count": null,
      "metadata": {
        "colab": {
          "base_uri": "https://localhost:8080/",
          "height": 286,
          "referenced_widgets": [
            "3ba8f351849742aa93868d2c6aba7da4",
            "3625245423d04383a858716633865a1a",
            "d548b95c3b624761af2626585cab300e",
            "182ff19820714e08bfa8958ba39e9db3",
            "446d1c5779d84ae3a36712d2a1aacc4b",
            "644351cf9d4e415397ffb2ba986a624a",
            "27880833d0d74c57b22b808bdba3479e",
            "e374bb65d98a4e479c93ec7ea3fa96cb",
            "5a858d337f7049a4aaf96f0147a1acde",
            "1194e29634c742b3ba6b695dd6e5b7ef",
            "be2b503ab67140c2b21c3610de7479c8",
            "2ff9cd91f12b4edaa828ea7f25bb3788",
            "2f3dd329859043629f841629426e4616",
            "798dd4b024f14925b8892eace94e9966",
            "6f0f63987b94409f873fc83e69f0d43f",
            "3ba1d851be7a407d907259ed4d5cec4f",
            "cbaf3d144a1d49659db838fabc1c1cce",
            "6b735ad85c474a9396078d7a58b30d0a",
            "66950c3552b14d408e36d058517b7aad",
            "acc634ff234b4bcbb5e221b083b3bd6b",
            "0916b50a20034d8588e8b2f9c00099aa",
            "96be0efbf52446d49cf274e8460a60ff",
            "b9a14b09272448d5973b9ce26f036e19",
            "0d1df6a6ce9e443aa451ff8a68b512b3",
            "807af68caf6146619db734109642fa27",
            "6177bf8c12894b70adb3d69cc9c73962",
            "c86e3bc5f7a44f2c8d943c3db117b50e",
            "424362e1198245d7b11a3c247d742201",
            "797ef73aabd34ec9bd545eaaebce216e",
            "07a083a05ba94644b8ec4f3baa78eebb",
            "8470be16d56d4eefab8441d7f0e07913",
            "9b5038f555744b2c9688cafb7b1dd2f0",
            "56d823133c4344a692633f3425c19e6f",
            "201bba20fbea4ce69f77823223d233ac",
            "5e30b3ead6444e359b8176731e8844eb",
            "beff409cadcb4720b7d8b9cb3306097d",
            "9c2efaa2cb1347bfb7f29ef13f06df7b",
            "a6aa154a8a8b483291982637f192382e",
            "9d49246591b5491cb065113505d59ae0",
            "31fb37eb69b14a4e8ed6a7b5f85f5644",
            "a7d18223e8b9481c8600d9a40e7cc4b5",
            "d9f1dd8cc9d347a0995d41c23c1ee1be",
            "8f67f177130f4502831cb8cf9cef3f1e",
            "756797b80e0743cf81fdbe26030df5b3"
          ]
        },
        "id": "rv_CKrDjbEmw",
        "outputId": "5f7613be-7ebe-44aa-f1bb-19bbf10ebbbd"
      },
      "outputs": [
        {
          "name": "stderr",
          "output_type": "stream",
          "text": [
            "/usr/local/lib/python3.10/dist-packages/huggingface_hub/utils/_token.py:88: UserWarning: \n",
            "The secret `HF_TOKEN` does not exist in your Colab secrets.\n",
            "To authenticate with the Hugging Face Hub, create a token in your settings tab (https://huggingface.co/settings/tokens), set it as secret in your Google Colab and restart your session.\n",
            "You will be able to reuse this secret in all of your notebooks.\n",
            "Please note that authentication is recommended but still optional to access public models or datasets.\n",
            "  warnings.warn(\n"
          ]
        },
        {
          "data": {
            "application/vnd.jupyter.widget-view+json": {
              "model_id": "3ba8f351849742aa93868d2c6aba7da4",
              "version_major": 2,
              "version_minor": 0
            },
            "text/plain": [
              "tokenizer_config.json:   0%|          | 0.00/20.6k [00:00<?, ?B/s]"
            ]
          },
          "metadata": {},
          "output_type": "display_data"
        },
        {
          "data": {
            "application/vnd.jupyter.widget-view+json": {
              "model_id": "2ff9cd91f12b4edaa828ea7f25bb3788",
              "version_major": 2,
              "version_minor": 0
            },
            "text/plain": [
              "spiece.model:   0%|          | 0.00/1.47M [00:00<?, ?B/s]"
            ]
          },
          "metadata": {},
          "output_type": "display_data"
        },
        {
          "data": {
            "application/vnd.jupyter.widget-view+json": {
              "model_id": "b9a14b09272448d5973b9ce26f036e19",
              "version_major": 2,
              "version_minor": 0
            },
            "text/plain": [
              "added_tokens.json:   0%|          | 0.00/2.59k [00:00<?, ?B/s]"
            ]
          },
          "metadata": {},
          "output_type": "display_data"
        },
        {
          "data": {
            "application/vnd.jupyter.widget-view+json": {
              "model_id": "201bba20fbea4ce69f77823223d233ac",
              "version_major": 2,
              "version_minor": 0
            },
            "text/plain": [
              "special_tokens_map.json:   0%|          | 0.00/2.54k [00:00<?, ?B/s]"
            ]
          },
          "metadata": {},
          "output_type": "display_data"
        },
        {
          "name": "stderr",
          "output_type": "stream",
          "text": [
            "Special tokens have been added in the vocabulary, make sure the associated word embeddings are fine-tuned or trained.\n"
          ]
        }
      ],
      "source": [
        "tokenizer = AutoTokenizer.from_pretrained('utrobinmv/t5_translate_en_ru_zh_small_1024', use_fast=False)"
      ]
    },
    {
      "cell_type": "markdown",
      "metadata": {
        "id": "-kWaWp2dbEmx"
      },
      "source": [
        "Для примера попробуем превратить строку \"Мама мыла раму\" в последовательность номеров токенов.\n",
        "Для этого нужно вызвать [`tokenizer(text)`](https://huggingface.co/docs/transformers/main_classes/tokenizer#transformers.PreTrainedTokenizer.__call__), где text - текст, который мы хотим токенизировать."
      ]
    },
    {
      "cell_type": "code",
      "execution_count": null,
      "metadata": {
        "colab": {
          "base_uri": "https://localhost:8080/"
        },
        "id": "5OQjibBsbEmy",
        "outputId": "8c6b99be-0ef1-46f8-e9ff-06828f16a7c0"
      },
      "outputs": [
        {
          "name": "stdout",
          "output_type": "stream",
          "text": [
            "{'input_ids': [43690, 290, 391, 4, 6587, 57, 1], 'attention_mask': [1, 1, 1, 1, 1, 1, 1]}\n"
          ]
        }
      ],
      "source": [
        "tokens = tokenizer('Мама мыла раму')\n",
        "print(tokens)"
      ]
    },
    {
      "cell_type": "markdown",
      "metadata": {
        "id": "5lvXGWzTbEm0"
      },
      "source": [
        "Видно, что токенизатор превратил текст в последовательность номеров токенов из словаря (поле input_ids), а также расчитал маску внимния (поле attention_mask).\n",
        "\n",
        "Последовательность номеров токенов можно декодировать обратно в текст:"
      ]
    },
    {
      "cell_type": "code",
      "execution_count": null,
      "metadata": {
        "colab": {
          "base_uri": "https://localhost:8080/"
        },
        "id": "C7coNBbnbEm2",
        "outputId": "913438d0-72bd-43b5-e770-e5bf391301f8"
      },
      "outputs": [
        {
          "name": "stdout",
          "output_type": "stream",
          "text": [
            "Мама мыла раму</s>\n"
          ]
        }
      ],
      "source": [
        "print(tokenizer.decode(tokens['input_ids']))"
      ]
    },
    {
      "cell_type": "markdown",
      "metadata": {
        "id": "2qzKR585bEm3"
      },
      "source": [
        "Видно, что токенизатор автоматически добавил `</s>` - токен конца входной последовательности. Попробуем декодировать каждый номер (token-id) отдельно:"
      ]
    },
    {
      "cell_type": "code",
      "execution_count": null,
      "metadata": {
        "colab": {
          "base_uri": "https://localhost:8080/"
        },
        "id": "zEr4-FrabEm4",
        "outputId": "43382def-6157-43e7-8bce-df9e7da80478"
      },
      "outputs": [
        {
          "name": "stdout",
          "output_type": "stream",
          "text": [
            "43690 Мама\n",
            "290 мы\n",
            "391 ла\n",
            "4 \n",
            "6587 рам\n",
            "57 у\n",
            "1 </s>\n"
          ]
        }
      ],
      "source": [
        "for token_id in tokens['input_ids']:\n",
        "    print(token_id, tokenizer.decode(token_id))"
      ]
    },
    {
      "cell_type": "markdown",
      "metadata": {
        "id": "6tV5lnqgbEm5"
      },
      "source": [
        "Видно, что мы имеем дело с [`subword-токенизацией`](https://huggingface.co/docs/transformers/tokenizer_summary#subword-tokenization) - некоторые слова представляются одним токеном, но некоторые разбиваются на несколько.\n",
        "\n",
        "Можно заглянуть в словарь и напрямую:"
      ]
    },
    {
      "cell_type": "code",
      "execution_count": null,
      "metadata": {
        "colab": {
          "base_uri": "https://localhost:8080/"
        },
        "id": "aQxKa7LjbEm5",
        "outputId": "ec9cef07-8a11-41ce-f546-2d96bb19c311"
      },
      "outputs": [
        {
          "name": "stdout",
          "output_type": "stream",
          "text": [
            "0 <pad>\n",
            "1 </s>\n",
            "2 <unk>\n",
            "3 ,\n",
            "4 ▁\n",
            "5 .\n",
            "6 0\n",
            "7 ▁the\n",
            "8 1\n",
            "9 -\n",
            "10 2\n",
            "11 ▁of\n",
            "12 ▁and\n",
            "13 s\n",
            "14 ▁в\n",
            "15 9\n",
            "16 ▁и\n",
            "17 3\n",
            "18 5\n",
            "19 ▁to\n",
            "20 4\n",
            "21 ▁in\n",
            "22 6\n",
            "23 /\n",
            "24 8\n",
            "25 ▁(\n",
            "26 7\n",
            "27 ▁a\n",
            "28 )\n",
            "29 的\n",
            "30 。\n",
            "31 :\n",
            "32 а\n",
            "33 ▁на\n",
            "34 ▁с\n",
            "35 ▁-\n",
            "36 ▁is\n",
            "37 ▁for\n",
            "38 '\n",
            "39 ▁\"\n",
            "40 和\n",
            "41 ▁по\n",
            "42 ▁that\n",
            "43 、\n",
            "44 е\n",
            "45 ▁on\n",
            "46 ▁with\n",
            "47 (\n",
            "48 и\n",
            "49 ▁The\n",
            "50 ;\n",
            "51 ▁не\n",
            "52 ▁что\n",
            "53 ▁as\n",
            "54 ▁by\n",
            "55 ы\n",
            "56 м\n",
            "57 у\n",
            "58 ▁was\n",
            "59 在\n",
            "60 ▁from\n",
            "61 ing\n",
            "62 ▁для\n",
            "63 ▁be\n",
            "64 ▁are\n",
            "65 ▁В\n",
            "66 \"\n",
            "67 ▁or\n",
            "68 ▁at\n",
            "69 о\n",
            "70 ом\n",
            "71 ed\n",
            "72 ▁из\n",
            "73 ▁it\n",
            "74 ),\n",
            "75 ▁к\n",
            "76 年\n",
            "77 ▁от\n",
            "78 ▁о\n",
            "79 ▁за\n",
            "80 ▁«\n",
            "81 ▁как\n",
            "82 ов\n",
            "83 ▁an\n",
            "84 ).\n",
            "85 ▁I\n",
            "86 A\n",
            "87 ▁you\n",
            "88 d\n",
            "89 ▁which\n",
            "90 ▁not\n",
            "91 ▁have\n",
            "92 ▁или\n",
            "93 t\n",
            "94 х\n",
            "95 ▁A\n",
            "96 ▁this\n",
            "97 ▁In\n",
            "98 a\n",
            "99 ?\n"
          ]
        }
      ],
      "source": [
        "token_to_id = tokenizer.get_vocab()\n",
        "id_to_token = {token_id: token for token, token_id in token_to_id.items()}\n",
        "\n",
        "for i in range(100):\n",
        "    print(i, id_to_token[i])"
      ]
    },
    {
      "cell_type": "markdown",
      "metadata": {
        "id": "xythArdbbEm6"
      },
      "source": [
        "Видно, что часть токенов начинается с нижнего подчеркивания. Это означает, что данный токен является началом какого-то слова и не может быть другой частью слова (например, стоять в середине или в конце). Посмотрим, например, как токенизируются строки \"I and you\" и \"Iandyou\":"
      ]
    },
    {
      "cell_type": "code",
      "execution_count": null,
      "metadata": {
        "colab": {
          "base_uri": "https://localhost:8080/"
        },
        "id": "xI9Hs3tabEm7",
        "outputId": "e1044ef1-824a-4c5b-f35e-14f7df300600"
      },
      "outputs": [
        {
          "name": "stdout",
          "output_type": "stream",
          "text": [
            "{'input_ids': [85, 12, 87, 1], 'attention_mask': [1, 1, 1, 1]}\n",
            "{'input_ids': [85, 370, 4760, 1], 'attention_mask': [1, 1, 1, 1]}\n"
          ]
        }
      ],
      "source": [
        "print(tokenizer(\"I and you\"))\n",
        "print(tokenizer(\"Iandyou\"))"
      ]
    },
    {
      "cell_type": "code",
      "execution_count": null,
      "metadata": {
        "colab": {
          "base_uri": "https://localhost:8080/"
        },
        "id": "eGqbPdLGbEm8",
        "outputId": "90301215-81b1-4bda-f6ed-1061a21a9cc8"
      },
      "outputs": [
        {
          "name": "stdout",
          "output_type": "stream",
          "text": [
            "▁and\n",
            "and\n"
          ]
        }
      ],
      "source": [
        "print(id_to_token[12])\n",
        "print(id_to_token[370])"
      ]
    },
    {
      "cell_type": "markdown",
      "metadata": {
        "id": "BPeYR7HKbEm9"
      },
      "source": [
        "Видно, что токен \"and\" имеет две записи в словере (для начала слова и для других расположений). Но при этом при декодировании токенизатор убирает нижнее подчеркивание:"
      ]
    },
    {
      "cell_type": "code",
      "execution_count": null,
      "metadata": {
        "colab": {
          "base_uri": "https://localhost:8080/"
        },
        "id": "9TAivc6kbEm9",
        "outputId": "cfc16db0-8932-46c9-f80a-3b10d3041110"
      },
      "outputs": [
        {
          "name": "stdout",
          "output_type": "stream",
          "text": [
            "and\n",
            "and\n"
          ]
        }
      ],
      "source": [
        "print(tokenizer.decode(12))\n",
        "print(tokenizer.decode(370))"
      ]
    },
    {
      "cell_type": "markdown",
      "metadata": {
        "id": "otEVA9tVbEm-"
      },
      "source": [
        "При токенизации можно попросить токенизатор не добавлять токен конца последовательности. Для этого нужно выставить `add_special_tokens=False`:"
      ]
    },
    {
      "cell_type": "code",
      "execution_count": null,
      "metadata": {
        "colab": {
          "base_uri": "https://localhost:8080/"
        },
        "id": "tg8NJ8TnbEm_",
        "outputId": "4121086b-5d4e-4891-debc-f419c41e00c0"
      },
      "outputs": [
        {
          "data": {
            "text/plain": [
              "{'input_ids': [43690, 290, 391, 4, 6587, 57], 'attention_mask': [1, 1, 1, 1, 1, 1]}"
            ]
          },
          "execution_count": 11,
          "metadata": {},
          "output_type": "execute_result"
        }
      ],
      "source": [
        "tokenizer('Мама мыла раму', add_special_tokens=False)"
      ]
    },
    {
      "cell_type": "markdown",
      "metadata": {
        "id": "x4aJh1fQbEnA"
      },
      "source": [
        "**Вопрос:** Какой номер в словаре имеет токен \"▁наука\"?"
      ]
    },
    {
      "cell_type": "code",
      "execution_count": null,
      "metadata": {
        "colab": {
          "base_uri": "https://localhost:8080/"
        },
        "id": "GM6gjrr9bEnB",
        "outputId": "f88d4c7a-40bf-4acf-f2aa-cb4223eaa95d"
      },
      "outputs": [
        {
          "data": {
            "text/plain": [
              "{'input_ids': [1274, 198, 18929], 'attention_mask': [1, 1, 1]}"
            ]
          },
          "execution_count": 12,
          "metadata": {},
          "output_type": "execute_result"
        }
      ],
      "source": [
        "tokenizer('_наука', add_special_tokens=False)"
      ]
    },
    {
      "cell_type": "markdown",
      "metadata": {
        "id": "naoYwaIPbEnC"
      },
      "source": [
        "### Задание 3\n",
        "\n",
        "Токенизируйте строку \"LLM - это смысл моей жизни\" с `add_special_tokens=False`. В какую последовательность номеров токенизатор перевел строку?"
      ]
    },
    {
      "cell_type": "code",
      "execution_count": null,
      "metadata": {
        "colab": {
          "base_uri": "https://localhost:8080/"
        },
        "id": "LR6_aMDjbEnD",
        "outputId": "ddb1031d-c871-4b0e-98c0-f04145d2c96b"
      },
      "outputs": [
        {
          "data": {
            "text/plain": [
              "{'input_ids': [503, 16322, 35, 140, 12440, 8949, 737], 'attention_mask': [1, 1, 1, 1, 1, 1, 1]}"
            ]
          },
          "execution_count": 15,
          "metadata": {},
          "output_type": "execute_result"
        }
      ],
      "source": [
        "tokenizer('LLM - это смысл моей жизни', add_special_tokens=False)"
      ]
    },
    {
      "cell_type": "markdown",
      "metadata": {
        "id": "UeNI2-yybEnD"
      },
      "source": [
        "### Задание 4\n",
        "\n",
        "Теперь загрузим модель и сгенерируем перевод для предложения."
      ]
    },
    {
      "cell_type": "code",
      "execution_count": null,
      "metadata": {
        "colab": {
          "background_save": true,
          "referenced_widgets": [
            "6d14b256637d4e97ac70acf31afb56e2",
            "d509961365554af89af54c5efe1194fb",
            "c2c53a854f8544a0a79ed7e051b73ae7"
          ]
        },
        "id": "2EXGsLVJbEnE",
        "outputId": "564fbbb1-ddcb-48d8-9616-e0a184f1ffd2"
      },
      "outputs": [
        {
          "data": {
            "application/vnd.jupyter.widget-view+json": {
              "model_id": "6d14b256637d4e97ac70acf31afb56e2",
              "version_major": 2,
              "version_minor": 0
            },
            "text/plain": [
              "config.json:   0%|          | 0.00/809 [00:00<?, ?B/s]"
            ]
          },
          "metadata": {},
          "output_type": "display_data"
        },
        {
          "data": {
            "application/vnd.jupyter.widget-view+json": {
              "model_id": "d509961365554af89af54c5efe1194fb",
              "version_major": 2,
              "version_minor": 0
            },
            "text/plain": [
              "model.safetensors:   0%|          | 0.00/443M [00:00<?, ?B/s]"
            ]
          },
          "metadata": {},
          "output_type": "display_data"
        },
        {
          "data": {
            "application/vnd.jupyter.widget-view+json": {
              "model_id": "c2c53a854f8544a0a79ed7e051b73ae7",
              "version_major": 2,
              "version_minor": 0
            },
            "text/plain": [
              "generation_config.json:   0%|          | 0.00/185 [00:00<?, ?B/s]"
            ]
          },
          "metadata": {},
          "output_type": "display_data"
        },
        {
          "name": "stdout",
          "output_type": "stream",
          "text": [
            "T5ForConditionalGeneration(\n",
            "  (shared): Embedding(65100, 512)\n",
            "  (encoder): T5Stack(\n",
            "    (embed_tokens): Embedding(65100, 512)\n",
            "    (block): ModuleList(\n",
            "      (0): T5Block(\n",
            "        (layer): ModuleList(\n",
            "          (0): T5LayerSelfAttention(\n",
            "            (SelfAttention): T5Attention(\n",
            "              (q): Linear(in_features=512, out_features=384, bias=False)\n",
            "              (k): Linear(in_features=512, out_features=384, bias=False)\n",
            "              (v): Linear(in_features=512, out_features=384, bias=False)\n",
            "              (o): Linear(in_features=384, out_features=512, bias=False)\n",
            "              (relative_attention_bias): Embedding(32, 6)\n",
            "            )\n",
            "            (layer_norm): T5LayerNorm()\n",
            "            (dropout): Dropout(p=0.1, inplace=False)\n",
            "          )\n",
            "          (1): T5LayerFF(\n",
            "            (DenseReluDense): T5DenseGatedActDense(\n",
            "              (wi_0): Linear(in_features=512, out_features=1024, bias=False)\n",
            "              (wi_1): Linear(in_features=512, out_features=1024, bias=False)\n",
            "              (wo): Linear(in_features=1024, out_features=512, bias=False)\n",
            "              (dropout): Dropout(p=0.1, inplace=False)\n",
            "              (act): NewGELUActivation()\n",
            "            )\n",
            "            (layer_norm): T5LayerNorm()\n",
            "            (dropout): Dropout(p=0.1, inplace=False)\n",
            "          )\n",
            "        )\n",
            "      )\n",
            "      (1-7): 7 x T5Block(\n",
            "        (layer): ModuleList(\n",
            "          (0): T5LayerSelfAttention(\n",
            "            (SelfAttention): T5Attention(\n",
            "              (q): Linear(in_features=512, out_features=384, bias=False)\n",
            "              (k): Linear(in_features=512, out_features=384, bias=False)\n",
            "              (v): Linear(in_features=512, out_features=384, bias=False)\n",
            "              (o): Linear(in_features=384, out_features=512, bias=False)\n",
            "            )\n",
            "            (layer_norm): T5LayerNorm()\n",
            "            (dropout): Dropout(p=0.1, inplace=False)\n",
            "          )\n",
            "          (1): T5LayerFF(\n",
            "            (DenseReluDense): T5DenseGatedActDense(\n",
            "              (wi_0): Linear(in_features=512, out_features=1024, bias=False)\n",
            "              (wi_1): Linear(in_features=512, out_features=1024, bias=False)\n",
            "              (wo): Linear(in_features=1024, out_features=512, bias=False)\n",
            "              (dropout): Dropout(p=0.1, inplace=False)\n",
            "              (act): NewGELUActivation()\n",
            "            )\n",
            "            (layer_norm): T5LayerNorm()\n",
            "            (dropout): Dropout(p=0.1, inplace=False)\n",
            "          )\n",
            "        )\n",
            "      )\n",
            "    )\n",
            "    (final_layer_norm): T5LayerNorm()\n",
            "    (dropout): Dropout(p=0.1, inplace=False)\n",
            "  )\n",
            "  (decoder): T5Stack(\n",
            "    (embed_tokens): Embedding(65100, 512)\n",
            "    (block): ModuleList(\n",
            "      (0): T5Block(\n",
            "        (layer): ModuleList(\n",
            "          (0): T5LayerSelfAttention(\n",
            "            (SelfAttention): T5Attention(\n",
            "              (q): Linear(in_features=512, out_features=384, bias=False)\n",
            "              (k): Linear(in_features=512, out_features=384, bias=False)\n",
            "              (v): Linear(in_features=512, out_features=384, bias=False)\n",
            "              (o): Linear(in_features=384, out_features=512, bias=False)\n",
            "              (relative_attention_bias): Embedding(32, 6)\n",
            "            )\n",
            "            (layer_norm): T5LayerNorm()\n",
            "            (dropout): Dropout(p=0.1, inplace=False)\n",
            "          )\n",
            "          (1): T5LayerCrossAttention(\n",
            "            (EncDecAttention): T5Attention(\n",
            "              (q): Linear(in_features=512, out_features=384, bias=False)\n",
            "              (k): Linear(in_features=512, out_features=384, bias=False)\n",
            "              (v): Linear(in_features=512, out_features=384, bias=False)\n",
            "              (o): Linear(in_features=384, out_features=512, bias=False)\n",
            "            )\n",
            "            (layer_norm): T5LayerNorm()\n",
            "            (dropout): Dropout(p=0.1, inplace=False)\n",
            "          )\n",
            "          (2): T5LayerFF(\n",
            "            (DenseReluDense): T5DenseGatedActDense(\n",
            "              (wi_0): Linear(in_features=512, out_features=1024, bias=False)\n",
            "              (wi_1): Linear(in_features=512, out_features=1024, bias=False)\n",
            "              (wo): Linear(in_features=1024, out_features=512, bias=False)\n",
            "              (dropout): Dropout(p=0.1, inplace=False)\n",
            "              (act): NewGELUActivation()\n",
            "            )\n",
            "            (layer_norm): T5LayerNorm()\n",
            "            (dropout): Dropout(p=0.1, inplace=False)\n",
            "          )\n",
            "        )\n",
            "      )\n",
            "      (1-7): 7 x T5Block(\n",
            "        (layer): ModuleList(\n",
            "          (0): T5LayerSelfAttention(\n",
            "            (SelfAttention): T5Attention(\n",
            "              (q): Linear(in_features=512, out_features=384, bias=False)\n",
            "              (k): Linear(in_features=512, out_features=384, bias=False)\n",
            "              (v): Linear(in_features=512, out_features=384, bias=False)\n",
            "              (o): Linear(in_features=384, out_features=512, bias=False)\n",
            "            )\n",
            "            (layer_norm): T5LayerNorm()\n",
            "            (dropout): Dropout(p=0.1, inplace=False)\n",
            "          )\n",
            "          (1): T5LayerCrossAttention(\n",
            "            (EncDecAttention): T5Attention(\n",
            "              (q): Linear(in_features=512, out_features=384, bias=False)\n",
            "              (k): Linear(in_features=512, out_features=384, bias=False)\n",
            "              (v): Linear(in_features=512, out_features=384, bias=False)\n",
            "              (o): Linear(in_features=384, out_features=512, bias=False)\n",
            "            )\n",
            "            (layer_norm): T5LayerNorm()\n",
            "            (dropout): Dropout(p=0.1, inplace=False)\n",
            "          )\n",
            "          (2): T5LayerFF(\n",
            "            (DenseReluDense): T5DenseGatedActDense(\n",
            "              (wi_0): Linear(in_features=512, out_features=1024, bias=False)\n",
            "              (wi_1): Linear(in_features=512, out_features=1024, bias=False)\n",
            "              (wo): Linear(in_features=1024, out_features=512, bias=False)\n",
            "              (dropout): Dropout(p=0.1, inplace=False)\n",
            "              (act): NewGELUActivation()\n",
            "            )\n",
            "            (layer_norm): T5LayerNorm()\n",
            "            (dropout): Dropout(p=0.1, inplace=False)\n",
            "          )\n",
            "        )\n",
            "      )\n",
            "    )\n",
            "    (final_layer_norm): T5LayerNorm()\n",
            "    (dropout): Dropout(p=0.1, inplace=False)\n",
            "  )\n",
            "  (lm_head): Linear(in_features=512, out_features=65100, bias=False)\n",
            ")\n"
          ]
        }
      ],
      "source": [
        "model = T5ForConditionalGeneration.from_pretrained('utrobinmv/t5_translate_en_ru_zh_small_1024')\n",
        "print(model)"
      ]
    },
    {
      "cell_type": "markdown",
      "metadata": {
        "id": "ooNxBlasbEnF"
      },
      "source": [
        "Видно, что модель состоит из кодировщика и декодировщика. Посмотрим, сколько параметров она имеет:"
      ]
    },
    {
      "cell_type": "code",
      "execution_count": null,
      "metadata": {
        "id": "IDpsKAIbbEnF"
      },
      "outputs": [],
      "source": [
        "print(model.num_parameters())"
      ]
    },
    {
      "cell_type": "markdown",
      "metadata": {
        "id": "Ii0ApmfQbEnG"
      },
      "source": [
        "Переведем строку \"Без труда не выловишь и рыбку из пруда.\" с русского языка на английский. Для этого нужно особым образом сконструировать запрос ([`примеры`](https://huggingface.co/utrobinmv/t5_translate_en_ru_zh_small_1024)):"
      ]
    },
    {
      "cell_type": "code",
      "execution_count": null,
      "metadata": {
        "id": "szA8F-97bEnG"
      },
      "outputs": [],
      "source": [
        "src_text = 'translate to en: Без труда не выловишь и рыбку из пруда.'"
      ]
    },
    {
      "cell_type": "markdown",
      "metadata": {
        "id": "2ENv4oK4bEnH"
      },
      "source": [
        "Превратим текст в номера токенов:"
      ]
    },
    {
      "cell_type": "code",
      "execution_count": null,
      "metadata": {
        "id": "lVlxvsU-bEnI"
      },
      "outputs": [],
      "source": [
        "x = tokenizer(src_text, return_tensors='pt')\n",
        "print(x)"
      ]
    },
    {
      "cell_type": "markdown",
      "metadata": {
        "id": "6bsQpSVwbEnI"
      },
      "source": [
        "Генерируем выходную последовательность:"
      ]
    },
    {
      "cell_type": "code",
      "execution_count": null,
      "metadata": {
        "id": "b8Yq7xtIbEnJ"
      },
      "outputs": [],
      "source": [
        "output_ids = model.generate(x['input_ids'])\n",
        "print(output_ids)"
      ]
    },
    {
      "cell_type": "markdown",
      "metadata": {
        "id": "FCsQUE7rbEnK"
      },
      "source": [
        "Превращаем последовательность номеров токенов в текст:"
      ]
    },
    {
      "cell_type": "code",
      "execution_count": null,
      "metadata": {
        "id": "RrHHBMP8bEnK"
      },
      "outputs": [],
      "source": [
        "print(tokenizer.decode(output_ids[0], skip_special_tokens=True))"
      ]
    },
    {
      "cell_type": "markdown",
      "metadata": {
        "id": "FZIquhW6bEnL"
      },
      "source": [
        "**Вопрос:** Какой перевод модель сгенерирует для текста \"Однажды, в студеную зимнюю пору. Я из лесу вышел; был сильный мороз. Гляжу, поднимается медленно в гору. Лошадка, везущая хворосту воз.\"?"
      ]
    },
    {
      "cell_type": "code",
      "execution_count": null,
      "metadata": {
        "id": "AMcTs-7bbEny"
      },
      "outputs": [],
      "source": [
        "src_text = 'translate to en: Однажды, в студеную зимнюю пору. Я из лесу вышел; был сильный мороз. Гляжу, поднимается медленно в гору. Лошадка, везущая хворосту воз.'\n",
        "print(...)"
      ]
    },
    {
      "cell_type": "markdown",
      "metadata": {
        "id": "pI9wam-VbEny"
      },
      "source": [
        "### Задание 5\n",
        "\n",
        "Попробуем обучить модель генерировать ответы на следующие вопросы:\n",
        "1. Какой город является столицей России?\n",
        "2. Какой город является столицей Соединенных Штатов Америки?\n",
        "\n",
        "Как обычно, для пары (вопрос, ответ) получить loss и минимизировать его. Для примера получим loss для для пары (\"Какой город является столицей Финляндии?\", \"Хельсинки\")."
      ]
    },
    {
      "cell_type": "code",
      "execution_count": null,
      "metadata": {
        "id": "jBKvVks0bEnz"
      },
      "outputs": [],
      "source": [
        "src_text = \"Какой город является столицей Финляндии?\"\n",
        "tgt_text = \"Хельсинки\""
      ]
    },
    {
      "cell_type": "markdown",
      "metadata": {
        "id": "BYZxTwofbEnz"
      },
      "source": [
        "Превратим входной и выходной тексты в последовательности номеров токенов."
      ]
    },
    {
      "cell_type": "code",
      "execution_count": null,
      "metadata": {
        "id": "8fvbnkEgbEnz"
      },
      "outputs": [],
      "source": [
        "src_ids = tokenizer(src_text, return_tensors='pt')\n",
        "tgt_ids = tokenizer(tgt_text, return_tensors='pt')\n",
        "\n",
        "print(src_ids)\n",
        "print(tgt_ids)"
      ]
    },
    {
      "cell_type": "markdown",
      "metadata": {
        "id": "vYcpXX6VbEnz"
      },
      "source": [
        "Запустим модель, передав ей входную и выходную последовательность."
      ]
    },
    {
      "cell_type": "code",
      "execution_count": null,
      "metadata": {
        "id": "3WYf0FvObEn0"
      },
      "outputs": [],
      "source": [
        "with torch.no_grad():\n",
        "    output = model(input_ids=src_ids['input_ids'], labels=tgt_ids['input_ids'])\n",
        "print(output.keys())"
      ]
    },
    {
      "cell_type": "markdown",
      "metadata": {
        "id": "gNpYx0acbEn0"
      },
      "source": [
        "Видим, что модель вернула loss для выходной последовательности, а также логиты для данного токена (чтобы мы могли посчитать какой-нибудь свой loss, если захотим). Посмотрим, чему равен loss."
      ]
    },
    {
      "cell_type": "code",
      "execution_count": null,
      "metadata": {
        "id": "R3wDvve3bEn0"
      },
      "outputs": [],
      "source": [
        "print(output.loss)"
      ]
    },
    {
      "cell_type": "markdown",
      "metadata": {
        "id": "lb9e4DjkbEn0"
      },
      "source": [
        "Лосс получился очень большой. Посмотрим, какой ответ модель сейчас генерирует на наш вопрос."
      ]
    },
    {
      "cell_type": "code",
      "execution_count": null,
      "metadata": {
        "id": "2zqGMus3bEn1"
      },
      "outputs": [],
      "source": [
        "print(tokenizer.decode(model.generate(src_ids['input_ids'])[0], skip_special_tokens=True))"
      ]
    },
    {
      "cell_type": "markdown",
      "metadata": {
        "id": "N3ebWe1wbEn1"
      },
      "source": [
        "Модель сгенерировала перевод вопроса, что неудивительно, так как ее учили только переводить тексты."
      ]
    },
    {
      "cell_type": "markdown",
      "metadata": {
        "id": "sQDXOtaybEn1"
      },
      "source": [
        "**Вопрос**: Какой loss у пары (\"translate to en: Вчера мы ходили в зоопарк и видели там смешных капибар.\", \"Yesterday we went to the zoo and saw funny capybaras there.\")?"
      ]
    },
    {
      "cell_type": "code",
      "execution_count": null,
      "metadata": {
        "id": "c5uagDyrbEn1"
      },
      "outputs": [],
      "source": [
        "src_text = \"translate to en: Вчера мы ходили в зоопарк и видели там смешных капибар.\"\n",
        "tgt_text = \"Yesterday we went to the zoo and saw funny capybaras there.\"\n",
        "\n",
        "print(...)"
      ]
    },
    {
      "cell_type": "markdown",
      "metadata": {
        "id": "aMNP8r9_bEn2"
      },
      "source": [
        "Приступим, наконец, к обучению. Подготовим данные."
      ]
    },
    {
      "cell_type": "code",
      "execution_count": null,
      "metadata": {
        "id": "Yoned1uRbEn2"
      },
      "outputs": [],
      "source": [
        "input_texts = [\"Какой город является столицей России?\", \"Какой город является столицей Новой Зеландии?\"]\n",
        "output_texts = [\"Москва\", \"Веллингтон\"]\n",
        "\n",
        "train_data = []\n",
        "for input_text, output_text in zip(input_texts, output_texts):\n",
        "    x = tokenizer(input_text)\n",
        "    y = tokenizer(output_text)\n",
        "    x['labels'] = y['input_ids']\n",
        "    train_data.append(x)\n",
        "print(train_data)"
      ]
    },
    {
      "cell_type": "markdown",
      "metadata": {
        "id": "LjI7F7vhbEn2"
      },
      "source": [
        "Создадим data collator для выравнивания последовательностей по максимальной длине с использованием pad-токенов и их маскировки."
      ]
    },
    {
      "cell_type": "code",
      "execution_count": null,
      "metadata": {
        "id": "5BKzfAqsbEn3"
      },
      "outputs": [],
      "source": [
        "data_collator = DataCollatorForSeq2Seq(tokenizer)"
      ]
    },
    {
      "cell_type": "markdown",
      "metadata": {
        "id": "PbK64UqHbEn3"
      },
      "source": [
        "Посмотрим, что он делает."
      ]
    },
    {
      "cell_type": "code",
      "execution_count": null,
      "metadata": {
        "id": "umGjGKzObEn3"
      },
      "outputs": [],
      "source": [
        "print(data_collator(train_data))"
      ]
    },
    {
      "cell_type": "markdown",
      "metadata": {
        "id": "xqRXpH-3bEn4"
      },
      "source": [
        "Видно, что\n",
        "* Массив словарей превратился в \"словарь массивов\": в каждом поле содержится батч.\n",
        "* input_ids дополнились до максимальной длины нулями (все последовательности теперь имеют одну и ту же длину).\n",
        "* attention_mask тоже дополнился нулями (не будем учитывать pad-токены)\n",
        "* labels дополнился -100 (не будем считать loss по pad-токенам)\n",
        "\n",
        "Запускаем обучение."
      ]
    },
    {
      "cell_type": "code",
      "execution_count": null,
      "metadata": {
        "id": "HwNTmgUzbEn5"
      },
      "outputs": [],
      "source": [
        "train_args = Seq2SeqTrainingArguments(\n",
        "    './output',\n",
        "    learning_rate=1e-5,\n",
        "    per_device_train_batch_size=2,\n",
        "    max_steps=100,\n",
        "    logging_steps=1,\n",
        "    save_strategy=\"no\",\n",
        "    report_to=\"none\"\n",
        ")"
      ]
    },
    {
      "cell_type": "code",
      "execution_count": null,
      "metadata": {
        "id": "c9fsvENNbEn5"
      },
      "outputs": [],
      "source": [
        "model.train(); # Переводим модель в режим обучения (включаем Dropout, ...)"
      ]
    },
    {
      "cell_type": "code",
      "execution_count": null,
      "metadata": {
        "id": "LtdrEEppbEn6"
      },
      "outputs": [],
      "source": [
        "trainer = Seq2SeqTrainer(model, train_args, train_dataset=train_data, data_collator=data_collator)"
      ]
    },
    {
      "cell_type": "code",
      "execution_count": null,
      "metadata": {
        "id": "mXDGBXbTbEn6"
      },
      "outputs": [],
      "source": [
        "trainer.train()"
      ]
    },
    {
      "cell_type": "markdown",
      "metadata": {
        "id": "BvlxFvSWbEn6"
      },
      "source": [
        "Проверяем, научилась ли наша модель отвечать на два вопроса."
      ]
    },
    {
      "cell_type": "code",
      "execution_count": null,
      "metadata": {
        "id": "Ub9JdipJbEn6"
      },
      "outputs": [],
      "source": [
        "model.eval(); # Переводим модель в режим инференса (Отключаем Dropout, ...)"
      ]
    },
    {
      "cell_type": "code",
      "execution_count": null,
      "metadata": {
        "id": "lLaoJGPsbEn7"
      },
      "outputs": [],
      "source": [
        "src_ids = tokenizer('\"Какой город является столицей России?\"', return_tensors='pt')\n",
        "print(tokenizer.decode(model.generate(src_ids['input_ids'])[0], skip_special_tokens=True))\n",
        "\n",
        "src_ids = tokenizer('\"Какой город является столицей Новой Зеландии?\"', return_tensors='pt')\n",
        "print(tokenizer.decode(model.generate(src_ids['input_ids'])[0], skip_special_tokens=True))"
      ]
    },
    {
      "cell_type": "code",
      "execution_count": null,
      "metadata": {
        "id": "q2YdMCH3bEn7"
      },
      "outputs": [],
      "source": []
    }
  ],
  "metadata": {
    "colab": {
      "provenance": []
    },
    "kaggle": {
      "accelerator": "none",
      "dataSources": [],
      "dockerImageVersionId": 30664,
      "isGpuEnabled": false,
      "isInternetEnabled": true,
      "language": "python",
      "sourceType": "notebook"
    },
    "kernelspec": {
      "display_name": "Python 3 (ipykernel)",
      "language": "python",
      "name": "python3"
    },
    "language_info": {
      "codemirror_mode": {
        "name": "ipython",
        "version": 3
      },
      "file_extension": ".py",
      "mimetype": "text/x-python",
      "name": "python",
      "nbconvert_exporter": "python",
      "pygments_lexer": "ipython3",
      "version": "3.10.12"
    },
    "widgets": {
      "application/vnd.jupyter.widget-state+json": {
        "07a083a05ba94644b8ec4f3baa78eebb": {
          "model_module": "@jupyter-widgets/base",
          "model_module_version": "1.2.0",
          "model_name": "LayoutModel",
          "state": {
            "_model_module": "@jupyter-widgets/base",
            "_model_module_version": "1.2.0",
            "_model_name": "LayoutModel",
            "_view_count": null,
            "_view_module": "@jupyter-widgets/base",
            "_view_module_version": "1.2.0",
            "_view_name": "LayoutView",
            "align_content": null,
            "align_items": null,
            "align_self": null,
            "border": null,
            "bottom": null,
            "display": null,
            "flex": null,
            "flex_flow": null,
            "grid_area": null,
            "grid_auto_columns": null,
            "grid_auto_flow": null,
            "grid_auto_rows": null,
            "grid_column": null,
            "grid_gap": null,
            "grid_row": null,
            "grid_template_areas": null,
            "grid_template_columns": null,
            "grid_template_rows": null,
            "height": null,
            "justify_content": null,
            "justify_items": null,
            "left": null,
            "margin": null,
            "max_height": null,
            "max_width": null,
            "min_height": null,
            "min_width": null,
            "object_fit": null,
            "object_position": null,
            "order": null,
            "overflow": null,
            "overflow_x": null,
            "overflow_y": null,
            "padding": null,
            "right": null,
            "top": null,
            "visibility": null,
            "width": null
          }
        },
        "0916b50a20034d8588e8b2f9c00099aa": {
          "model_module": "@jupyter-widgets/base",
          "model_module_version": "1.2.0",
          "model_name": "LayoutModel",
          "state": {
            "_model_module": "@jupyter-widgets/base",
            "_model_module_version": "1.2.0",
            "_model_name": "LayoutModel",
            "_view_count": null,
            "_view_module": "@jupyter-widgets/base",
            "_view_module_version": "1.2.0",
            "_view_name": "LayoutView",
            "align_content": null,
            "align_items": null,
            "align_self": null,
            "border": null,
            "bottom": null,
            "display": null,
            "flex": null,
            "flex_flow": null,
            "grid_area": null,
            "grid_auto_columns": null,
            "grid_auto_flow": null,
            "grid_auto_rows": null,
            "grid_column": null,
            "grid_gap": null,
            "grid_row": null,
            "grid_template_areas": null,
            "grid_template_columns": null,
            "grid_template_rows": null,
            "height": null,
            "justify_content": null,
            "justify_items": null,
            "left": null,
            "margin": null,
            "max_height": null,
            "max_width": null,
            "min_height": null,
            "min_width": null,
            "object_fit": null,
            "object_position": null,
            "order": null,
            "overflow": null,
            "overflow_x": null,
            "overflow_y": null,
            "padding": null,
            "right": null,
            "top": null,
            "visibility": null,
            "width": null
          }
        },
        "0d1df6a6ce9e443aa451ff8a68b512b3": {
          "model_module": "@jupyter-widgets/controls",
          "model_module_version": "1.5.0",
          "model_name": "HTMLModel",
          "state": {
            "_dom_classes": [],
            "_model_module": "@jupyter-widgets/controls",
            "_model_module_version": "1.5.0",
            "_model_name": "HTMLModel",
            "_view_count": null,
            "_view_module": "@jupyter-widgets/controls",
            "_view_module_version": "1.5.0",
            "_view_name": "HTMLView",
            "description": "",
            "description_tooltip": null,
            "layout": "IPY_MODEL_424362e1198245d7b11a3c247d742201",
            "placeholder": "​",
            "style": "IPY_MODEL_797ef73aabd34ec9bd545eaaebce216e",
            "value": "added_tokens.json: 100%"
          }
        },
        "1194e29634c742b3ba6b695dd6e5b7ef": {
          "model_module": "@jupyter-widgets/base",
          "model_module_version": "1.2.0",
          "model_name": "LayoutModel",
          "state": {
            "_model_module": "@jupyter-widgets/base",
            "_model_module_version": "1.2.0",
            "_model_name": "LayoutModel",
            "_view_count": null,
            "_view_module": "@jupyter-widgets/base",
            "_view_module_version": "1.2.0",
            "_view_name": "LayoutView",
            "align_content": null,
            "align_items": null,
            "align_self": null,
            "border": null,
            "bottom": null,
            "display": null,
            "flex": null,
            "flex_flow": null,
            "grid_area": null,
            "grid_auto_columns": null,
            "grid_auto_flow": null,
            "grid_auto_rows": null,
            "grid_column": null,
            "grid_gap": null,
            "grid_row": null,
            "grid_template_areas": null,
            "grid_template_columns": null,
            "grid_template_rows": null,
            "height": null,
            "justify_content": null,
            "justify_items": null,
            "left": null,
            "margin": null,
            "max_height": null,
            "max_width": null,
            "min_height": null,
            "min_width": null,
            "object_fit": null,
            "object_position": null,
            "order": null,
            "overflow": null,
            "overflow_x": null,
            "overflow_y": null,
            "padding": null,
            "right": null,
            "top": null,
            "visibility": null,
            "width": null
          }
        },
        "182ff19820714e08bfa8958ba39e9db3": {
          "model_module": "@jupyter-widgets/controls",
          "model_module_version": "1.5.0",
          "model_name": "HTMLModel",
          "state": {
            "_dom_classes": [],
            "_model_module": "@jupyter-widgets/controls",
            "_model_module_version": "1.5.0",
            "_model_name": "HTMLModel",
            "_view_count": null,
            "_view_module": "@jupyter-widgets/controls",
            "_view_module_version": "1.5.0",
            "_view_name": "HTMLView",
            "description": "",
            "description_tooltip": null,
            "layout": "IPY_MODEL_1194e29634c742b3ba6b695dd6e5b7ef",
            "placeholder": "​",
            "style": "IPY_MODEL_be2b503ab67140c2b21c3610de7479c8",
            "value": " 20.6k/20.6k [00:00&lt;00:00, 371kB/s]"
          }
        },
        "201bba20fbea4ce69f77823223d233ac": {
          "model_module": "@jupyter-widgets/controls",
          "model_module_version": "1.5.0",
          "model_name": "HBoxModel",
          "state": {
            "_dom_classes": [],
            "_model_module": "@jupyter-widgets/controls",
            "_model_module_version": "1.5.0",
            "_model_name": "HBoxModel",
            "_view_count": null,
            "_view_module": "@jupyter-widgets/controls",
            "_view_module_version": "1.5.0",
            "_view_name": "HBoxView",
            "box_style": "",
            "children": [
              "IPY_MODEL_5e30b3ead6444e359b8176731e8844eb",
              "IPY_MODEL_beff409cadcb4720b7d8b9cb3306097d",
              "IPY_MODEL_9c2efaa2cb1347bfb7f29ef13f06df7b"
            ],
            "layout": "IPY_MODEL_a6aa154a8a8b483291982637f192382e"
          }
        },
        "27880833d0d74c57b22b808bdba3479e": {
          "model_module": "@jupyter-widgets/controls",
          "model_module_version": "1.5.0",
          "model_name": "DescriptionStyleModel",
          "state": {
            "_model_module": "@jupyter-widgets/controls",
            "_model_module_version": "1.5.0",
            "_model_name": "DescriptionStyleModel",
            "_view_count": null,
            "_view_module": "@jupyter-widgets/base",
            "_view_module_version": "1.2.0",
            "_view_name": "StyleView",
            "description_width": ""
          }
        },
        "2f3dd329859043629f841629426e4616": {
          "model_module": "@jupyter-widgets/controls",
          "model_module_version": "1.5.0",
          "model_name": "HTMLModel",
          "state": {
            "_dom_classes": [],
            "_model_module": "@jupyter-widgets/controls",
            "_model_module_version": "1.5.0",
            "_model_name": "HTMLModel",
            "_view_count": null,
            "_view_module": "@jupyter-widgets/controls",
            "_view_module_version": "1.5.0",
            "_view_name": "HTMLView",
            "description": "",
            "description_tooltip": null,
            "layout": "IPY_MODEL_cbaf3d144a1d49659db838fabc1c1cce",
            "placeholder": "​",
            "style": "IPY_MODEL_6b735ad85c474a9396078d7a58b30d0a",
            "value": "spiece.model: 100%"
          }
        },
        "2ff9cd91f12b4edaa828ea7f25bb3788": {
          "model_module": "@jupyter-widgets/controls",
          "model_module_version": "1.5.0",
          "model_name": "HBoxModel",
          "state": {
            "_dom_classes": [],
            "_model_module": "@jupyter-widgets/controls",
            "_model_module_version": "1.5.0",
            "_model_name": "HBoxModel",
            "_view_count": null,
            "_view_module": "@jupyter-widgets/controls",
            "_view_module_version": "1.5.0",
            "_view_name": "HBoxView",
            "box_style": "",
            "children": [
              "IPY_MODEL_2f3dd329859043629f841629426e4616",
              "IPY_MODEL_798dd4b024f14925b8892eace94e9966",
              "IPY_MODEL_6f0f63987b94409f873fc83e69f0d43f"
            ],
            "layout": "IPY_MODEL_3ba1d851be7a407d907259ed4d5cec4f"
          }
        },
        "31fb37eb69b14a4e8ed6a7b5f85f5644": {
          "model_module": "@jupyter-widgets/controls",
          "model_module_version": "1.5.0",
          "model_name": "DescriptionStyleModel",
          "state": {
            "_model_module": "@jupyter-widgets/controls",
            "_model_module_version": "1.5.0",
            "_model_name": "DescriptionStyleModel",
            "_view_count": null,
            "_view_module": "@jupyter-widgets/base",
            "_view_module_version": "1.2.0",
            "_view_name": "StyleView",
            "description_width": ""
          }
        },
        "3625245423d04383a858716633865a1a": {
          "model_module": "@jupyter-widgets/controls",
          "model_module_version": "1.5.0",
          "model_name": "HTMLModel",
          "state": {
            "_dom_classes": [],
            "_model_module": "@jupyter-widgets/controls",
            "_model_module_version": "1.5.0",
            "_model_name": "HTMLModel",
            "_view_count": null,
            "_view_module": "@jupyter-widgets/controls",
            "_view_module_version": "1.5.0",
            "_view_name": "HTMLView",
            "description": "",
            "description_tooltip": null,
            "layout": "IPY_MODEL_644351cf9d4e415397ffb2ba986a624a",
            "placeholder": "​",
            "style": "IPY_MODEL_27880833d0d74c57b22b808bdba3479e",
            "value": "tokenizer_config.json: 100%"
          }
        },
        "3ba1d851be7a407d907259ed4d5cec4f": {
          "model_module": "@jupyter-widgets/base",
          "model_module_version": "1.2.0",
          "model_name": "LayoutModel",
          "state": {
            "_model_module": "@jupyter-widgets/base",
            "_model_module_version": "1.2.0",
            "_model_name": "LayoutModel",
            "_view_count": null,
            "_view_module": "@jupyter-widgets/base",
            "_view_module_version": "1.2.0",
            "_view_name": "LayoutView",
            "align_content": null,
            "align_items": null,
            "align_self": null,
            "border": null,
            "bottom": null,
            "display": null,
            "flex": null,
            "flex_flow": null,
            "grid_area": null,
            "grid_auto_columns": null,
            "grid_auto_flow": null,
            "grid_auto_rows": null,
            "grid_column": null,
            "grid_gap": null,
            "grid_row": null,
            "grid_template_areas": null,
            "grid_template_columns": null,
            "grid_template_rows": null,
            "height": null,
            "justify_content": null,
            "justify_items": null,
            "left": null,
            "margin": null,
            "max_height": null,
            "max_width": null,
            "min_height": null,
            "min_width": null,
            "object_fit": null,
            "object_position": null,
            "order": null,
            "overflow": null,
            "overflow_x": null,
            "overflow_y": null,
            "padding": null,
            "right": null,
            "top": null,
            "visibility": null,
            "width": null
          }
        },
        "3ba8f351849742aa93868d2c6aba7da4": {
          "model_module": "@jupyter-widgets/controls",
          "model_module_version": "1.5.0",
          "model_name": "HBoxModel",
          "state": {
            "_dom_classes": [],
            "_model_module": "@jupyter-widgets/controls",
            "_model_module_version": "1.5.0",
            "_model_name": "HBoxModel",
            "_view_count": null,
            "_view_module": "@jupyter-widgets/controls",
            "_view_module_version": "1.5.0",
            "_view_name": "HBoxView",
            "box_style": "",
            "children": [
              "IPY_MODEL_3625245423d04383a858716633865a1a",
              "IPY_MODEL_d548b95c3b624761af2626585cab300e",
              "IPY_MODEL_182ff19820714e08bfa8958ba39e9db3"
            ],
            "layout": "IPY_MODEL_446d1c5779d84ae3a36712d2a1aacc4b"
          }
        },
        "424362e1198245d7b11a3c247d742201": {
          "model_module": "@jupyter-widgets/base",
          "model_module_version": "1.2.0",
          "model_name": "LayoutModel",
          "state": {
            "_model_module": "@jupyter-widgets/base",
            "_model_module_version": "1.2.0",
            "_model_name": "LayoutModel",
            "_view_count": null,
            "_view_module": "@jupyter-widgets/base",
            "_view_module_version": "1.2.0",
            "_view_name": "LayoutView",
            "align_content": null,
            "align_items": null,
            "align_self": null,
            "border": null,
            "bottom": null,
            "display": null,
            "flex": null,
            "flex_flow": null,
            "grid_area": null,
            "grid_auto_columns": null,
            "grid_auto_flow": null,
            "grid_auto_rows": null,
            "grid_column": null,
            "grid_gap": null,
            "grid_row": null,
            "grid_template_areas": null,
            "grid_template_columns": null,
            "grid_template_rows": null,
            "height": null,
            "justify_content": null,
            "justify_items": null,
            "left": null,
            "margin": null,
            "max_height": null,
            "max_width": null,
            "min_height": null,
            "min_width": null,
            "object_fit": null,
            "object_position": null,
            "order": null,
            "overflow": null,
            "overflow_x": null,
            "overflow_y": null,
            "padding": null,
            "right": null,
            "top": null,
            "visibility": null,
            "width": null
          }
        },
        "446d1c5779d84ae3a36712d2a1aacc4b": {
          "model_module": "@jupyter-widgets/base",
          "model_module_version": "1.2.0",
          "model_name": "LayoutModel",
          "state": {
            "_model_module": "@jupyter-widgets/base",
            "_model_module_version": "1.2.0",
            "_model_name": "LayoutModel",
            "_view_count": null,
            "_view_module": "@jupyter-widgets/base",
            "_view_module_version": "1.2.0",
            "_view_name": "LayoutView",
            "align_content": null,
            "align_items": null,
            "align_self": null,
            "border": null,
            "bottom": null,
            "display": null,
            "flex": null,
            "flex_flow": null,
            "grid_area": null,
            "grid_auto_columns": null,
            "grid_auto_flow": null,
            "grid_auto_rows": null,
            "grid_column": null,
            "grid_gap": null,
            "grid_row": null,
            "grid_template_areas": null,
            "grid_template_columns": null,
            "grid_template_rows": null,
            "height": null,
            "justify_content": null,
            "justify_items": null,
            "left": null,
            "margin": null,
            "max_height": null,
            "max_width": null,
            "min_height": null,
            "min_width": null,
            "object_fit": null,
            "object_position": null,
            "order": null,
            "overflow": null,
            "overflow_x": null,
            "overflow_y": null,
            "padding": null,
            "right": null,
            "top": null,
            "visibility": null,
            "width": null
          }
        },
        "56d823133c4344a692633f3425c19e6f": {
          "model_module": "@jupyter-widgets/controls",
          "model_module_version": "1.5.0",
          "model_name": "DescriptionStyleModel",
          "state": {
            "_model_module": "@jupyter-widgets/controls",
            "_model_module_version": "1.5.0",
            "_model_name": "DescriptionStyleModel",
            "_view_count": null,
            "_view_module": "@jupyter-widgets/base",
            "_view_module_version": "1.2.0",
            "_view_name": "StyleView",
            "description_width": ""
          }
        },
        "5a858d337f7049a4aaf96f0147a1acde": {
          "model_module": "@jupyter-widgets/controls",
          "model_module_version": "1.5.0",
          "model_name": "ProgressStyleModel",
          "state": {
            "_model_module": "@jupyter-widgets/controls",
            "_model_module_version": "1.5.0",
            "_model_name": "ProgressStyleModel",
            "_view_count": null,
            "_view_module": "@jupyter-widgets/base",
            "_view_module_version": "1.2.0",
            "_view_name": "StyleView",
            "bar_color": null,
            "description_width": ""
          }
        },
        "5e30b3ead6444e359b8176731e8844eb": {
          "model_module": "@jupyter-widgets/controls",
          "model_module_version": "1.5.0",
          "model_name": "HTMLModel",
          "state": {
            "_dom_classes": [],
            "_model_module": "@jupyter-widgets/controls",
            "_model_module_version": "1.5.0",
            "_model_name": "HTMLModel",
            "_view_count": null,
            "_view_module": "@jupyter-widgets/controls",
            "_view_module_version": "1.5.0",
            "_view_name": "HTMLView",
            "description": "",
            "description_tooltip": null,
            "layout": "IPY_MODEL_9d49246591b5491cb065113505d59ae0",
            "placeholder": "​",
            "style": "IPY_MODEL_31fb37eb69b14a4e8ed6a7b5f85f5644",
            "value": "special_tokens_map.json: 100%"
          }
        },
        "6177bf8c12894b70adb3d69cc9c73962": {
          "model_module": "@jupyter-widgets/controls",
          "model_module_version": "1.5.0",
          "model_name": "HTMLModel",
          "state": {
            "_dom_classes": [],
            "_model_module": "@jupyter-widgets/controls",
            "_model_module_version": "1.5.0",
            "_model_name": "HTMLModel",
            "_view_count": null,
            "_view_module": "@jupyter-widgets/controls",
            "_view_module_version": "1.5.0",
            "_view_name": "HTMLView",
            "description": "",
            "description_tooltip": null,
            "layout": "IPY_MODEL_9b5038f555744b2c9688cafb7b1dd2f0",
            "placeholder": "​",
            "style": "IPY_MODEL_56d823133c4344a692633f3425c19e6f",
            "value": " 2.59k/2.59k [00:00&lt;00:00, 71.8kB/s]"
          }
        },
        "644351cf9d4e415397ffb2ba986a624a": {
          "model_module": "@jupyter-widgets/base",
          "model_module_version": "1.2.0",
          "model_name": "LayoutModel",
          "state": {
            "_model_module": "@jupyter-widgets/base",
            "_model_module_version": "1.2.0",
            "_model_name": "LayoutModel",
            "_view_count": null,
            "_view_module": "@jupyter-widgets/base",
            "_view_module_version": "1.2.0",
            "_view_name": "LayoutView",
            "align_content": null,
            "align_items": null,
            "align_self": null,
            "border": null,
            "bottom": null,
            "display": null,
            "flex": null,
            "flex_flow": null,
            "grid_area": null,
            "grid_auto_columns": null,
            "grid_auto_flow": null,
            "grid_auto_rows": null,
            "grid_column": null,
            "grid_gap": null,
            "grid_row": null,
            "grid_template_areas": null,
            "grid_template_columns": null,
            "grid_template_rows": null,
            "height": null,
            "justify_content": null,
            "justify_items": null,
            "left": null,
            "margin": null,
            "max_height": null,
            "max_width": null,
            "min_height": null,
            "min_width": null,
            "object_fit": null,
            "object_position": null,
            "order": null,
            "overflow": null,
            "overflow_x": null,
            "overflow_y": null,
            "padding": null,
            "right": null,
            "top": null,
            "visibility": null,
            "width": null
          }
        },
        "66950c3552b14d408e36d058517b7aad": {
          "model_module": "@jupyter-widgets/base",
          "model_module_version": "1.2.0",
          "model_name": "LayoutModel",
          "state": {
            "_model_module": "@jupyter-widgets/base",
            "_model_module_version": "1.2.0",
            "_model_name": "LayoutModel",
            "_view_count": null,
            "_view_module": "@jupyter-widgets/base",
            "_view_module_version": "1.2.0",
            "_view_name": "LayoutView",
            "align_content": null,
            "align_items": null,
            "align_self": null,
            "border": null,
            "bottom": null,
            "display": null,
            "flex": null,
            "flex_flow": null,
            "grid_area": null,
            "grid_auto_columns": null,
            "grid_auto_flow": null,
            "grid_auto_rows": null,
            "grid_column": null,
            "grid_gap": null,
            "grid_row": null,
            "grid_template_areas": null,
            "grid_template_columns": null,
            "grid_template_rows": null,
            "height": null,
            "justify_content": null,
            "justify_items": null,
            "left": null,
            "margin": null,
            "max_height": null,
            "max_width": null,
            "min_height": null,
            "min_width": null,
            "object_fit": null,
            "object_position": null,
            "order": null,
            "overflow": null,
            "overflow_x": null,
            "overflow_y": null,
            "padding": null,
            "right": null,
            "top": null,
            "visibility": null,
            "width": null
          }
        },
        "6b735ad85c474a9396078d7a58b30d0a": {
          "model_module": "@jupyter-widgets/controls",
          "model_module_version": "1.5.0",
          "model_name": "DescriptionStyleModel",
          "state": {
            "_model_module": "@jupyter-widgets/controls",
            "_model_module_version": "1.5.0",
            "_model_name": "DescriptionStyleModel",
            "_view_count": null,
            "_view_module": "@jupyter-widgets/base",
            "_view_module_version": "1.2.0",
            "_view_name": "StyleView",
            "description_width": ""
          }
        },
        "6f0f63987b94409f873fc83e69f0d43f": {
          "model_module": "@jupyter-widgets/controls",
          "model_module_version": "1.5.0",
          "model_name": "HTMLModel",
          "state": {
            "_dom_classes": [],
            "_model_module": "@jupyter-widgets/controls",
            "_model_module_version": "1.5.0",
            "_model_name": "HTMLModel",
            "_view_count": null,
            "_view_module": "@jupyter-widgets/controls",
            "_view_module_version": "1.5.0",
            "_view_name": "HTMLView",
            "description": "",
            "description_tooltip": null,
            "layout": "IPY_MODEL_0916b50a20034d8588e8b2f9c00099aa",
            "placeholder": "​",
            "style": "IPY_MODEL_96be0efbf52446d49cf274e8460a60ff",
            "value": " 1.47M/1.47M [00:00&lt;00:00, 11.5MB/s]"
          }
        },
        "756797b80e0743cf81fdbe26030df5b3": {
          "model_module": "@jupyter-widgets/controls",
          "model_module_version": "1.5.0",
          "model_name": "DescriptionStyleModel",
          "state": {
            "_model_module": "@jupyter-widgets/controls",
            "_model_module_version": "1.5.0",
            "_model_name": "DescriptionStyleModel",
            "_view_count": null,
            "_view_module": "@jupyter-widgets/base",
            "_view_module_version": "1.2.0",
            "_view_name": "StyleView",
            "description_width": ""
          }
        },
        "797ef73aabd34ec9bd545eaaebce216e": {
          "model_module": "@jupyter-widgets/controls",
          "model_module_version": "1.5.0",
          "model_name": "DescriptionStyleModel",
          "state": {
            "_model_module": "@jupyter-widgets/controls",
            "_model_module_version": "1.5.0",
            "_model_name": "DescriptionStyleModel",
            "_view_count": null,
            "_view_module": "@jupyter-widgets/base",
            "_view_module_version": "1.2.0",
            "_view_name": "StyleView",
            "description_width": ""
          }
        },
        "798dd4b024f14925b8892eace94e9966": {
          "model_module": "@jupyter-widgets/controls",
          "model_module_version": "1.5.0",
          "model_name": "FloatProgressModel",
          "state": {
            "_dom_classes": [],
            "_model_module": "@jupyter-widgets/controls",
            "_model_module_version": "1.5.0",
            "_model_name": "FloatProgressModel",
            "_view_count": null,
            "_view_module": "@jupyter-widgets/controls",
            "_view_module_version": "1.5.0",
            "_view_name": "ProgressView",
            "bar_style": "success",
            "description": "",
            "description_tooltip": null,
            "layout": "IPY_MODEL_66950c3552b14d408e36d058517b7aad",
            "max": 1466005,
            "min": 0,
            "orientation": "horizontal",
            "style": "IPY_MODEL_acc634ff234b4bcbb5e221b083b3bd6b",
            "value": 1466005
          }
        },
        "807af68caf6146619db734109642fa27": {
          "model_module": "@jupyter-widgets/controls",
          "model_module_version": "1.5.0",
          "model_name": "FloatProgressModel",
          "state": {
            "_dom_classes": [],
            "_model_module": "@jupyter-widgets/controls",
            "_model_module_version": "1.5.0",
            "_model_name": "FloatProgressModel",
            "_view_count": null,
            "_view_module": "@jupyter-widgets/controls",
            "_view_module_version": "1.5.0",
            "_view_name": "ProgressView",
            "bar_style": "success",
            "description": "",
            "description_tooltip": null,
            "layout": "IPY_MODEL_07a083a05ba94644b8ec4f3baa78eebb",
            "max": 2593,
            "min": 0,
            "orientation": "horizontal",
            "style": "IPY_MODEL_8470be16d56d4eefab8441d7f0e07913",
            "value": 2593
          }
        },
        "8470be16d56d4eefab8441d7f0e07913": {
          "model_module": "@jupyter-widgets/controls",
          "model_module_version": "1.5.0",
          "model_name": "ProgressStyleModel",
          "state": {
            "_model_module": "@jupyter-widgets/controls",
            "_model_module_version": "1.5.0",
            "_model_name": "ProgressStyleModel",
            "_view_count": null,
            "_view_module": "@jupyter-widgets/base",
            "_view_module_version": "1.2.0",
            "_view_name": "StyleView",
            "bar_color": null,
            "description_width": ""
          }
        },
        "8f67f177130f4502831cb8cf9cef3f1e": {
          "model_module": "@jupyter-widgets/base",
          "model_module_version": "1.2.0",
          "model_name": "LayoutModel",
          "state": {
            "_model_module": "@jupyter-widgets/base",
            "_model_module_version": "1.2.0",
            "_model_name": "LayoutModel",
            "_view_count": null,
            "_view_module": "@jupyter-widgets/base",
            "_view_module_version": "1.2.0",
            "_view_name": "LayoutView",
            "align_content": null,
            "align_items": null,
            "align_self": null,
            "border": null,
            "bottom": null,
            "display": null,
            "flex": null,
            "flex_flow": null,
            "grid_area": null,
            "grid_auto_columns": null,
            "grid_auto_flow": null,
            "grid_auto_rows": null,
            "grid_column": null,
            "grid_gap": null,
            "grid_row": null,
            "grid_template_areas": null,
            "grid_template_columns": null,
            "grid_template_rows": null,
            "height": null,
            "justify_content": null,
            "justify_items": null,
            "left": null,
            "margin": null,
            "max_height": null,
            "max_width": null,
            "min_height": null,
            "min_width": null,
            "object_fit": null,
            "object_position": null,
            "order": null,
            "overflow": null,
            "overflow_x": null,
            "overflow_y": null,
            "padding": null,
            "right": null,
            "top": null,
            "visibility": null,
            "width": null
          }
        },
        "96be0efbf52446d49cf274e8460a60ff": {
          "model_module": "@jupyter-widgets/controls",
          "model_module_version": "1.5.0",
          "model_name": "DescriptionStyleModel",
          "state": {
            "_model_module": "@jupyter-widgets/controls",
            "_model_module_version": "1.5.0",
            "_model_name": "DescriptionStyleModel",
            "_view_count": null,
            "_view_module": "@jupyter-widgets/base",
            "_view_module_version": "1.2.0",
            "_view_name": "StyleView",
            "description_width": ""
          }
        },
        "9b5038f555744b2c9688cafb7b1dd2f0": {
          "model_module": "@jupyter-widgets/base",
          "model_module_version": "1.2.0",
          "model_name": "LayoutModel",
          "state": {
            "_model_module": "@jupyter-widgets/base",
            "_model_module_version": "1.2.0",
            "_model_name": "LayoutModel",
            "_view_count": null,
            "_view_module": "@jupyter-widgets/base",
            "_view_module_version": "1.2.0",
            "_view_name": "LayoutView",
            "align_content": null,
            "align_items": null,
            "align_self": null,
            "border": null,
            "bottom": null,
            "display": null,
            "flex": null,
            "flex_flow": null,
            "grid_area": null,
            "grid_auto_columns": null,
            "grid_auto_flow": null,
            "grid_auto_rows": null,
            "grid_column": null,
            "grid_gap": null,
            "grid_row": null,
            "grid_template_areas": null,
            "grid_template_columns": null,
            "grid_template_rows": null,
            "height": null,
            "justify_content": null,
            "justify_items": null,
            "left": null,
            "margin": null,
            "max_height": null,
            "max_width": null,
            "min_height": null,
            "min_width": null,
            "object_fit": null,
            "object_position": null,
            "order": null,
            "overflow": null,
            "overflow_x": null,
            "overflow_y": null,
            "padding": null,
            "right": null,
            "top": null,
            "visibility": null,
            "width": null
          }
        },
        "9c2efaa2cb1347bfb7f29ef13f06df7b": {
          "model_module": "@jupyter-widgets/controls",
          "model_module_version": "1.5.0",
          "model_name": "HTMLModel",
          "state": {
            "_dom_classes": [],
            "_model_module": "@jupyter-widgets/controls",
            "_model_module_version": "1.5.0",
            "_model_name": "HTMLModel",
            "_view_count": null,
            "_view_module": "@jupyter-widgets/controls",
            "_view_module_version": "1.5.0",
            "_view_name": "HTMLView",
            "description": "",
            "description_tooltip": null,
            "layout": "IPY_MODEL_8f67f177130f4502831cb8cf9cef3f1e",
            "placeholder": "​",
            "style": "IPY_MODEL_756797b80e0743cf81fdbe26030df5b3",
            "value": " 2.54k/2.54k [00:00&lt;00:00, 69.9kB/s]"
          }
        },
        "9d49246591b5491cb065113505d59ae0": {
          "model_module": "@jupyter-widgets/base",
          "model_module_version": "1.2.0",
          "model_name": "LayoutModel",
          "state": {
            "_model_module": "@jupyter-widgets/base",
            "_model_module_version": "1.2.0",
            "_model_name": "LayoutModel",
            "_view_count": null,
            "_view_module": "@jupyter-widgets/base",
            "_view_module_version": "1.2.0",
            "_view_name": "LayoutView",
            "align_content": null,
            "align_items": null,
            "align_self": null,
            "border": null,
            "bottom": null,
            "display": null,
            "flex": null,
            "flex_flow": null,
            "grid_area": null,
            "grid_auto_columns": null,
            "grid_auto_flow": null,
            "grid_auto_rows": null,
            "grid_column": null,
            "grid_gap": null,
            "grid_row": null,
            "grid_template_areas": null,
            "grid_template_columns": null,
            "grid_template_rows": null,
            "height": null,
            "justify_content": null,
            "justify_items": null,
            "left": null,
            "margin": null,
            "max_height": null,
            "max_width": null,
            "min_height": null,
            "min_width": null,
            "object_fit": null,
            "object_position": null,
            "order": null,
            "overflow": null,
            "overflow_x": null,
            "overflow_y": null,
            "padding": null,
            "right": null,
            "top": null,
            "visibility": null,
            "width": null
          }
        },
        "a6aa154a8a8b483291982637f192382e": {
          "model_module": "@jupyter-widgets/base",
          "model_module_version": "1.2.0",
          "model_name": "LayoutModel",
          "state": {
            "_model_module": "@jupyter-widgets/base",
            "_model_module_version": "1.2.0",
            "_model_name": "LayoutModel",
            "_view_count": null,
            "_view_module": "@jupyter-widgets/base",
            "_view_module_version": "1.2.0",
            "_view_name": "LayoutView",
            "align_content": null,
            "align_items": null,
            "align_self": null,
            "border": null,
            "bottom": null,
            "display": null,
            "flex": null,
            "flex_flow": null,
            "grid_area": null,
            "grid_auto_columns": null,
            "grid_auto_flow": null,
            "grid_auto_rows": null,
            "grid_column": null,
            "grid_gap": null,
            "grid_row": null,
            "grid_template_areas": null,
            "grid_template_columns": null,
            "grid_template_rows": null,
            "height": null,
            "justify_content": null,
            "justify_items": null,
            "left": null,
            "margin": null,
            "max_height": null,
            "max_width": null,
            "min_height": null,
            "min_width": null,
            "object_fit": null,
            "object_position": null,
            "order": null,
            "overflow": null,
            "overflow_x": null,
            "overflow_y": null,
            "padding": null,
            "right": null,
            "top": null,
            "visibility": null,
            "width": null
          }
        },
        "a7d18223e8b9481c8600d9a40e7cc4b5": {
          "model_module": "@jupyter-widgets/base",
          "model_module_version": "1.2.0",
          "model_name": "LayoutModel",
          "state": {
            "_model_module": "@jupyter-widgets/base",
            "_model_module_version": "1.2.0",
            "_model_name": "LayoutModel",
            "_view_count": null,
            "_view_module": "@jupyter-widgets/base",
            "_view_module_version": "1.2.0",
            "_view_name": "LayoutView",
            "align_content": null,
            "align_items": null,
            "align_self": null,
            "border": null,
            "bottom": null,
            "display": null,
            "flex": null,
            "flex_flow": null,
            "grid_area": null,
            "grid_auto_columns": null,
            "grid_auto_flow": null,
            "grid_auto_rows": null,
            "grid_column": null,
            "grid_gap": null,
            "grid_row": null,
            "grid_template_areas": null,
            "grid_template_columns": null,
            "grid_template_rows": null,
            "height": null,
            "justify_content": null,
            "justify_items": null,
            "left": null,
            "margin": null,
            "max_height": null,
            "max_width": null,
            "min_height": null,
            "min_width": null,
            "object_fit": null,
            "object_position": null,
            "order": null,
            "overflow": null,
            "overflow_x": null,
            "overflow_y": null,
            "padding": null,
            "right": null,
            "top": null,
            "visibility": null,
            "width": null
          }
        },
        "acc634ff234b4bcbb5e221b083b3bd6b": {
          "model_module": "@jupyter-widgets/controls",
          "model_module_version": "1.5.0",
          "model_name": "ProgressStyleModel",
          "state": {
            "_model_module": "@jupyter-widgets/controls",
            "_model_module_version": "1.5.0",
            "_model_name": "ProgressStyleModel",
            "_view_count": null,
            "_view_module": "@jupyter-widgets/base",
            "_view_module_version": "1.2.0",
            "_view_name": "StyleView",
            "bar_color": null,
            "description_width": ""
          }
        },
        "b9a14b09272448d5973b9ce26f036e19": {
          "model_module": "@jupyter-widgets/controls",
          "model_module_version": "1.5.0",
          "model_name": "HBoxModel",
          "state": {
            "_dom_classes": [],
            "_model_module": "@jupyter-widgets/controls",
            "_model_module_version": "1.5.0",
            "_model_name": "HBoxModel",
            "_view_count": null,
            "_view_module": "@jupyter-widgets/controls",
            "_view_module_version": "1.5.0",
            "_view_name": "HBoxView",
            "box_style": "",
            "children": [
              "IPY_MODEL_0d1df6a6ce9e443aa451ff8a68b512b3",
              "IPY_MODEL_807af68caf6146619db734109642fa27",
              "IPY_MODEL_6177bf8c12894b70adb3d69cc9c73962"
            ],
            "layout": "IPY_MODEL_c86e3bc5f7a44f2c8d943c3db117b50e"
          }
        },
        "be2b503ab67140c2b21c3610de7479c8": {
          "model_module": "@jupyter-widgets/controls",
          "model_module_version": "1.5.0",
          "model_name": "DescriptionStyleModel",
          "state": {
            "_model_module": "@jupyter-widgets/controls",
            "_model_module_version": "1.5.0",
            "_model_name": "DescriptionStyleModel",
            "_view_count": null,
            "_view_module": "@jupyter-widgets/base",
            "_view_module_version": "1.2.0",
            "_view_name": "StyleView",
            "description_width": ""
          }
        },
        "beff409cadcb4720b7d8b9cb3306097d": {
          "model_module": "@jupyter-widgets/controls",
          "model_module_version": "1.5.0",
          "model_name": "FloatProgressModel",
          "state": {
            "_dom_classes": [],
            "_model_module": "@jupyter-widgets/controls",
            "_model_module_version": "1.5.0",
            "_model_name": "FloatProgressModel",
            "_view_count": null,
            "_view_module": "@jupyter-widgets/controls",
            "_view_module_version": "1.5.0",
            "_view_name": "ProgressView",
            "bar_style": "success",
            "description": "",
            "description_tooltip": null,
            "layout": "IPY_MODEL_a7d18223e8b9481c8600d9a40e7cc4b5",
            "max": 2543,
            "min": 0,
            "orientation": "horizontal",
            "style": "IPY_MODEL_d9f1dd8cc9d347a0995d41c23c1ee1be",
            "value": 2543
          }
        },
        "c86e3bc5f7a44f2c8d943c3db117b50e": {
          "model_module": "@jupyter-widgets/base",
          "model_module_version": "1.2.0",
          "model_name": "LayoutModel",
          "state": {
            "_model_module": "@jupyter-widgets/base",
            "_model_module_version": "1.2.0",
            "_model_name": "LayoutModel",
            "_view_count": null,
            "_view_module": "@jupyter-widgets/base",
            "_view_module_version": "1.2.0",
            "_view_name": "LayoutView",
            "align_content": null,
            "align_items": null,
            "align_self": null,
            "border": null,
            "bottom": null,
            "display": null,
            "flex": null,
            "flex_flow": null,
            "grid_area": null,
            "grid_auto_columns": null,
            "grid_auto_flow": null,
            "grid_auto_rows": null,
            "grid_column": null,
            "grid_gap": null,
            "grid_row": null,
            "grid_template_areas": null,
            "grid_template_columns": null,
            "grid_template_rows": null,
            "height": null,
            "justify_content": null,
            "justify_items": null,
            "left": null,
            "margin": null,
            "max_height": null,
            "max_width": null,
            "min_height": null,
            "min_width": null,
            "object_fit": null,
            "object_position": null,
            "order": null,
            "overflow": null,
            "overflow_x": null,
            "overflow_y": null,
            "padding": null,
            "right": null,
            "top": null,
            "visibility": null,
            "width": null
          }
        },
        "cbaf3d144a1d49659db838fabc1c1cce": {
          "model_module": "@jupyter-widgets/base",
          "model_module_version": "1.2.0",
          "model_name": "LayoutModel",
          "state": {
            "_model_module": "@jupyter-widgets/base",
            "_model_module_version": "1.2.0",
            "_model_name": "LayoutModel",
            "_view_count": null,
            "_view_module": "@jupyter-widgets/base",
            "_view_module_version": "1.2.0",
            "_view_name": "LayoutView",
            "align_content": null,
            "align_items": null,
            "align_self": null,
            "border": null,
            "bottom": null,
            "display": null,
            "flex": null,
            "flex_flow": null,
            "grid_area": null,
            "grid_auto_columns": null,
            "grid_auto_flow": null,
            "grid_auto_rows": null,
            "grid_column": null,
            "grid_gap": null,
            "grid_row": null,
            "grid_template_areas": null,
            "grid_template_columns": null,
            "grid_template_rows": null,
            "height": null,
            "justify_content": null,
            "justify_items": null,
            "left": null,
            "margin": null,
            "max_height": null,
            "max_width": null,
            "min_height": null,
            "min_width": null,
            "object_fit": null,
            "object_position": null,
            "order": null,
            "overflow": null,
            "overflow_x": null,
            "overflow_y": null,
            "padding": null,
            "right": null,
            "top": null,
            "visibility": null,
            "width": null
          }
        },
        "d548b95c3b624761af2626585cab300e": {
          "model_module": "@jupyter-widgets/controls",
          "model_module_version": "1.5.0",
          "model_name": "FloatProgressModel",
          "state": {
            "_dom_classes": [],
            "_model_module": "@jupyter-widgets/controls",
            "_model_module_version": "1.5.0",
            "_model_name": "FloatProgressModel",
            "_view_count": null,
            "_view_module": "@jupyter-widgets/controls",
            "_view_module_version": "1.5.0",
            "_view_name": "ProgressView",
            "bar_style": "success",
            "description": "",
            "description_tooltip": null,
            "layout": "IPY_MODEL_e374bb65d98a4e479c93ec7ea3fa96cb",
            "max": 20609,
            "min": 0,
            "orientation": "horizontal",
            "style": "IPY_MODEL_5a858d337f7049a4aaf96f0147a1acde",
            "value": 20609
          }
        },
        "d9f1dd8cc9d347a0995d41c23c1ee1be": {
          "model_module": "@jupyter-widgets/controls",
          "model_module_version": "1.5.0",
          "model_name": "ProgressStyleModel",
          "state": {
            "_model_module": "@jupyter-widgets/controls",
            "_model_module_version": "1.5.0",
            "_model_name": "ProgressStyleModel",
            "_view_count": null,
            "_view_module": "@jupyter-widgets/base",
            "_view_module_version": "1.2.0",
            "_view_name": "StyleView",
            "bar_color": null,
            "description_width": ""
          }
        },
        "e374bb65d98a4e479c93ec7ea3fa96cb": {
          "model_module": "@jupyter-widgets/base",
          "model_module_version": "1.2.0",
          "model_name": "LayoutModel",
          "state": {
            "_model_module": "@jupyter-widgets/base",
            "_model_module_version": "1.2.0",
            "_model_name": "LayoutModel",
            "_view_count": null,
            "_view_module": "@jupyter-widgets/base",
            "_view_module_version": "1.2.0",
            "_view_name": "LayoutView",
            "align_content": null,
            "align_items": null,
            "align_self": null,
            "border": null,
            "bottom": null,
            "display": null,
            "flex": null,
            "flex_flow": null,
            "grid_area": null,
            "grid_auto_columns": null,
            "grid_auto_flow": null,
            "grid_auto_rows": null,
            "grid_column": null,
            "grid_gap": null,
            "grid_row": null,
            "grid_template_areas": null,
            "grid_template_columns": null,
            "grid_template_rows": null,
            "height": null,
            "justify_content": null,
            "justify_items": null,
            "left": null,
            "margin": null,
            "max_height": null,
            "max_width": null,
            "min_height": null,
            "min_width": null,
            "object_fit": null,
            "object_position": null,
            "order": null,
            "overflow": null,
            "overflow_x": null,
            "overflow_y": null,
            "padding": null,
            "right": null,
            "top": null,
            "visibility": null,
            "width": null
          }
        }
      }
    }
  },
  "nbformat": 4,
  "nbformat_minor": 0
}