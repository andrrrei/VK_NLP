{
  "cells": [
    {
      "cell_type": "markdown",
      "id": "03e4cc2f",
      "metadata": {
        "id": "03e4cc2f"
      },
      "source": [
        "# Практика 1"
      ]
    },
    {
      "cell_type": "markdown",
      "id": "c2e5bf68",
      "metadata": {
        "id": "c2e5bf68"
      },
      "source": [
        "В этом задании необходимо будет разобраться в jupyter-ноутбуке по темам первой лекции, запустить / дописать пару строк кода и ответить на несложные вопросы. Цель ноутбука - показать базовые принципы работы с текстовыми эмбеддингами, построением задачи языкового моделирования и проблемой борьбы за уменьшение количество словаря / параметров в нейронных сетях.\n",
        "\n",
        "Также, этот код будет полезен в качестве основы для обучения собственных персональных ассистентов в рамках дополнительных заданий.\n",
        "\n",
        "Откуда брать ноутбук: https://github.com/dmkalash/mailru_llm_course/tree/main/Лекция%201.%20Введение%20в%20NLP"
      ]
    },
    {
      "cell_type": "markdown",
      "id": "ca3e1348",
      "metadata": {
        "id": "ca3e1348"
      },
      "source": [
        "Стоит учитывать, что в некоторых частях данного ноутбука я заведомо пожертвовал оптимальностью ради большей прозрачности кода и лучшего понимания базовых принципов работы с эмбеддингами и языковым моделированием. Как оптимизировать те или иные моменты, мы будем рассказывать в следующих лекциях и семинарах."
      ]
    },
    {
      "cell_type": "markdown",
      "id": "ef7e41b4",
      "metadata": {
        "id": "ef7e41b4"
      },
      "source": [
        "## Fasttext"
      ]
    },
    {
      "cell_type": "code",
      "source": [
        "!pip install datasets"
      ],
      "metadata": {
        "colab": {
          "base_uri": "https://localhost:8080/"
        },
        "id": "t8zapy8gFHoH",
        "outputId": "7bacdaf4-14e0-4088-c8ee-67db9bb43862"
      },
      "id": "t8zapy8gFHoH",
      "execution_count": null,
      "outputs": [
        {
          "output_type": "stream",
          "name": "stdout",
          "text": [
            "Collecting datasets\n",
            "  Downloading datasets-2.18.0-py3-none-any.whl (510 kB)\n",
            "\u001b[?25l     \u001b[90m━━━━━━━━━━━━━━━━━━━━━━━━━━━━━━━━━━━━━━━━\u001b[0m \u001b[32m0.0/510.5 kB\u001b[0m \u001b[31m?\u001b[0m eta \u001b[36m-:--:--\u001b[0m\r\u001b[2K     \u001b[91m━━━━━━━━━━━━━━━━━━━━━━━━━━\u001b[0m\u001b[90m╺\u001b[0m\u001b[90m━━━━━━━━━━━━━\u001b[0m \u001b[32m337.9/510.5 kB\u001b[0m \u001b[31m9.9 MB/s\u001b[0m eta \u001b[36m0:00:01\u001b[0m\r\u001b[2K     \u001b[90m━━━━━━━━━━━━━━━━━━━━━━━━━━━━━━━━━━━━━━━━\u001b[0m \u001b[32m510.5/510.5 kB\u001b[0m \u001b[31m11.3 MB/s\u001b[0m eta \u001b[36m0:00:00\u001b[0m\n",
            "\u001b[?25hRequirement already satisfied: filelock in /usr/local/lib/python3.10/dist-packages (from datasets) (3.13.1)\n",
            "Requirement already satisfied: numpy>=1.17 in /usr/local/lib/python3.10/dist-packages (from datasets) (1.25.2)\n",
            "Requirement already satisfied: pyarrow>=12.0.0 in /usr/local/lib/python3.10/dist-packages (from datasets) (14.0.2)\n",
            "Requirement already satisfied: pyarrow-hotfix in /usr/local/lib/python3.10/dist-packages (from datasets) (0.6)\n",
            "Collecting dill<0.3.9,>=0.3.0 (from datasets)\n",
            "  Downloading dill-0.3.8-py3-none-any.whl (116 kB)\n",
            "\u001b[2K     \u001b[90m━━━━━━━━━━━━━━━━━━━━━━━━━━━━━━━━━━━━━━━━\u001b[0m \u001b[32m116.3/116.3 kB\u001b[0m \u001b[31m20.1 MB/s\u001b[0m eta \u001b[36m0:00:00\u001b[0m\n",
            "\u001b[?25hRequirement already satisfied: pandas in /usr/local/lib/python3.10/dist-packages (from datasets) (1.5.3)\n",
            "Requirement already satisfied: requests>=2.19.0 in /usr/local/lib/python3.10/dist-packages (from datasets) (2.31.0)\n",
            "Requirement already satisfied: tqdm>=4.62.1 in /usr/local/lib/python3.10/dist-packages (from datasets) (4.66.2)\n",
            "Requirement already satisfied: xxhash in /usr/local/lib/python3.10/dist-packages (from datasets) (3.4.1)\n",
            "Collecting multiprocess (from datasets)\n",
            "  Downloading multiprocess-0.70.16-py310-none-any.whl (134 kB)\n",
            "\u001b[2K     \u001b[90m━━━━━━━━━━━━━━━━━━━━━━━━━━━━━━━━━━━━━━━━\u001b[0m \u001b[32m134.8/134.8 kB\u001b[0m \u001b[31m21.7 MB/s\u001b[0m eta \u001b[36m0:00:00\u001b[0m\n",
            "\u001b[?25hRequirement already satisfied: fsspec[http]<=2024.2.0,>=2023.1.0 in /usr/local/lib/python3.10/dist-packages (from datasets) (2023.6.0)\n",
            "Requirement already satisfied: aiohttp in /usr/local/lib/python3.10/dist-packages (from datasets) (3.9.3)\n",
            "Requirement already satisfied: huggingface-hub>=0.19.4 in /usr/local/lib/python3.10/dist-packages (from datasets) (0.20.3)\n",
            "Requirement already satisfied: packaging in /usr/local/lib/python3.10/dist-packages (from datasets) (23.2)\n",
            "Requirement already satisfied: pyyaml>=5.1 in /usr/local/lib/python3.10/dist-packages (from datasets) (6.0.1)\n",
            "Requirement already satisfied: aiosignal>=1.1.2 in /usr/local/lib/python3.10/dist-packages (from aiohttp->datasets) (1.3.1)\n",
            "Requirement already satisfied: attrs>=17.3.0 in /usr/local/lib/python3.10/dist-packages (from aiohttp->datasets) (23.2.0)\n",
            "Requirement already satisfied: frozenlist>=1.1.1 in /usr/local/lib/python3.10/dist-packages (from aiohttp->datasets) (1.4.1)\n",
            "Requirement already satisfied: multidict<7.0,>=4.5 in /usr/local/lib/python3.10/dist-packages (from aiohttp->datasets) (6.0.5)\n",
            "Requirement already satisfied: yarl<2.0,>=1.0 in /usr/local/lib/python3.10/dist-packages (from aiohttp->datasets) (1.9.4)\n",
            "Requirement already satisfied: async-timeout<5.0,>=4.0 in /usr/local/lib/python3.10/dist-packages (from aiohttp->datasets) (4.0.3)\n",
            "Requirement already satisfied: typing-extensions>=3.7.4.3 in /usr/local/lib/python3.10/dist-packages (from huggingface-hub>=0.19.4->datasets) (4.10.0)\n",
            "Requirement already satisfied: charset-normalizer<4,>=2 in /usr/local/lib/python3.10/dist-packages (from requests>=2.19.0->datasets) (3.3.2)\n",
            "Requirement already satisfied: idna<4,>=2.5 in /usr/local/lib/python3.10/dist-packages (from requests>=2.19.0->datasets) (3.6)\n",
            "Requirement already satisfied: urllib3<3,>=1.21.1 in /usr/local/lib/python3.10/dist-packages (from requests>=2.19.0->datasets) (2.0.7)\n",
            "Requirement already satisfied: certifi>=2017.4.17 in /usr/local/lib/python3.10/dist-packages (from requests>=2.19.0->datasets) (2024.2.2)\n",
            "Requirement already satisfied: python-dateutil>=2.8.1 in /usr/local/lib/python3.10/dist-packages (from pandas->datasets) (2.8.2)\n",
            "Requirement already satisfied: pytz>=2020.1 in /usr/local/lib/python3.10/dist-packages (from pandas->datasets) (2023.4)\n",
            "Requirement already satisfied: six>=1.5 in /usr/local/lib/python3.10/dist-packages (from python-dateutil>=2.8.1->pandas->datasets) (1.16.0)\n",
            "Installing collected packages: dill, multiprocess, datasets\n",
            "Successfully installed datasets-2.18.0 dill-0.3.8 multiprocess-0.70.16\n"
          ]
        }
      ]
    },
    {
      "cell_type": "markdown",
      "id": "c11cae06",
      "metadata": {
        "id": "c11cae06"
      },
      "source": [
        "Посмотрим, как работает векторная арифметика в подходе fasttext"
      ]
    },
    {
      "cell_type": "code",
      "execution_count": null,
      "id": "02c3d7be",
      "metadata": {
        "execution": {
          "iopub.execute_input": "2024-02-22T09:50:06.576739Z",
          "iopub.status.busy": "2024-02-22T09:50:06.576214Z",
          "iopub.status.idle": "2024-02-22T09:50:35.946713Z",
          "shell.execute_reply": "2024-02-22T09:50:35.945952Z",
          "shell.execute_reply.started": "2024-02-22T09:50:06.576693Z"
        },
        "id": "02c3d7be"
      },
      "outputs": [],
      "source": [
        "import re\n",
        "import pickle\n",
        "from itertools import chain\n",
        "from datetime import datetime\n",
        "from collections import defaultdict\n",
        "\n",
        "from typing import List, Dict, Optional, Iterable, Tuple\n",
        "\n",
        "from tqdm.notebook import tqdm\n",
        "import numpy as np\n",
        "import pandas as pd\n",
        "from datasets import load_dataset\n",
        "from sklearn.metrics.pairwise import cosine_similarity\n",
        "from sklearn.feature_extraction.text import CountVectorizer, TfidfVectorizer\n",
        "\n",
        "import torch\n",
        "from torch import nn\n",
        "from torch.utils.data import DataLoader\n",
        "from torch.utils.tensorboard import SummaryWriter\n",
        "\n",
        "import tokenizers\n",
        "from tokenizers import Tokenizer\n",
        "from tokenizers.pre_tokenizers import Whitespace\n",
        "from tokenizers.models import BPE\n",
        "from tokenizers.trainers import BpeTrainer\n",
        "from tokenizers.processors import TemplateProcessing"
      ]
    },
    {
      "cell_type": "markdown",
      "id": "cdd8b03d",
      "metadata": {
        "id": "cdd8b03d"
      },
      "source": [
        "## Датасет, с которым будем работать.\n",
        "\n",
        "Берем небольшое количество обучающих примеров, чтобы эксперименты можно было проводить быстро."
      ]
    },
    {
      "cell_type": "code",
      "execution_count": null,
      "id": "38bc9578",
      "metadata": {
        "execution": {
          "iopub.execute_input": "2024-02-21T14:50:37.191863Z",
          "iopub.status.busy": "2024-02-21T14:50:37.190428Z",
          "iopub.status.idle": "2024-02-21T14:50:37.205992Z",
          "shell.execute_reply": "2024-02-21T14:50:37.204512Z",
          "shell.execute_reply.started": "2024-02-21T14:50:37.191816Z"
        },
        "id": "38bc9578"
      },
      "outputs": [],
      "source": [
        "# ds_name_2 = 'IlyaGusev/stihi_ru'\n",
        "\n",
        "def get_dataset(train_size: int,\n",
        "                test_size: int,\n",
        "                ds_name_1: str = 'IlyaGusev/gazeta',\n",
        "               ):\n",
        "\n",
        "    train_dataset = load_dataset(ds_name_1, split='train')\n",
        "    test_dataset = load_dataset(ds_name_1, split='test')\n",
        "\n",
        "    train_df = pd.DataFrame(train_dataset).iloc[:train_size]\n",
        "    print(train_df.shape)\n",
        "\n",
        "    test_df = pd.DataFrame(test_dataset)[:test_size]\n",
        "    print(test_df.shape)\n",
        "\n",
        "    train_texts = (train_df['title'] + '\\n' + train_df['text']).tolist()\n",
        "    test_texts = (test_df['title'] + '\\n' + test_df['text']).tolist()\n",
        "\n",
        "    return train_texts, test_texts"
      ]
    },
    {
      "cell_type": "code",
      "execution_count": null,
      "id": "3b568bb1",
      "metadata": {
        "execution": {
          "iopub.execute_input": "2024-02-21T14:50:37.209349Z",
          "iopub.status.busy": "2024-02-21T14:50:37.207871Z",
          "iopub.status.idle": "2024-02-21T14:51:18.161828Z",
          "shell.execute_reply": "2024-02-21T14:51:18.160746Z",
          "shell.execute_reply.started": "2024-02-21T14:50:37.209314Z"
        },
        "colab": {
          "base_uri": "https://localhost:8080/",
          "height": 533,
          "referenced_widgets": [
            "f6c3e305724c44d6bf986f1956324641",
            "37f0bac825d74bb49b698b7b087bbbc2",
            "6d5a3703b5e4427496fdb35260e4c3f0",
            "6b913286dee24c6bb525afbb99cb4d13",
            "d81d18bd686e47409e9b57bf17fdfd52",
            "8c60a8c308c64b179e1e7c39f173b9a8",
            "8d5f946cd84c4f80b3ff05456edb99c1",
            "3ac19dd0e1154508b0e79a993c7e6b66",
            "1d1f4f6281ea489a9ef3cb9dcdb5e8bb",
            "1c956177c3944693ba483603b84fc13a",
            "1b7e5dfa869d47dabeac4e5906c5e39b",
            "a78d6710b4214318bb9e5831c680c22e",
            "d56c78a9cfca47ef80f64153efe2d066",
            "ad7efebadfba48a78d3e3612dcb39d8d",
            "18aaeb530ef54f6ab7b5918952875328",
            "00042e12c64c49379712ad18197d8274",
            "cf0a06b65bc149368230198f54bab435",
            "c9c9f5b9bf8947d49aa76bd876473b74",
            "fe33d1badc454409aaee1dba6b2b7b68",
            "b704241c189a44428fc7ee458fd680cb",
            "9c7d14f9796a4554846c082e5ddb8675",
            "ac29d39f257842b2a9444e4b9a4bd71a",
            "e52f64630d734d178ca1c0b0fb8d87cd",
            "edd0192fac37420390356895ac8ae040",
            "ab24584f91e14e728a536ebbe37251c9",
            "634e25d3c79f4db98436a151b42c97be",
            "be3fab8134b242e08d6b0bfcd9e3c995",
            "0fb74ee1a3084553adfa2cec4a84c7a7",
            "c3586005c41c426298176ae1bd479d02",
            "c940df6ca2d04c0ca5ba423110dafe42",
            "3d9b9e21f0de48629fe9b4dcda0703f2",
            "7d0a8b0ab81d49fda971943b702edb43",
            "8704e49c818f4a0a8f8f1fcde74b80b7",
            "ca4c610b297b4b608fe59d2617dc2e3c",
            "ad831c05e7ad48909f4ab51a23adcbf9",
            "93110649e9024ab8ac8a40b9d987d767",
            "09833cfaa5bb4f4e8bc3f7d9e3bf9024",
            "1472ad72f7de4062a220aa24857e1b40",
            "30f5c1203a3b42c4afeaaaa95b0ca0de",
            "e2452ec7821c440fb2fe1dcaeb828869",
            "1583878a642846799fccea9df62aafbc",
            "97866f5978834f7fb397fa00e4584b4a",
            "8ad95cc328ea41e8a8b9ea18fc57ed6c",
            "7648813fb0814c6bae9884ff69cb7556",
            "70ba0764fd97474eb8a182b4c31c56fb",
            "150879741dfe4849b8db464d356e20cd",
            "92281e506af3479fba3a052061d0f75b",
            "1f14762f2afb4cadb53542e0a6ba8197",
            "0e4f5add29164a3f8454a0bc83daafa7",
            "d16ab23dcaff4032a583e81d752ffbba",
            "774873f0db7d41c3b2eed463c8a9ab2e",
            "4bbe1e3577a349f0a9b302d0441512d6",
            "92520d052be84bf18a7c2615a254de24",
            "27d394fcd1b94779bca62f6ab2bffbcf",
            "d1e87026aaba4c14ab0d5b57674901bb",
            "e2ee50bb538b47cdbc73d6012275c7d9",
            "10a04da8d2324c0e8ab479deaf74f8f7",
            "0ffcede43bf848bd8f7a866587817328",
            "e35f0314dd06454dbc3b23be9ea7944e",
            "0d5688655ce24f2f9e7d0f8f679b431c",
            "51f8f2194c114372b7bcabe638c77625",
            "7f121fd4793e4a168987d9e5f5b61d62",
            "10b22ce3e90847cd8f4c3008a1c5b774",
            "fafadc88493a42cfae9523270506aaad",
            "7eb40ec900604d14a93f5747e3ca6909",
            "0c47ef75204d481db1628380dbcdadde",
            "7a76bfd95ac64d2e8db9937de51ff417",
            "e0b265fe25e146118808a7a13d199da4",
            "9c460c4a0f814a74ba2cfaaca369c9d1",
            "93beef1f60124d6ca9e98e2d83b32087",
            "49335f45b48743a9a3ebabd305838a52",
            "c44b643307bf4c1da5db02588664d890",
            "4fec3a236c564e12b38e40413d4cba11",
            "7f843a0f2b5d48e3bf71924fc70716ff",
            "d083973c742d461b8738044499c93946",
            "782a41608b084561a4cd6321e808b1e4",
            "0eeb6160cd4a45db8c3d05d48c6baef6",
            "d2fe985fb28746709424953aa8b53c24",
            "b869c496ea5c462a82e5cfcefd1db89e",
            "ff51a6df521c49a9959cd360f68a894c",
            "6977a9b9554c414daee4805bcf1aa4ba",
            "b5f3ccf290cd48768efdab60624ace76",
            "d4a20fe74101431cb7dc23c2ec4cd3a4",
            "e020cb320f244b76a8653121ae1f40d0",
            "e01299074453415ca82877ef075f300f",
            "4ee38bd20c814010b014c515e993ae95",
            "a859c2945110441886d9eea1cfa948d1",
            "9d8284955f5346d194a2c697fcf439d3",
            "d56310e2e77345bbb055d268160c5f79",
            "419ef7dc2b2f4c038d41bc792c5852eb",
            "62e23ffaae6047c392b554c824a9ac12",
            "fd3e5108e09849198c7a5f82405827ad",
            "2efbadb6a1bf4813b843122df3dc7dde",
            "958e1545df804f67882e65c9849c2659",
            "7cda92d6249e499394996ac51899be1d",
            "c2a13e3a774a4e5090a10998ddad5084",
            "c38332d3b2a94d91bea3d7c84ab85e61",
            "fac396dc8a874afeb487225ecae1f778",
            "02182fdfa2694799b4e3b4cebe0d71a8"
          ]
        },
        "id": "3b568bb1",
        "outputId": "2fb7a31a-063c-4fa5-d01a-9c28848be57e"
      },
      "outputs": [
        {
          "output_type": "stream",
          "name": "stderr",
          "text": [
            "/usr/local/lib/python3.10/dist-packages/huggingface_hub/utils/_token.py:88: UserWarning: \n",
            "The secret `HF_TOKEN` does not exist in your Colab secrets.\n",
            "To authenticate with the Hugging Face Hub, create a token in your settings tab (https://huggingface.co/settings/tokens), set it as secret in your Google Colab and restart your session.\n",
            "You will be able to reuse this secret in all of your notebooks.\n",
            "Please note that authentication is recommended but still optional to access public models or datasets.\n",
            "  warnings.warn(\n",
            "/usr/local/lib/python3.10/dist-packages/datasets/load.py:1461: FutureWarning: The repository for IlyaGusev/gazeta contains custom code which must be executed to correctly load the dataset. You can inspect the repository content at https://hf.co/datasets/IlyaGusev/gazeta\n",
            "You can avoid this message in future by passing the argument `trust_remote_code=True`.\n",
            "Passing `trust_remote_code=True` will be mandatory to load this dataset from the next major release of `datasets`.\n",
            "  warnings.warn(\n"
          ]
        },
        {
          "output_type": "display_data",
          "data": {
            "text/plain": [
              "Downloading builder script:   0%|          | 0.00/3.01k [00:00<?, ?B/s]"
            ],
            "application/vnd.jupyter.widget-view+json": {
              "version_major": 2,
              "version_minor": 0,
              "model_id": "f6c3e305724c44d6bf986f1956324641"
            }
          },
          "metadata": {}
        },
        {
          "output_type": "display_data",
          "data": {
            "text/plain": [
              "Downloading metadata:   0%|          | 0.00/2.05k [00:00<?, ?B/s]"
            ],
            "application/vnd.jupyter.widget-view+json": {
              "version_major": 2,
              "version_minor": 0,
              "model_id": "a78d6710b4214318bb9e5831c680c22e"
            }
          },
          "metadata": {}
        },
        {
          "output_type": "display_data",
          "data": {
            "text/plain": [
              "Downloading readme:   0%|          | 0.00/13.4k [00:00<?, ?B/s]"
            ],
            "application/vnd.jupyter.widget-view+json": {
              "version_major": 2,
              "version_minor": 0,
              "model_id": "e52f64630d734d178ca1c0b0fb8d87cd"
            }
          },
          "metadata": {}
        },
        {
          "output_type": "display_data",
          "data": {
            "text/plain": [
              "Downloading data:   0%|          | 0.00/550M [00:00<?, ?B/s]"
            ],
            "application/vnd.jupyter.widget-view+json": {
              "version_major": 2,
              "version_minor": 0,
              "model_id": "ca4c610b297b4b608fe59d2617dc2e3c"
            }
          },
          "metadata": {}
        },
        {
          "output_type": "display_data",
          "data": {
            "text/plain": [
              "Downloading data:   0%|          | 0.00/56.1M [00:00<?, ?B/s]"
            ],
            "application/vnd.jupyter.widget-view+json": {
              "version_major": 2,
              "version_minor": 0,
              "model_id": "70ba0764fd97474eb8a182b4c31c56fb"
            }
          },
          "metadata": {}
        },
        {
          "output_type": "display_data",
          "data": {
            "text/plain": [
              "Downloading data:   0%|          | 0.00/61.1M [00:00<?, ?B/s]"
            ],
            "application/vnd.jupyter.widget-view+json": {
              "version_major": 2,
              "version_minor": 0,
              "model_id": "e2ee50bb538b47cdbc73d6012275c7d9"
            }
          },
          "metadata": {}
        },
        {
          "output_type": "display_data",
          "data": {
            "text/plain": [
              "Generating train split:   0%|          | 0/60964 [00:00<?, ? examples/s]"
            ],
            "application/vnd.jupyter.widget-view+json": {
              "version_major": 2,
              "version_minor": 0,
              "model_id": "7a76bfd95ac64d2e8db9937de51ff417"
            }
          },
          "metadata": {}
        },
        {
          "output_type": "display_data",
          "data": {
            "text/plain": [
              "Generating test split:   0%|          | 0/6793 [00:00<?, ? examples/s]"
            ],
            "application/vnd.jupyter.widget-view+json": {
              "version_major": 2,
              "version_minor": 0,
              "model_id": "d2fe985fb28746709424953aa8b53c24"
            }
          },
          "metadata": {}
        },
        {
          "output_type": "display_data",
          "data": {
            "text/plain": [
              "Generating validation split:   0%|          | 0/6369 [00:00<?, ? examples/s]"
            ],
            "application/vnd.jupyter.widget-view+json": {
              "version_major": 2,
              "version_minor": 0,
              "model_id": "d56310e2e77345bbb055d268160c5f79"
            }
          },
          "metadata": {}
        },
        {
          "output_type": "stream",
          "name": "stdout",
          "text": [
            "(5000, 5)\n",
            "(500, 5)\n"
          ]
        }
      ],
      "source": [
        "train_texts, test_texts = get_dataset(5000, 500)\n",
        "all_texts = train_texts + test_texts"
      ]
    },
    {
      "cell_type": "markdown",
      "id": "1d8fae7c",
      "metadata": {
        "id": "1d8fae7c"
      },
      "source": [
        "## Fasttext"
      ]
    },
    {
      "cell_type": "markdown",
      "id": "99b66c54",
      "metadata": {
        "id": "99b66c54"
      },
      "source": [
        "Посмотрим, как получать эмбеддинги текстов с помощью fasttext, и как находить похожие тексты."
      ]
    },
    {
      "cell_type": "markdown",
      "id": "3ea0b5f2",
      "metadata": {
        "id": "3ea0b5f2"
      },
      "source": [
        "Эту часть задания советую выполнять локально на ноутбуке. В Kaggle-ноутбуке из-за интернета предобученный fasttext загружается слишком медленно"
      ]
    },
    {
      "cell_type": "code",
      "execution_count": null,
      "id": "54df1d9b",
      "metadata": {
        "colab": {
          "base_uri": "https://localhost:8080/"
        },
        "id": "54df1d9b",
        "outputId": "066cdb35-0a70-4d08-f4d3-42cafbb9cfe6"
      },
      "outputs": [
        {
          "output_type": "stream",
          "name": "stdout",
          "text": [
            "Collecting fasttext==0.9.2\n",
            "  Downloading fasttext-0.9.2.tar.gz (68 kB)\n",
            "\u001b[?25l     \u001b[90m━━━━━━━━━━━━━━━━━━━━━━━━━━━━━━━━━━━━━━━━\u001b[0m \u001b[32m0.0/68.8 kB\u001b[0m \u001b[31m?\u001b[0m eta \u001b[36m-:--:--\u001b[0m\r\u001b[2K     \u001b[90m━━━━━━━━━━━━━━━━━━━━━━━━━━━━━━━━━━━━━━━━\u001b[0m \u001b[32m68.8/68.8 kB\u001b[0m \u001b[31m3.1 MB/s\u001b[0m eta \u001b[36m0:00:00\u001b[0m\n",
            "\u001b[?25h  Preparing metadata (setup.py) ... \u001b[?25l\u001b[?25hdone\n",
            "Collecting pybind11>=2.2 (from fasttext==0.9.2)\n",
            "  Using cached pybind11-2.11.1-py3-none-any.whl (227 kB)\n",
            "Requirement already satisfied: setuptools>=0.7.0 in /usr/local/lib/python3.10/dist-packages (from fasttext==0.9.2) (67.7.2)\n",
            "Requirement already satisfied: numpy in /usr/local/lib/python3.10/dist-packages (from fasttext==0.9.2) (1.25.2)\n",
            "Building wheels for collected packages: fasttext\n",
            "  Building wheel for fasttext (setup.py) ... \u001b[?25l\u001b[?25hdone\n",
            "  Created wheel for fasttext: filename=fasttext-0.9.2-cp310-cp310-linux_x86_64.whl size=4199773 sha256=0c5ac39e7faf423ef5a24887a9fb62024c36cae6e98919ca39f9173b9e03c5ca\n",
            "  Stored in directory: /root/.cache/pip/wheels/a5/13/75/f811c84a8ab36eedbaef977a6a58a98990e8e0f1967f98f394\n",
            "Successfully built fasttext\n",
            "Installing collected packages: pybind11, fasttext\n",
            "Successfully installed fasttext-0.9.2 pybind11-2.11.1\n"
          ]
        }
      ],
      "source": [
        "!pip install fasttext==0.9.2\n",
        "\n",
        "import fasttext.util"
      ]
    },
    {
      "cell_type": "code",
      "execution_count": null,
      "id": "589b0f89",
      "metadata": {
        "scrolled": true,
        "colab": {
          "base_uri": "https://localhost:8080/",
          "height": 70
        },
        "id": "589b0f89",
        "outputId": "aba1146b-d8dc-4c88-c1a5-bffaf86b0c20"
      },
      "outputs": [
        {
          "output_type": "stream",
          "name": "stdout",
          "text": [
            "Downloading https://dl.fbaipublicfiles.com/fasttext/vectors-crawl/cc.ru.300.bin.gz\n",
            "\n"
          ]
        },
        {
          "output_type": "execute_result",
          "data": {
            "text/plain": [
              "'cc.ru.300.bin'"
            ],
            "application/vnd.google.colaboratory.intrinsic+json": {
              "type": "string"
            }
          },
          "metadata": {},
          "execution_count": 7
        }
      ],
      "source": [
        "fasttext.util.download_model('ru', if_exists='ignore')  # Russian"
      ]
    },
    {
      "cell_type": "code",
      "execution_count": null,
      "id": "3f3f3859",
      "metadata": {
        "colab": {
          "base_uri": "https://localhost:8080/"
        },
        "id": "3f3f3859",
        "outputId": "a1cb8143-f407-4792-c800-87bd2172c8b5"
      },
      "outputs": [
        {
          "output_type": "stream",
          "name": "stderr",
          "text": [
            "Warning : `load_model` does not return WordVectorModel or SupervisedModel any more, but a `FastText` object which is very similar.\n"
          ]
        }
      ],
      "source": [
        "ft = fasttext.load_model('cc.ru.300.bin')"
      ]
    },
    {
      "cell_type": "code",
      "execution_count": null,
      "id": "3fc6fcde",
      "metadata": {
        "colab": {
          "base_uri": "https://localhost:8080/"
        },
        "id": "3fc6fcde",
        "outputId": "3625687c-da0f-42ee-94e8-519c6c449ba6"
      },
      "outputs": [
        {
          "output_type": "stream",
          "name": "stdout",
          "text": [
            "«Чикаго» в шаге от Кубка Стэнли\n",
            "После двух поражений в Чикаго «летчикам» на своей площадке удалось отыграться, так что пятого матча все ждали с нетерпением. Его победитель заметно повышал свои шансы н \n",
            "\n",
            "«Будут бить, если что»\n",
            "В ночь на понедельник резко обострилась ситуация в Кадашах, где уже третью неделю идет акция в защиту исторического наследия города. Как сообщил координатор «Московского совета» \n",
            "\n"
          ]
        }
      ],
      "source": [
        "anchor_ind = 120\n",
        "print(train_texts[anchor_ind][:200], '\\n')\n",
        "print(train_texts[anchor_ind + 3][:200], '\\n')"
      ]
    },
    {
      "cell_type": "markdown",
      "id": "3e9ccdff",
      "metadata": {
        "id": "3e9ccdff"
      },
      "source": [
        "Для нахождения похожих текстов по векторам как правило используют косинусную близость, ее можно реализовать самому, можно воспользоваться готовой реализацией"
      ]
    },
    {
      "cell_type": "code",
      "execution_count": null,
      "id": "fd0a8d24",
      "metadata": {
        "colab": {
          "base_uri": "https://localhost:8080/"
        },
        "id": "fd0a8d24",
        "outputId": "e4bc69e3-8a6a-47fe-8d9c-c9b34268359e"
      },
      "outputs": [
        {
          "output_type": "stream",
          "name": "stdout",
          "text": [
            "0.9070907876494412\n",
            "0.90709066\n"
          ]
        }
      ],
      "source": [
        "v1 = ft.get_sentence_vector(train_texts[anchor_ind].replace('\\n', ' '))\n",
        "v2 = ft.get_sentence_vector(train_texts[anchor_ind + 3].replace('\\n', ' '))\n",
        "\n",
        "# K(X, Y) = <X, Y> / (||X||*||Y||)\n",
        "\n",
        "print( (v1 * v2).sum() / (v1 ** 2).sum() ** 0.5 / (v2 ** 2).sum() ** 0.5 )\n",
        "print( cosine_similarity(v1.reshape(1, -1), v2.reshape(1, -1))[0][0] )"
      ]
    },
    {
      "cell_type": "markdown",
      "id": "c4ee5f6a",
      "metadata": {
        "id": "c4ee5f6a"
      },
      "source": [
        "#### >>> Задание 1\n",
        "\n",
        "Найдите в корпусе тренировочных текстов train_texts текст, наиболее похожий по косинусному расстоянию на train_texts[anchor_ind], где anchor_ind=120. В качестве ответа выведите похожесть данных текстов (число напротив \"Похожесть:\")\n",
        "\n",
        "Для всех текстов используйте единственную нормализацию как в примере выше: .replace('\\n', ' ')"
      ]
    },
    {
      "cell_type": "code",
      "execution_count": null,
      "id": "eef19bff",
      "metadata": {
        "colab": {
          "base_uri": "https://localhost:8080/"
        },
        "id": "eef19bff",
        "outputId": "45d82038-5986-4fe0-a5e3-6d05efaffcc2"
      },
      "outputs": [
        {
          "output_type": "stream",
          "name": "stdout",
          "text": [
            "Номер текста 255 \n",
            " Похожесть:  0.92 \n",
            " Текст:  «Брешия» вернулась в элиту\n",
            "Вряд ли можно было предсказать обладателя последней путевки в серию А после первого финального матча. Ведь даже нулевая ничья в Турине не давала преимущества ни одной из команд. К слову, в нынешнем сезоне «бьянкоадзурри» уже обыгрывали «Торино» на своем поле (1:0). На пути\n"
          ]
        }
      ],
      "source": [
        "anchor_ind = 120\n",
        "need_length = 300\n",
        "\n",
        "v1 = ft.get_sentence_vector(train_texts[anchor_ind][:need_length].replace('\\n', ' '))\n",
        "\n",
        "max_similarity = 0\n",
        "for i in range(len(train_texts)):\n",
        "  if i != anchor_ind:\n",
        "    v2 = ft.get_sentence_vector(train_texts[i][:need_length].replace('\\n', ' '))\n",
        "    similarity = cosine_similarity(v1.reshape(1, -1), v2.reshape(1, -1))[0][0]\n",
        "    if (similarity > max_similarity):\n",
        "      max_similarity = similarity\n",
        "      max_ind = i\n",
        "\n",
        "max_sim_text = train_texts[max_ind][:need_length]\n",
        "\n",
        "print(\n",
        "    'Номер текста', max_ind, '\\n',\n",
        "    'Похожесть: ', round(max_similarity, 3), '\\n',\n",
        "    'Текст: ', max_sim_text[:need_length]\n",
        ")"
      ]
    },
    {
      "cell_type": "markdown",
      "id": "2d97d8fb",
      "metadata": {
        "id": "2d97d8fb"
      },
      "source": [
        "В качестве ответа укажите выведенную похожесть в коде выше с той же точностью. Например: 0.395"
      ]
    },
    {
      "cell_type": "markdown",
      "id": "7fd41118",
      "metadata": {
        "execution": {
          "iopub.execute_input": "2024-02-22T09:57:53.280890Z",
          "iopub.status.busy": "2024-02-22T09:57:53.279793Z",
          "iopub.status.idle": "2024-02-22T09:57:53.287397Z",
          "shell.execute_reply": "2024-02-22T09:57:53.286293Z",
          "shell.execute_reply.started": "2024-02-22T09:57:53.280855Z"
        },
        "id": "7fd41118"
      },
      "source": [
        "Как мы видим, оба текста про спорт, пусть и содержат различную семантику. Если взять anchor_ind=12, то можно обнаружить в датасете дубликат - этого стоит избегать при обучении моделей"
      ]
    },
    {
      "cell_type": "markdown",
      "id": "fb54eb2c",
      "metadata": {
        "id": "fb54eb2c"
      },
      "source": [
        "## LM на основе n-грамм"
      ]
    },
    {
      "cell_type": "markdown",
      "id": "f3e9d081",
      "metadata": {
        "id": "f3e9d081"
      },
      "source": [
        "### 1 этап - предобработка"
      ]
    },
    {
      "cell_type": "markdown",
      "id": "e5bdb12d",
      "metadata": {
        "id": "e5bdb12d"
      },
      "source": [
        "В качестве предобработки сделаем следующее:\n",
        "* приведем все тексты к нижнему регистру\n",
        "* унифицируем все пробельные символы\n",
        "\n",
        "Напишите код для приведения всех слов в тексте к нижнему регистру в методе text_preprocess ниже"
      ]
    },
    {
      "cell_type": "markdown",
      "id": "90584576",
      "metadata": {
        "id": "90584576"
      },
      "source": [
        "### 2 этап - токенизация, составление словаря"
      ]
    },
    {
      "cell_type": "markdown",
      "id": "07845f24",
      "metadata": {
        "id": "07845f24"
      },
      "source": [
        "Выделим все слова в корпусе с помощью регекса, а также добавим туда базовые знаки пунктуации и пробел"
      ]
    },
    {
      "cell_type": "code",
      "execution_count": null,
      "id": "b0fca8ba",
      "metadata": {
        "execution": {
          "iopub.execute_input": "2024-02-21T15:03:11.789756Z",
          "iopub.status.busy": "2024-02-21T15:03:11.788899Z",
          "iopub.status.idle": "2024-02-21T15:03:11.808584Z",
          "shell.execute_reply": "2024-02-21T15:03:11.807519Z",
          "shell.execute_reply.started": "2024-02-21T15:03:11.789725Z"
        },
        "id": "b0fca8ba"
      },
      "outputs": [],
      "source": [
        "class Tokenizer:\n",
        "    def __init__(self,\n",
        "                 token_pattern: str = '\\w+|[\\!\\?\\,\\.\\-\\:]',\n",
        "                 eos_token: str = '<EOS>',\n",
        "                 pad_token: str = '<PAD>',\n",
        "                 unk_token: str = '<UNK>'):\n",
        "        self.token_pattern = token_pattern\n",
        "        self.eos_token = eos_token\n",
        "        self.pad_token = pad_token\n",
        "        self.unk_token = unk_token\n",
        "\n",
        "        self.special_tokens = [self.eos_token, self.pad_token, self.unk_token]\n",
        "        self.vocab = None\n",
        "        self.inverse_vocab = None\n",
        "\n",
        "    def text_preprocess(self, input_text: str) -> str:\n",
        "        \"\"\" Предобрабатываем один текст \"\"\"\n",
        "        input_text = input_text.lower() # приведение к нижнему регистру\n",
        "        input_text = re.sub('\\s+', ' ', input_text) # унифицируем пробелы\n",
        "        input_text = input_text.strip()\n",
        "        return input_text\n",
        "\n",
        "    def build_vocab(self, corpus: List[str]) -> None:\n",
        "        assert len(corpus)\n",
        "        all_tokens = set()\n",
        "        for text in corpus:\n",
        "            all_tokens |= set(self._tokenize(text, append_eos_token=False))\n",
        "        self.vocab = {elem: ind for ind, elem in enumerate(all_tokens)}\n",
        "        special_tokens = [self.eos_token, self.unk_token, self.pad_token]\n",
        "        for token in special_tokens:\n",
        "            self.vocab[token] = len(self.vocab) + 1\n",
        "        self.inverse_vocab = {ind: elem for elem, ind in self.vocab.items()}\n",
        "        return self\n",
        "\n",
        "    def _tokenize(self, text: str, append_eos_token: bool = True) -> List[str]:\n",
        "        text = self.text_preprocess(text)\n",
        "        tokens = re.findall(self.token_pattern, text)\n",
        "        if append_eos_token:\n",
        "            tokens.append(self.eos_token)\n",
        "        return tokens\n",
        "\n",
        "    def encode(self, text: str, append_eos_token: bool = True) -> List[str]:\n",
        "        \"\"\" Токенизируем текст \"\"\"\n",
        "        tokens = self._tokenize(text, append_eos_token)\n",
        "        ids = [self.vocab.get(token, self.vocab[self.unk_token]) for token in tokens]\n",
        "        return ids\n",
        "\n",
        "    def decode(self, input_ids: Iterable[int], remove_special_tokens: bool = False) -> str:\n",
        "        assert len(input_ids)\n",
        "        assert max(input_ids) < len(self.vocab) and min(input_ids) >= 0\n",
        "        tokens = []\n",
        "        for ind in input_ids:\n",
        "            token = self.inverse_vocab[ind]\n",
        "            if remove_special_tokens and token in self.special_tokens:\n",
        "                continue\n",
        "            tokens.append(token)\n",
        "        text = ' '.join( tokens )\n",
        "        return text"
      ]
    },
    {
      "cell_type": "code",
      "execution_count": null,
      "id": "8f19c35c",
      "metadata": {
        "execution": {
          "iopub.execute_input": "2024-02-21T15:03:14.208673Z",
          "iopub.status.busy": "2024-02-21T15:03:14.208003Z",
          "iopub.status.idle": "2024-02-21T15:03:14.213372Z",
          "shell.execute_reply": "2024-02-21T15:03:14.212422Z",
          "shell.execute_reply.started": "2024-02-21T15:03:14.208640Z"
        },
        "id": "8f19c35c"
      },
      "outputs": [],
      "source": [
        "tokenizer = Tokenizer().build_vocab(['вот такие прироги и ничего больше', '! ? . '])"
      ]
    },
    {
      "cell_type": "code",
      "execution_count": null,
      "id": "ad57eb7a",
      "metadata": {
        "execution": {
          "iopub.execute_input": "2024-02-21T15:03:15.781116Z",
          "iopub.status.busy": "2024-02-21T15:03:15.780372Z",
          "iopub.status.idle": "2024-02-21T15:03:15.787896Z",
          "shell.execute_reply": "2024-02-21T15:03:15.787061Z",
          "shell.execute_reply.started": "2024-02-21T15:03:15.781081Z"
        },
        "colab": {
          "base_uri": "https://localhost:8080/"
        },
        "id": "ad57eb7a",
        "outputId": "4ff86160-0273-4682-8293-e86e38378629"
      },
      "outputs": [
        {
          "output_type": "execute_result",
          "data": {
            "text/plain": [
              "{'вот': 0,\n",
              " 'прироги': 1,\n",
              " '!': 2,\n",
              " 'ничего': 3,\n",
              " '?': 4,\n",
              " 'и': 5,\n",
              " 'такие': 6,\n",
              " 'больше': 7,\n",
              " '.': 8,\n",
              " '<EOS>': 10,\n",
              " '<UNK>': 11,\n",
              " '<PAD>': 12}"
            ]
          },
          "metadata": {},
          "execution_count": 8
        }
      ],
      "source": [
        "tokenizer.vocab"
      ]
    },
    {
      "cell_type": "code",
      "execution_count": null,
      "id": "69597a58",
      "metadata": {
        "id": "69597a58"
      },
      "outputs": [],
      "source": [
        "text = 'вот такие пироги!'"
      ]
    },
    {
      "cell_type": "code",
      "execution_count": null,
      "id": "998879fb",
      "metadata": {
        "execution": {
          "iopub.execute_input": "2024-02-21T15:03:17.513966Z",
          "iopub.status.busy": "2024-02-21T15:03:17.513587Z",
          "iopub.status.idle": "2024-02-21T15:03:17.520422Z",
          "shell.execute_reply": "2024-02-21T15:03:17.519488Z",
          "shell.execute_reply.started": "2024-02-21T15:03:17.513937Z"
        },
        "colab": {
          "base_uri": "https://localhost:8080/"
        },
        "id": "998879fb",
        "outputId": "c353c008-9737-48d3-92e1-ff5c724fb66a"
      },
      "outputs": [
        {
          "output_type": "execute_result",
          "data": {
            "text/plain": [
              "[0, 6, 11, 2, 10]"
            ]
          },
          "metadata": {},
          "execution_count": 10
        }
      ],
      "source": [
        "tokenizer.encode(text)"
      ]
    },
    {
      "cell_type": "code",
      "execution_count": null,
      "id": "a081e096",
      "metadata": {
        "execution": {
          "iopub.execute_input": "2024-02-21T15:03:17.744830Z",
          "iopub.status.busy": "2024-02-21T15:03:17.744433Z",
          "iopub.status.idle": "2024-02-21T15:03:17.751247Z",
          "shell.execute_reply": "2024-02-21T15:03:17.750269Z",
          "shell.execute_reply.started": "2024-02-21T15:03:17.744801Z"
        },
        "colab": {
          "base_uri": "https://localhost:8080/"
        },
        "id": "a081e096",
        "outputId": "9b4dc78f-3957-400a-da7f-e1b8b64479f4"
      },
      "outputs": [
        {
          "output_type": "execute_result",
          "data": {
            "text/plain": [
              "['вот', 'такие', 'пироги', '!']"
            ]
          },
          "metadata": {},
          "execution_count": 11
        }
      ],
      "source": [
        "tokenizer._tokenize(text, append_eos_token=False)"
      ]
    },
    {
      "cell_type": "code",
      "execution_count": null,
      "id": "99f60ffc",
      "metadata": {
        "execution": {
          "iopub.execute_input": "2024-02-21T15:03:19.193337Z",
          "iopub.status.busy": "2024-02-21T15:03:19.192389Z",
          "iopub.status.idle": "2024-02-21T15:03:19.199497Z",
          "shell.execute_reply": "2024-02-21T15:03:19.198313Z",
          "shell.execute_reply.started": "2024-02-21T15:03:19.193304Z"
        },
        "colab": {
          "base_uri": "https://localhost:8080/",
          "height": 35
        },
        "id": "99f60ffc",
        "outputId": "fc612ce6-3c1e-48fe-9821-547eb9fe4fca"
      },
      "outputs": [
        {
          "output_type": "execute_result",
          "data": {
            "text/plain": [
              "'вот такие <UNK> ! <EOS>'"
            ],
            "application/vnd.google.colaboratory.intrinsic+json": {
              "type": "string"
            }
          },
          "metadata": {},
          "execution_count": 12
        }
      ],
      "source": [
        "tokenizer.decode(tokenizer.encode(text), remove_special_tokens=False)"
      ]
    },
    {
      "cell_type": "code",
      "execution_count": null,
      "id": "60100d12",
      "metadata": {
        "execution": {
          "iopub.execute_input": "2024-02-21T15:03:19.450225Z",
          "iopub.status.busy": "2024-02-21T15:03:19.449945Z",
          "iopub.status.idle": "2024-02-21T15:03:19.456301Z",
          "shell.execute_reply": "2024-02-21T15:03:19.455272Z",
          "shell.execute_reply.started": "2024-02-21T15:03:19.450202Z"
        },
        "colab": {
          "base_uri": "https://localhost:8080/",
          "height": 35
        },
        "id": "60100d12",
        "outputId": "7fec18c0-bdb1-4cbf-ce56-09f0d0af6ab9"
      },
      "outputs": [
        {
          "output_type": "execute_result",
          "data": {
            "text/plain": [
              "'вот такие !'"
            ],
            "application/vnd.google.colaboratory.intrinsic+json": {
              "type": "string"
            }
          },
          "metadata": {},
          "execution_count": 13
        }
      ],
      "source": [
        "tokenizer.decode(tokenizer.encode(text), remove_special_tokens=True)"
      ]
    },
    {
      "cell_type": "markdown",
      "id": "d8c3c14c",
      "metadata": {
        "id": "d8c3c14c"
      },
      "source": [
        "### 3 этап - LM на основе n-грамм"
      ]
    },
    {
      "cell_type": "markdown",
      "id": "1b28efcd",
      "metadata": {
        "id": "1b28efcd"
      },
      "source": [
        "Напишем класс, который будет делать языковое моделирование на основе n-грамм. Изучите код, посмотрите какие функции здесь за что отвечают.\n",
        "\n",
        "На лекции обсуждали сглаживание Лапласа для этой модели. В методе _ get_next_token определяются статистики для рассматриваемых n-грамм. В этом коде отсутствует сглаживание Лапласа. Добавьте его, согласно формуле из презентации.\n",
        "\n",
        "К слову, если этого не сделать, то генерация будет завершаться с ошибкой - тк статистики по некоторым текстам нет, будем делить на ноль."
      ]
    },
    {
      "cell_type": "code",
      "execution_count": null,
      "id": "98b2b9c2",
      "metadata": {
        "execution": {
          "iopub.execute_input": "2024-02-21T15:03:21.268282Z",
          "iopub.status.busy": "2024-02-21T15:03:21.267567Z",
          "iopub.status.idle": "2024-02-21T15:03:21.292501Z",
          "shell.execute_reply": "2024-02-21T15:03:21.291323Z",
          "shell.execute_reply.started": "2024-02-21T15:03:21.268251Z"
        },
        "id": "98b2b9c2"
      },
      "outputs": [],
      "source": [
        "np.random.seed(42)\n",
        "\n",
        "\n",
        "class StatLM:\n",
        "    def __init__(self,\n",
        "                 #vocab: Dict[str, int],\n",
        "                 tokenizer: Tokenizer,\n",
        "                 context_size: int = 2,\n",
        "                 alpha: float = 0.1,\n",
        "                 sample_top_p: Optional[float] = None\n",
        "                ):\n",
        "\n",
        "        assert context_size >= 2\n",
        "        assert sample_top_p is None or 0.0 < sample_top_p <= 1.0\n",
        "\n",
        "        self.context_size = context_size\n",
        "        self.tokenizer = tokenizer\n",
        "        self.alpha = alpha\n",
        "        self.sample_top_p = sample_top_p\n",
        "\n",
        "        self.n_gramms_stat = defaultdict(int)\n",
        "        self.nx_gramms_stat = defaultdict(int)\n",
        "\n",
        "    def get_token_by_ind(self, ind: int) -> str:\n",
        "        return self.tokenizer.vocab.get(ind)\n",
        "\n",
        "    def get_ind_by_token(self, token: str) -> int:\n",
        "        return self.tokenizer.inverse_vocab.get(token, self.tokenizer.inverse_vocab[self.unk_token])\n",
        "\n",
        "    #def train(self, train_token_indices: List[List[int]]):\n",
        "    def train(self, train_texts: List[str]):\n",
        "        for sentence in tqdm(train_texts, desc='train lines'):\n",
        "            sentence_ind = self.tokenizer.encode(sentence)\n",
        "            for i in range(len(sentence_ind) - self.context_size):\n",
        "\n",
        "                seq = tuple(sentence_ind[i: i + self.context_size - 1])\n",
        "                self.n_gramms_stat[seq] += 1\n",
        "\n",
        "                seq_x = tuple(sentence_ind[i: i + self.context_size])\n",
        "                self.nx_gramms_stat[seq_x] += 1\n",
        "\n",
        "            seq = tuple(sentence_ind[len(sentence_ind) - self.context_size:])\n",
        "            self.n_gramms_stat[seq] += 1\n",
        "\n",
        "    def sample_token(self, token_distribution: np.ndarray) -> int:\n",
        "        if self.sample_top_p is None:\n",
        "            return token_distribution.argmax()\n",
        "        else:\n",
        "            token_distribution = sorted(list(zip(token_distribution, np.arange(len(token_distribution)))))\n",
        "            total_proba = 0.0\n",
        "            tokens_to_sample = []\n",
        "            tokens_probas = []\n",
        "            for token_proba, ind in sorted(token_distribution, reverse=True):\n",
        "                tokens_to_sample.append(ind)\n",
        "                tokens_probas.append(token_proba)\n",
        "                total_proba += token_proba\n",
        "                if total_proba >= self.sample_top_p:\n",
        "                    break\n",
        "            # для простоты отнормируем вероятности, чтобы суммировались в единицу\n",
        "            tokens_probas = np.array(tokens_probas)\n",
        "            tokens_probas = tokens_probas / tokens_probas.sum()\n",
        "            return np.random.choice(tokens_to_sample, p=tokens_probas)\n",
        "\n",
        "    def get_stat(self) -> Dict[str, Dict]:\n",
        "\n",
        "        n_token_stat, nx_token_stat = {}, {}\n",
        "        for token_inds, count in self.n_gramms_stat.items():\n",
        "            n_token_stat[self.tokenizer.decode(token_inds)] = count\n",
        "\n",
        "        for token_inds, count in self.nx_gramms_stat.items():\n",
        "            nx_token_stat[self.tokenizer.decode(token_inds)] = count\n",
        "\n",
        "        return {\n",
        "            'n gramms stat': self.n_gramms_stat,\n",
        "            'n+1 gramms stat': self.nx_gramms_stat,\n",
        "            'n tokens stat': n_token_stat,\n",
        "            'n+1 tokens stat': nx_token_stat,\n",
        "        }\n",
        "\n",
        "    def _get_next_token(self, tokens: List[int]) -> (int, str):\n",
        "        denominator = self.n_gramms_stat.get(tuple(tokens), 0) + self.alpha * len(self.tokenizer.vocab) # TODO: сглаживание Лапласа\n",
        "        numerators = []\n",
        "        for ind in self.tokenizer.inverse_vocab:\n",
        "            numerators.append(self.nx_gramms_stat.get(tuple(tokens + [ind]), 0) + self.alpha) # TODO: сглаживание Лапласа\n",
        "\n",
        "        token_distribution = np.array(numerators) / denominator\n",
        "        max_proba_ind = self.sample_token(token_distribution)\n",
        "\n",
        "        next_token = self.tokenizer.inverse_vocab[max_proba_ind]\n",
        "\n",
        "        return max_proba_ind, next_token\n",
        "\n",
        "    def generate_token(self, text: str, remove_special_tokens: bool = False) -> Dict:\n",
        "        tokens = self.tokenizer.encode(text, append_eos_token=False)\n",
        "        tokens = tokens[-self.context_size + 1:]\n",
        "\n",
        "        max_proba_ind, next_token = self._get_next_token(tokens)\n",
        "\n",
        "        return {\n",
        "            'next_token': next_token,\n",
        "            'next_token_num': max_proba_ind,\n",
        "        }\n",
        "\n",
        "\n",
        "    def generate_text(self, text: str, max_tokens: int, remove_special_tokens: bool = False) -> Dict:\n",
        "        all_tokens = self.tokenizer.encode(text, append_eos_token=False)\n",
        "        tokens = all_tokens[-self.context_size + 1:]\n",
        "\n",
        "        next_token = None\n",
        "        while next_token != self.tokenizer.eos_token and len(all_tokens) < max_tokens:\n",
        "            max_proba_ind, next_token = self._get_next_token(tokens)\n",
        "            all_tokens.append(max_proba_ind)\n",
        "            tokens = all_tokens[-self.context_size + 1:]\n",
        "\n",
        "        new_text = self.tokenizer.decode(all_tokens, remove_special_tokens)\n",
        "\n",
        "        finish_reason = 'max tokens'\n",
        "        if all_tokens[-1] == self.tokenizer.vocab[self.tokenizer.eos_token]:\n",
        "            finish_reason = 'end of text'\n",
        "\n",
        "        return {\n",
        "            'all_tokens': all_tokens,\n",
        "            'total_text': new_text,\n",
        "            'finish_reason': finish_reason\n",
        "        }"
      ]
    },
    {
      "cell_type": "markdown",
      "id": "32c61610",
      "metadata": {
        "id": "32c61610"
      },
      "source": [
        "Для демонстрации того, что происходит, возьмем несколько коротких цитат Джейсона Стэтхема отсюда:\n",
        "\n",
        "https://dzen.ru/a/ZRFaGN_gKhX6xTWW"
      ]
    },
    {
      "cell_type": "code",
      "execution_count": null,
      "id": "47096863",
      "metadata": {
        "execution": {
          "iopub.execute_input": "2024-02-21T15:03:23.642385Z",
          "iopub.status.busy": "2024-02-21T15:03:23.641563Z",
          "iopub.status.idle": "2024-02-21T15:03:23.647640Z",
          "shell.execute_reply": "2024-02-21T15:03:23.646711Z",
          "shell.execute_reply.started": "2024-02-21T15:03:23.642338Z"
        },
        "id": "47096863"
      },
      "outputs": [],
      "source": [
        "texts = [\n",
        "    'Взял нож - режь, взял дошик - ешь.',\n",
        "    'Никогда не сдавайтесь, идите к своей цели! А если будет сложно – сдавайтесь.',\n",
        "    'Запомни: всего одна ошибка – и ты ошибся.',\n",
        "    'В жизни всегда есть две дороги: одна — первая, а другая — вторая.',\n",
        "    'Делай, как надо. Как не надо, не делай.',\n",
        "    'Работа не волк. Никто не волк. Только волк волк.',\n",
        "    'Работа не волк. Работа - ворк. А волк - это ходить.',\n",
        "    'Работа',\n",
        "    ]\n",
        "\n",
        "train_texts = texts[:-1]\n",
        "test_text = texts[-1]"
      ]
    },
    {
      "cell_type": "code",
      "execution_count": null,
      "id": "76543c20",
      "metadata": {
        "execution": {
          "iopub.execute_input": "2024-02-21T15:03:25.218697Z",
          "iopub.status.busy": "2024-02-21T15:03:25.218225Z",
          "iopub.status.idle": "2024-02-21T15:03:25.223271Z",
          "shell.execute_reply": "2024-02-21T15:03:25.222261Z",
          "shell.execute_reply.started": "2024-02-21T15:03:25.218665Z"
        },
        "id": "76543c20"
      },
      "outputs": [],
      "source": [
        "tokenizer = Tokenizer().build_vocab(train_texts)"
      ]
    },
    {
      "cell_type": "code",
      "execution_count": null,
      "id": "bd1649ce",
      "metadata": {
        "execution": {
          "iopub.execute_input": "2024-02-21T15:03:25.398291Z",
          "iopub.status.busy": "2024-02-21T15:03:25.397981Z",
          "iopub.status.idle": "2024-02-21T15:03:25.406154Z",
          "shell.execute_reply": "2024-02-21T15:03:25.405134Z",
          "shell.execute_reply.started": "2024-02-21T15:03:25.398265Z"
        },
        "scrolled": true,
        "id": "bd1649ce",
        "outputId": "e8a9582e-2167-4604-9b05-492859753971",
        "colab": {
          "base_uri": "https://localhost:8080/"
        }
      },
      "outputs": [
        {
          "output_type": "execute_result",
          "data": {
            "text/plain": [
              "{'только': 0,\n",
              " 'делай': 1,\n",
              " ':': 2,\n",
              " 'всего': 3,\n",
              " 'будет': 4,\n",
              " 'две': 5,\n",
              " 'к': 6,\n",
              " 'ворк': 7,\n",
              " 'ошибся': 8,\n",
              " 'волк': 9,\n",
              " 'жизни': 10,\n",
              " 'ешь': 11,\n",
              " 'запомни': 12,\n",
              " 'вторая': 13,\n",
              " 'дороги': 14,\n",
              " 'если': 15,\n",
              " 'дошик': 16,\n",
              " 'своей': 17,\n",
              " 'ошибка': 18,\n",
              " 'никогда': 19,\n",
              " '.': 20,\n",
              " 'как': 21,\n",
              " 'режь': 22,\n",
              " 'одна': 23,\n",
              " '-': 24,\n",
              " 'другая': 25,\n",
              " 'в': 26,\n",
              " 'это': 27,\n",
              " 'всегда': 28,\n",
              " 'а': 29,\n",
              " 'взял': 30,\n",
              " 'сдавайтесь': 31,\n",
              " 'первая': 32,\n",
              " 'работа': 33,\n",
              " 'нож': 34,\n",
              " 'не': 35,\n",
              " 'есть': 36,\n",
              " 'ходить': 37,\n",
              " 'сложно': 38,\n",
              " 'идите': 39,\n",
              " ',': 40,\n",
              " 'никто': 41,\n",
              " 'и': 42,\n",
              " 'надо': 43,\n",
              " 'цели': 44,\n",
              " 'ты': 45,\n",
              " '!': 46,\n",
              " '<EOS>': 48,\n",
              " '<UNK>': 49,\n",
              " '<PAD>': 50}"
            ]
          },
          "metadata": {},
          "execution_count": 11
        }
      ],
      "source": [
        "tokenizer.vocab"
      ]
    },
    {
      "cell_type": "code",
      "execution_count": null,
      "id": "898d951a",
      "metadata": {
        "execution": {
          "iopub.execute_input": "2024-02-21T15:03:29.936948Z",
          "iopub.status.busy": "2024-02-21T15:03:29.936563Z",
          "iopub.status.idle": "2024-02-21T15:03:29.957657Z",
          "shell.execute_reply": "2024-02-21T15:03:29.956641Z",
          "shell.execute_reply.started": "2024-02-21T15:03:29.936919Z"
        },
        "colab": {
          "referenced_widgets": [
            "760099bedef34b8aadb3dbccdc627a59",
            "851055bb213347a4a33695baf4ea7e15",
            "b3bc6510d7a7470e99561bfc293453ff",
            "10bca827c7aa498c98ce9c2f0e9ec887",
            "148b010fed5f49f3999673ebc2e2c8c9",
            "2f44fb6b4bce42349a73fe877fe08519",
            "3e2f707633174d1fbd6f9e6d1c8d95a1",
            "478cbdab60dc4c92a2f86293cb1f4d0e",
            "c74306fb505f4279bb747ac6fe5b58b3",
            "940309c8d35f4cbbb67a41a3f8168751",
            "46f4531559bf4e04b1e1ea02a3dfe29e"
          ],
          "base_uri": "https://localhost:8080/",
          "height": 49
        },
        "id": "898d951a",
        "outputId": "5d4d4e54-c00b-483a-9353-f3927394bc32"
      },
      "outputs": [
        {
          "output_type": "display_data",
          "data": {
            "text/plain": [
              "train lines:   0%|          | 0/7 [00:00<?, ?it/s]"
            ],
            "application/vnd.jupyter.widget-view+json": {
              "version_major": 2,
              "version_minor": 0,
              "model_id": "760099bedef34b8aadb3dbccdc627a59"
            }
          },
          "metadata": {}
        }
      ],
      "source": [
        "# класс, который позволяем строить и использовать языковую модель на основе n-грамм\n",
        "stat_lm = StatLM(tokenizer, context_size=2, alpha=0.1, sample_top_p = None)\n",
        "\n",
        "# \"обучаем\" модель - считаем статистики\n",
        "stat_lm.train(train_texts)"
      ]
    },
    {
      "cell_type": "code",
      "execution_count": null,
      "id": "2e55938a",
      "metadata": {
        "execution": {
          "iopub.execute_input": "2024-02-21T15:03:32.262952Z",
          "iopub.status.busy": "2024-02-21T15:03:32.262566Z",
          "iopub.status.idle": "2024-02-21T15:03:32.273912Z",
          "shell.execute_reply": "2024-02-21T15:03:32.272879Z",
          "shell.execute_reply.started": "2024-02-21T15:03:32.262923Z"
        },
        "scrolled": true,
        "id": "2e55938a",
        "outputId": "a66c25ca-bd65-41d2-c8d2-1693e6e78eea",
        "colab": {
          "base_uri": "https://localhost:8080/"
        }
      },
      "outputs": [
        {
          "output_type": "stream",
          "name": "stdout",
          "text": [
            "dict_keys(['n gramms stat', 'n+1 gramms stat', 'n tokens stat', 'n+1 tokens stat'])\n"
          ]
        },
        {
          "output_type": "execute_result",
          "data": {
            "text/plain": [
              "{'взял нож': 1,\n",
              " 'нож -': 1,\n",
              " '- режь': 1,\n",
              " 'режь ,': 1,\n",
              " ', взял': 1,\n",
              " 'взял дошик': 1,\n",
              " 'дошик -': 1,\n",
              " '- ешь': 1,\n",
              " 'ешь .': 1,\n",
              " 'никогда не': 1,\n",
              " 'не сдавайтесь': 1,\n",
              " 'сдавайтесь ,': 1,\n",
              " ', идите': 1,\n",
              " 'идите к': 1,\n",
              " 'к своей': 1,\n",
              " 'своей цели': 1,\n",
              " 'цели !': 1,\n",
              " '! а': 1,\n",
              " 'а если': 1,\n",
              " 'если будет': 1,\n",
              " 'будет сложно': 1,\n",
              " 'сложно сдавайтесь': 1,\n",
              " 'сдавайтесь .': 1,\n",
              " 'запомни :': 1,\n",
              " ': всего': 1,\n",
              " 'всего одна': 1,\n",
              " 'одна ошибка': 1,\n",
              " 'ошибка и': 1,\n",
              " 'и ты': 1,\n",
              " 'ты ошибся': 1,\n",
              " 'ошибся .': 1,\n",
              " 'в жизни': 1,\n",
              " 'жизни всегда': 1,\n",
              " 'всегда есть': 1,\n",
              " 'есть две': 1,\n",
              " 'две дороги': 1,\n",
              " 'дороги :': 1,\n",
              " ': одна': 1,\n",
              " 'одна первая': 1,\n",
              " 'первая ,': 1,\n",
              " ', а': 1,\n",
              " 'а другая': 1,\n",
              " 'другая вторая': 1,\n",
              " 'вторая .': 1,\n",
              " 'делай ,': 1,\n",
              " ', как': 1,\n",
              " 'как надо': 1,\n",
              " 'надо .': 1,\n",
              " '. как': 1,\n",
              " 'как не': 1,\n",
              " 'не надо': 1,\n",
              " 'надо ,': 1,\n",
              " ', не': 1,\n",
              " 'не делай': 1,\n",
              " 'делай .': 1,\n",
              " 'работа не': 2,\n",
              " 'не волк': 3,\n",
              " 'волк .': 4,\n",
              " '. никто': 1,\n",
              " 'никто не': 1,\n",
              " '. только': 1,\n",
              " 'только волк': 1,\n",
              " 'волк волк': 1,\n",
              " '. работа': 1,\n",
              " 'работа -': 1,\n",
              " '- ворк': 1,\n",
              " 'ворк .': 1,\n",
              " '. а': 1,\n",
              " 'а волк': 1,\n",
              " 'волк -': 1,\n",
              " '- это': 1,\n",
              " 'это ходить': 1,\n",
              " 'ходить .': 1}"
            ]
          },
          "metadata": {},
          "execution_count": 13
        }
      ],
      "source": [
        "# можем посмотреть статистики для n-грамм\n",
        "tokens_stat = stat_lm.get_stat()\n",
        "print(tokens_stat.keys())\n",
        "tokens_stat['n+1 tokens stat']"
      ]
    },
    {
      "cell_type": "code",
      "execution_count": null,
      "id": "58d84435",
      "metadata": {
        "execution": {
          "iopub.execute_input": "2024-02-21T15:03:34.658766Z",
          "iopub.status.busy": "2024-02-21T15:03:34.658010Z",
          "iopub.status.idle": "2024-02-21T15:03:34.666999Z",
          "shell.execute_reply": "2024-02-21T15:03:34.665955Z",
          "shell.execute_reply.started": "2024-02-21T15:03:34.658733Z"
        },
        "id": "58d84435",
        "outputId": "76635460-322f-4038-a90b-b202c32db7bc",
        "colab": {
          "base_uri": "https://localhost:8080/"
        }
      },
      "outputs": [
        {
          "output_type": "stream",
          "name": "stdout",
          "text": [
            "Вход: Работа\n",
            "Новый токен: не\n"
          ]
        }
      ],
      "source": [
        "print('Вход:', test_text)\n",
        "print('Новый токен:', stat_lm.generate_token(test_text)['next_token'])"
      ]
    },
    {
      "cell_type": "code",
      "execution_count": null,
      "id": "9b74eb2b",
      "metadata": {
        "execution": {
          "iopub.execute_input": "2024-02-21T15:03:37.803765Z",
          "iopub.status.busy": "2024-02-21T15:03:37.803391Z",
          "iopub.status.idle": "2024-02-21T15:03:37.811690Z",
          "shell.execute_reply": "2024-02-21T15:03:37.810737Z",
          "shell.execute_reply.started": "2024-02-21T15:03:37.803740Z"
        },
        "id": "9b74eb2b",
        "outputId": "211ddad2-b4ef-4dc4-c953-c672ad5f3275",
        "colab": {
          "base_uri": "https://localhost:8080/"
        }
      },
      "outputs": [
        {
          "output_type": "stream",
          "name": "stdout",
          "text": [
            "Вход: \"Работа\"\n",
            "Продолженный текст: \"работа не волк . только волк . только волк . только волк . только волк . только волк . только волк . только волк . только волк . только волк . только\"\n",
            "Причина остановки генерации: \"max tokens\"\n"
          ]
        }
      ],
      "source": [
        "print(f'Вход: \"{test_text}\"')\n",
        "generated = stat_lm.generate_text(test_text, max_tokens=32)\n",
        "print(f\"Продолженный текст: \\\"{generated['total_text']}\\\"\")\n",
        "print(f\"Причина остановки генерации: \\\"{generated['finish_reason']}\\\"\" )"
      ]
    },
    {
      "cell_type": "markdown",
      "id": "462edae1",
      "metadata": {
        "id": "462edae1"
      },
      "source": [
        "Как мы видим, модель зациклилась, и начала повторять один и тот же наиболее вероятный кусок текста.\n",
        "Это нередкая проблема для всех генеративных моделей, включая современные LLM.\n",
        "\n",
        "Для борьбы с ней делают две вещи - нормальный трейн-датасет на этапе трейна, и определенные параметры генерации\n",
        "на этапе инференса (например, занизить вероятности в предсказанном распределении у тех токенов, что мы недавно уже генерировали)."
      ]
    },
    {
      "cell_type": "markdown",
      "id": "af2bcfb2",
      "metadata": {
        "id": "af2bcfb2"
      },
      "source": [
        "Также можно использовать другие стратегии семплирования, про которые мы поговорим позднее. Например, sample_top_p в реализации класса позволяет семплировать из наиболее вероятных токенов, вероятности которых суммируются в заданное число p. Можете попробовать эту стратегию, правда, возможно ее нужно будет немного подебажить"
      ]
    },
    {
      "cell_type": "markdown",
      "id": "17757c5b",
      "metadata": {
        "id": "17757c5b"
      },
      "source": [
        "### \"Обучим\" LM на n-граммах на полноценном большом датасете"
      ]
    },
    {
      "cell_type": "code",
      "execution_count": null,
      "id": "8e8644ca",
      "metadata": {
        "execution": {
          "iopub.execute_input": "2024-02-21T15:03:46.715683Z",
          "iopub.status.busy": "2024-02-21T15:03:46.714916Z",
          "iopub.status.idle": "2024-02-21T15:03:51.508767Z",
          "shell.execute_reply": "2024-02-21T15:03:51.507812Z",
          "shell.execute_reply.started": "2024-02-21T15:03:46.715648Z"
        },
        "id": "8e8644ca",
        "outputId": "d21c3134-22af-44e0-a663-19e6577fa1f1",
        "colab": {
          "base_uri": "https://localhost:8080/"
        }
      },
      "outputs": [
        {
          "output_type": "stream",
          "name": "stdout",
          "text": [
            "CPU times: user 3.22 s, sys: 9.67 ms, total: 3.22 s\n",
            "Wall time: 3.22 s\n"
          ]
        }
      ],
      "source": [
        "%%time\n",
        "tokenizer = Tokenizer().build_vocab(all_texts)"
      ]
    },
    {
      "cell_type": "code",
      "execution_count": null,
      "id": "6c11ec6a",
      "metadata": {
        "execution": {
          "iopub.execute_input": "2024-02-21T15:04:12.068097Z",
          "iopub.status.busy": "2024-02-21T15:04:12.067691Z",
          "iopub.status.idle": "2024-02-21T15:04:12.074714Z",
          "shell.execute_reply": "2024-02-21T15:04:12.073658Z",
          "shell.execute_reply.started": "2024-02-21T15:04:12.068065Z"
        },
        "id": "6c11ec6a",
        "outputId": "3c7956a5-e585-4326-8a0f-3f1cafd4447f",
        "colab": {
          "base_uri": "https://localhost:8080/"
        }
      },
      "outputs": [
        {
          "output_type": "execute_result",
          "data": {
            "text/plain": [
              "179367"
            ]
          },
          "metadata": {},
          "execution_count": 34
        }
      ],
      "source": [
        "len(tokenizer.vocab)"
      ]
    },
    {
      "cell_type": "markdown",
      "id": "d0c78f59",
      "metadata": {
        "id": "d0c78f59"
      },
      "source": [
        "Тут размер словаря посерьезнее"
      ]
    },
    {
      "cell_type": "markdown",
      "id": "e2f62376",
      "metadata": {
        "id": "e2f62376"
      },
      "source": [
        "#### >>>> Задание 2: Оцените, насколько возрастет словарь, если убрать один из этапов предобработки - не приводить все тексты к нижнему регистру\n",
        "\n",
        "В качестве ответа используйте отношение размера без предобработка к размеру с предобработкой, округленное как в коде ниже. Например: 15.305"
      ]
    },
    {
      "cell_type": "code",
      "source": [
        "class Tokenizer1:\n",
        "    def __init__(self,\n",
        "                 token_pattern: str = '\\w+|[\\!\\?\\,\\.\\-\\:]',\n",
        "                 eos_token: str = '<EOS>',\n",
        "                 pad_token: str = '<PAD>',\n",
        "                 unk_token: str = '<UNK>'):\n",
        "        self.token_pattern = token_pattern\n",
        "        self.eos_token = eos_token\n",
        "        self.pad_token = pad_token\n",
        "        self.unk_token = unk_token\n",
        "\n",
        "        self.special_tokens = [self.eos_token, self.pad_token, self.unk_token]\n",
        "        self.vocab = None\n",
        "        self.inverse_vocab = None\n",
        "\n",
        "    def text_preprocess(self, input_text: str) -> str:\n",
        "        \"\"\" Предобрабатываем один текст \"\"\"\n",
        "        #input_text = input_text.lower() # приведение к нижнему регистру\n",
        "        input_text = re.sub('\\s+', ' ', input_text) # унифицируем пробелы\n",
        "        input_text = input_text.strip()\n",
        "        return input_text\n",
        "\n",
        "    def build_vocab(self, corpus: List[str]) -> None:\n",
        "        assert len(corpus)\n",
        "        all_tokens = set()\n",
        "        for text in corpus:\n",
        "            all_tokens |= set(self._tokenize(text, append_eos_token=False))\n",
        "        self.vocab = {elem: ind for ind, elem in enumerate(all_tokens)}\n",
        "        special_tokens = [self.eos_token, self.unk_token, self.pad_token]\n",
        "        for token in special_tokens:\n",
        "            self.vocab[token] = len(self.vocab) + 1\n",
        "        self.inverse_vocab = {ind: elem for elem, ind in self.vocab.items()}\n",
        "        return self\n",
        "\n",
        "    def _tokenize(self, text: str, append_eos_token: bool = True) -> List[str]:\n",
        "        text = self.text_preprocess(text)\n",
        "        tokens = re.findall(self.token_pattern, text)\n",
        "        if append_eos_token:\n",
        "            tokens.append(self.eos_token)\n",
        "        return tokens\n",
        "\n",
        "    def encode(self, text: str, append_eos_token: bool = True) -> List[str]:\n",
        "        \"\"\" Токенизируем текст \"\"\"\n",
        "        tokens = self._tokenize(text, append_eos_token)\n",
        "        ids = [self.vocab.get(token, self.vocab[self.unk_token]) for token in tokens]\n",
        "        return ids\n",
        "\n",
        "    def decode(self, input_ids: Iterable[int], remove_special_tokens: bool = False) -> str:\n",
        "        assert len(input_ids)\n",
        "        assert max(input_ids) < len(self.vocab) and min(input_ids) >= 0\n",
        "        tokens = []\n",
        "        for ind in input_ids:\n",
        "            token = self.inverse_vocab[ind]\n",
        "            if remove_special_tokens and token in self.special_tokens:\n",
        "                continue\n",
        "            tokens.append(token)\n",
        "        text = ' '.join( tokens )\n",
        "        return text"
      ],
      "metadata": {
        "id": "dXdxyiQ5TXoJ"
      },
      "id": "dXdxyiQ5TXoJ",
      "execution_count": null,
      "outputs": []
    },
    {
      "cell_type": "code",
      "execution_count": null,
      "id": "8f25360e",
      "metadata": {
        "id": "8f25360e",
        "colab": {
          "base_uri": "https://localhost:8080/"
        },
        "outputId": "41a274a4-06cd-4681-e920-17ecec029222"
      },
      "outputs": [
        {
          "output_type": "stream",
          "name": "stdout",
          "text": [
            "1.1028561552570986\n",
            "197816\n"
          ]
        }
      ],
      "source": [
        "tokenizer = Tokenizer().build_vocab(all_texts)\n",
        "preprocessed_size = len(tokenizer.vocab)\n",
        "tokenizer = Tokenizer1().build_vocab(all_texts)\n",
        "without_preprocess_size = len(tokenizer.vocab)\n",
        "\n",
        "print( (without_preprocess_size / preprocessed_size) )\n",
        "print(len(tokenizer.vocab))"
      ]
    },
    {
      "cell_type": "code",
      "execution_count": null,
      "id": "57b05c45",
      "metadata": {
        "execution": {
          "iopub.execute_input": "2024-02-21T15:05:36.297311Z",
          "iopub.status.busy": "2024-02-21T15:05:36.296909Z",
          "iopub.status.idle": "2024-02-21T15:05:36.404131Z",
          "shell.execute_reply": "2024-02-21T15:05:36.403088Z",
          "shell.execute_reply.started": "2024-02-21T15:05:36.297280Z"
        },
        "id": "57b05c45"
      },
      "outputs": [],
      "source": [
        "with open('tokenizer.pkl', 'wb') as fout:\n",
        "    pickle.dump(tokenizer, fout)"
      ]
    },
    {
      "cell_type": "code",
      "execution_count": null,
      "id": "f383bb8a",
      "metadata": {
        "execution": {
          "iopub.execute_input": "2024-02-21T15:12:20.006258Z",
          "iopub.status.busy": "2024-02-21T15:12:20.005532Z",
          "iopub.status.idle": "2024-02-21T15:12:29.164207Z",
          "shell.execute_reply": "2024-02-21T15:12:29.163284Z",
          "shell.execute_reply.started": "2024-02-21T15:12:20.006225Z"
        },
        "id": "f383bb8a",
        "outputId": "8b552a2c-f64c-4524-840c-35fa25c5daa5",
        "colab": {
          "base_uri": "https://localhost:8080/"
        }
      },
      "outputs": [
        {
          "output_type": "stream",
          "name": "stderr",
          "text": [
            "/usr/local/lib/python3.10/dist-packages/datasets/load.py:1461: FutureWarning: The repository for IlyaGusev/gazeta contains custom code which must be executed to correctly load the dataset. You can inspect the repository content at https://hf.co/datasets/IlyaGusev/gazeta\n",
            "You can avoid this message in future by passing the argument `trust_remote_code=True`.\n",
            "Passing `trust_remote_code=True` will be mandatory to load this dataset from the next major release of `datasets`.\n",
            "  warnings.warn(\n"
          ]
        },
        {
          "output_type": "stream",
          "name": "stdout",
          "text": [
            "(5000, 5)\n",
            "(500, 5)\n"
          ]
        }
      ],
      "source": [
        "train_texts, test_texts = get_dataset(5000, 500)"
      ]
    },
    {
      "cell_type": "code",
      "execution_count": null,
      "id": "f52e7a80",
      "metadata": {
        "execution": {
          "iopub.execute_input": "2024-02-21T15:12:30.368335Z",
          "iopub.status.busy": "2024-02-21T15:12:30.367960Z",
          "iopub.status.idle": "2024-02-21T15:12:42.166853Z",
          "shell.execute_reply": "2024-02-21T15:12:42.165906Z",
          "shell.execute_reply.started": "2024-02-21T15:12:30.368305Z"
        },
        "colab": {
          "referenced_widgets": [
            "275568af5c664e7bbaf99fd9cf29dbd5",
            "38368edbcfdd42d99bb29f57e45dcae5",
            "fefba29b747540d8bcf41956494a4f7d",
            "dbec76e073f64e5ca934e82b656ea91b",
            "17ae598338394cdda957c841ef27e8af",
            "a44f3181ca584f5d90e6ea8de5153f01",
            "ea1e58f4e99047c5abd4660a63ef3d7c",
            "2d3354613c0d446fb2e2f4a9802a5556",
            "73ec37120f054890b8d760a2602732d7",
            "09553d5068984af0b44fdb079c842468",
            "3f05194ee5be4ec19ef526217ddb2dac"
          ],
          "base_uri": "https://localhost:8080/",
          "height": 84
        },
        "id": "f52e7a80",
        "outputId": "eab763ff-19f0-48e1-a732-42914ef60fc1"
      },
      "outputs": [
        {
          "output_type": "display_data",
          "data": {
            "text/plain": [
              "train lines:   0%|          | 0/5000 [00:00<?, ?it/s]"
            ],
            "application/vnd.jupyter.widget-view+json": {
              "version_major": 2,
              "version_minor": 0,
              "model_id": "275568af5c664e7bbaf99fd9cf29dbd5"
            }
          },
          "metadata": {}
        },
        {
          "output_type": "stream",
          "name": "stdout",
          "text": [
            "CPU times: user 8.69 s, sys: 104 ms, total: 8.8 s\n",
            "Wall time: 8.95 s\n"
          ]
        }
      ],
      "source": [
        "%%time\n",
        "stat_lm = StatLM(tokenizer, context_size=2, alpha=0.1, sample_top_p = None)\n",
        "stat_lm.train(train_texts)"
      ]
    },
    {
      "cell_type": "code",
      "execution_count": null,
      "id": "e59d60d8",
      "metadata": {
        "execution": {
          "iopub.execute_input": "2024-02-21T15:12:42.169089Z",
          "iopub.status.busy": "2024-02-21T15:12:42.168701Z",
          "iopub.status.idle": "2024-02-21T15:13:46.500417Z",
          "shell.execute_reply": "2024-02-21T15:13:46.499416Z",
          "shell.execute_reply.started": "2024-02-21T15:12:42.169051Z"
        },
        "id": "e59d60d8",
        "outputId": "f32f285c-8c67-4773-de0e-c09bc017047d",
        "colab": {
          "base_uri": "https://localhost:8080/"
        }
      },
      "outputs": [
        {
          "output_type": "stream",
          "name": "stdout",
          "text": [
            "В Германии объяснили упоминание имени Путина на протестах в Берлине . В итоге , что в том , что в том , что в том , что в том , что в том , что в том , что в том , что в том , что в том , что в том , что в том , что в том , что в том , что в том , что в том , что в том , что в том , что в том , что в том , что в том , что в том , что в том , что в том , что в том , что в том , что в том , что в том , что в том , что в \n",
            "\n",
            "Делегации Израиля и США прибыли в ОАЭ для обсуждения соглашения о сотрудничестве с тем , что в том , что в том , что в том , что в том , что в том , что в том , что в том , что в том , что в том , что в том , что в том , что в том , что в том , что в том , что в том , что в том , что в том , что в том , что в том , что в том , что в том , что в том , что в том , что в том , что в том , что в том , что в том , что в том , что \n",
            "\n",
            "Оппозиция Белоруссии объявила о создании новой партии Вместе с тем , что в том , что в том , что в том , что в том , что в том , что в том , что в том , что в том , что в том , что в том , что в том , что в том , что в том , что в том , что в том , что в том , что в том , что в том , что в том , что в том , что в том , что в том , что в том , что в том , что в том , что в том , что в том , что в том , что в том , что \n",
            "\n"
          ]
        }
      ],
      "source": [
        "for text in test_texts[:3]:\n",
        "    title = text.split('\\n')[0]\n",
        "    generated = stat_lm.generate_text(title, max_tokens=128)\n",
        "    print(generated['total_text'], '\\n')"
      ]
    },
    {
      "cell_type": "code",
      "execution_count": null,
      "id": "854ebf07",
      "metadata": {
        "execution": {
          "iopub.execute_input": "2024-02-21T15:13:46.502134Z",
          "iopub.status.busy": "2024-02-21T15:13:46.501761Z",
          "iopub.status.idle": "2024-02-21T15:13:59.581842Z",
          "shell.execute_reply": "2024-02-21T15:13:59.580975Z",
          "shell.execute_reply.started": "2024-02-21T15:13:46.502100Z"
        },
        "colab": {
          "referenced_widgets": [
            "5c5d8d6c42d44c9c8f807642090627a4",
            "5739e305e4ef40f1ba2bc8e0b938d609",
            "f2eddfe430114c1daf472588ced6b54d",
            "080128f8cd4e41d2a977b93d419a1c5d",
            "27e210e6a42448ff802d9c7085f049e5",
            "9e92f60037e24bfaa133256423c9f157",
            "6556ed8c35434f42b6255b9de6590298",
            "2569fac4232d4d8db30eee2e384135bd",
            "a82ce8c1e53349daae802b9d58f0de35",
            "5cb1884029de4fd8a359455aa21c0f1e",
            "12c2d2d7d74944d2aa339b3f35af79a5"
          ],
          "base_uri": "https://localhost:8080/",
          "height": 84
        },
        "id": "854ebf07",
        "outputId": "43cd0480-3364-4b14-f925-8f9e0ade2b5b"
      },
      "outputs": [
        {
          "output_type": "display_data",
          "data": {
            "text/plain": [
              "train lines:   0%|          | 0/5000 [00:00<?, ?it/s]"
            ],
            "application/vnd.jupyter.widget-view+json": {
              "version_major": 2,
              "version_minor": 0,
              "model_id": "5c5d8d6c42d44c9c8f807642090627a4"
            }
          },
          "metadata": {}
        },
        {
          "output_type": "stream",
          "name": "stdout",
          "text": [
            "CPU times: user 9.82 s, sys: 406 ms, total: 10.2 s\n",
            "Wall time: 10.4 s\n"
          ]
        }
      ],
      "source": [
        "%%time\n",
        "stat_lm = StatLM(tokenizer, context_size=4, alpha=0.1, sample_top_p = None)\n",
        "stat_lm.train(train_texts)"
      ]
    },
    {
      "cell_type": "code",
      "execution_count": null,
      "id": "a3b66a44",
      "metadata": {
        "execution": {
          "iopub.execute_input": "2024-02-21T15:13:59.584299Z",
          "iopub.status.busy": "2024-02-21T15:13:59.583999Z",
          "iopub.status.idle": "2024-02-21T15:15:05.278370Z",
          "shell.execute_reply": "2024-02-21T15:15:05.277382Z",
          "shell.execute_reply.started": "2024-02-21T15:13:59.584274Z"
        },
        "id": "a3b66a44",
        "outputId": "b6fc8fc9-668e-44f4-b4c6-9ddb18e9278f",
        "colab": {
          "base_uri": "https://localhost:8080/"
        }
      },
      "outputs": [
        {
          "output_type": "stream",
          "name": "stdout",
          "text": [
            "В Германии объяснили упоминание имени Путина на протестах в Берлине Выбирай Выбирай Выбирай Выбирай Выбирай Выбирай Выбирай Выбирай Выбирай Выбирай Выбирай Выбирай Выбирай Выбирай Выбирай Выбирай Выбирай Выбирай Выбирай Выбирай Выбирай Выбирай Выбирай Выбирай Выбирай Выбирай Выбирай Выбирай Выбирай Выбирай Выбирай Выбирай Выбирай Выбирай Выбирай Выбирай Выбирай Выбирай Выбирай Выбирай Выбирай Выбирай Выбирай Выбирай Выбирай Выбирай Выбирай Выбирай Выбирай Выбирай Выбирай Выбирай Выбирай Выбирай Выбирай Выбирай Выбирай Выбирай Выбирай Выбирай Выбирай Выбирай Выбирай Выбирай Выбирай Выбирай Выбирай Выбирай Выбирай Выбирай Выбирай Выбирай Выбирай Выбирай Выбирай Выбирай Выбирай Выбирай Выбирай Выбирай Выбирай Выбирай Выбирай Выбирай Выбирай Выбирай Выбирай Выбирай Выбирай Выбирай Выбирай Выбирай Выбирай Выбирай Выбирай Выбирай Выбирай Выбирай Выбирай Выбирай Выбирай Выбирай Выбирай Выбирай Выбирай Выбирай Выбирай Выбирай Выбирай Выбирай Выбирай Выбирай Выбирай Выбирай Выбирай Выбирай Выбирай Выбирай \n",
            "\n",
            "Делегации Израиля и США прибыли в ОАЭ для обсуждения соглашения о сотрудничестве , заключенного 25 ноября 2008 года в отношении управления Норникелем , в котором он находится сейчас , принимать его нельзя , это внесет диссонанс в общество . Там совсем другая конструкция , а мы не столь богаты , чтобы исполнять такие весьма недешевые маниловские идеи . Второй вариант заключается в создании на базе седьмой и соседней школы единого гимназического комплекса . Правда , в отличие от многих других клубов ограничившегося точечной селекцией в межсезонье , по традиции , пообещал скорую смерть : Они искупались в крови невинных людей . Их конец совсем близок : их вечно ищут . Выбирай Выбирай Выбирай Выбирай Выбирай Выбирай Выбирай Выбирай Выбирай Выбирай Выбирай Выбирай Выбирай Выбирай Выбирай Выбирай Выбирай Выбирай \n",
            "\n",
            "Оппозиция Белоруссии объявила о создании новой партии Вместе Выбирай Выбирай Выбирай Выбирай Выбирай Выбирай Выбирай Выбирай Выбирай Выбирай Выбирай Выбирай Выбирай Выбирай Выбирай Выбирай Выбирай Выбирай Выбирай Выбирай Выбирай Выбирай Выбирай Выбирай Выбирай Выбирай Выбирай Выбирай Выбирай Выбирай Выбирай Выбирай Выбирай Выбирай Выбирай Выбирай Выбирай Выбирай Выбирай Выбирай Выбирай Выбирай Выбирай Выбирай Выбирай Выбирай Выбирай Выбирай Выбирай Выбирай Выбирай Выбирай Выбирай Выбирай Выбирай Выбирай Выбирай Выбирай Выбирай Выбирай Выбирай Выбирай Выбирай Выбирай Выбирай Выбирай Выбирай Выбирай Выбирай Выбирай Выбирай Выбирай Выбирай Выбирай Выбирай Выбирай Выбирай Выбирай Выбирай Выбирай Выбирай Выбирай Выбирай Выбирай Выбирай Выбирай Выбирай Выбирай Выбирай Выбирай Выбирай Выбирай Выбирай Выбирай Выбирай Выбирай Выбирай Выбирай Выбирай Выбирай Выбирай Выбирай Выбирай Выбирай Выбирай Выбирай Выбирай Выбирай Выбирай Выбирай Выбирай Выбирай Выбирай Выбирай Выбирай Выбирай Выбирай Выбирай Выбирай Выбирай \n",
            "\n"
          ]
        }
      ],
      "source": [
        "for text in test_texts[:3]:\n",
        "    title = text.split('\\n')[0]\n",
        "    generated = stat_lm.generate_text(title, max_tokens=128)\n",
        "    print(generated['total_text'], '\\n')"
      ]
    },
    {
      "cell_type": "markdown",
      "id": "b976e265",
      "metadata": {
        "id": "b976e265"
      },
      "source": [
        "Попробуйте перебрать параметры в поисках лучшего качества модели: context_size, alpha, и стратегию генерации sample_top_p=0.9 (возможно, эту стратегию придется немного подебажить)"
      ]
    },
    {
      "cell_type": "markdown",
      "id": "e5935a59",
      "metadata": {
        "id": "e5935a59"
      },
      "source": [
        "## LM на основе RNN"
      ]
    },
    {
      "cell_type": "markdown",
      "id": "7179f396",
      "metadata": {
        "id": "7179f396"
      },
      "source": [
        "Рекуррентные сети формально могут обрабатывать последовательность произвольной длины -\n",
        "можем просто через RNN-ячейку рекуррентно пропускать последовательность, а в конце посчитать градиент\n",
        "по этой большой цепочке.\n",
        "\n",
        "На практике все равно есть ограничения:\n",
        "1. Градиент по большой последовательности очень долго считать - с помощью backpropagation through time (BPTT) для каждого элемента последовательности придется считать градиент\n",
        "2. Для ускорения обучения и для лучшей сходимости тренировочные примеры (то есть, последовательности = тексты) объединяют во время обучения в батчи. Чтобы батч представить в виде тензора, все последовательности нужно выравнить (мы же не можем в матрице сделать длины строк разными). Для этого используются последовательности с фиксированной длиной, называемой длиной контекста."
      ]
    },
    {
      "cell_type": "markdown",
      "id": "f0d5d36d",
      "metadata": {
        "id": "f0d5d36d"
      },
      "source": [
        "Теперь давайте построим LM с помощью рекуррентной сети"
      ]
    },
    {
      "cell_type": "markdown",
      "id": "7cecfefc",
      "metadata": {
        "id": "7cecfefc"
      },
      "source": [
        "Попробуем использовать tokenizer из прошлого раздела, уже обученный на словах"
      ]
    },
    {
      "cell_type": "code",
      "source": [
        "tokenizer = Tokenizer().build_vocab(all_texts)"
      ],
      "metadata": {
        "id": "547QnJk7VAlC"
      },
      "id": "547QnJk7VAlC",
      "execution_count": null,
      "outputs": []
    },
    {
      "cell_type": "code",
      "execution_count": null,
      "id": "0ac41e2e",
      "metadata": {
        "execution": {
          "iopub.execute_input": "2024-02-21T15:15:22.202036Z",
          "iopub.status.busy": "2024-02-21T15:15:22.201672Z",
          "iopub.status.idle": "2024-02-21T15:15:22.317216Z",
          "shell.execute_reply": "2024-02-21T15:15:22.316365Z",
          "shell.execute_reply.started": "2024-02-21T15:15:22.202010Z"
        },
        "id": "0ac41e2e"
      },
      "outputs": [],
      "source": [
        "with open('tokenizer.pkl', 'rb') as fin:\n",
        "    tokenizer = pickle.load(fin)"
      ]
    },
    {
      "cell_type": "code",
      "execution_count": null,
      "id": "38f10170",
      "metadata": {
        "execution": {
          "iopub.execute_input": "2024-02-21T15:15:22.989880Z",
          "iopub.status.busy": "2024-02-21T15:15:22.989475Z",
          "iopub.status.idle": "2024-02-21T15:15:22.996299Z",
          "shell.execute_reply": "2024-02-21T15:15:22.995312Z",
          "shell.execute_reply.started": "2024-02-21T15:15:22.989850Z"
        },
        "id": "38f10170",
        "outputId": "ab2d5b7f-8969-41be-da3d-903ba58744cd",
        "colab": {
          "base_uri": "https://localhost:8080/"
        }
      },
      "outputs": [
        {
          "output_type": "execute_result",
          "data": {
            "text/plain": [
              "197816"
            ]
          },
          "metadata": {},
          "execution_count": 49
        }
      ],
      "source": [
        "len(tokenizer.vocab)"
      ]
    },
    {
      "cell_type": "markdown",
      "id": "1c8b1363",
      "metadata": {
        "id": "1c8b1363"
      },
      "source": [
        "Составим датасеты в torch-формате"
      ]
    },
    {
      "cell_type": "code",
      "execution_count": null,
      "id": "d065de11",
      "metadata": {
        "execution": {
          "iopub.execute_input": "2024-02-21T15:15:25.086845Z",
          "iopub.status.busy": "2024-02-21T15:15:25.086448Z",
          "iopub.status.idle": "2024-02-21T15:15:25.095630Z",
          "shell.execute_reply": "2024-02-21T15:15:25.094722Z",
          "shell.execute_reply.started": "2024-02-21T15:15:25.086815Z"
        },
        "id": "d065de11"
      },
      "outputs": [],
      "source": [
        "class NewsDataset(torch.utils.data.Dataset):\n",
        "\n",
        "    def __init__(self, inputs: List[List[int]], targets: Optional[List[List[int]]] = None):\n",
        "        self.inputs = torch.LongTensor(inputs)\n",
        "        self.targets = None\n",
        "        if targets is not None:\n",
        "            self.targets = torch.LongTensor(targets)\n",
        "\n",
        "    def __len__(self):\n",
        "        return self.inputs.shape[0]\n",
        "\n",
        "    def __getitem__(self, idx: int) -> (List[str], int):\n",
        "        if self.targets is None:\n",
        "            return self.inputs[idx]\n",
        "        else:\n",
        "            return self.inputs[idx], self.targets[idx]"
      ]
    },
    {
      "cell_type": "code",
      "execution_count": null,
      "id": "85d3dabc",
      "metadata": {
        "execution": {
          "iopub.execute_input": "2024-02-21T15:15:26.881701Z",
          "iopub.status.busy": "2024-02-21T15:15:26.881179Z",
          "iopub.status.idle": "2024-02-21T15:15:26.888798Z",
          "shell.execute_reply": "2024-02-21T15:15:26.887738Z",
          "shell.execute_reply.started": "2024-02-21T15:15:26.881667Z"
        },
        "id": "85d3dabc"
      },
      "outputs": [],
      "source": [
        "context_size = 32\n",
        "\n",
        "def get_tokenized_data(tokenizer: Tokenizer,\n",
        "                       texts: List[str],\n",
        "                       context_size: int) -> (List[List[int]], List[List[int]]):\n",
        "    tokenized_inputs, tokenized_targets = [], []\n",
        "    for text in tqdm(texts):\n",
        "        tokens = tokenizer.encode(text, append_eos_token=True)\n",
        "        for i in range(len(tokens) - context_size):\n",
        "            inputs = tokens[i: i + context_size]\n",
        "            targets = tokens[i + 1: i + 1 + context_size]\n",
        "            tokenized_inputs.append(inputs)\n",
        "            tokenized_targets.append(targets)\n",
        "    return tokenized_inputs, tokenized_targets"
      ]
    },
    {
      "cell_type": "markdown",
      "id": "56a442a6",
      "metadata": {
        "id": "56a442a6"
      },
      "source": [
        "Возьмем для начала малое количество текстов, просто чтобы отладить процесс"
      ]
    },
    {
      "cell_type": "code",
      "execution_count": null,
      "id": "f36bd707",
      "metadata": {
        "execution": {
          "iopub.execute_input": "2024-02-21T15:15:27.709763Z",
          "iopub.status.busy": "2024-02-21T15:15:27.708412Z",
          "iopub.status.idle": "2024-02-21T15:15:27.717477Z",
          "shell.execute_reply": "2024-02-21T15:15:27.716395Z",
          "shell.execute_reply.started": "2024-02-21T15:15:27.709716Z"
        },
        "id": "f36bd707",
        "outputId": "59975795-bf21-47b1-954e-f9b89dbde921",
        "colab": {
          "base_uri": "https://localhost:8080/"
        }
      },
      "outputs": [
        {
          "output_type": "execute_result",
          "data": {
            "text/plain": [
              "(5000, 500)"
            ]
          },
          "metadata": {},
          "execution_count": 52
        }
      ],
      "source": [
        "len(train_texts), len(test_texts)"
      ]
    },
    {
      "cell_type": "code",
      "execution_count": null,
      "id": "70c17132",
      "metadata": {
        "execution": {
          "iopub.execute_input": "2024-02-21T15:15:29.886137Z",
          "iopub.status.busy": "2024-02-21T15:15:29.885722Z",
          "iopub.status.idle": "2024-02-21T15:15:32.388945Z",
          "shell.execute_reply": "2024-02-21T15:15:32.387996Z",
          "shell.execute_reply.started": "2024-02-21T15:15:29.886107Z"
        },
        "colab": {
          "referenced_widgets": [
            "69ba8eda46ed4c26a5b68e0212e87358",
            "0ed042a442ad49438e33d965c0672c53",
            "f7d5ab9cfb4040dd9705c8104d49ad2b",
            "7b5c880f6eec469bb1352c6eb9075573",
            "b9c5f074bc6d4608add9276fe7f800a8",
            "6c3926530478431ea25c1ff695bdd502",
            "d501d09013d34501b7fcdc40c24df3c6",
            "f3460d7c3826489aaac3475e4b083cef",
            "b34c913966ab4ed9b6402bcfd054abf3",
            "e7fe273b654b48c08ce1b7eb207c6bc9",
            "a93b04cc3fc941c586d07f08463102ff",
            "1ca083ab654a4ebe9434bd8abd0f4f52",
            "be489f6e1d4448f082f63a4262563bd0",
            "94b2908cd7c743f392c20435400ac905",
            "41ad5c491de841b48ec872d8b66e2fb8",
            "50a2c1fde7e74cb0bd58aaeb09a8c899",
            "5c619e1b38534ff4972ef08bfa2048ac",
            "2cd4f9e9f0be46d389866f35656ff0d8",
            "2360b914be454e49b7c039df5aa9df4c",
            "dc0337acfc834a138681d007f55632a8",
            "e055002ee12843cba4d643a0a0506db9",
            "0e56480123d64a36ba901c7fe63c4562"
          ],
          "base_uri": "https://localhost:8080/",
          "height": 98
        },
        "id": "70c17132",
        "outputId": "3b7c172d-db5e-4260-ed71-cfc865eddc59"
      },
      "outputs": [
        {
          "output_type": "display_data",
          "data": {
            "text/plain": [
              "  0%|          | 0/120 [00:00<?, ?it/s]"
            ],
            "application/vnd.jupyter.widget-view+json": {
              "version_major": 2,
              "version_minor": 0,
              "model_id": "69ba8eda46ed4c26a5b68e0212e87358"
            }
          },
          "metadata": {}
        },
        {
          "output_type": "display_data",
          "data": {
            "text/plain": [
              "  0%|          | 0/60 [00:00<?, ?it/s]"
            ],
            "application/vnd.jupyter.widget-view+json": {
              "version_major": 2,
              "version_minor": 0,
              "model_id": "1ca083ab654a4ebe9434bd8abd0f4f52"
            }
          },
          "metadata": {}
        },
        {
          "output_type": "execute_result",
          "data": {
            "text/plain": [
              "(torch.Size([32, 32]), torch.Size([32, 32]))"
            ]
          },
          "metadata": {},
          "execution_count": 53
        }
      ],
      "source": [
        "batch_size = 32\n",
        "\n",
        "tokenized_inputs_train, tokenized_targets_train = get_tokenized_data(tokenizer, train_texts[:120], context_size)\n",
        "tokenized_inputs_test, tokenized_targets_test = get_tokenized_data(tokenizer, test_texts[:60], context_size)\n",
        "\n",
        "train_dataset = NewsDataset(tokenized_inputs_train, tokenized_targets_train)\n",
        "test_dataset = NewsDataset(tokenized_inputs_test, tokenized_targets_test)\n",
        "\n",
        "train_dl = DataLoader(train_dataset, batch_size=batch_size, shuffle=True, drop_last=True)\n",
        "test_dl = DataLoader(test_dataset, batch_size=batch_size, shuffle=False, drop_last=False)\n",
        "\n",
        "t0, t1 = next(iter(train_dl))\n",
        "t0.shape, t1.shape"
      ]
    },
    {
      "cell_type": "markdown",
      "id": "f7b2190f",
      "metadata": {
        "id": "f7b2190f"
      },
      "source": [
        "Параметры обучения и модели"
      ]
    },
    {
      "cell_type": "code",
      "execution_count": null,
      "id": "107e623e",
      "metadata": {
        "execution": {
          "iopub.execute_input": "2024-02-21T15:15:33.474688Z",
          "iopub.status.busy": "2024-02-21T15:15:33.474200Z",
          "iopub.status.idle": "2024-02-21T15:15:33.530087Z",
          "shell.execute_reply": "2024-02-21T15:15:33.528769Z",
          "shell.execute_reply.started": "2024-02-21T15:15:33.474657Z"
        },
        "id": "107e623e"
      },
      "outputs": [],
      "source": [
        "optimizer_params = {}\n",
        "\n",
        "model_params = {\n",
        "    'vocab_size': len(tokenizer.vocab),\n",
        "    'embed_dim': 300,\n",
        "    'hidden_size': 64\n",
        "}\n",
        "\n",
        "device = 'cuda:0' if torch.cuda.is_available() else 'cpu'\n",
        "\n",
        "n_epochs = 10"
      ]
    },
    {
      "cell_type": "markdown",
      "id": "9834898c",
      "metadata": {
        "id": "9834898c"
      },
      "source": [
        "Архитектура сети представлена ниже.\n",
        "\n",
        "Здесь мы каждому токену из последовательности сопоставляем обучаемый вектор с помощью слоя nn.Embedding, и всего таких векторов слой знает vocab_size штук, где vocab_size - размер словаря.\n",
        "\n",
        "Каждый такой обучаемый вектор имеет размерность embed_dim.\n",
        "\n",
        "После того, как мы получим \"умное\" представление всей последовательности - вектор размерности hidden_size, мы хотим отобразить его в пространство словаря, и это отображение (вектор) мы будем использовать как логиты, из которых получается вероятностное распределение для следующего токена. За это отображение отвечает линейный слой.\n",
        "\n",
        "Заполните параметры nn.Embedding и nn.Linear с учетом написанного выше"
      ]
    },
    {
      "cell_type": "code",
      "execution_count": null,
      "id": "0ea7144d",
      "metadata": {
        "execution": {
          "iopub.execute_input": "2024-02-21T15:15:35.573105Z",
          "iopub.status.busy": "2024-02-21T15:15:35.572397Z",
          "iopub.status.idle": "2024-02-21T15:15:35.582184Z",
          "shell.execute_reply": "2024-02-21T15:15:35.581210Z",
          "shell.execute_reply.started": "2024-02-21T15:15:35.573069Z"
        },
        "id": "0ea7144d"
      },
      "outputs": [],
      "source": [
        "device = 'cuda:0' if torch.cuda.is_available() else 'cpu'\n",
        "\n",
        "class RecLM(nn.Module):\n",
        "    def __init__(self, vocab_size: int, embed_dim: int, hidden_size: int):\n",
        "        super(RecLM, self).__init__()\n",
        "        self.embed = nn.Embedding(vocab_size, embed_dim) # TODO заполнить размерности\n",
        "        self.rnn = nn.RNNCell(embed_dim, hidden_size, nonlinearity='tanh', bias=True)\n",
        "\n",
        "        self.linear = nn.Linear(hidden_size, vocab_size)  # TODO заполнить размерности\n",
        "        # иногда вместо этого используют ту же матрицу, что в nn.Embedding\n",
        "\n",
        "    def forward(self, inputs: torch.LongTensor):\n",
        "        \"\"\"\n",
        "        inputs: int, bs x seq\n",
        "        # pad_mask: bool, bs x seq\n",
        "        \"\"\"\n",
        "        embed = self.embed(inputs) # bs x seq x dim\n",
        "        h_n = None\n",
        "        outputs = []\n",
        "        for seq_elem in embed.transpose(0, 1):\n",
        "            if h_n is None:\n",
        "                h_n = self.rnn(seq_elem) # bs x out_dim\n",
        "            else:\n",
        "                h_n = self.rnn(seq_elem, h_n)\n",
        "            outputs.append(h_n)\n",
        "\n",
        "        outputs = torch.stack(outputs).transpose(0, 1) # bs x seq x dim\n",
        "        return self.linear(outputs) # bs x seq x vocab_size"
      ]
    },
    {
      "cell_type": "code",
      "execution_count": null,
      "id": "c2450a0e",
      "metadata": {
        "execution": {
          "iopub.execute_input": "2024-02-21T15:15:37.180182Z",
          "iopub.status.busy": "2024-02-21T15:15:37.179555Z",
          "iopub.status.idle": "2024-02-21T15:15:37.832692Z",
          "shell.execute_reply": "2024-02-21T15:15:37.831683Z",
          "shell.execute_reply.started": "2024-02-21T15:15:37.180153Z"
        },
        "id": "c2450a0e"
      },
      "outputs": [],
      "source": [
        "model = RecLM(vocab_size=model_params['vocab_size'],\n",
        "              embed_dim=model_params['embed_dim'],\n",
        "              hidden_size=model_params['hidden_size'])"
      ]
    },
    {
      "cell_type": "markdown",
      "id": "17b9ad92",
      "metadata": {
        "id": "17b9ad92"
      },
      "source": [
        "В качестве лосса используем кросс-энтропию - ведь по сути мы решаем задачу многоклассовой классификации, где классы - это токены из словаря. Почитать про лосс можно ниже:\n",
        "\n",
        "nn.CrossEntropyLoss: https://pytorch.org/docs/stable/generated/torch.nn.NLLLoss.html"
      ]
    },
    {
      "cell_type": "markdown",
      "id": "1eee2c02",
      "metadata": {
        "id": "1eee2c02"
      },
      "source": [
        "Напишем класс Trainer , с помощью которого мы будем обучать нейронку. Изучите, что происходит в коде"
      ]
    },
    {
      "cell_type": "code",
      "execution_count": null,
      "id": "4af402d0",
      "metadata": {
        "execution": {
          "iopub.execute_input": "2024-02-21T15:42:30.945295Z",
          "iopub.status.busy": "2024-02-21T15:42:30.944240Z",
          "iopub.status.idle": "2024-02-21T15:42:30.961191Z",
          "shell.execute_reply": "2024-02-21T15:42:30.960169Z",
          "shell.execute_reply.started": "2024-02-21T15:42:30.945257Z"
        },
        "id": "4af402d0"
      },
      "outputs": [],
      "source": [
        "class Trainer:\n",
        "\n",
        "    def __init__(\n",
        "        self,\n",
        "        model_params: dict,\n",
        "        optimizer_params: dict,\n",
        "        n_epochs: int,\n",
        "        train_dataloader: torch.utils.data.DataLoader,\n",
        "        val_dataloader: torch.utils.data.DataLoader,\n",
        "        device: str\n",
        "    ):\n",
        "\n",
        "        self.model = RecLM(**model_params)\n",
        "        self.device = torch.device(device)\n",
        "        self.model.to(self.device)\n",
        "        self.optimizer = torch.optim.AdamW(params=self.model.parameters(), **optimizer_params)\n",
        "\n",
        "        ts = datetime.strftime(datetime.today(), '%Y-%m-%d-%H-%M')\n",
        "        LOG_DIR = f'./checkpoints/{ts}'\n",
        "\n",
        "        hparams = chain(model_params.items(), optimizer_params.items())\n",
        "\n",
        "        for k, v in hparams:\n",
        "            LOG_DIR += f'-{k}-{v}'\n",
        "\n",
        "        self.writer = SummaryWriter(log_dir=LOG_DIR)\n",
        "        self.checkpoint_path = LOG_DIR\n",
        "\n",
        "        self.best_val_loss = float('inf')\n",
        "        self.n_epochs = n_epochs\n",
        "        self.train_dataloader = train_dataloader\n",
        "        self.val_dataloader = val_dataloader\n",
        "\n",
        "        self.loss_fn = torch.nn.CrossEntropyLoss(reduction = 'none')\n",
        "\n",
        "    def iterate_over_dataloader(self, dataloader, suffix: str, epoch: int, update_weights=False):\n",
        "\n",
        "        if update_weights:\n",
        "            self.model.train()\n",
        "        else:\n",
        "            self.model.eval()\n",
        "\n",
        "        loss_over_epoch = 0\n",
        "        num_batches = 0\n",
        "\n",
        "        for batch in tqdm(dataloader, desc='batches'):\n",
        "\n",
        "            if update_weights:\n",
        "                self.optimizer.zero_grad()\n",
        "\n",
        "            tokens, labels = batch\n",
        "\n",
        "            tokens = tokens.to(self.device)\n",
        "            labels = labels.to(self.device)\n",
        "\n",
        "            logits = self.model(tokens) # bs x seq x vocab_size\n",
        "\n",
        "            loss_values = self.loss_fn(logits.transpose(1, 2), labels) # N x C x seq_len\n",
        "            loss_value = loss_values.mean()\n",
        "\n",
        "            if update_weights:\n",
        "                loss_value.backward()\n",
        "                self.optimizer.step()\n",
        "\n",
        "            loss_item = loss_value.item()\n",
        "            loss_over_epoch += loss_item\n",
        "            num_batches += 1\n",
        "\n",
        "        avg_loss = loss_over_epoch / num_batches\n",
        "        print(f'Epoch {epoch} loss for {suffix}: {avg_loss}')\n",
        "        self.writer.add_scalar(tag=f'Loss/{suffix}', scalar_value=avg_loss, global_step=epoch)\n",
        "\n",
        "        if avg_loss < self.best_val_loss:\n",
        "            self.best_val_loss = loss_item\n",
        "            torch.save(self.model.state_dict(), os.path.join(self.checkpoint_path, 'rnn_lm.pt'))\n",
        "\n",
        "\n",
        "    def train_model(self):\n",
        "        for epoch_num in tqdm(range(self.n_epochs)):\n",
        "            self.iterate_over_dataloader(\n",
        "                dataloader=self.train_dataloader, suffix='train', epoch=epoch_num, update_weights=True\n",
        "            )\n",
        "            self.iterate_over_dataloader(\n",
        "                dataloader=self.val_dataloader, suffix='val', epoch=epoch_num\n",
        "            )"
      ]
    },
    {
      "cell_type": "markdown",
      "id": "53e8b293",
      "metadata": {
        "id": "53e8b293"
      },
      "source": [
        "И прежде чем обучать, давайте посмотрим, насколько большая у нас получилась модель."
      ]
    },
    {
      "cell_type": "code",
      "execution_count": null,
      "id": "c82e77eb",
      "metadata": {
        "execution": {
          "iopub.execute_input": "2024-02-21T15:15:39.766891Z",
          "iopub.status.busy": "2024-02-21T15:15:39.766500Z",
          "iopub.status.idle": "2024-02-21T15:15:39.774353Z",
          "shell.execute_reply": "2024-02-21T15:15:39.773432Z",
          "shell.execute_reply.started": "2024-02-21T15:15:39.766866Z"
        },
        "id": "c82e77eb"
      },
      "outputs": [],
      "source": [
        "def get_nn_params_stat(model: nn.Module) -> None:\n",
        "\n",
        "    def iter_mul(inputs: Iterable) -> int:\n",
        "        mul = 1\n",
        "        for elem in inputs:\n",
        "            mul *= elem\n",
        "        return mul\n",
        "\n",
        "    shapes = [p.shape for p in model.parameters()]\n",
        "    for p_shape in shapes:\n",
        "        print(p_shape)\n",
        "    total_count = sum([iter_mul(p_shape) for p_shape in shapes])\n",
        "    print('Total params:', total_count)\n",
        "    print('Model param size in Mb:', total_count * 4 / (2 ** 20))"
      ]
    },
    {
      "cell_type": "code",
      "execution_count": null,
      "id": "f7650782",
      "metadata": {
        "execution": {
          "iopub.execute_input": "2024-02-21T15:15:43.163192Z",
          "iopub.status.busy": "2024-02-21T15:15:43.162310Z",
          "iopub.status.idle": "2024-02-21T15:15:43.168020Z",
          "shell.execute_reply": "2024-02-21T15:15:43.167092Z",
          "shell.execute_reply.started": "2024-02-21T15:15:43.163156Z"
        },
        "id": "f7650782",
        "outputId": "aa78be22-2117-4dd8-a7ef-d947fe0ca2ec"
      },
      "outputs": [
        {
          "name": "stdout",
          "output_type": "stream",
          "text": [
            "torch.Size([179367, 300])\n",
            "torch.Size([64, 300])\n",
            "torch.Size([64, 64])\n",
            "torch.Size([64])\n",
            "torch.Size([64])\n",
            "torch.Size([179367, 64])\n",
            "torch.Size([179367])\n",
            "Total params: 65492379\n",
            "Model param size in Mb: 249.83359909057617\n"
          ]
        }
      ],
      "source": [
        "get_nn_params_stat(model)"
      ]
    },
    {
      "cell_type": "markdown",
      "id": "6842c386",
      "metadata": {
        "id": "6842c386"
      },
      "source": [
        "В гугл колабе такая модель на гпу не поместится, а если бы и поместилась - обучать такое пришлось бы долго.\n",
        "\n",
        "Как мы видим, подавляющая часть параметров содержится в тензорах torch.Size([179367, 300]) и torch.Size([179367, 64]) - это параметры слоя эмбеддинга, при этом 179367 - это размерность словаря\n",
        "\n",
        "И, как правило, во всех подобных сетях слой nn.Embedding содержит много параметров, и в разных статьях этот слой пытаются как-то \"облегчить\" - либо декомпозировать, либо уменьшить размер словаря.\n",
        "\n",
        "Мы пойдем по пути уменьшения словаря, но для этого нам нужно представить текст не словами, а более оптимальными языковыми единицами. Это достигается с помощью BPE кодирования, которое мы будем обсуджать в курсе. А пока, давайте просто им воспользуемся, после небольшого задания."
      ]
    },
    {
      "cell_type": "code",
      "execution_count": null,
      "id": "c047be63",
      "metadata": {
        "execution": {
          "iopub.execute_input": "2024-02-21T15:18:41.782962Z",
          "iopub.status.busy": "2024-02-21T15:18:41.782575Z",
          "iopub.status.idle": "2024-02-21T15:18:42.120143Z",
          "shell.execute_reply": "2024-02-21T15:18:42.118947Z",
          "shell.execute_reply.started": "2024-02-21T15:18:41.782932Z"
        },
        "id": "c047be63",
        "outputId": "d23a7a96-894e-4377-fce3-d9408a02292c",
        "colab": {
          "base_uri": "https://localhost:8080/"
        }
      },
      "outputs": [
        {
          "output_type": "stream",
          "name": "stdout",
          "text": [
            "torch.Size([98908, 300])\n",
            "torch.Size([64, 300])\n",
            "torch.Size([64, 64])\n",
            "torch.Size([64])\n",
            "torch.Size([64])\n",
            "torch.Size([98908, 64])\n",
            "torch.Size([98908])\n",
            "Total params: 36124844\n",
            "Model param size in Mb: 137.8053436279297\n"
          ]
        }
      ],
      "source": [
        "model = RecLM(vocab_size=model_params['vocab_size'] // 2,\n",
        "              embed_dim=model_params['embed_dim'],\n",
        "              hidden_size=model_params['hidden_size'])\n",
        "\n",
        "get_nn_params_stat(model)"
      ]
    },
    {
      "cell_type": "markdown",
      "id": "088c6e99",
      "metadata": {
        "id": "088c6e99"
      },
      "source": [
        "#### >>>> Задание 3\n",
        "\n",
        "посмотрите, во сколько раз уменьшиться размер модели (в мегабайтах), если уменьшить в два раза размер словаря.  Пример: 5.423"
      ]
    },
    {
      "cell_type": "code",
      "execution_count": null,
      "id": "aa466df5",
      "metadata": {
        "id": "aa466df5",
        "colab": {
          "base_uri": "https://localhost:8080/"
        },
        "outputId": "89a740ee-4200-4877-a9ef-126a71326ae9"
      },
      "outputs": [
        {
          "output_type": "execute_result",
          "data": {
            "text/plain": [
              "1.813"
            ]
          },
          "metadata": {},
          "execution_count": 60
        }
      ],
      "source": [
        "round( 249.83359909057617 / 137.8053436279297, 3 )"
      ]
    },
    {
      "cell_type": "markdown",
      "id": "72c046a8",
      "metadata": {
        "id": "72c046a8"
      },
      "source": [
        "#### >>>> Задание 4\n",
        "\n",
        "Допустим, мы знаем, что на нашей гпу-карте мы можем выделить только 15 мб для нашей модели (при этом, все остальные ресурсы под оптимизатор, датасет и прочее уже учтены). В какое минимальное целое кол-во раз нужно уменьшить размер словаря, чтобы выполнить это требование?"
      ]
    },
    {
      "cell_type": "code",
      "execution_count": null,
      "id": "5214d5ba",
      "metadata": {
        "id": "5214d5ba",
        "colab": {
          "base_uri": "https://localhost:8080/"
        },
        "outputId": "0384c5fe-eb2f-47ce-8b89-42d9e1b02dcb"
      },
      "outputs": [
        {
          "output_type": "stream",
          "name": "stdout",
          "text": [
            "torch.Size([10411, 300])\n",
            "torch.Size([64, 300])\n",
            "torch.Size([64, 64])\n",
            "torch.Size([64])\n",
            "torch.Size([64])\n",
            "torch.Size([10411, 64])\n",
            "torch.Size([10411])\n",
            "Total params: 3823439\n",
            "Model param size in Mb: 14.585262298583984\n",
            "Ответ: 19\n"
          ]
        }
      ],
      "source": [
        "max_drop = 19\n",
        "\n",
        "model = RecLM(vocab_size=model_params['vocab_size'] // max_drop,\n",
        "              embed_dim=model_params['embed_dim'],\n",
        "              hidden_size=model_params['hidden_size'])\n",
        "\n",
        "get_nn_params_stat(model)\n",
        "print(f'Ответ: {max_drop}')"
      ]
    },
    {
      "cell_type": "markdown",
      "id": "de655561",
      "metadata": {
        "id": "de655561"
      },
      "source": [
        "Ответ - целое число, например 10"
      ]
    },
    {
      "cell_type": "markdown",
      "id": "fa74e49e",
      "metadata": {
        "id": "fa74e49e"
      },
      "source": [
        "### Уменьшим словарь\n",
        "\n",
        "Обучим BPE-токенизатор на нашем корпусе. Суть несложная - в качестве токенов мы будем использовать последовательности символов, которые оптимальнее всего сжимают текст (если последовательность токенов встречается очень часто - будем использовать ее как токен, и так итеративно можем построить словарь фиксированного размера)."
      ]
    },
    {
      "cell_type": "code",
      "execution_count": null,
      "id": "8d4be6fc",
      "metadata": {
        "execution": {
          "iopub.execute_input": "2024-02-21T15:21:52.214328Z",
          "iopub.status.busy": "2024-02-21T15:21:52.213923Z",
          "iopub.status.idle": "2024-02-21T15:21:52.219645Z",
          "shell.execute_reply": "2024-02-21T15:21:52.218528Z",
          "shell.execute_reply.started": "2024-02-21T15:21:52.214298Z"
        },
        "id": "8d4be6fc"
      },
      "outputs": [],
      "source": [
        "import tokenizers\n",
        "from tokenizers import Tokenizer\n",
        "from tokenizers.pre_tokenizers import Whitespace\n",
        "from tokenizers.models import BPE\n",
        "from tokenizers.trainers import BpeTrainer\n",
        "from tokenizers.processors import TemplateProcessing"
      ]
    },
    {
      "cell_type": "code",
      "execution_count": null,
      "id": "c5c80e6b",
      "metadata": {
        "execution": {
          "iopub.execute_input": "2024-02-21T15:21:53.601698Z",
          "iopub.status.busy": "2024-02-21T15:21:53.600936Z",
          "iopub.status.idle": "2024-02-21T15:21:53.605988Z",
          "shell.execute_reply": "2024-02-21T15:21:53.604938Z",
          "shell.execute_reply.started": "2024-02-21T15:21:53.601666Z"
        },
        "id": "c5c80e6b"
      },
      "outputs": [],
      "source": [
        "VOCAB_SIZE = 5_000"
      ]
    },
    {
      "cell_type": "code",
      "execution_count": null,
      "id": "55944acd",
      "metadata": {
        "execution": {
          "iopub.execute_input": "2024-02-21T15:21:53.818275Z",
          "iopub.status.busy": "2024-02-21T15:21:53.817491Z",
          "iopub.status.idle": "2024-02-21T15:21:53.829598Z",
          "shell.execute_reply": "2024-02-21T15:21:53.828457Z",
          "shell.execute_reply.started": "2024-02-21T15:21:53.818245Z"
        },
        "id": "55944acd"
      },
      "outputs": [],
      "source": [
        "tokenizer = Tokenizer(BPE(unk_token=\"[UNK]\"))\n",
        "tokenizer.pre_tokenizer = Whitespace()"
      ]
    },
    {
      "cell_type": "code",
      "execution_count": null,
      "id": "0661503b",
      "metadata": {
        "execution": {
          "iopub.execute_input": "2024-02-21T15:21:54.208604Z",
          "iopub.status.busy": "2024-02-21T15:21:54.208223Z",
          "iopub.status.idle": "2024-02-21T15:21:54.213383Z",
          "shell.execute_reply": "2024-02-21T15:21:54.212380Z",
          "shell.execute_reply.started": "2024-02-21T15:21:54.208573Z"
        },
        "id": "0661503b"
      },
      "outputs": [],
      "source": [
        "tokenizer.post_processor = TemplateProcessing(\n",
        "    single=\"[BOS] $A [EOS]\",\n",
        "    special_tokens=[(\"[BOS]\", 1), (\"[EOS]\", 4)],\n",
        ")"
      ]
    },
    {
      "cell_type": "code",
      "execution_count": null,
      "id": "eb346d0c",
      "metadata": {
        "execution": {
          "iopub.execute_input": "2024-02-21T15:21:55.873748Z",
          "iopub.status.busy": "2024-02-21T15:21:55.873376Z",
          "iopub.status.idle": "2024-02-21T15:21:55.878995Z",
          "shell.execute_reply": "2024-02-21T15:21:55.877931Z",
          "shell.execute_reply.started": "2024-02-21T15:21:55.873722Z"
        },
        "id": "eb346d0c"
      },
      "outputs": [],
      "source": [
        "trainer = BpeTrainer(vocab_size=VOCAB_SIZE,\n",
        "                     special_tokens=[\"[UNK]\", \"[BOS]\", \"[SEP]\", \"[PAD]\", \"[EOS]\"],\n",
        "                    show_progress=True)"
      ]
    },
    {
      "cell_type": "code",
      "execution_count": null,
      "id": "91dbe1ce",
      "metadata": {
        "execution": {
          "iopub.execute_input": "2024-02-21T15:21:56.222033Z",
          "iopub.status.busy": "2024-02-21T15:21:56.221651Z",
          "iopub.status.idle": "2024-02-21T15:21:56.227796Z",
          "shell.execute_reply": "2024-02-21T15:21:56.226801Z",
          "shell.execute_reply.started": "2024-02-21T15:21:56.222003Z"
        },
        "id": "91dbe1ce"
      },
      "outputs": [],
      "source": [
        "def simple_preprocess(text: str) -> str:\n",
        "    return text.lower()"
      ]
    },
    {
      "cell_type": "code",
      "execution_count": null,
      "id": "2a6dae20",
      "metadata": {
        "execution": {
          "iopub.execute_input": "2024-02-21T15:21:56.417784Z",
          "iopub.status.busy": "2024-02-21T15:21:56.417478Z",
          "iopub.status.idle": "2024-02-21T15:21:56.424025Z",
          "shell.execute_reply": "2024-02-21T15:21:56.423008Z",
          "shell.execute_reply.started": "2024-02-21T15:21:56.417758Z"
        },
        "id": "2a6dae20",
        "outputId": "178c7863-0e97-4907-cf8a-5de8ff2829cd",
        "colab": {
          "base_uri": "https://localhost:8080/"
        }
      },
      "outputs": [
        {
          "output_type": "execute_result",
          "data": {
            "text/plain": [
              "(5000, 500)"
            ]
          },
          "metadata": {},
          "execution_count": 73
        }
      ],
      "source": [
        "len(train_texts), len(test_texts)"
      ]
    },
    {
      "cell_type": "code",
      "execution_count": null,
      "id": "0bf4144b",
      "metadata": {
        "execution": {
          "iopub.execute_input": "2024-02-21T15:21:58.321546Z",
          "iopub.status.busy": "2024-02-21T15:21:58.321141Z",
          "iopub.status.idle": "2024-02-21T15:21:58.620086Z",
          "shell.execute_reply": "2024-02-21T15:21:58.619119Z",
          "shell.execute_reply.started": "2024-02-21T15:21:58.321515Z"
        },
        "id": "0bf4144b"
      },
      "outputs": [],
      "source": [
        "train_texts = list(map(simple_preprocess, train_texts))\n",
        "test_texts = list(map(simple_preprocess, test_texts))"
      ]
    },
    {
      "cell_type": "code",
      "execution_count": null,
      "id": "13a9f10d",
      "metadata": {
        "execution": {
          "iopub.execute_input": "2024-02-21T15:21:58.840914Z",
          "iopub.status.busy": "2024-02-21T15:21:58.840541Z",
          "iopub.status.idle": "2024-02-21T15:21:59.030530Z",
          "shell.execute_reply": "2024-02-21T15:21:59.029454Z",
          "shell.execute_reply.started": "2024-02-21T15:21:58.840885Z"
        },
        "id": "13a9f10d"
      },
      "outputs": [],
      "source": [
        "with open('new_train.txt', 'w') as fout:\n",
        "    print('\\n'.join(train_texts), file=fout)\n",
        "\n",
        "with open('new_test.txt', 'w') as fout:\n",
        "    print('\\n'.join(test_texts), file=fout)"
      ]
    },
    {
      "cell_type": "code",
      "execution_count": null,
      "id": "dbba4eb9",
      "metadata": {
        "execution": {
          "iopub.execute_input": "2024-02-21T15:22:00.157573Z",
          "iopub.status.busy": "2024-02-21T15:22:00.157158Z",
          "iopub.status.idle": "2024-02-21T15:22:05.272325Z",
          "shell.execute_reply": "2024-02-21T15:22:05.271363Z",
          "shell.execute_reply.started": "2024-02-21T15:22:00.157540Z"
        },
        "id": "dbba4eb9",
        "outputId": "4e1a0c40-eabb-4b9c-8929-6d4e81acbb23",
        "colab": {
          "base_uri": "https://localhost:8080/"
        }
      },
      "outputs": [
        {
          "output_type": "stream",
          "name": "stdout",
          "text": [
            "CPU times: user 22.7 s, sys: 295 ms, total: 23 s\n",
            "Wall time: 14.2 s\n"
          ]
        }
      ],
      "source": [
        "%%time\n",
        "files = [f'new_{key}.txt' for key in ['train', 'test']]\n",
        "tokenizer.train(files, trainer)"
      ]
    },
    {
      "cell_type": "code",
      "execution_count": null,
      "id": "1f349cf1",
      "metadata": {
        "execution": {
          "iopub.execute_input": "2024-02-21T15:22:05.274413Z",
          "iopub.status.busy": "2024-02-21T15:22:05.274092Z",
          "iopub.status.idle": "2024-02-21T15:22:05.281264Z",
          "shell.execute_reply": "2024-02-21T15:22:05.280263Z",
          "shell.execute_reply.started": "2024-02-21T15:22:05.274387Z"
        },
        "id": "1f349cf1",
        "outputId": "403dace7-2450-4bae-fe9b-82d98901091f",
        "colab": {
          "base_uri": "https://localhost:8080/"
        }
      },
      "outputs": [
        {
          "output_type": "execute_result",
          "data": {
            "text/plain": [
              "5000"
            ]
          },
          "metadata": {},
          "execution_count": 77
        }
      ],
      "source": [
        "tokenizer.get_vocab_size()"
      ]
    },
    {
      "cell_type": "code",
      "execution_count": null,
      "id": "ee3546af",
      "metadata": {
        "execution": {
          "iopub.execute_input": "2024-02-21T15:22:05.282709Z",
          "iopub.status.busy": "2024-02-21T15:22:05.282261Z",
          "iopub.status.idle": "2024-02-21T15:22:05.292682Z",
          "shell.execute_reply": "2024-02-21T15:22:05.291735Z",
          "shell.execute_reply.started": "2024-02-21T15:22:05.282667Z"
        },
        "id": "ee3546af",
        "outputId": "38014c86-46eb-4736-c557-a38d96ff15b0",
        "colab": {
          "base_uri": "https://localhost:8080/"
        }
      },
      "outputs": [
        {
          "output_type": "stream",
          "name": "stdout",
          "text": [
            "['[BOS]', '[UNK]', 'от', 'такие', 'пи', 'ро', 'ги', '!', '[EOS]']\n",
            "['[BOS]', 'вот', 'такие', 'пи', 'ро', 'ги', '!', '[EOS]']\n",
            "[1, 1119, 2033, 236, 146, 234, 5, 4]\n",
            "[1, 0, 0, 0, 0, 0, 0, 1]\n"
          ]
        }
      ],
      "source": [
        "text = 'Вот такие пироги!'\n",
        "\n",
        "print(tokenizer.encode(text).tokens)\n",
        "print(tokenizer.encode(text.lower()).tokens)\n",
        "print(tokenizer.encode(text.lower()).ids)\n",
        "print(tokenizer.encode(text.lower()).special_tokens_mask)\n"
      ]
    },
    {
      "cell_type": "code",
      "execution_count": null,
      "id": "0acab2fc",
      "metadata": {
        "execution": {
          "iopub.execute_input": "2024-02-21T15:22:35.024361Z",
          "iopub.status.busy": "2024-02-21T15:22:35.023692Z",
          "iopub.status.idle": "2024-02-21T15:22:35.035639Z",
          "shell.execute_reply": "2024-02-21T15:22:35.034667Z",
          "shell.execute_reply.started": "2024-02-21T15:22:35.024316Z"
        },
        "id": "0acab2fc",
        "outputId": "f1e44abc-81ba-4f2a-a3cc-afe257ec7a6b",
        "colab": {
          "base_uri": "https://localhost:8080/",
          "height": 35
        }
      },
      "outputs": [
        {
          "output_type": "execute_result",
          "data": {
            "text/plain": [
              "'[UNK]'"
            ],
            "application/vnd.google.colaboratory.intrinsic+json": {
              "type": "string"
            }
          },
          "metadata": {},
          "execution_count": 79
        }
      ],
      "source": [
        "{ind: token for token, ind in tokenizer.get_vocab().items()}[0]"
      ]
    },
    {
      "cell_type": "code",
      "execution_count": null,
      "id": "61429626",
      "metadata": {
        "execution": {
          "iopub.execute_input": "2024-02-21T15:22:36.072989Z",
          "iopub.status.busy": "2024-02-21T15:22:36.072093Z",
          "iopub.status.idle": "2024-02-21T15:22:36.082186Z",
          "shell.execute_reply": "2024-02-21T15:22:36.081125Z",
          "shell.execute_reply.started": "2024-02-21T15:22:36.072952Z"
        },
        "id": "61429626",
        "outputId": "be9ef2aa-b8d3-42ad-c5bf-27ff11a1cd4a",
        "colab": {
          "base_uri": "https://localhost:8080/"
        }
      },
      "outputs": [
        {
          "output_type": "execute_result",
          "data": {
            "text/plain": [
              "4"
            ]
          },
          "metadata": {},
          "execution_count": 80
        }
      ],
      "source": [
        "tokenizer.get_vocab()['[EOS]']"
      ]
    },
    {
      "cell_type": "markdown",
      "id": "ac5ae1fe",
      "metadata": {
        "id": "ac5ae1fe"
      },
      "source": [
        "Токенизируем трейн и тест данные"
      ]
    },
    {
      "cell_type": "code",
      "execution_count": null,
      "id": "59dd23d6",
      "metadata": {
        "execution": {
          "iopub.execute_input": "2024-02-21T15:22:39.354702Z",
          "iopub.status.busy": "2024-02-21T15:22:39.354330Z",
          "iopub.status.idle": "2024-02-21T15:22:39.361746Z",
          "shell.execute_reply": "2024-02-21T15:22:39.360787Z",
          "shell.execute_reply.started": "2024-02-21T15:22:39.354675Z"
        },
        "id": "59dd23d6"
      },
      "outputs": [],
      "source": [
        "context_size = 32\n",
        "\n",
        "def get_bpe_tokenized_data(tokenizer: tokenizers.Tokenizer,\n",
        "                           texts: List[str],\n",
        "                           context_size: int) -> (List[List[int]], List[List[int]]):\n",
        "    tokenized_inputs, tokenized_targets = [], []\n",
        "    for text in tqdm(texts):\n",
        "        tokens = tokenizer.encode(text).ids\n",
        "        for i in range(len(tokens) - context_size):\n",
        "            inputs = tokens[i: i + context_size]\n",
        "            targets = tokens[i + 1: i + 1 + context_size]\n",
        "            tokenized_inputs.append(inputs)\n",
        "            tokenized_targets.append(targets)\n",
        "    return tokenized_inputs, tokenized_targets"
      ]
    },
    {
      "cell_type": "code",
      "execution_count": null,
      "id": "a2eeca8a",
      "metadata": {
        "execution": {
          "iopub.execute_input": "2024-02-21T15:22:52.476025Z",
          "iopub.status.busy": "2024-02-21T15:22:52.475234Z",
          "iopub.status.idle": "2024-02-21T15:23:13.168200Z",
          "shell.execute_reply": "2024-02-21T15:23:13.167254Z",
          "shell.execute_reply.started": "2024-02-21T15:22:52.475991Z"
        },
        "colab": {
          "referenced_widgets": [
            "7f73005284094c589d0f14a4d5110aac",
            "c390482303c5430e83b30cd4a3404dcd",
            "21089ffa14ca437dafa0fa6b442e7061",
            "8bb0ed52ee3d4567b2aad8e708fc4e62",
            "aaa7385d800542b194ceaaee89200f44",
            "4f9fd3020d49430abd3c36a0f056de25",
            "b32cc7d10a3048d0afd000c314a109e2",
            "b84fb80719bb405b8097a2050f662623",
            "ceaf82ff22d743129b5388affee35581",
            "c21633e66f0a4500b245d6d17671c104",
            "bd095efc6acb4f0d8ce4708683952ba1",
            "3fcb445a01a6409a891c46e792a8b47e",
            "9c63b66b3d3943aabf8357bce4137670",
            "8007874520d045e092b50229c3cc5a54",
            "6eaea048a55d4719b6d2f51badebad32",
            "69ebd4768f9144d5ad8ef7481dc9a7b6",
            "65776d31e94d4938bab477f5c29046b7",
            "08ed24cc1d654613914a365345547bfd",
            "ca7dc60b966849e2a33e2922784e5571",
            "ed8f60e627d7480b95ca85a34df78100",
            "809b815c63ae405bae9314736b5081d3",
            "7df90beadbf04f82a5b7bfc309a18325"
          ],
          "base_uri": "https://localhost:8080/",
          "height": 98
        },
        "id": "a2eeca8a",
        "outputId": "5d83c96f-5ff3-4c87-9aec-70454302273f"
      },
      "outputs": [
        {
          "output_type": "display_data",
          "data": {
            "text/plain": [
              "  0%|          | 0/1024 [00:00<?, ?it/s]"
            ],
            "application/vnd.jupyter.widget-view+json": {
              "version_major": 2,
              "version_minor": 0,
              "model_id": "7f73005284094c589d0f14a4d5110aac"
            }
          },
          "metadata": {}
        },
        {
          "output_type": "display_data",
          "data": {
            "text/plain": [
              "  0%|          | 0/128 [00:00<?, ?it/s]"
            ],
            "application/vnd.jupyter.widget-view+json": {
              "version_major": 2,
              "version_minor": 0,
              "model_id": "3fcb445a01a6409a891c46e792a8b47e"
            }
          },
          "metadata": {}
        },
        {
          "output_type": "execute_result",
          "data": {
            "text/plain": [
              "(torch.Size([32, 32]), torch.Size([32, 32]))"
            ]
          },
          "metadata": {},
          "execution_count": 82
        }
      ],
      "source": [
        "batch_size = 32\n",
        "\n",
        "tokenized_inputs_train, tokenized_targets_train = get_bpe_tokenized_data(tokenizer, train_texts[:1024], context_size)\n",
        "tokenized_inputs_test, tokenized_targets_test = get_bpe_tokenized_data(tokenizer, test_texts[:128], context_size)\n",
        "\n",
        "train_dataset = NewsDataset(tokenized_inputs_train, tokenized_targets_train)\n",
        "test_dataset = NewsDataset(tokenized_inputs_test, tokenized_targets_test)\n",
        "\n",
        "train_dl = DataLoader(train_dataset, batch_size=batch_size, shuffle=True, drop_last=True)\n",
        "test_dl = DataLoader(test_dataset, batch_size=batch_size, shuffle=False, drop_last=False)\n",
        "\n",
        "t0, t1 = next(iter(train_dl))\n",
        "t0.shape, t1.shape"
      ]
    },
    {
      "cell_type": "markdown",
      "id": "0e1c0b12",
      "metadata": {
        "id": "0e1c0b12"
      },
      "source": [
        "Чтобы эксперименты можно запустить на Kaggle или Google Colab, выставим небольшие параметры (размер словаря выбран по тем же принципам быстроты экспериментов, но обычно он выбирается 30_000 или в радиусе).\n",
        "\n",
        "Если у вас есть собственные мощности либо свободное время, можете дополнительно поэкспермиентировать с сетями помощнее и перебрать параметры."
      ]
    },
    {
      "cell_type": "code",
      "execution_count": null,
      "id": "710601c2",
      "metadata": {
        "execution": {
          "iopub.execute_input": "2024-02-21T15:23:14.239621Z",
          "iopub.status.busy": "2024-02-21T15:23:14.238696Z",
          "iopub.status.idle": "2024-02-21T15:23:14.246709Z",
          "shell.execute_reply": "2024-02-21T15:23:14.245656Z",
          "shell.execute_reply.started": "2024-02-21T15:23:14.239571Z"
        },
        "id": "710601c2"
      },
      "outputs": [],
      "source": [
        "optimizer_params = {}\n",
        "\n",
        "model_params = {\n",
        "    'vocab_size': tokenizer.get_vocab_size(),\n",
        "    'embed_dim': 300,\n",
        "    'hidden_size': 64\n",
        "}\n",
        "\n",
        "device = 'cuda:0' if torch.cuda.is_available() else 'cpu'\n",
        "\n",
        "n_epochs = 1"
      ]
    },
    {
      "cell_type": "code",
      "execution_count": null,
      "id": "46dc050b",
      "metadata": {
        "execution": {
          "iopub.execute_input": "2024-02-21T15:23:18.014473Z",
          "iopub.status.busy": "2024-02-21T15:23:18.013601Z",
          "iopub.status.idle": "2024-02-21T15:23:18.036092Z",
          "shell.execute_reply": "2024-02-21T15:23:18.035366Z",
          "shell.execute_reply.started": "2024-02-21T15:23:18.014429Z"
        },
        "id": "46dc050b"
      },
      "outputs": [],
      "source": [
        "model = RecLM(vocab_size=model_params['vocab_size'],\n",
        "              embed_dim=model_params['embed_dim'],\n",
        "              hidden_size=model_params['hidden_size'])"
      ]
    },
    {
      "cell_type": "code",
      "execution_count": null,
      "id": "7a0d977c",
      "metadata": {
        "execution": {
          "iopub.execute_input": "2024-02-21T15:23:18.539714Z",
          "iopub.status.busy": "2024-02-21T15:23:18.538920Z",
          "iopub.status.idle": "2024-02-21T15:23:18.545627Z",
          "shell.execute_reply": "2024-02-21T15:23:18.544165Z",
          "shell.execute_reply.started": "2024-02-21T15:23:18.539671Z"
        },
        "id": "7a0d977c",
        "outputId": "9bb336fc-2401-453c-f225-caca2a76e8a1",
        "colab": {
          "base_uri": "https://localhost:8080/"
        }
      },
      "outputs": [
        {
          "output_type": "stream",
          "name": "stdout",
          "text": [
            "torch.Size([5000, 300])\n",
            "torch.Size([64, 300])\n",
            "torch.Size([64, 64])\n",
            "torch.Size([64])\n",
            "torch.Size([64])\n",
            "torch.Size([5000, 64])\n",
            "torch.Size([5000])\n",
            "Total params: 1848424\n",
            "Model param size in Mb: 7.051177978515625\n"
          ]
        }
      ],
      "source": [
        "get_nn_params_stat(model)"
      ]
    },
    {
      "cell_type": "markdown",
      "id": "45d9be6f",
      "metadata": {
        "id": "45d9be6f"
      },
      "source": [
        "Можете оценить, во сколько раз изменился размер сети, при этом весь текст мы кодируем, и никакие токены не теряем (в случае токенизации по словам, выкидывание слова означало потерю сигнала и замену токена на Unknown)\n",
        "\n",
        "Вывод: большую часть параметров подобных сетей содержит слой эмбеддинга. Во многих работах это пытаются исправить: декомпозировать этот слой низкоранговыми матрицами, переиспользовать слой эмбеддингов из начала сети в конце и др. Ну и самое главное - использовать словарь поменьше, 30_000 - классический размер словаря с BPE-токенизацией."
      ]
    },
    {
      "cell_type": "code",
      "execution_count": null,
      "id": "6937b2df",
      "metadata": {
        "execution": {
          "iopub.execute_input": "2024-02-21T15:42:48.873448Z",
          "iopub.status.busy": "2024-02-21T15:42:48.873043Z",
          "iopub.status.idle": "2024-02-21T15:42:48.899231Z",
          "shell.execute_reply": "2024-02-21T15:42:48.898334Z",
          "shell.execute_reply.started": "2024-02-21T15:42:48.873416Z"
        },
        "id": "6937b2df"
      },
      "outputs": [],
      "source": [
        "trainer = Trainer(model_params, optimizer_params, n_epochs,\n",
        "       train_dl, test_dl, device)"
      ]
    },
    {
      "cell_type": "code",
      "execution_count": null,
      "id": "229cb742",
      "metadata": {
        "execution": {
          "iopub.execute_input": "2024-02-21T15:42:53.537970Z",
          "iopub.status.busy": "2024-02-21T15:42:53.537602Z",
          "iopub.status.idle": "2024-02-21T15:42:53.542442Z",
          "shell.execute_reply": "2024-02-21T15:42:53.541410Z",
          "shell.execute_reply.started": "2024-02-21T15:42:53.537943Z"
        },
        "id": "229cb742"
      },
      "outputs": [],
      "source": [
        "import os"
      ]
    },
    {
      "cell_type": "code",
      "execution_count": null,
      "id": "c37d33eb",
      "metadata": {
        "execution": {
          "iopub.execute_input": "2024-02-21T15:42:54.699303Z",
          "iopub.status.busy": "2024-02-21T15:42:54.698927Z",
          "iopub.status.idle": "2024-02-21T15:49:49.150697Z",
          "shell.execute_reply": "2024-02-21T15:49:49.149732Z",
          "shell.execute_reply.started": "2024-02-21T15:42:54.699273Z"
        },
        "colab": {
          "referenced_widgets": [
            "1828cf7c1dbe443ba09c593a729cacbb",
            "107a980ac13141cdb217738eba66abd9",
            "787c20ee109a450cba771a82857fa208",
            "821613261352424cb2532813c7b217cc",
            "7d86391150dd46bba7ca6fa86f9d8dbd",
            "ef7f33e3fb9144afbac901e7a10fe212",
            "0308d31e951e478a81b799e0156a9258",
            "ae8262f89cbf49908e929f0af863788c",
            "d89fee86366440a6b4380590701d618e",
            "0185a223192443da801812f4e859ace0",
            "5adc5c6a54cf4200800cc4b0b04e254b",
            "2f0983562fd14df381eade6154523217",
            "7bf95fcd1cd54e768eb40bc36419aa9a",
            "5a0b3071978d499a81d799f5b54ec665",
            "850e4fa2135d4afb87d017121f7cf672",
            "e741ec5badfe4900b40b6674ed789d7d",
            "bc079f3e41ee41e8a4637a89dbf9a6d3",
            "8b0f46a3f4d64788811e31211ebba7cd",
            "0b1d73acc5744aecae4a2cc592f9dc69",
            "b8b392893f6549ffaf783d258231346e",
            "163b87665f5540e5b08a99618388c2fd",
            "2ad0393387d44e3c81407b9e96bd4368",
            "6403646f325143628d1a4805a706d642",
            "17a3420ddcad45b0a5cd1633c1d48c9b",
            "8c1ac3e465914da8b50e49e3c8f6237f",
            "3ad149e6d7664148b3d417b9f5eac504",
            "783bdefe25734e6bae6d8a63218d6865",
            "48bd2e62e643457b9281cc75d15d51ca",
            "705fe7ad250f43f6b443f1c02eb5a4cd",
            "8bb1e5fd0d2f4770bca7243696ad8101",
            "07ee58c47dea4e9e96595129eb632d04",
            "12a5db05b63a4844a1212e69791660f7",
            "90cec586947f4f29b1218843ff70f9c0"
          ],
          "base_uri": "https://localhost:8080/",
          "height": 148
        },
        "id": "c37d33eb",
        "outputId": "94c9552f-af2f-423f-a93f-486c4cb1f9ec"
      },
      "outputs": [
        {
          "output_type": "display_data",
          "data": {
            "text/plain": [
              "  0%|          | 0/1 [00:00<?, ?it/s]"
            ],
            "application/vnd.jupyter.widget-view+json": {
              "version_major": 2,
              "version_minor": 0,
              "model_id": "1828cf7c1dbe443ba09c593a729cacbb"
            }
          },
          "metadata": {}
        },
        {
          "output_type": "display_data",
          "data": {
            "text/plain": [
              "batches:   0%|          | 0/34677 [00:00<?, ?it/s]"
            ],
            "application/vnd.jupyter.widget-view+json": {
              "version_major": 2,
              "version_minor": 0,
              "model_id": "2f0983562fd14df381eade6154523217"
            }
          },
          "metadata": {}
        },
        {
          "output_type": "stream",
          "name": "stdout",
          "text": [
            "Epoch 0 loss for train: 5.032308854538907\n"
          ]
        },
        {
          "output_type": "display_data",
          "data": {
            "text/plain": [
              "batches:   0%|          | 0/4603 [00:00<?, ?it/s]"
            ],
            "application/vnd.jupyter.widget-view+json": {
              "version_major": 2,
              "version_minor": 0,
              "model_id": "6403646f325143628d1a4805a706d642"
            }
          },
          "metadata": {}
        },
        {
          "output_type": "stream",
          "name": "stdout",
          "text": [
            "Epoch 0 loss for val: 5.514762166218216\n"
          ]
        }
      ],
      "source": [
        "trainer.train_model()"
      ]
    },
    {
      "cell_type": "markdown",
      "id": "8f786f97",
      "metadata": {
        "id": "8f786f97"
      },
      "source": [
        "## Результат\n",
        "\n",
        "С помощью обученной модели можно что-нибудь сгенерировать с помощью кода ниже. Поисследуйте поведение модели, насколько разнообразный текс генерируется, насколько текст правдоподбный"
      ]
    },
    {
      "cell_type": "markdown",
      "id": "af81be45",
      "metadata": {
        "id": "af81be45"
      },
      "source": [
        "#### >>>> Задание 5.\n",
        "\n",
        "В лекциях мы рассматривали, как получить из вектора логитов вероятностное распределение (все числа в векторе суммируются в 1, все числа от 0 до 1). Эта функция также реализована в torch, в модуле torch.nn.functional. Допишите в методе _ get_next_token только эту функцию (при ее добавлении код в ячейках ниже не должен падать), и это же слово используйте в качестве ответа. Например: relu"
      ]
    },
    {
      "cell_type": "code",
      "execution_count": null,
      "id": "500da84b",
      "metadata": {
        "execution": {
          "iopub.execute_input": "2024-02-21T15:49:49.153702Z",
          "iopub.status.busy": "2024-02-21T15:49:49.153229Z",
          "iopub.status.idle": "2024-02-21T15:49:49.174432Z",
          "shell.execute_reply": "2024-02-21T15:49:49.173408Z",
          "shell.execute_reply.started": "2024-02-21T15:49:49.153659Z"
        },
        "id": "500da84b"
      },
      "outputs": [],
      "source": [
        "class TextGenerator:\n",
        "    def __init__(self,\n",
        "                 model: nn.Module,\n",
        "                 tokenizer: tokenizers.Tokenizer,\n",
        "                 context_size: int,\n",
        "                 eos_token_id: int,\n",
        "                 sample_top_p: Optional[float] = None):\n",
        "\n",
        "        self.model = model.eval()\n",
        "        self.tokenizer = tokenizer\n",
        "        self.eos_token_id = eos_token_id\n",
        "        self.context_size = context_size\n",
        "        self.sample_top_p = sample_top_p\n",
        "\n",
        "    def sample_token(self, token_distribution: np.ndarray) -> int:\n",
        "        if self.sample_top_p is None:\n",
        "            return token_distribution.argmax()\n",
        "        else:\n",
        "            token_distribution = sorted(list(zip(token_distribution, np.arange(len(token_distribution)))))\n",
        "            total_proba = 0.0\n",
        "            tokens_to_sample = []\n",
        "            tokens_probas = []\n",
        "            for token_proba, ind in sorted(token_distribution, reverse=True):\n",
        "                tokens_to_sample.append(ind)\n",
        "                tokens_probas.append(token_proba)\n",
        "                total_proba += token_proba\n",
        "                if total_proba >= self.sample_top_p:\n",
        "                    break\n",
        "            # для простоты отнормируем вероятности, чтобы суммировались в единицу\n",
        "            tokens_probas = np.array(tokens_probas)\n",
        "            tokens_probas = tokens_probas / tokens_probas.sum()\n",
        "            return np.random.choice(tokens_to_sample, p=tokens_probas)\n",
        "\n",
        "\n",
        "    def _get_next_token(self, tokens: List[int]) -> (int, str):\n",
        "        tensor_inputs = torch.LongTensor([tokens])\n",
        "        with torch.no_grad():\n",
        "            logits = model(tensor_inputs)[0][-1]\n",
        "            func = torch.nn.functional.softmax # TODO используем функцию из torch.nn.functional, чтобы получить вероятности\n",
        "            token_distribution = func(logits)\n",
        "            max_proba_ind = self.sample_token(token_distribution.numpy())\n",
        "\n",
        "        # print(token_distribution.shape, token_distribution)\n",
        "        next_token = self.tokenizer.id_to_token(max_proba_ind)\n",
        "\n",
        "        return max_proba_ind, next_token\n",
        "\n",
        "    def generate_token(self, text: str, remove_special_tokens: bool = False) -> Dict:\n",
        "        tokens = self.tokenizer.encode(text.lower()).ids\n",
        "        if tokens[-1] == self.eos_token_id:\n",
        "            tokens.pop()\n",
        "        tokens = tokens[-self.context_size:]\n",
        "        max_proba_ind, next_token = self._get_next_token(tokens)\n",
        "\n",
        "        return {\n",
        "            'next_token': next_token,\n",
        "            'next_token_num': max_proba_ind,\n",
        "        }\n",
        "\n",
        "\n",
        "    def generate_text(self,\n",
        "                      text: str,\n",
        "                      max_tokens: int,\n",
        "                      remove_special_tokens: bool = False,\n",
        "                      ) -> Dict:\n",
        "\n",
        "        all_tokens = tokenizer.encode(text.lower()).ids\n",
        "        if all_tokens[-1] == self.eos_token_id:\n",
        "            all_tokens.pop()\n",
        "        tokens = all_tokens[-self.context_size:]\n",
        "        if not tokens:\n",
        "            return {\n",
        "                'all_tokens': all_tokens,\n",
        "                'total_text': '',\n",
        "                'finish_reason': 'empty_input'\n",
        "            }\n",
        "\n",
        "        max_proba_ind = None\n",
        "        while max_proba_ind != self.eos_token_id and len(all_tokens) < max_tokens:\n",
        "            max_proba_ind, next_token = self._get_next_token(tokens)\n",
        "            all_tokens.append(max_proba_ind)\n",
        "            tokens = all_tokens[-self.context_size:]\n",
        "\n",
        "        new_text = self.tokenizer.decode(all_tokens, remove_special_tokens)\n",
        "\n",
        "        finish_reason = 'max tokens'\n",
        "        if all_tokens[-1] == self.eos_token_id:\n",
        "            finish_reason = 'end of text'\n",
        "\n",
        "        return {\n",
        "            'all_tokens': all_tokens,\n",
        "            'total_text': new_text,\n",
        "            'finish_reason': finish_reason\n",
        "        }"
      ]
    },
    {
      "cell_type": "code",
      "execution_count": null,
      "id": "abd71f8a",
      "metadata": {
        "execution": {
          "iopub.execute_input": "2024-02-21T15:49:49.176619Z",
          "iopub.status.busy": "2024-02-21T15:49:49.175784Z",
          "iopub.status.idle": "2024-02-21T15:49:49.190083Z",
          "shell.execute_reply": "2024-02-21T15:49:49.189241Z",
          "shell.execute_reply.started": "2024-02-21T15:49:49.176582Z"
        },
        "id": "abd71f8a"
      },
      "outputs": [],
      "source": [
        "text_generator = TextGenerator(model,\n",
        "                               tokenizer,\n",
        "                               context_size,\n",
        "                               tokenizer.token_to_id('[EOS]'),\n",
        "                               sample_top_p=None)"
      ]
    },
    {
      "cell_type": "code",
      "execution_count": null,
      "id": "4c31523f",
      "metadata": {
        "execution": {
          "iopub.execute_input": "2024-02-21T15:49:49.192040Z",
          "iopub.status.busy": "2024-02-21T15:49:49.191778Z",
          "iopub.status.idle": "2024-02-21T15:49:49.256334Z",
          "shell.execute_reply": "2024-02-21T15:49:49.255298Z",
          "shell.execute_reply.started": "2024-02-21T15:49:49.192016Z"
        },
        "id": "4c31523f",
        "outputId": "398838f8-9875-416c-b1d9-1e633fb6e41e",
        "colab": {
          "base_uri": "https://localhost:8080/"
        }
      },
      "outputs": [
        {
          "output_type": "stream",
          "name": "stderr",
          "text": [
            "<ipython-input-89-98cf5ce5821c>:40: UserWarning: Implicit dimension choice for softmax has been deprecated. Change the call to include dim=X as an argument.\n",
            "  token_distribution = func(logits)\n"
          ]
        },
        {
          "output_type": "execute_result",
          "data": {
            "text/plain": [
              "{'next_token': 'россия', 'next_token_num': 559}"
            ]
          },
          "metadata": {},
          "execution_count": 91
        }
      ],
      "source": [
        "text = \"Вот такие пироги\"\n",
        "text_generator.generate_token(text, )"
      ]
    },
    {
      "cell_type": "code",
      "execution_count": null,
      "id": "c665326c",
      "metadata": {
        "execution": {
          "iopub.execute_input": "2024-02-21T15:49:49.258588Z",
          "iopub.status.busy": "2024-02-21T15:49:49.257919Z",
          "iopub.status.idle": "2024-02-21T15:49:49.267349Z",
          "shell.execute_reply": "2024-02-21T15:49:49.266315Z",
          "shell.execute_reply.started": "2024-02-21T15:49:49.258557Z"
        },
        "id": "c665326c",
        "outputId": "e30b93c7-0b15-4111-c19a-3d3042a7f2bd",
        "colab": {
          "base_uri": "https://localhost:8080/"
        }
      },
      "outputs": [
        {
          "output_type": "stream",
          "name": "stderr",
          "text": [
            "<ipython-input-89-98cf5ce5821c>:40: UserWarning: Implicit dimension choice for softmax has been deprecated. Change the call to include dim=X as an argument.\n",
            "  token_distribution = func(logits)\n"
          ]
        },
        {
          "output_type": "execute_result",
          "data": {
            "text/plain": [
              "{'next_token': 'вопросы', 'next_token_num': 2692}"
            ]
          },
          "metadata": {},
          "execution_count": 92
        }
      ],
      "source": [
        "text = \"В современном мире \"\n",
        "text_generator.generate_token(text, )"
      ]
    },
    {
      "cell_type": "code",
      "execution_count": null,
      "id": "a82c08c8",
      "metadata": {
        "execution": {
          "iopub.execute_input": "2024-02-21T15:49:49.268868Z",
          "iopub.status.busy": "2024-02-21T15:49:49.268571Z",
          "iopub.status.idle": "2024-02-21T15:49:49.385186Z",
          "shell.execute_reply": "2024-02-21T15:49:49.384263Z",
          "shell.execute_reply.started": "2024-02-21T15:49:49.268843Z"
        },
        "id": "a82c08c8",
        "outputId": "f31e8527-6c73-4d1b-a985-a73219c868b9",
        "colab": {
          "base_uri": "https://localhost:8080/",
          "height": 124
        }
      },
      "outputs": [
        {
          "output_type": "stream",
          "name": "stderr",
          "text": [
            "<ipython-input-89-98cf5ce5821c>:40: UserWarning: Implicit dimension choice for softmax has been deprecated. Change the call to include dim=X as an argument.\n",
            "  token_distribution = func(logits)\n"
          ]
        },
        {
          "output_type": "execute_result",
          "data": {
            "text/plain": [
              "'[BOS] в совреме нном мире вопросы хот сокра наше фон работ c самое декабря уво ‑ тельный органи летний сборная таможе организа сотруд обыгра чел нан таря тро джо матча вратарь ченко соответ лич сборной туры питер пресс францу фактически отличие играли подоб явно тихо сколько понедельник ресур часов зарегистри > лад будем ними деля х двига зов лении мии эту момен пления дмитри'"
            ],
            "application/vnd.google.colaboratory.intrinsic+json": {
              "type": "string"
            }
          },
          "metadata": {},
          "execution_count": 93
        }
      ],
      "source": [
        "text = \"В современном мире \"\n",
        "text_generator.generate_text(text, max_tokens=64)['total_text']"
      ]
    },
    {
      "cell_type": "markdown",
      "id": "26500ae2",
      "metadata": {
        "id": "26500ae2"
      },
      "source": [
        "Модель достаточно простая - малый словарь, мало параметров к RNN, мало обучали, на малом количестве данных. Это приводит к тому, что тексты получаются не самые правдоподобные. Экспериментируя с гиперпараметрами (включая размер выбранного датасета), мне удалось достичь приемлемого качества генерации. Ради интереса, можете попробовать сделать также."
      ]
    },
    {
      "cell_type": "code",
      "execution_count": null,
      "id": "c9b45ac8",
      "metadata": {
        "id": "c9b45ac8"
      },
      "outputs": [],
      "source": []
    }
  ],
  "metadata": {
    "kaggle": {
      "accelerator": "nvidiaTeslaT4",
      "dataSources": [],
      "dockerImageVersionId": 30648,
      "isGpuEnabled": true,
      "isInternetEnabled": true,
      "language": "python",
      "sourceType": "notebook"
    },
    "kernelspec": {
      "display_name": "Python 3",
      "name": "python3"
    },
    "language_info": {
      "codemirror_mode": {
        "name": "ipython",
        "version": 3
      },
      "file_extension": ".py",
      "mimetype": "text/x-python",
      "name": "python",
      "nbconvert_exporter": "python",
      "pygments_lexer": "ipython3",
      "version": "3.8.0"
    },
    "toc": {
      "base_numbering": 1,
      "nav_menu": {},
      "number_sections": true,
      "sideBar": true,
      "skip_h1_title": false,
      "title_cell": "Table of Contents",
      "title_sidebar": "Contents",
      "toc_cell": false,
      "toc_position": {},
      "toc_section_display": true,
      "toc_window_display": false
    },
    "colab": {
      "provenance": [],
      "gpuType": "T4"
    },
    "accelerator": "GPU",
    "widgets": {
      "application/vnd.jupyter.widget-state+json": {
        "f6c3e305724c44d6bf986f1956324641": {
          "model_module": "@jupyter-widgets/controls",
          "model_name": "HBoxModel",
          "model_module_version": "1.5.0",
          "state": {
            "_dom_classes": [],
            "_model_module": "@jupyter-widgets/controls",
            "_model_module_version": "1.5.0",
            "_model_name": "HBoxModel",
            "_view_count": null,
            "_view_module": "@jupyter-widgets/controls",
            "_view_module_version": "1.5.0",
            "_view_name": "HBoxView",
            "box_style": "",
            "children": [
              "IPY_MODEL_37f0bac825d74bb49b698b7b087bbbc2",
              "IPY_MODEL_6d5a3703b5e4427496fdb35260e4c3f0",
              "IPY_MODEL_6b913286dee24c6bb525afbb99cb4d13"
            ],
            "layout": "IPY_MODEL_d81d18bd686e47409e9b57bf17fdfd52"
          }
        },
        "37f0bac825d74bb49b698b7b087bbbc2": {
          "model_module": "@jupyter-widgets/controls",
          "model_name": "HTMLModel",
          "model_module_version": "1.5.0",
          "state": {
            "_dom_classes": [],
            "_model_module": "@jupyter-widgets/controls",
            "_model_module_version": "1.5.0",
            "_model_name": "HTMLModel",
            "_view_count": null,
            "_view_module": "@jupyter-widgets/controls",
            "_view_module_version": "1.5.0",
            "_view_name": "HTMLView",
            "description": "",
            "description_tooltip": null,
            "layout": "IPY_MODEL_8c60a8c308c64b179e1e7c39f173b9a8",
            "placeholder": "​",
            "style": "IPY_MODEL_8d5f946cd84c4f80b3ff05456edb99c1",
            "value": "Downloading builder script: 100%"
          }
        },
        "6d5a3703b5e4427496fdb35260e4c3f0": {
          "model_module": "@jupyter-widgets/controls",
          "model_name": "FloatProgressModel",
          "model_module_version": "1.5.0",
          "state": {
            "_dom_classes": [],
            "_model_module": "@jupyter-widgets/controls",
            "_model_module_version": "1.5.0",
            "_model_name": "FloatProgressModel",
            "_view_count": null,
            "_view_module": "@jupyter-widgets/controls",
            "_view_module_version": "1.5.0",
            "_view_name": "ProgressView",
            "bar_style": "success",
            "description": "",
            "description_tooltip": null,
            "layout": "IPY_MODEL_3ac19dd0e1154508b0e79a993c7e6b66",
            "max": 3010,
            "min": 0,
            "orientation": "horizontal",
            "style": "IPY_MODEL_1d1f4f6281ea489a9ef3cb9dcdb5e8bb",
            "value": 3010
          }
        },
        "6b913286dee24c6bb525afbb99cb4d13": {
          "model_module": "@jupyter-widgets/controls",
          "model_name": "HTMLModel",
          "model_module_version": "1.5.0",
          "state": {
            "_dom_classes": [],
            "_model_module": "@jupyter-widgets/controls",
            "_model_module_version": "1.5.0",
            "_model_name": "HTMLModel",
            "_view_count": null,
            "_view_module": "@jupyter-widgets/controls",
            "_view_module_version": "1.5.0",
            "_view_name": "HTMLView",
            "description": "",
            "description_tooltip": null,
            "layout": "IPY_MODEL_1c956177c3944693ba483603b84fc13a",
            "placeholder": "​",
            "style": "IPY_MODEL_1b7e5dfa869d47dabeac4e5906c5e39b",
            "value": " 3.01k/3.01k [00:00&lt;00:00, 216kB/s]"
          }
        },
        "d81d18bd686e47409e9b57bf17fdfd52": {
          "model_module": "@jupyter-widgets/base",
          "model_name": "LayoutModel",
          "model_module_version": "1.2.0",
          "state": {
            "_model_module": "@jupyter-widgets/base",
            "_model_module_version": "1.2.0",
            "_model_name": "LayoutModel",
            "_view_count": null,
            "_view_module": "@jupyter-widgets/base",
            "_view_module_version": "1.2.0",
            "_view_name": "LayoutView",
            "align_content": null,
            "align_items": null,
            "align_self": null,
            "border": null,
            "bottom": null,
            "display": null,
            "flex": null,
            "flex_flow": null,
            "grid_area": null,
            "grid_auto_columns": null,
            "grid_auto_flow": null,
            "grid_auto_rows": null,
            "grid_column": null,
            "grid_gap": null,
            "grid_row": null,
            "grid_template_areas": null,
            "grid_template_columns": null,
            "grid_template_rows": null,
            "height": null,
            "justify_content": null,
            "justify_items": null,
            "left": null,
            "margin": null,
            "max_height": null,
            "max_width": null,
            "min_height": null,
            "min_width": null,
            "object_fit": null,
            "object_position": null,
            "order": null,
            "overflow": null,
            "overflow_x": null,
            "overflow_y": null,
            "padding": null,
            "right": null,
            "top": null,
            "visibility": null,
            "width": null
          }
        },
        "8c60a8c308c64b179e1e7c39f173b9a8": {
          "model_module": "@jupyter-widgets/base",
          "model_name": "LayoutModel",
          "model_module_version": "1.2.0",
          "state": {
            "_model_module": "@jupyter-widgets/base",
            "_model_module_version": "1.2.0",
            "_model_name": "LayoutModel",
            "_view_count": null,
            "_view_module": "@jupyter-widgets/base",
            "_view_module_version": "1.2.0",
            "_view_name": "LayoutView",
            "align_content": null,
            "align_items": null,
            "align_self": null,
            "border": null,
            "bottom": null,
            "display": null,
            "flex": null,
            "flex_flow": null,
            "grid_area": null,
            "grid_auto_columns": null,
            "grid_auto_flow": null,
            "grid_auto_rows": null,
            "grid_column": null,
            "grid_gap": null,
            "grid_row": null,
            "grid_template_areas": null,
            "grid_template_columns": null,
            "grid_template_rows": null,
            "height": null,
            "justify_content": null,
            "justify_items": null,
            "left": null,
            "margin": null,
            "max_height": null,
            "max_width": null,
            "min_height": null,
            "min_width": null,
            "object_fit": null,
            "object_position": null,
            "order": null,
            "overflow": null,
            "overflow_x": null,
            "overflow_y": null,
            "padding": null,
            "right": null,
            "top": null,
            "visibility": null,
            "width": null
          }
        },
        "8d5f946cd84c4f80b3ff05456edb99c1": {
          "model_module": "@jupyter-widgets/controls",
          "model_name": "DescriptionStyleModel",
          "model_module_version": "1.5.0",
          "state": {
            "_model_module": "@jupyter-widgets/controls",
            "_model_module_version": "1.5.0",
            "_model_name": "DescriptionStyleModel",
            "_view_count": null,
            "_view_module": "@jupyter-widgets/base",
            "_view_module_version": "1.2.0",
            "_view_name": "StyleView",
            "description_width": ""
          }
        },
        "3ac19dd0e1154508b0e79a993c7e6b66": {
          "model_module": "@jupyter-widgets/base",
          "model_name": "LayoutModel",
          "model_module_version": "1.2.0",
          "state": {
            "_model_module": "@jupyter-widgets/base",
            "_model_module_version": "1.2.0",
            "_model_name": "LayoutModel",
            "_view_count": null,
            "_view_module": "@jupyter-widgets/base",
            "_view_module_version": "1.2.0",
            "_view_name": "LayoutView",
            "align_content": null,
            "align_items": null,
            "align_self": null,
            "border": null,
            "bottom": null,
            "display": null,
            "flex": null,
            "flex_flow": null,
            "grid_area": null,
            "grid_auto_columns": null,
            "grid_auto_flow": null,
            "grid_auto_rows": null,
            "grid_column": null,
            "grid_gap": null,
            "grid_row": null,
            "grid_template_areas": null,
            "grid_template_columns": null,
            "grid_template_rows": null,
            "height": null,
            "justify_content": null,
            "justify_items": null,
            "left": null,
            "margin": null,
            "max_height": null,
            "max_width": null,
            "min_height": null,
            "min_width": null,
            "object_fit": null,
            "object_position": null,
            "order": null,
            "overflow": null,
            "overflow_x": null,
            "overflow_y": null,
            "padding": null,
            "right": null,
            "top": null,
            "visibility": null,
            "width": null
          }
        },
        "1d1f4f6281ea489a9ef3cb9dcdb5e8bb": {
          "model_module": "@jupyter-widgets/controls",
          "model_name": "ProgressStyleModel",
          "model_module_version": "1.5.0",
          "state": {
            "_model_module": "@jupyter-widgets/controls",
            "_model_module_version": "1.5.0",
            "_model_name": "ProgressStyleModel",
            "_view_count": null,
            "_view_module": "@jupyter-widgets/base",
            "_view_module_version": "1.2.0",
            "_view_name": "StyleView",
            "bar_color": null,
            "description_width": ""
          }
        },
        "1c956177c3944693ba483603b84fc13a": {
          "model_module": "@jupyter-widgets/base",
          "model_name": "LayoutModel",
          "model_module_version": "1.2.0",
          "state": {
            "_model_module": "@jupyter-widgets/base",
            "_model_module_version": "1.2.0",
            "_model_name": "LayoutModel",
            "_view_count": null,
            "_view_module": "@jupyter-widgets/base",
            "_view_module_version": "1.2.0",
            "_view_name": "LayoutView",
            "align_content": null,
            "align_items": null,
            "align_self": null,
            "border": null,
            "bottom": null,
            "display": null,
            "flex": null,
            "flex_flow": null,
            "grid_area": null,
            "grid_auto_columns": null,
            "grid_auto_flow": null,
            "grid_auto_rows": null,
            "grid_column": null,
            "grid_gap": null,
            "grid_row": null,
            "grid_template_areas": null,
            "grid_template_columns": null,
            "grid_template_rows": null,
            "height": null,
            "justify_content": null,
            "justify_items": null,
            "left": null,
            "margin": null,
            "max_height": null,
            "max_width": null,
            "min_height": null,
            "min_width": null,
            "object_fit": null,
            "object_position": null,
            "order": null,
            "overflow": null,
            "overflow_x": null,
            "overflow_y": null,
            "padding": null,
            "right": null,
            "top": null,
            "visibility": null,
            "width": null
          }
        },
        "1b7e5dfa869d47dabeac4e5906c5e39b": {
          "model_module": "@jupyter-widgets/controls",
          "model_name": "DescriptionStyleModel",
          "model_module_version": "1.5.0",
          "state": {
            "_model_module": "@jupyter-widgets/controls",
            "_model_module_version": "1.5.0",
            "_model_name": "DescriptionStyleModel",
            "_view_count": null,
            "_view_module": "@jupyter-widgets/base",
            "_view_module_version": "1.2.0",
            "_view_name": "StyleView",
            "description_width": ""
          }
        },
        "a78d6710b4214318bb9e5831c680c22e": {
          "model_module": "@jupyter-widgets/controls",
          "model_name": "HBoxModel",
          "model_module_version": "1.5.0",
          "state": {
            "_dom_classes": [],
            "_model_module": "@jupyter-widgets/controls",
            "_model_module_version": "1.5.0",
            "_model_name": "HBoxModel",
            "_view_count": null,
            "_view_module": "@jupyter-widgets/controls",
            "_view_module_version": "1.5.0",
            "_view_name": "HBoxView",
            "box_style": "",
            "children": [
              "IPY_MODEL_d56c78a9cfca47ef80f64153efe2d066",
              "IPY_MODEL_ad7efebadfba48a78d3e3612dcb39d8d",
              "IPY_MODEL_18aaeb530ef54f6ab7b5918952875328"
            ],
            "layout": "IPY_MODEL_00042e12c64c49379712ad18197d8274"
          }
        },
        "d56c78a9cfca47ef80f64153efe2d066": {
          "model_module": "@jupyter-widgets/controls",
          "model_name": "HTMLModel",
          "model_module_version": "1.5.0",
          "state": {
            "_dom_classes": [],
            "_model_module": "@jupyter-widgets/controls",
            "_model_module_version": "1.5.0",
            "_model_name": "HTMLModel",
            "_view_count": null,
            "_view_module": "@jupyter-widgets/controls",
            "_view_module_version": "1.5.0",
            "_view_name": "HTMLView",
            "description": "",
            "description_tooltip": null,
            "layout": "IPY_MODEL_cf0a06b65bc149368230198f54bab435",
            "placeholder": "​",
            "style": "IPY_MODEL_c9c9f5b9bf8947d49aa76bd876473b74",
            "value": "Downloading metadata: 100%"
          }
        },
        "ad7efebadfba48a78d3e3612dcb39d8d": {
          "model_module": "@jupyter-widgets/controls",
          "model_name": "FloatProgressModel",
          "model_module_version": "1.5.0",
          "state": {
            "_dom_classes": [],
            "_model_module": "@jupyter-widgets/controls",
            "_model_module_version": "1.5.0",
            "_model_name": "FloatProgressModel",
            "_view_count": null,
            "_view_module": "@jupyter-widgets/controls",
            "_view_module_version": "1.5.0",
            "_view_name": "ProgressView",
            "bar_style": "success",
            "description": "",
            "description_tooltip": null,
            "layout": "IPY_MODEL_fe33d1badc454409aaee1dba6b2b7b68",
            "max": 2051,
            "min": 0,
            "orientation": "horizontal",
            "style": "IPY_MODEL_b704241c189a44428fc7ee458fd680cb",
            "value": 2051
          }
        },
        "18aaeb530ef54f6ab7b5918952875328": {
          "model_module": "@jupyter-widgets/controls",
          "model_name": "HTMLModel",
          "model_module_version": "1.5.0",
          "state": {
            "_dom_classes": [],
            "_model_module": "@jupyter-widgets/controls",
            "_model_module_version": "1.5.0",
            "_model_name": "HTMLModel",
            "_view_count": null,
            "_view_module": "@jupyter-widgets/controls",
            "_view_module_version": "1.5.0",
            "_view_name": "HTMLView",
            "description": "",
            "description_tooltip": null,
            "layout": "IPY_MODEL_9c7d14f9796a4554846c082e5ddb8675",
            "placeholder": "​",
            "style": "IPY_MODEL_ac29d39f257842b2a9444e4b9a4bd71a",
            "value": " 2.05k/2.05k [00:00&lt;00:00, 151kB/s]"
          }
        },
        "00042e12c64c49379712ad18197d8274": {
          "model_module": "@jupyter-widgets/base",
          "model_name": "LayoutModel",
          "model_module_version": "1.2.0",
          "state": {
            "_model_module": "@jupyter-widgets/base",
            "_model_module_version": "1.2.0",
            "_model_name": "LayoutModel",
            "_view_count": null,
            "_view_module": "@jupyter-widgets/base",
            "_view_module_version": "1.2.0",
            "_view_name": "LayoutView",
            "align_content": null,
            "align_items": null,
            "align_self": null,
            "border": null,
            "bottom": null,
            "display": null,
            "flex": null,
            "flex_flow": null,
            "grid_area": null,
            "grid_auto_columns": null,
            "grid_auto_flow": null,
            "grid_auto_rows": null,
            "grid_column": null,
            "grid_gap": null,
            "grid_row": null,
            "grid_template_areas": null,
            "grid_template_columns": null,
            "grid_template_rows": null,
            "height": null,
            "justify_content": null,
            "justify_items": null,
            "left": null,
            "margin": null,
            "max_height": null,
            "max_width": null,
            "min_height": null,
            "min_width": null,
            "object_fit": null,
            "object_position": null,
            "order": null,
            "overflow": null,
            "overflow_x": null,
            "overflow_y": null,
            "padding": null,
            "right": null,
            "top": null,
            "visibility": null,
            "width": null
          }
        },
        "cf0a06b65bc149368230198f54bab435": {
          "model_module": "@jupyter-widgets/base",
          "model_name": "LayoutModel",
          "model_module_version": "1.2.0",
          "state": {
            "_model_module": "@jupyter-widgets/base",
            "_model_module_version": "1.2.0",
            "_model_name": "LayoutModel",
            "_view_count": null,
            "_view_module": "@jupyter-widgets/base",
            "_view_module_version": "1.2.0",
            "_view_name": "LayoutView",
            "align_content": null,
            "align_items": null,
            "align_self": null,
            "border": null,
            "bottom": null,
            "display": null,
            "flex": null,
            "flex_flow": null,
            "grid_area": null,
            "grid_auto_columns": null,
            "grid_auto_flow": null,
            "grid_auto_rows": null,
            "grid_column": null,
            "grid_gap": null,
            "grid_row": null,
            "grid_template_areas": null,
            "grid_template_columns": null,
            "grid_template_rows": null,
            "height": null,
            "justify_content": null,
            "justify_items": null,
            "left": null,
            "margin": null,
            "max_height": null,
            "max_width": null,
            "min_height": null,
            "min_width": null,
            "object_fit": null,
            "object_position": null,
            "order": null,
            "overflow": null,
            "overflow_x": null,
            "overflow_y": null,
            "padding": null,
            "right": null,
            "top": null,
            "visibility": null,
            "width": null
          }
        },
        "c9c9f5b9bf8947d49aa76bd876473b74": {
          "model_module": "@jupyter-widgets/controls",
          "model_name": "DescriptionStyleModel",
          "model_module_version": "1.5.0",
          "state": {
            "_model_module": "@jupyter-widgets/controls",
            "_model_module_version": "1.5.0",
            "_model_name": "DescriptionStyleModel",
            "_view_count": null,
            "_view_module": "@jupyter-widgets/base",
            "_view_module_version": "1.2.0",
            "_view_name": "StyleView",
            "description_width": ""
          }
        },
        "fe33d1badc454409aaee1dba6b2b7b68": {
          "model_module": "@jupyter-widgets/base",
          "model_name": "LayoutModel",
          "model_module_version": "1.2.0",
          "state": {
            "_model_module": "@jupyter-widgets/base",
            "_model_module_version": "1.2.0",
            "_model_name": "LayoutModel",
            "_view_count": null,
            "_view_module": "@jupyter-widgets/base",
            "_view_module_version": "1.2.0",
            "_view_name": "LayoutView",
            "align_content": null,
            "align_items": null,
            "align_self": null,
            "border": null,
            "bottom": null,
            "display": null,
            "flex": null,
            "flex_flow": null,
            "grid_area": null,
            "grid_auto_columns": null,
            "grid_auto_flow": null,
            "grid_auto_rows": null,
            "grid_column": null,
            "grid_gap": null,
            "grid_row": null,
            "grid_template_areas": null,
            "grid_template_columns": null,
            "grid_template_rows": null,
            "height": null,
            "justify_content": null,
            "justify_items": null,
            "left": null,
            "margin": null,
            "max_height": null,
            "max_width": null,
            "min_height": null,
            "min_width": null,
            "object_fit": null,
            "object_position": null,
            "order": null,
            "overflow": null,
            "overflow_x": null,
            "overflow_y": null,
            "padding": null,
            "right": null,
            "top": null,
            "visibility": null,
            "width": null
          }
        },
        "b704241c189a44428fc7ee458fd680cb": {
          "model_module": "@jupyter-widgets/controls",
          "model_name": "ProgressStyleModel",
          "model_module_version": "1.5.0",
          "state": {
            "_model_module": "@jupyter-widgets/controls",
            "_model_module_version": "1.5.0",
            "_model_name": "ProgressStyleModel",
            "_view_count": null,
            "_view_module": "@jupyter-widgets/base",
            "_view_module_version": "1.2.0",
            "_view_name": "StyleView",
            "bar_color": null,
            "description_width": ""
          }
        },
        "9c7d14f9796a4554846c082e5ddb8675": {
          "model_module": "@jupyter-widgets/base",
          "model_name": "LayoutModel",
          "model_module_version": "1.2.0",
          "state": {
            "_model_module": "@jupyter-widgets/base",
            "_model_module_version": "1.2.0",
            "_model_name": "LayoutModel",
            "_view_count": null,
            "_view_module": "@jupyter-widgets/base",
            "_view_module_version": "1.2.0",
            "_view_name": "LayoutView",
            "align_content": null,
            "align_items": null,
            "align_self": null,
            "border": null,
            "bottom": null,
            "display": null,
            "flex": null,
            "flex_flow": null,
            "grid_area": null,
            "grid_auto_columns": null,
            "grid_auto_flow": null,
            "grid_auto_rows": null,
            "grid_column": null,
            "grid_gap": null,
            "grid_row": null,
            "grid_template_areas": null,
            "grid_template_columns": null,
            "grid_template_rows": null,
            "height": null,
            "justify_content": null,
            "justify_items": null,
            "left": null,
            "margin": null,
            "max_height": null,
            "max_width": null,
            "min_height": null,
            "min_width": null,
            "object_fit": null,
            "object_position": null,
            "order": null,
            "overflow": null,
            "overflow_x": null,
            "overflow_y": null,
            "padding": null,
            "right": null,
            "top": null,
            "visibility": null,
            "width": null
          }
        },
        "ac29d39f257842b2a9444e4b9a4bd71a": {
          "model_module": "@jupyter-widgets/controls",
          "model_name": "DescriptionStyleModel",
          "model_module_version": "1.5.0",
          "state": {
            "_model_module": "@jupyter-widgets/controls",
            "_model_module_version": "1.5.0",
            "_model_name": "DescriptionStyleModel",
            "_view_count": null,
            "_view_module": "@jupyter-widgets/base",
            "_view_module_version": "1.2.0",
            "_view_name": "StyleView",
            "description_width": ""
          }
        },
        "e52f64630d734d178ca1c0b0fb8d87cd": {
          "model_module": "@jupyter-widgets/controls",
          "model_name": "HBoxModel",
          "model_module_version": "1.5.0",
          "state": {
            "_dom_classes": [],
            "_model_module": "@jupyter-widgets/controls",
            "_model_module_version": "1.5.0",
            "_model_name": "HBoxModel",
            "_view_count": null,
            "_view_module": "@jupyter-widgets/controls",
            "_view_module_version": "1.5.0",
            "_view_name": "HBoxView",
            "box_style": "",
            "children": [
              "IPY_MODEL_edd0192fac37420390356895ac8ae040",
              "IPY_MODEL_ab24584f91e14e728a536ebbe37251c9",
              "IPY_MODEL_634e25d3c79f4db98436a151b42c97be"
            ],
            "layout": "IPY_MODEL_be3fab8134b242e08d6b0bfcd9e3c995"
          }
        },
        "edd0192fac37420390356895ac8ae040": {
          "model_module": "@jupyter-widgets/controls",
          "model_name": "HTMLModel",
          "model_module_version": "1.5.0",
          "state": {
            "_dom_classes": [],
            "_model_module": "@jupyter-widgets/controls",
            "_model_module_version": "1.5.0",
            "_model_name": "HTMLModel",
            "_view_count": null,
            "_view_module": "@jupyter-widgets/controls",
            "_view_module_version": "1.5.0",
            "_view_name": "HTMLView",
            "description": "",
            "description_tooltip": null,
            "layout": "IPY_MODEL_0fb74ee1a3084553adfa2cec4a84c7a7",
            "placeholder": "​",
            "style": "IPY_MODEL_c3586005c41c426298176ae1bd479d02",
            "value": "Downloading readme: 100%"
          }
        },
        "ab24584f91e14e728a536ebbe37251c9": {
          "model_module": "@jupyter-widgets/controls",
          "model_name": "FloatProgressModel",
          "model_module_version": "1.5.0",
          "state": {
            "_dom_classes": [],
            "_model_module": "@jupyter-widgets/controls",
            "_model_module_version": "1.5.0",
            "_model_name": "FloatProgressModel",
            "_view_count": null,
            "_view_module": "@jupyter-widgets/controls",
            "_view_module_version": "1.5.0",
            "_view_name": "ProgressView",
            "bar_style": "success",
            "description": "",
            "description_tooltip": null,
            "layout": "IPY_MODEL_c940df6ca2d04c0ca5ba423110dafe42",
            "max": 13354,
            "min": 0,
            "orientation": "horizontal",
            "style": "IPY_MODEL_3d9b9e21f0de48629fe9b4dcda0703f2",
            "value": 13354
          }
        },
        "634e25d3c79f4db98436a151b42c97be": {
          "model_module": "@jupyter-widgets/controls",
          "model_name": "HTMLModel",
          "model_module_version": "1.5.0",
          "state": {
            "_dom_classes": [],
            "_model_module": "@jupyter-widgets/controls",
            "_model_module_version": "1.5.0",
            "_model_name": "HTMLModel",
            "_view_count": null,
            "_view_module": "@jupyter-widgets/controls",
            "_view_module_version": "1.5.0",
            "_view_name": "HTMLView",
            "description": "",
            "description_tooltip": null,
            "layout": "IPY_MODEL_7d0a8b0ab81d49fda971943b702edb43",
            "placeholder": "​",
            "style": "IPY_MODEL_8704e49c818f4a0a8f8f1fcde74b80b7",
            "value": " 13.4k/13.4k [00:00&lt;00:00, 892kB/s]"
          }
        },
        "be3fab8134b242e08d6b0bfcd9e3c995": {
          "model_module": "@jupyter-widgets/base",
          "model_name": "LayoutModel",
          "model_module_version": "1.2.0",
          "state": {
            "_model_module": "@jupyter-widgets/base",
            "_model_module_version": "1.2.0",
            "_model_name": "LayoutModel",
            "_view_count": null,
            "_view_module": "@jupyter-widgets/base",
            "_view_module_version": "1.2.0",
            "_view_name": "LayoutView",
            "align_content": null,
            "align_items": null,
            "align_self": null,
            "border": null,
            "bottom": null,
            "display": null,
            "flex": null,
            "flex_flow": null,
            "grid_area": null,
            "grid_auto_columns": null,
            "grid_auto_flow": null,
            "grid_auto_rows": null,
            "grid_column": null,
            "grid_gap": null,
            "grid_row": null,
            "grid_template_areas": null,
            "grid_template_columns": null,
            "grid_template_rows": null,
            "height": null,
            "justify_content": null,
            "justify_items": null,
            "left": null,
            "margin": null,
            "max_height": null,
            "max_width": null,
            "min_height": null,
            "min_width": null,
            "object_fit": null,
            "object_position": null,
            "order": null,
            "overflow": null,
            "overflow_x": null,
            "overflow_y": null,
            "padding": null,
            "right": null,
            "top": null,
            "visibility": null,
            "width": null
          }
        },
        "0fb74ee1a3084553adfa2cec4a84c7a7": {
          "model_module": "@jupyter-widgets/base",
          "model_name": "LayoutModel",
          "model_module_version": "1.2.0",
          "state": {
            "_model_module": "@jupyter-widgets/base",
            "_model_module_version": "1.2.0",
            "_model_name": "LayoutModel",
            "_view_count": null,
            "_view_module": "@jupyter-widgets/base",
            "_view_module_version": "1.2.0",
            "_view_name": "LayoutView",
            "align_content": null,
            "align_items": null,
            "align_self": null,
            "border": null,
            "bottom": null,
            "display": null,
            "flex": null,
            "flex_flow": null,
            "grid_area": null,
            "grid_auto_columns": null,
            "grid_auto_flow": null,
            "grid_auto_rows": null,
            "grid_column": null,
            "grid_gap": null,
            "grid_row": null,
            "grid_template_areas": null,
            "grid_template_columns": null,
            "grid_template_rows": null,
            "height": null,
            "justify_content": null,
            "justify_items": null,
            "left": null,
            "margin": null,
            "max_height": null,
            "max_width": null,
            "min_height": null,
            "min_width": null,
            "object_fit": null,
            "object_position": null,
            "order": null,
            "overflow": null,
            "overflow_x": null,
            "overflow_y": null,
            "padding": null,
            "right": null,
            "top": null,
            "visibility": null,
            "width": null
          }
        },
        "c3586005c41c426298176ae1bd479d02": {
          "model_module": "@jupyter-widgets/controls",
          "model_name": "DescriptionStyleModel",
          "model_module_version": "1.5.0",
          "state": {
            "_model_module": "@jupyter-widgets/controls",
            "_model_module_version": "1.5.0",
            "_model_name": "DescriptionStyleModel",
            "_view_count": null,
            "_view_module": "@jupyter-widgets/base",
            "_view_module_version": "1.2.0",
            "_view_name": "StyleView",
            "description_width": ""
          }
        },
        "c940df6ca2d04c0ca5ba423110dafe42": {
          "model_module": "@jupyter-widgets/base",
          "model_name": "LayoutModel",
          "model_module_version": "1.2.0",
          "state": {
            "_model_module": "@jupyter-widgets/base",
            "_model_module_version": "1.2.0",
            "_model_name": "LayoutModel",
            "_view_count": null,
            "_view_module": "@jupyter-widgets/base",
            "_view_module_version": "1.2.0",
            "_view_name": "LayoutView",
            "align_content": null,
            "align_items": null,
            "align_self": null,
            "border": null,
            "bottom": null,
            "display": null,
            "flex": null,
            "flex_flow": null,
            "grid_area": null,
            "grid_auto_columns": null,
            "grid_auto_flow": null,
            "grid_auto_rows": null,
            "grid_column": null,
            "grid_gap": null,
            "grid_row": null,
            "grid_template_areas": null,
            "grid_template_columns": null,
            "grid_template_rows": null,
            "height": null,
            "justify_content": null,
            "justify_items": null,
            "left": null,
            "margin": null,
            "max_height": null,
            "max_width": null,
            "min_height": null,
            "min_width": null,
            "object_fit": null,
            "object_position": null,
            "order": null,
            "overflow": null,
            "overflow_x": null,
            "overflow_y": null,
            "padding": null,
            "right": null,
            "top": null,
            "visibility": null,
            "width": null
          }
        },
        "3d9b9e21f0de48629fe9b4dcda0703f2": {
          "model_module": "@jupyter-widgets/controls",
          "model_name": "ProgressStyleModel",
          "model_module_version": "1.5.0",
          "state": {
            "_model_module": "@jupyter-widgets/controls",
            "_model_module_version": "1.5.0",
            "_model_name": "ProgressStyleModel",
            "_view_count": null,
            "_view_module": "@jupyter-widgets/base",
            "_view_module_version": "1.2.0",
            "_view_name": "StyleView",
            "bar_color": null,
            "description_width": ""
          }
        },
        "7d0a8b0ab81d49fda971943b702edb43": {
          "model_module": "@jupyter-widgets/base",
          "model_name": "LayoutModel",
          "model_module_version": "1.2.0",
          "state": {
            "_model_module": "@jupyter-widgets/base",
            "_model_module_version": "1.2.0",
            "_model_name": "LayoutModel",
            "_view_count": null,
            "_view_module": "@jupyter-widgets/base",
            "_view_module_version": "1.2.0",
            "_view_name": "LayoutView",
            "align_content": null,
            "align_items": null,
            "align_self": null,
            "border": null,
            "bottom": null,
            "display": null,
            "flex": null,
            "flex_flow": null,
            "grid_area": null,
            "grid_auto_columns": null,
            "grid_auto_flow": null,
            "grid_auto_rows": null,
            "grid_column": null,
            "grid_gap": null,
            "grid_row": null,
            "grid_template_areas": null,
            "grid_template_columns": null,
            "grid_template_rows": null,
            "height": null,
            "justify_content": null,
            "justify_items": null,
            "left": null,
            "margin": null,
            "max_height": null,
            "max_width": null,
            "min_height": null,
            "min_width": null,
            "object_fit": null,
            "object_position": null,
            "order": null,
            "overflow": null,
            "overflow_x": null,
            "overflow_y": null,
            "padding": null,
            "right": null,
            "top": null,
            "visibility": null,
            "width": null
          }
        },
        "8704e49c818f4a0a8f8f1fcde74b80b7": {
          "model_module": "@jupyter-widgets/controls",
          "model_name": "DescriptionStyleModel",
          "model_module_version": "1.5.0",
          "state": {
            "_model_module": "@jupyter-widgets/controls",
            "_model_module_version": "1.5.0",
            "_model_name": "DescriptionStyleModel",
            "_view_count": null,
            "_view_module": "@jupyter-widgets/base",
            "_view_module_version": "1.2.0",
            "_view_name": "StyleView",
            "description_width": ""
          }
        },
        "ca4c610b297b4b608fe59d2617dc2e3c": {
          "model_module": "@jupyter-widgets/controls",
          "model_name": "HBoxModel",
          "model_module_version": "1.5.0",
          "state": {
            "_dom_classes": [],
            "_model_module": "@jupyter-widgets/controls",
            "_model_module_version": "1.5.0",
            "_model_name": "HBoxModel",
            "_view_count": null,
            "_view_module": "@jupyter-widgets/controls",
            "_view_module_version": "1.5.0",
            "_view_name": "HBoxView",
            "box_style": "",
            "children": [
              "IPY_MODEL_ad831c05e7ad48909f4ab51a23adcbf9",
              "IPY_MODEL_93110649e9024ab8ac8a40b9d987d767",
              "IPY_MODEL_09833cfaa5bb4f4e8bc3f7d9e3bf9024"
            ],
            "layout": "IPY_MODEL_1472ad72f7de4062a220aa24857e1b40"
          }
        },
        "ad831c05e7ad48909f4ab51a23adcbf9": {
          "model_module": "@jupyter-widgets/controls",
          "model_name": "HTMLModel",
          "model_module_version": "1.5.0",
          "state": {
            "_dom_classes": [],
            "_model_module": "@jupyter-widgets/controls",
            "_model_module_version": "1.5.0",
            "_model_name": "HTMLModel",
            "_view_count": null,
            "_view_module": "@jupyter-widgets/controls",
            "_view_module_version": "1.5.0",
            "_view_name": "HTMLView",
            "description": "",
            "description_tooltip": null,
            "layout": "IPY_MODEL_30f5c1203a3b42c4afeaaaa95b0ca0de",
            "placeholder": "​",
            "style": "IPY_MODEL_e2452ec7821c440fb2fe1dcaeb828869",
            "value": "Downloading data: 100%"
          }
        },
        "93110649e9024ab8ac8a40b9d987d767": {
          "model_module": "@jupyter-widgets/controls",
          "model_name": "FloatProgressModel",
          "model_module_version": "1.5.0",
          "state": {
            "_dom_classes": [],
            "_model_module": "@jupyter-widgets/controls",
            "_model_module_version": "1.5.0",
            "_model_name": "FloatProgressModel",
            "_view_count": null,
            "_view_module": "@jupyter-widgets/controls",
            "_view_module_version": "1.5.0",
            "_view_name": "ProgressView",
            "bar_style": "success",
            "description": "",
            "description_tooltip": null,
            "layout": "IPY_MODEL_1583878a642846799fccea9df62aafbc",
            "max": 549801555,
            "min": 0,
            "orientation": "horizontal",
            "style": "IPY_MODEL_97866f5978834f7fb397fa00e4584b4a",
            "value": 549801555
          }
        },
        "09833cfaa5bb4f4e8bc3f7d9e3bf9024": {
          "model_module": "@jupyter-widgets/controls",
          "model_name": "HTMLModel",
          "model_module_version": "1.5.0",
          "state": {
            "_dom_classes": [],
            "_model_module": "@jupyter-widgets/controls",
            "_model_module_version": "1.5.0",
            "_model_name": "HTMLModel",
            "_view_count": null,
            "_view_module": "@jupyter-widgets/controls",
            "_view_module_version": "1.5.0",
            "_view_name": "HTMLView",
            "description": "",
            "description_tooltip": null,
            "layout": "IPY_MODEL_8ad95cc328ea41e8a8b9ea18fc57ed6c",
            "placeholder": "​",
            "style": "IPY_MODEL_7648813fb0814c6bae9884ff69cb7556",
            "value": " 550M/550M [00:11&lt;00:00, 37.3MB/s]"
          }
        },
        "1472ad72f7de4062a220aa24857e1b40": {
          "model_module": "@jupyter-widgets/base",
          "model_name": "LayoutModel",
          "model_module_version": "1.2.0",
          "state": {
            "_model_module": "@jupyter-widgets/base",
            "_model_module_version": "1.2.0",
            "_model_name": "LayoutModel",
            "_view_count": null,
            "_view_module": "@jupyter-widgets/base",
            "_view_module_version": "1.2.0",
            "_view_name": "LayoutView",
            "align_content": null,
            "align_items": null,
            "align_self": null,
            "border": null,
            "bottom": null,
            "display": null,
            "flex": null,
            "flex_flow": null,
            "grid_area": null,
            "grid_auto_columns": null,
            "grid_auto_flow": null,
            "grid_auto_rows": null,
            "grid_column": null,
            "grid_gap": null,
            "grid_row": null,
            "grid_template_areas": null,
            "grid_template_columns": null,
            "grid_template_rows": null,
            "height": null,
            "justify_content": null,
            "justify_items": null,
            "left": null,
            "margin": null,
            "max_height": null,
            "max_width": null,
            "min_height": null,
            "min_width": null,
            "object_fit": null,
            "object_position": null,
            "order": null,
            "overflow": null,
            "overflow_x": null,
            "overflow_y": null,
            "padding": null,
            "right": null,
            "top": null,
            "visibility": null,
            "width": null
          }
        },
        "30f5c1203a3b42c4afeaaaa95b0ca0de": {
          "model_module": "@jupyter-widgets/base",
          "model_name": "LayoutModel",
          "model_module_version": "1.2.0",
          "state": {
            "_model_module": "@jupyter-widgets/base",
            "_model_module_version": "1.2.0",
            "_model_name": "LayoutModel",
            "_view_count": null,
            "_view_module": "@jupyter-widgets/base",
            "_view_module_version": "1.2.0",
            "_view_name": "LayoutView",
            "align_content": null,
            "align_items": null,
            "align_self": null,
            "border": null,
            "bottom": null,
            "display": null,
            "flex": null,
            "flex_flow": null,
            "grid_area": null,
            "grid_auto_columns": null,
            "grid_auto_flow": null,
            "grid_auto_rows": null,
            "grid_column": null,
            "grid_gap": null,
            "grid_row": null,
            "grid_template_areas": null,
            "grid_template_columns": null,
            "grid_template_rows": null,
            "height": null,
            "justify_content": null,
            "justify_items": null,
            "left": null,
            "margin": null,
            "max_height": null,
            "max_width": null,
            "min_height": null,
            "min_width": null,
            "object_fit": null,
            "object_position": null,
            "order": null,
            "overflow": null,
            "overflow_x": null,
            "overflow_y": null,
            "padding": null,
            "right": null,
            "top": null,
            "visibility": null,
            "width": null
          }
        },
        "e2452ec7821c440fb2fe1dcaeb828869": {
          "model_module": "@jupyter-widgets/controls",
          "model_name": "DescriptionStyleModel",
          "model_module_version": "1.5.0",
          "state": {
            "_model_module": "@jupyter-widgets/controls",
            "_model_module_version": "1.5.0",
            "_model_name": "DescriptionStyleModel",
            "_view_count": null,
            "_view_module": "@jupyter-widgets/base",
            "_view_module_version": "1.2.0",
            "_view_name": "StyleView",
            "description_width": ""
          }
        },
        "1583878a642846799fccea9df62aafbc": {
          "model_module": "@jupyter-widgets/base",
          "model_name": "LayoutModel",
          "model_module_version": "1.2.0",
          "state": {
            "_model_module": "@jupyter-widgets/base",
            "_model_module_version": "1.2.0",
            "_model_name": "LayoutModel",
            "_view_count": null,
            "_view_module": "@jupyter-widgets/base",
            "_view_module_version": "1.2.0",
            "_view_name": "LayoutView",
            "align_content": null,
            "align_items": null,
            "align_self": null,
            "border": null,
            "bottom": null,
            "display": null,
            "flex": null,
            "flex_flow": null,
            "grid_area": null,
            "grid_auto_columns": null,
            "grid_auto_flow": null,
            "grid_auto_rows": null,
            "grid_column": null,
            "grid_gap": null,
            "grid_row": null,
            "grid_template_areas": null,
            "grid_template_columns": null,
            "grid_template_rows": null,
            "height": null,
            "justify_content": null,
            "justify_items": null,
            "left": null,
            "margin": null,
            "max_height": null,
            "max_width": null,
            "min_height": null,
            "min_width": null,
            "object_fit": null,
            "object_position": null,
            "order": null,
            "overflow": null,
            "overflow_x": null,
            "overflow_y": null,
            "padding": null,
            "right": null,
            "top": null,
            "visibility": null,
            "width": null
          }
        },
        "97866f5978834f7fb397fa00e4584b4a": {
          "model_module": "@jupyter-widgets/controls",
          "model_name": "ProgressStyleModel",
          "model_module_version": "1.5.0",
          "state": {
            "_model_module": "@jupyter-widgets/controls",
            "_model_module_version": "1.5.0",
            "_model_name": "ProgressStyleModel",
            "_view_count": null,
            "_view_module": "@jupyter-widgets/base",
            "_view_module_version": "1.2.0",
            "_view_name": "StyleView",
            "bar_color": null,
            "description_width": ""
          }
        },
        "8ad95cc328ea41e8a8b9ea18fc57ed6c": {
          "model_module": "@jupyter-widgets/base",
          "model_name": "LayoutModel",
          "model_module_version": "1.2.0",
          "state": {
            "_model_module": "@jupyter-widgets/base",
            "_model_module_version": "1.2.0",
            "_model_name": "LayoutModel",
            "_view_count": null,
            "_view_module": "@jupyter-widgets/base",
            "_view_module_version": "1.2.0",
            "_view_name": "LayoutView",
            "align_content": null,
            "align_items": null,
            "align_self": null,
            "border": null,
            "bottom": null,
            "display": null,
            "flex": null,
            "flex_flow": null,
            "grid_area": null,
            "grid_auto_columns": null,
            "grid_auto_flow": null,
            "grid_auto_rows": null,
            "grid_column": null,
            "grid_gap": null,
            "grid_row": null,
            "grid_template_areas": null,
            "grid_template_columns": null,
            "grid_template_rows": null,
            "height": null,
            "justify_content": null,
            "justify_items": null,
            "left": null,
            "margin": null,
            "max_height": null,
            "max_width": null,
            "min_height": null,
            "min_width": null,
            "object_fit": null,
            "object_position": null,
            "order": null,
            "overflow": null,
            "overflow_x": null,
            "overflow_y": null,
            "padding": null,
            "right": null,
            "top": null,
            "visibility": null,
            "width": null
          }
        },
        "7648813fb0814c6bae9884ff69cb7556": {
          "model_module": "@jupyter-widgets/controls",
          "model_name": "DescriptionStyleModel",
          "model_module_version": "1.5.0",
          "state": {
            "_model_module": "@jupyter-widgets/controls",
            "_model_module_version": "1.5.0",
            "_model_name": "DescriptionStyleModel",
            "_view_count": null,
            "_view_module": "@jupyter-widgets/base",
            "_view_module_version": "1.2.0",
            "_view_name": "StyleView",
            "description_width": ""
          }
        },
        "70ba0764fd97474eb8a182b4c31c56fb": {
          "model_module": "@jupyter-widgets/controls",
          "model_name": "HBoxModel",
          "model_module_version": "1.5.0",
          "state": {
            "_dom_classes": [],
            "_model_module": "@jupyter-widgets/controls",
            "_model_module_version": "1.5.0",
            "_model_name": "HBoxModel",
            "_view_count": null,
            "_view_module": "@jupyter-widgets/controls",
            "_view_module_version": "1.5.0",
            "_view_name": "HBoxView",
            "box_style": "",
            "children": [
              "IPY_MODEL_150879741dfe4849b8db464d356e20cd",
              "IPY_MODEL_92281e506af3479fba3a052061d0f75b",
              "IPY_MODEL_1f14762f2afb4cadb53542e0a6ba8197"
            ],
            "layout": "IPY_MODEL_0e4f5add29164a3f8454a0bc83daafa7"
          }
        },
        "150879741dfe4849b8db464d356e20cd": {
          "model_module": "@jupyter-widgets/controls",
          "model_name": "HTMLModel",
          "model_module_version": "1.5.0",
          "state": {
            "_dom_classes": [],
            "_model_module": "@jupyter-widgets/controls",
            "_model_module_version": "1.5.0",
            "_model_name": "HTMLModel",
            "_view_count": null,
            "_view_module": "@jupyter-widgets/controls",
            "_view_module_version": "1.5.0",
            "_view_name": "HTMLView",
            "description": "",
            "description_tooltip": null,
            "layout": "IPY_MODEL_d16ab23dcaff4032a583e81d752ffbba",
            "placeholder": "​",
            "style": "IPY_MODEL_774873f0db7d41c3b2eed463c8a9ab2e",
            "value": "Downloading data: 100%"
          }
        },
        "92281e506af3479fba3a052061d0f75b": {
          "model_module": "@jupyter-widgets/controls",
          "model_name": "FloatProgressModel",
          "model_module_version": "1.5.0",
          "state": {
            "_dom_classes": [],
            "_model_module": "@jupyter-widgets/controls",
            "_model_module_version": "1.5.0",
            "_model_name": "FloatProgressModel",
            "_view_count": null,
            "_view_module": "@jupyter-widgets/controls",
            "_view_module_version": "1.5.0",
            "_view_name": "ProgressView",
            "bar_style": "success",
            "description": "",
            "description_tooltip": null,
            "layout": "IPY_MODEL_4bbe1e3577a349f0a9b302d0441512d6",
            "max": 56064530,
            "min": 0,
            "orientation": "horizontal",
            "style": "IPY_MODEL_92520d052be84bf18a7c2615a254de24",
            "value": 56064530
          }
        },
        "1f14762f2afb4cadb53542e0a6ba8197": {
          "model_module": "@jupyter-widgets/controls",
          "model_name": "HTMLModel",
          "model_module_version": "1.5.0",
          "state": {
            "_dom_classes": [],
            "_model_module": "@jupyter-widgets/controls",
            "_model_module_version": "1.5.0",
            "_model_name": "HTMLModel",
            "_view_count": null,
            "_view_module": "@jupyter-widgets/controls",
            "_view_module_version": "1.5.0",
            "_view_name": "HTMLView",
            "description": "",
            "description_tooltip": null,
            "layout": "IPY_MODEL_27d394fcd1b94779bca62f6ab2bffbcf",
            "placeholder": "​",
            "style": "IPY_MODEL_d1e87026aaba4c14ab0d5b57674901bb",
            "value": " 56.1M/56.1M [00:02&lt;00:00, 28.1MB/s]"
          }
        },
        "0e4f5add29164a3f8454a0bc83daafa7": {
          "model_module": "@jupyter-widgets/base",
          "model_name": "LayoutModel",
          "model_module_version": "1.2.0",
          "state": {
            "_model_module": "@jupyter-widgets/base",
            "_model_module_version": "1.2.0",
            "_model_name": "LayoutModel",
            "_view_count": null,
            "_view_module": "@jupyter-widgets/base",
            "_view_module_version": "1.2.0",
            "_view_name": "LayoutView",
            "align_content": null,
            "align_items": null,
            "align_self": null,
            "border": null,
            "bottom": null,
            "display": null,
            "flex": null,
            "flex_flow": null,
            "grid_area": null,
            "grid_auto_columns": null,
            "grid_auto_flow": null,
            "grid_auto_rows": null,
            "grid_column": null,
            "grid_gap": null,
            "grid_row": null,
            "grid_template_areas": null,
            "grid_template_columns": null,
            "grid_template_rows": null,
            "height": null,
            "justify_content": null,
            "justify_items": null,
            "left": null,
            "margin": null,
            "max_height": null,
            "max_width": null,
            "min_height": null,
            "min_width": null,
            "object_fit": null,
            "object_position": null,
            "order": null,
            "overflow": null,
            "overflow_x": null,
            "overflow_y": null,
            "padding": null,
            "right": null,
            "top": null,
            "visibility": null,
            "width": null
          }
        },
        "d16ab23dcaff4032a583e81d752ffbba": {
          "model_module": "@jupyter-widgets/base",
          "model_name": "LayoutModel",
          "model_module_version": "1.2.0",
          "state": {
            "_model_module": "@jupyter-widgets/base",
            "_model_module_version": "1.2.0",
            "_model_name": "LayoutModel",
            "_view_count": null,
            "_view_module": "@jupyter-widgets/base",
            "_view_module_version": "1.2.0",
            "_view_name": "LayoutView",
            "align_content": null,
            "align_items": null,
            "align_self": null,
            "border": null,
            "bottom": null,
            "display": null,
            "flex": null,
            "flex_flow": null,
            "grid_area": null,
            "grid_auto_columns": null,
            "grid_auto_flow": null,
            "grid_auto_rows": null,
            "grid_column": null,
            "grid_gap": null,
            "grid_row": null,
            "grid_template_areas": null,
            "grid_template_columns": null,
            "grid_template_rows": null,
            "height": null,
            "justify_content": null,
            "justify_items": null,
            "left": null,
            "margin": null,
            "max_height": null,
            "max_width": null,
            "min_height": null,
            "min_width": null,
            "object_fit": null,
            "object_position": null,
            "order": null,
            "overflow": null,
            "overflow_x": null,
            "overflow_y": null,
            "padding": null,
            "right": null,
            "top": null,
            "visibility": null,
            "width": null
          }
        },
        "774873f0db7d41c3b2eed463c8a9ab2e": {
          "model_module": "@jupyter-widgets/controls",
          "model_name": "DescriptionStyleModel",
          "model_module_version": "1.5.0",
          "state": {
            "_model_module": "@jupyter-widgets/controls",
            "_model_module_version": "1.5.0",
            "_model_name": "DescriptionStyleModel",
            "_view_count": null,
            "_view_module": "@jupyter-widgets/base",
            "_view_module_version": "1.2.0",
            "_view_name": "StyleView",
            "description_width": ""
          }
        },
        "4bbe1e3577a349f0a9b302d0441512d6": {
          "model_module": "@jupyter-widgets/base",
          "model_name": "LayoutModel",
          "model_module_version": "1.2.0",
          "state": {
            "_model_module": "@jupyter-widgets/base",
            "_model_module_version": "1.2.0",
            "_model_name": "LayoutModel",
            "_view_count": null,
            "_view_module": "@jupyter-widgets/base",
            "_view_module_version": "1.2.0",
            "_view_name": "LayoutView",
            "align_content": null,
            "align_items": null,
            "align_self": null,
            "border": null,
            "bottom": null,
            "display": null,
            "flex": null,
            "flex_flow": null,
            "grid_area": null,
            "grid_auto_columns": null,
            "grid_auto_flow": null,
            "grid_auto_rows": null,
            "grid_column": null,
            "grid_gap": null,
            "grid_row": null,
            "grid_template_areas": null,
            "grid_template_columns": null,
            "grid_template_rows": null,
            "height": null,
            "justify_content": null,
            "justify_items": null,
            "left": null,
            "margin": null,
            "max_height": null,
            "max_width": null,
            "min_height": null,
            "min_width": null,
            "object_fit": null,
            "object_position": null,
            "order": null,
            "overflow": null,
            "overflow_x": null,
            "overflow_y": null,
            "padding": null,
            "right": null,
            "top": null,
            "visibility": null,
            "width": null
          }
        },
        "92520d052be84bf18a7c2615a254de24": {
          "model_module": "@jupyter-widgets/controls",
          "model_name": "ProgressStyleModel",
          "model_module_version": "1.5.0",
          "state": {
            "_model_module": "@jupyter-widgets/controls",
            "_model_module_version": "1.5.0",
            "_model_name": "ProgressStyleModel",
            "_view_count": null,
            "_view_module": "@jupyter-widgets/base",
            "_view_module_version": "1.2.0",
            "_view_name": "StyleView",
            "bar_color": null,
            "description_width": ""
          }
        },
        "27d394fcd1b94779bca62f6ab2bffbcf": {
          "model_module": "@jupyter-widgets/base",
          "model_name": "LayoutModel",
          "model_module_version": "1.2.0",
          "state": {
            "_model_module": "@jupyter-widgets/base",
            "_model_module_version": "1.2.0",
            "_model_name": "LayoutModel",
            "_view_count": null,
            "_view_module": "@jupyter-widgets/base",
            "_view_module_version": "1.2.0",
            "_view_name": "LayoutView",
            "align_content": null,
            "align_items": null,
            "align_self": null,
            "border": null,
            "bottom": null,
            "display": null,
            "flex": null,
            "flex_flow": null,
            "grid_area": null,
            "grid_auto_columns": null,
            "grid_auto_flow": null,
            "grid_auto_rows": null,
            "grid_column": null,
            "grid_gap": null,
            "grid_row": null,
            "grid_template_areas": null,
            "grid_template_columns": null,
            "grid_template_rows": null,
            "height": null,
            "justify_content": null,
            "justify_items": null,
            "left": null,
            "margin": null,
            "max_height": null,
            "max_width": null,
            "min_height": null,
            "min_width": null,
            "object_fit": null,
            "object_position": null,
            "order": null,
            "overflow": null,
            "overflow_x": null,
            "overflow_y": null,
            "padding": null,
            "right": null,
            "top": null,
            "visibility": null,
            "width": null
          }
        },
        "d1e87026aaba4c14ab0d5b57674901bb": {
          "model_module": "@jupyter-widgets/controls",
          "model_name": "DescriptionStyleModel",
          "model_module_version": "1.5.0",
          "state": {
            "_model_module": "@jupyter-widgets/controls",
            "_model_module_version": "1.5.0",
            "_model_name": "DescriptionStyleModel",
            "_view_count": null,
            "_view_module": "@jupyter-widgets/base",
            "_view_module_version": "1.2.0",
            "_view_name": "StyleView",
            "description_width": ""
          }
        },
        "e2ee50bb538b47cdbc73d6012275c7d9": {
          "model_module": "@jupyter-widgets/controls",
          "model_name": "HBoxModel",
          "model_module_version": "1.5.0",
          "state": {
            "_dom_classes": [],
            "_model_module": "@jupyter-widgets/controls",
            "_model_module_version": "1.5.0",
            "_model_name": "HBoxModel",
            "_view_count": null,
            "_view_module": "@jupyter-widgets/controls",
            "_view_module_version": "1.5.0",
            "_view_name": "HBoxView",
            "box_style": "",
            "children": [
              "IPY_MODEL_10a04da8d2324c0e8ab479deaf74f8f7",
              "IPY_MODEL_0ffcede43bf848bd8f7a866587817328",
              "IPY_MODEL_e35f0314dd06454dbc3b23be9ea7944e"
            ],
            "layout": "IPY_MODEL_0d5688655ce24f2f9e7d0f8f679b431c"
          }
        },
        "10a04da8d2324c0e8ab479deaf74f8f7": {
          "model_module": "@jupyter-widgets/controls",
          "model_name": "HTMLModel",
          "model_module_version": "1.5.0",
          "state": {
            "_dom_classes": [],
            "_model_module": "@jupyter-widgets/controls",
            "_model_module_version": "1.5.0",
            "_model_name": "HTMLModel",
            "_view_count": null,
            "_view_module": "@jupyter-widgets/controls",
            "_view_module_version": "1.5.0",
            "_view_name": "HTMLView",
            "description": "",
            "description_tooltip": null,
            "layout": "IPY_MODEL_51f8f2194c114372b7bcabe638c77625",
            "placeholder": "​",
            "style": "IPY_MODEL_7f121fd4793e4a168987d9e5f5b61d62",
            "value": "Downloading data: 100%"
          }
        },
        "0ffcede43bf848bd8f7a866587817328": {
          "model_module": "@jupyter-widgets/controls",
          "model_name": "FloatProgressModel",
          "model_module_version": "1.5.0",
          "state": {
            "_dom_classes": [],
            "_model_module": "@jupyter-widgets/controls",
            "_model_module_version": "1.5.0",
            "_model_name": "FloatProgressModel",
            "_view_count": null,
            "_view_module": "@jupyter-widgets/controls",
            "_view_module_version": "1.5.0",
            "_view_name": "ProgressView",
            "bar_style": "success",
            "description": "",
            "description_tooltip": null,
            "layout": "IPY_MODEL_10b22ce3e90847cd8f4c3008a1c5b774",
            "max": 61115756,
            "min": 0,
            "orientation": "horizontal",
            "style": "IPY_MODEL_fafadc88493a42cfae9523270506aaad",
            "value": 61115756
          }
        },
        "e35f0314dd06454dbc3b23be9ea7944e": {
          "model_module": "@jupyter-widgets/controls",
          "model_name": "HTMLModel",
          "model_module_version": "1.5.0",
          "state": {
            "_dom_classes": [],
            "_model_module": "@jupyter-widgets/controls",
            "_model_module_version": "1.5.0",
            "_model_name": "HTMLModel",
            "_view_count": null,
            "_view_module": "@jupyter-widgets/controls",
            "_view_module_version": "1.5.0",
            "_view_name": "HTMLView",
            "description": "",
            "description_tooltip": null,
            "layout": "IPY_MODEL_7eb40ec900604d14a93f5747e3ca6909",
            "placeholder": "​",
            "style": "IPY_MODEL_0c47ef75204d481db1628380dbcdadde",
            "value": " 61.1M/61.1M [00:02&lt;00:00, 18.8MB/s]"
          }
        },
        "0d5688655ce24f2f9e7d0f8f679b431c": {
          "model_module": "@jupyter-widgets/base",
          "model_name": "LayoutModel",
          "model_module_version": "1.2.0",
          "state": {
            "_model_module": "@jupyter-widgets/base",
            "_model_module_version": "1.2.0",
            "_model_name": "LayoutModel",
            "_view_count": null,
            "_view_module": "@jupyter-widgets/base",
            "_view_module_version": "1.2.0",
            "_view_name": "LayoutView",
            "align_content": null,
            "align_items": null,
            "align_self": null,
            "border": null,
            "bottom": null,
            "display": null,
            "flex": null,
            "flex_flow": null,
            "grid_area": null,
            "grid_auto_columns": null,
            "grid_auto_flow": null,
            "grid_auto_rows": null,
            "grid_column": null,
            "grid_gap": null,
            "grid_row": null,
            "grid_template_areas": null,
            "grid_template_columns": null,
            "grid_template_rows": null,
            "height": null,
            "justify_content": null,
            "justify_items": null,
            "left": null,
            "margin": null,
            "max_height": null,
            "max_width": null,
            "min_height": null,
            "min_width": null,
            "object_fit": null,
            "object_position": null,
            "order": null,
            "overflow": null,
            "overflow_x": null,
            "overflow_y": null,
            "padding": null,
            "right": null,
            "top": null,
            "visibility": null,
            "width": null
          }
        },
        "51f8f2194c114372b7bcabe638c77625": {
          "model_module": "@jupyter-widgets/base",
          "model_name": "LayoutModel",
          "model_module_version": "1.2.0",
          "state": {
            "_model_module": "@jupyter-widgets/base",
            "_model_module_version": "1.2.0",
            "_model_name": "LayoutModel",
            "_view_count": null,
            "_view_module": "@jupyter-widgets/base",
            "_view_module_version": "1.2.0",
            "_view_name": "LayoutView",
            "align_content": null,
            "align_items": null,
            "align_self": null,
            "border": null,
            "bottom": null,
            "display": null,
            "flex": null,
            "flex_flow": null,
            "grid_area": null,
            "grid_auto_columns": null,
            "grid_auto_flow": null,
            "grid_auto_rows": null,
            "grid_column": null,
            "grid_gap": null,
            "grid_row": null,
            "grid_template_areas": null,
            "grid_template_columns": null,
            "grid_template_rows": null,
            "height": null,
            "justify_content": null,
            "justify_items": null,
            "left": null,
            "margin": null,
            "max_height": null,
            "max_width": null,
            "min_height": null,
            "min_width": null,
            "object_fit": null,
            "object_position": null,
            "order": null,
            "overflow": null,
            "overflow_x": null,
            "overflow_y": null,
            "padding": null,
            "right": null,
            "top": null,
            "visibility": null,
            "width": null
          }
        },
        "7f121fd4793e4a168987d9e5f5b61d62": {
          "model_module": "@jupyter-widgets/controls",
          "model_name": "DescriptionStyleModel",
          "model_module_version": "1.5.0",
          "state": {
            "_model_module": "@jupyter-widgets/controls",
            "_model_module_version": "1.5.0",
            "_model_name": "DescriptionStyleModel",
            "_view_count": null,
            "_view_module": "@jupyter-widgets/base",
            "_view_module_version": "1.2.0",
            "_view_name": "StyleView",
            "description_width": ""
          }
        },
        "10b22ce3e90847cd8f4c3008a1c5b774": {
          "model_module": "@jupyter-widgets/base",
          "model_name": "LayoutModel",
          "model_module_version": "1.2.0",
          "state": {
            "_model_module": "@jupyter-widgets/base",
            "_model_module_version": "1.2.0",
            "_model_name": "LayoutModel",
            "_view_count": null,
            "_view_module": "@jupyter-widgets/base",
            "_view_module_version": "1.2.0",
            "_view_name": "LayoutView",
            "align_content": null,
            "align_items": null,
            "align_self": null,
            "border": null,
            "bottom": null,
            "display": null,
            "flex": null,
            "flex_flow": null,
            "grid_area": null,
            "grid_auto_columns": null,
            "grid_auto_flow": null,
            "grid_auto_rows": null,
            "grid_column": null,
            "grid_gap": null,
            "grid_row": null,
            "grid_template_areas": null,
            "grid_template_columns": null,
            "grid_template_rows": null,
            "height": null,
            "justify_content": null,
            "justify_items": null,
            "left": null,
            "margin": null,
            "max_height": null,
            "max_width": null,
            "min_height": null,
            "min_width": null,
            "object_fit": null,
            "object_position": null,
            "order": null,
            "overflow": null,
            "overflow_x": null,
            "overflow_y": null,
            "padding": null,
            "right": null,
            "top": null,
            "visibility": null,
            "width": null
          }
        },
        "fafadc88493a42cfae9523270506aaad": {
          "model_module": "@jupyter-widgets/controls",
          "model_name": "ProgressStyleModel",
          "model_module_version": "1.5.0",
          "state": {
            "_model_module": "@jupyter-widgets/controls",
            "_model_module_version": "1.5.0",
            "_model_name": "ProgressStyleModel",
            "_view_count": null,
            "_view_module": "@jupyter-widgets/base",
            "_view_module_version": "1.2.0",
            "_view_name": "StyleView",
            "bar_color": null,
            "description_width": ""
          }
        },
        "7eb40ec900604d14a93f5747e3ca6909": {
          "model_module": "@jupyter-widgets/base",
          "model_name": "LayoutModel",
          "model_module_version": "1.2.0",
          "state": {
            "_model_module": "@jupyter-widgets/base",
            "_model_module_version": "1.2.0",
            "_model_name": "LayoutModel",
            "_view_count": null,
            "_view_module": "@jupyter-widgets/base",
            "_view_module_version": "1.2.0",
            "_view_name": "LayoutView",
            "align_content": null,
            "align_items": null,
            "align_self": null,
            "border": null,
            "bottom": null,
            "display": null,
            "flex": null,
            "flex_flow": null,
            "grid_area": null,
            "grid_auto_columns": null,
            "grid_auto_flow": null,
            "grid_auto_rows": null,
            "grid_column": null,
            "grid_gap": null,
            "grid_row": null,
            "grid_template_areas": null,
            "grid_template_columns": null,
            "grid_template_rows": null,
            "height": null,
            "justify_content": null,
            "justify_items": null,
            "left": null,
            "margin": null,
            "max_height": null,
            "max_width": null,
            "min_height": null,
            "min_width": null,
            "object_fit": null,
            "object_position": null,
            "order": null,
            "overflow": null,
            "overflow_x": null,
            "overflow_y": null,
            "padding": null,
            "right": null,
            "top": null,
            "visibility": null,
            "width": null
          }
        },
        "0c47ef75204d481db1628380dbcdadde": {
          "model_module": "@jupyter-widgets/controls",
          "model_name": "DescriptionStyleModel",
          "model_module_version": "1.5.0",
          "state": {
            "_model_module": "@jupyter-widgets/controls",
            "_model_module_version": "1.5.0",
            "_model_name": "DescriptionStyleModel",
            "_view_count": null,
            "_view_module": "@jupyter-widgets/base",
            "_view_module_version": "1.2.0",
            "_view_name": "StyleView",
            "description_width": ""
          }
        },
        "7a76bfd95ac64d2e8db9937de51ff417": {
          "model_module": "@jupyter-widgets/controls",
          "model_name": "HBoxModel",
          "model_module_version": "1.5.0",
          "state": {
            "_dom_classes": [],
            "_model_module": "@jupyter-widgets/controls",
            "_model_module_version": "1.5.0",
            "_model_name": "HBoxModel",
            "_view_count": null,
            "_view_module": "@jupyter-widgets/controls",
            "_view_module_version": "1.5.0",
            "_view_name": "HBoxView",
            "box_style": "",
            "children": [
              "IPY_MODEL_e0b265fe25e146118808a7a13d199da4",
              "IPY_MODEL_9c460c4a0f814a74ba2cfaaca369c9d1",
              "IPY_MODEL_93beef1f60124d6ca9e98e2d83b32087"
            ],
            "layout": "IPY_MODEL_49335f45b48743a9a3ebabd305838a52"
          }
        },
        "e0b265fe25e146118808a7a13d199da4": {
          "model_module": "@jupyter-widgets/controls",
          "model_name": "HTMLModel",
          "model_module_version": "1.5.0",
          "state": {
            "_dom_classes": [],
            "_model_module": "@jupyter-widgets/controls",
            "_model_module_version": "1.5.0",
            "_model_name": "HTMLModel",
            "_view_count": null,
            "_view_module": "@jupyter-widgets/controls",
            "_view_module_version": "1.5.0",
            "_view_name": "HTMLView",
            "description": "",
            "description_tooltip": null,
            "layout": "IPY_MODEL_c44b643307bf4c1da5db02588664d890",
            "placeholder": "​",
            "style": "IPY_MODEL_4fec3a236c564e12b38e40413d4cba11",
            "value": "Generating train split: 100%"
          }
        },
        "9c460c4a0f814a74ba2cfaaca369c9d1": {
          "model_module": "@jupyter-widgets/controls",
          "model_name": "FloatProgressModel",
          "model_module_version": "1.5.0",
          "state": {
            "_dom_classes": [],
            "_model_module": "@jupyter-widgets/controls",
            "_model_module_version": "1.5.0",
            "_model_name": "FloatProgressModel",
            "_view_count": null,
            "_view_module": "@jupyter-widgets/controls",
            "_view_module_version": "1.5.0",
            "_view_name": "ProgressView",
            "bar_style": "success",
            "description": "",
            "description_tooltip": null,
            "layout": "IPY_MODEL_7f843a0f2b5d48e3bf71924fc70716ff",
            "max": 60964,
            "min": 0,
            "orientation": "horizontal",
            "style": "IPY_MODEL_d083973c742d461b8738044499c93946",
            "value": 60964
          }
        },
        "93beef1f60124d6ca9e98e2d83b32087": {
          "model_module": "@jupyter-widgets/controls",
          "model_name": "HTMLModel",
          "model_module_version": "1.5.0",
          "state": {
            "_dom_classes": [],
            "_model_module": "@jupyter-widgets/controls",
            "_model_module_version": "1.5.0",
            "_model_name": "HTMLModel",
            "_view_count": null,
            "_view_module": "@jupyter-widgets/controls",
            "_view_module_version": "1.5.0",
            "_view_name": "HTMLView",
            "description": "",
            "description_tooltip": null,
            "layout": "IPY_MODEL_782a41608b084561a4cd6321e808b1e4",
            "placeholder": "​",
            "style": "IPY_MODEL_0eeb6160cd4a45db8c3d05d48c6baef6",
            "value": " 60964/60964 [00:13&lt;00:00, 5216.39 examples/s]"
          }
        },
        "49335f45b48743a9a3ebabd305838a52": {
          "model_module": "@jupyter-widgets/base",
          "model_name": "LayoutModel",
          "model_module_version": "1.2.0",
          "state": {
            "_model_module": "@jupyter-widgets/base",
            "_model_module_version": "1.2.0",
            "_model_name": "LayoutModel",
            "_view_count": null,
            "_view_module": "@jupyter-widgets/base",
            "_view_module_version": "1.2.0",
            "_view_name": "LayoutView",
            "align_content": null,
            "align_items": null,
            "align_self": null,
            "border": null,
            "bottom": null,
            "display": null,
            "flex": null,
            "flex_flow": null,
            "grid_area": null,
            "grid_auto_columns": null,
            "grid_auto_flow": null,
            "grid_auto_rows": null,
            "grid_column": null,
            "grid_gap": null,
            "grid_row": null,
            "grid_template_areas": null,
            "grid_template_columns": null,
            "grid_template_rows": null,
            "height": null,
            "justify_content": null,
            "justify_items": null,
            "left": null,
            "margin": null,
            "max_height": null,
            "max_width": null,
            "min_height": null,
            "min_width": null,
            "object_fit": null,
            "object_position": null,
            "order": null,
            "overflow": null,
            "overflow_x": null,
            "overflow_y": null,
            "padding": null,
            "right": null,
            "top": null,
            "visibility": null,
            "width": null
          }
        },
        "c44b643307bf4c1da5db02588664d890": {
          "model_module": "@jupyter-widgets/base",
          "model_name": "LayoutModel",
          "model_module_version": "1.2.0",
          "state": {
            "_model_module": "@jupyter-widgets/base",
            "_model_module_version": "1.2.0",
            "_model_name": "LayoutModel",
            "_view_count": null,
            "_view_module": "@jupyter-widgets/base",
            "_view_module_version": "1.2.0",
            "_view_name": "LayoutView",
            "align_content": null,
            "align_items": null,
            "align_self": null,
            "border": null,
            "bottom": null,
            "display": null,
            "flex": null,
            "flex_flow": null,
            "grid_area": null,
            "grid_auto_columns": null,
            "grid_auto_flow": null,
            "grid_auto_rows": null,
            "grid_column": null,
            "grid_gap": null,
            "grid_row": null,
            "grid_template_areas": null,
            "grid_template_columns": null,
            "grid_template_rows": null,
            "height": null,
            "justify_content": null,
            "justify_items": null,
            "left": null,
            "margin": null,
            "max_height": null,
            "max_width": null,
            "min_height": null,
            "min_width": null,
            "object_fit": null,
            "object_position": null,
            "order": null,
            "overflow": null,
            "overflow_x": null,
            "overflow_y": null,
            "padding": null,
            "right": null,
            "top": null,
            "visibility": null,
            "width": null
          }
        },
        "4fec3a236c564e12b38e40413d4cba11": {
          "model_module": "@jupyter-widgets/controls",
          "model_name": "DescriptionStyleModel",
          "model_module_version": "1.5.0",
          "state": {
            "_model_module": "@jupyter-widgets/controls",
            "_model_module_version": "1.5.0",
            "_model_name": "DescriptionStyleModel",
            "_view_count": null,
            "_view_module": "@jupyter-widgets/base",
            "_view_module_version": "1.2.0",
            "_view_name": "StyleView",
            "description_width": ""
          }
        },
        "7f843a0f2b5d48e3bf71924fc70716ff": {
          "model_module": "@jupyter-widgets/base",
          "model_name": "LayoutModel",
          "model_module_version": "1.2.0",
          "state": {
            "_model_module": "@jupyter-widgets/base",
            "_model_module_version": "1.2.0",
            "_model_name": "LayoutModel",
            "_view_count": null,
            "_view_module": "@jupyter-widgets/base",
            "_view_module_version": "1.2.0",
            "_view_name": "LayoutView",
            "align_content": null,
            "align_items": null,
            "align_self": null,
            "border": null,
            "bottom": null,
            "display": null,
            "flex": null,
            "flex_flow": null,
            "grid_area": null,
            "grid_auto_columns": null,
            "grid_auto_flow": null,
            "grid_auto_rows": null,
            "grid_column": null,
            "grid_gap": null,
            "grid_row": null,
            "grid_template_areas": null,
            "grid_template_columns": null,
            "grid_template_rows": null,
            "height": null,
            "justify_content": null,
            "justify_items": null,
            "left": null,
            "margin": null,
            "max_height": null,
            "max_width": null,
            "min_height": null,
            "min_width": null,
            "object_fit": null,
            "object_position": null,
            "order": null,
            "overflow": null,
            "overflow_x": null,
            "overflow_y": null,
            "padding": null,
            "right": null,
            "top": null,
            "visibility": null,
            "width": null
          }
        },
        "d083973c742d461b8738044499c93946": {
          "model_module": "@jupyter-widgets/controls",
          "model_name": "ProgressStyleModel",
          "model_module_version": "1.5.0",
          "state": {
            "_model_module": "@jupyter-widgets/controls",
            "_model_module_version": "1.5.0",
            "_model_name": "ProgressStyleModel",
            "_view_count": null,
            "_view_module": "@jupyter-widgets/base",
            "_view_module_version": "1.2.0",
            "_view_name": "StyleView",
            "bar_color": null,
            "description_width": ""
          }
        },
        "782a41608b084561a4cd6321e808b1e4": {
          "model_module": "@jupyter-widgets/base",
          "model_name": "LayoutModel",
          "model_module_version": "1.2.0",
          "state": {
            "_model_module": "@jupyter-widgets/base",
            "_model_module_version": "1.2.0",
            "_model_name": "LayoutModel",
            "_view_count": null,
            "_view_module": "@jupyter-widgets/base",
            "_view_module_version": "1.2.0",
            "_view_name": "LayoutView",
            "align_content": null,
            "align_items": null,
            "align_self": null,
            "border": null,
            "bottom": null,
            "display": null,
            "flex": null,
            "flex_flow": null,
            "grid_area": null,
            "grid_auto_columns": null,
            "grid_auto_flow": null,
            "grid_auto_rows": null,
            "grid_column": null,
            "grid_gap": null,
            "grid_row": null,
            "grid_template_areas": null,
            "grid_template_columns": null,
            "grid_template_rows": null,
            "height": null,
            "justify_content": null,
            "justify_items": null,
            "left": null,
            "margin": null,
            "max_height": null,
            "max_width": null,
            "min_height": null,
            "min_width": null,
            "object_fit": null,
            "object_position": null,
            "order": null,
            "overflow": null,
            "overflow_x": null,
            "overflow_y": null,
            "padding": null,
            "right": null,
            "top": null,
            "visibility": null,
            "width": null
          }
        },
        "0eeb6160cd4a45db8c3d05d48c6baef6": {
          "model_module": "@jupyter-widgets/controls",
          "model_name": "DescriptionStyleModel",
          "model_module_version": "1.5.0",
          "state": {
            "_model_module": "@jupyter-widgets/controls",
            "_model_module_version": "1.5.0",
            "_model_name": "DescriptionStyleModel",
            "_view_count": null,
            "_view_module": "@jupyter-widgets/base",
            "_view_module_version": "1.2.0",
            "_view_name": "StyleView",
            "description_width": ""
          }
        },
        "d2fe985fb28746709424953aa8b53c24": {
          "model_module": "@jupyter-widgets/controls",
          "model_name": "HBoxModel",
          "model_module_version": "1.5.0",
          "state": {
            "_dom_classes": [],
            "_model_module": "@jupyter-widgets/controls",
            "_model_module_version": "1.5.0",
            "_model_name": "HBoxModel",
            "_view_count": null,
            "_view_module": "@jupyter-widgets/controls",
            "_view_module_version": "1.5.0",
            "_view_name": "HBoxView",
            "box_style": "",
            "children": [
              "IPY_MODEL_b869c496ea5c462a82e5cfcefd1db89e",
              "IPY_MODEL_ff51a6df521c49a9959cd360f68a894c",
              "IPY_MODEL_6977a9b9554c414daee4805bcf1aa4ba"
            ],
            "layout": "IPY_MODEL_b5f3ccf290cd48768efdab60624ace76"
          }
        },
        "b869c496ea5c462a82e5cfcefd1db89e": {
          "model_module": "@jupyter-widgets/controls",
          "model_name": "HTMLModel",
          "model_module_version": "1.5.0",
          "state": {
            "_dom_classes": [],
            "_model_module": "@jupyter-widgets/controls",
            "_model_module_version": "1.5.0",
            "_model_name": "HTMLModel",
            "_view_count": null,
            "_view_module": "@jupyter-widgets/controls",
            "_view_module_version": "1.5.0",
            "_view_name": "HTMLView",
            "description": "",
            "description_tooltip": null,
            "layout": "IPY_MODEL_d4a20fe74101431cb7dc23c2ec4cd3a4",
            "placeholder": "​",
            "style": "IPY_MODEL_e020cb320f244b76a8653121ae1f40d0",
            "value": "Generating test split: 100%"
          }
        },
        "ff51a6df521c49a9959cd360f68a894c": {
          "model_module": "@jupyter-widgets/controls",
          "model_name": "FloatProgressModel",
          "model_module_version": "1.5.0",
          "state": {
            "_dom_classes": [],
            "_model_module": "@jupyter-widgets/controls",
            "_model_module_version": "1.5.0",
            "_model_name": "FloatProgressModel",
            "_view_count": null,
            "_view_module": "@jupyter-widgets/controls",
            "_view_module_version": "1.5.0",
            "_view_name": "ProgressView",
            "bar_style": "success",
            "description": "",
            "description_tooltip": null,
            "layout": "IPY_MODEL_e01299074453415ca82877ef075f300f",
            "max": 6793,
            "min": 0,
            "orientation": "horizontal",
            "style": "IPY_MODEL_4ee38bd20c814010b014c515e993ae95",
            "value": 6793
          }
        },
        "6977a9b9554c414daee4805bcf1aa4ba": {
          "model_module": "@jupyter-widgets/controls",
          "model_name": "HTMLModel",
          "model_module_version": "1.5.0",
          "state": {
            "_dom_classes": [],
            "_model_module": "@jupyter-widgets/controls",
            "_model_module_version": "1.5.0",
            "_model_name": "HTMLModel",
            "_view_count": null,
            "_view_module": "@jupyter-widgets/controls",
            "_view_module_version": "1.5.0",
            "_view_name": "HTMLView",
            "description": "",
            "description_tooltip": null,
            "layout": "IPY_MODEL_a859c2945110441886d9eea1cfa948d1",
            "placeholder": "​",
            "style": "IPY_MODEL_9d8284955f5346d194a2c697fcf439d3",
            "value": " 6793/6793 [00:01&lt;00:00, 4127.57 examples/s]"
          }
        },
        "b5f3ccf290cd48768efdab60624ace76": {
          "model_module": "@jupyter-widgets/base",
          "model_name": "LayoutModel",
          "model_module_version": "1.2.0",
          "state": {
            "_model_module": "@jupyter-widgets/base",
            "_model_module_version": "1.2.0",
            "_model_name": "LayoutModel",
            "_view_count": null,
            "_view_module": "@jupyter-widgets/base",
            "_view_module_version": "1.2.0",
            "_view_name": "LayoutView",
            "align_content": null,
            "align_items": null,
            "align_self": null,
            "border": null,
            "bottom": null,
            "display": null,
            "flex": null,
            "flex_flow": null,
            "grid_area": null,
            "grid_auto_columns": null,
            "grid_auto_flow": null,
            "grid_auto_rows": null,
            "grid_column": null,
            "grid_gap": null,
            "grid_row": null,
            "grid_template_areas": null,
            "grid_template_columns": null,
            "grid_template_rows": null,
            "height": null,
            "justify_content": null,
            "justify_items": null,
            "left": null,
            "margin": null,
            "max_height": null,
            "max_width": null,
            "min_height": null,
            "min_width": null,
            "object_fit": null,
            "object_position": null,
            "order": null,
            "overflow": null,
            "overflow_x": null,
            "overflow_y": null,
            "padding": null,
            "right": null,
            "top": null,
            "visibility": null,
            "width": null
          }
        },
        "d4a20fe74101431cb7dc23c2ec4cd3a4": {
          "model_module": "@jupyter-widgets/base",
          "model_name": "LayoutModel",
          "model_module_version": "1.2.0",
          "state": {
            "_model_module": "@jupyter-widgets/base",
            "_model_module_version": "1.2.0",
            "_model_name": "LayoutModel",
            "_view_count": null,
            "_view_module": "@jupyter-widgets/base",
            "_view_module_version": "1.2.0",
            "_view_name": "LayoutView",
            "align_content": null,
            "align_items": null,
            "align_self": null,
            "border": null,
            "bottom": null,
            "display": null,
            "flex": null,
            "flex_flow": null,
            "grid_area": null,
            "grid_auto_columns": null,
            "grid_auto_flow": null,
            "grid_auto_rows": null,
            "grid_column": null,
            "grid_gap": null,
            "grid_row": null,
            "grid_template_areas": null,
            "grid_template_columns": null,
            "grid_template_rows": null,
            "height": null,
            "justify_content": null,
            "justify_items": null,
            "left": null,
            "margin": null,
            "max_height": null,
            "max_width": null,
            "min_height": null,
            "min_width": null,
            "object_fit": null,
            "object_position": null,
            "order": null,
            "overflow": null,
            "overflow_x": null,
            "overflow_y": null,
            "padding": null,
            "right": null,
            "top": null,
            "visibility": null,
            "width": null
          }
        },
        "e020cb320f244b76a8653121ae1f40d0": {
          "model_module": "@jupyter-widgets/controls",
          "model_name": "DescriptionStyleModel",
          "model_module_version": "1.5.0",
          "state": {
            "_model_module": "@jupyter-widgets/controls",
            "_model_module_version": "1.5.0",
            "_model_name": "DescriptionStyleModel",
            "_view_count": null,
            "_view_module": "@jupyter-widgets/base",
            "_view_module_version": "1.2.0",
            "_view_name": "StyleView",
            "description_width": ""
          }
        },
        "e01299074453415ca82877ef075f300f": {
          "model_module": "@jupyter-widgets/base",
          "model_name": "LayoutModel",
          "model_module_version": "1.2.0",
          "state": {
            "_model_module": "@jupyter-widgets/base",
            "_model_module_version": "1.2.0",
            "_model_name": "LayoutModel",
            "_view_count": null,
            "_view_module": "@jupyter-widgets/base",
            "_view_module_version": "1.2.0",
            "_view_name": "LayoutView",
            "align_content": null,
            "align_items": null,
            "align_self": null,
            "border": null,
            "bottom": null,
            "display": null,
            "flex": null,
            "flex_flow": null,
            "grid_area": null,
            "grid_auto_columns": null,
            "grid_auto_flow": null,
            "grid_auto_rows": null,
            "grid_column": null,
            "grid_gap": null,
            "grid_row": null,
            "grid_template_areas": null,
            "grid_template_columns": null,
            "grid_template_rows": null,
            "height": null,
            "justify_content": null,
            "justify_items": null,
            "left": null,
            "margin": null,
            "max_height": null,
            "max_width": null,
            "min_height": null,
            "min_width": null,
            "object_fit": null,
            "object_position": null,
            "order": null,
            "overflow": null,
            "overflow_x": null,
            "overflow_y": null,
            "padding": null,
            "right": null,
            "top": null,
            "visibility": null,
            "width": null
          }
        },
        "4ee38bd20c814010b014c515e993ae95": {
          "model_module": "@jupyter-widgets/controls",
          "model_name": "ProgressStyleModel",
          "model_module_version": "1.5.0",
          "state": {
            "_model_module": "@jupyter-widgets/controls",
            "_model_module_version": "1.5.0",
            "_model_name": "ProgressStyleModel",
            "_view_count": null,
            "_view_module": "@jupyter-widgets/base",
            "_view_module_version": "1.2.0",
            "_view_name": "StyleView",
            "bar_color": null,
            "description_width": ""
          }
        },
        "a859c2945110441886d9eea1cfa948d1": {
          "model_module": "@jupyter-widgets/base",
          "model_name": "LayoutModel",
          "model_module_version": "1.2.0",
          "state": {
            "_model_module": "@jupyter-widgets/base",
            "_model_module_version": "1.2.0",
            "_model_name": "LayoutModel",
            "_view_count": null,
            "_view_module": "@jupyter-widgets/base",
            "_view_module_version": "1.2.0",
            "_view_name": "LayoutView",
            "align_content": null,
            "align_items": null,
            "align_self": null,
            "border": null,
            "bottom": null,
            "display": null,
            "flex": null,
            "flex_flow": null,
            "grid_area": null,
            "grid_auto_columns": null,
            "grid_auto_flow": null,
            "grid_auto_rows": null,
            "grid_column": null,
            "grid_gap": null,
            "grid_row": null,
            "grid_template_areas": null,
            "grid_template_columns": null,
            "grid_template_rows": null,
            "height": null,
            "justify_content": null,
            "justify_items": null,
            "left": null,
            "margin": null,
            "max_height": null,
            "max_width": null,
            "min_height": null,
            "min_width": null,
            "object_fit": null,
            "object_position": null,
            "order": null,
            "overflow": null,
            "overflow_x": null,
            "overflow_y": null,
            "padding": null,
            "right": null,
            "top": null,
            "visibility": null,
            "width": null
          }
        },
        "9d8284955f5346d194a2c697fcf439d3": {
          "model_module": "@jupyter-widgets/controls",
          "model_name": "DescriptionStyleModel",
          "model_module_version": "1.5.0",
          "state": {
            "_model_module": "@jupyter-widgets/controls",
            "_model_module_version": "1.5.0",
            "_model_name": "DescriptionStyleModel",
            "_view_count": null,
            "_view_module": "@jupyter-widgets/base",
            "_view_module_version": "1.2.0",
            "_view_name": "StyleView",
            "description_width": ""
          }
        },
        "d56310e2e77345bbb055d268160c5f79": {
          "model_module": "@jupyter-widgets/controls",
          "model_name": "HBoxModel",
          "model_module_version": "1.5.0",
          "state": {
            "_dom_classes": [],
            "_model_module": "@jupyter-widgets/controls",
            "_model_module_version": "1.5.0",
            "_model_name": "HBoxModel",
            "_view_count": null,
            "_view_module": "@jupyter-widgets/controls",
            "_view_module_version": "1.5.0",
            "_view_name": "HBoxView",
            "box_style": "",
            "children": [
              "IPY_MODEL_419ef7dc2b2f4c038d41bc792c5852eb",
              "IPY_MODEL_62e23ffaae6047c392b554c824a9ac12",
              "IPY_MODEL_fd3e5108e09849198c7a5f82405827ad"
            ],
            "layout": "IPY_MODEL_2efbadb6a1bf4813b843122df3dc7dde"
          }
        },
        "419ef7dc2b2f4c038d41bc792c5852eb": {
          "model_module": "@jupyter-widgets/controls",
          "model_name": "HTMLModel",
          "model_module_version": "1.5.0",
          "state": {
            "_dom_classes": [],
            "_model_module": "@jupyter-widgets/controls",
            "_model_module_version": "1.5.0",
            "_model_name": "HTMLModel",
            "_view_count": null,
            "_view_module": "@jupyter-widgets/controls",
            "_view_module_version": "1.5.0",
            "_view_name": "HTMLView",
            "description": "",
            "description_tooltip": null,
            "layout": "IPY_MODEL_958e1545df804f67882e65c9849c2659",
            "placeholder": "​",
            "style": "IPY_MODEL_7cda92d6249e499394996ac51899be1d",
            "value": "Generating validation split: 100%"
          }
        },
        "62e23ffaae6047c392b554c824a9ac12": {
          "model_module": "@jupyter-widgets/controls",
          "model_name": "FloatProgressModel",
          "model_module_version": "1.5.0",
          "state": {
            "_dom_classes": [],
            "_model_module": "@jupyter-widgets/controls",
            "_model_module_version": "1.5.0",
            "_model_name": "FloatProgressModel",
            "_view_count": null,
            "_view_module": "@jupyter-widgets/controls",
            "_view_module_version": "1.5.0",
            "_view_name": "ProgressView",
            "bar_style": "success",
            "description": "",
            "description_tooltip": null,
            "layout": "IPY_MODEL_c2a13e3a774a4e5090a10998ddad5084",
            "max": 6369,
            "min": 0,
            "orientation": "horizontal",
            "style": "IPY_MODEL_c38332d3b2a94d91bea3d7c84ab85e61",
            "value": 6369
          }
        },
        "fd3e5108e09849198c7a5f82405827ad": {
          "model_module": "@jupyter-widgets/controls",
          "model_name": "HTMLModel",
          "model_module_version": "1.5.0",
          "state": {
            "_dom_classes": [],
            "_model_module": "@jupyter-widgets/controls",
            "_model_module_version": "1.5.0",
            "_model_name": "HTMLModel",
            "_view_count": null,
            "_view_module": "@jupyter-widgets/controls",
            "_view_module_version": "1.5.0",
            "_view_name": "HTMLView",
            "description": "",
            "description_tooltip": null,
            "layout": "IPY_MODEL_fac396dc8a874afeb487225ecae1f778",
            "placeholder": "​",
            "style": "IPY_MODEL_02182fdfa2694799b4e3b4cebe0d71a8",
            "value": " 6369/6369 [00:01&lt;00:00, 5843.41 examples/s]"
          }
        },
        "2efbadb6a1bf4813b843122df3dc7dde": {
          "model_module": "@jupyter-widgets/base",
          "model_name": "LayoutModel",
          "model_module_version": "1.2.0",
          "state": {
            "_model_module": "@jupyter-widgets/base",
            "_model_module_version": "1.2.0",
            "_model_name": "LayoutModel",
            "_view_count": null,
            "_view_module": "@jupyter-widgets/base",
            "_view_module_version": "1.2.0",
            "_view_name": "LayoutView",
            "align_content": null,
            "align_items": null,
            "align_self": null,
            "border": null,
            "bottom": null,
            "display": null,
            "flex": null,
            "flex_flow": null,
            "grid_area": null,
            "grid_auto_columns": null,
            "grid_auto_flow": null,
            "grid_auto_rows": null,
            "grid_column": null,
            "grid_gap": null,
            "grid_row": null,
            "grid_template_areas": null,
            "grid_template_columns": null,
            "grid_template_rows": null,
            "height": null,
            "justify_content": null,
            "justify_items": null,
            "left": null,
            "margin": null,
            "max_height": null,
            "max_width": null,
            "min_height": null,
            "min_width": null,
            "object_fit": null,
            "object_position": null,
            "order": null,
            "overflow": null,
            "overflow_x": null,
            "overflow_y": null,
            "padding": null,
            "right": null,
            "top": null,
            "visibility": null,
            "width": null
          }
        },
        "958e1545df804f67882e65c9849c2659": {
          "model_module": "@jupyter-widgets/base",
          "model_name": "LayoutModel",
          "model_module_version": "1.2.0",
          "state": {
            "_model_module": "@jupyter-widgets/base",
            "_model_module_version": "1.2.0",
            "_model_name": "LayoutModel",
            "_view_count": null,
            "_view_module": "@jupyter-widgets/base",
            "_view_module_version": "1.2.0",
            "_view_name": "LayoutView",
            "align_content": null,
            "align_items": null,
            "align_self": null,
            "border": null,
            "bottom": null,
            "display": null,
            "flex": null,
            "flex_flow": null,
            "grid_area": null,
            "grid_auto_columns": null,
            "grid_auto_flow": null,
            "grid_auto_rows": null,
            "grid_column": null,
            "grid_gap": null,
            "grid_row": null,
            "grid_template_areas": null,
            "grid_template_columns": null,
            "grid_template_rows": null,
            "height": null,
            "justify_content": null,
            "justify_items": null,
            "left": null,
            "margin": null,
            "max_height": null,
            "max_width": null,
            "min_height": null,
            "min_width": null,
            "object_fit": null,
            "object_position": null,
            "order": null,
            "overflow": null,
            "overflow_x": null,
            "overflow_y": null,
            "padding": null,
            "right": null,
            "top": null,
            "visibility": null,
            "width": null
          }
        },
        "7cda92d6249e499394996ac51899be1d": {
          "model_module": "@jupyter-widgets/controls",
          "model_name": "DescriptionStyleModel",
          "model_module_version": "1.5.0",
          "state": {
            "_model_module": "@jupyter-widgets/controls",
            "_model_module_version": "1.5.0",
            "_model_name": "DescriptionStyleModel",
            "_view_count": null,
            "_view_module": "@jupyter-widgets/base",
            "_view_module_version": "1.2.0",
            "_view_name": "StyleView",
            "description_width": ""
          }
        },
        "c2a13e3a774a4e5090a10998ddad5084": {
          "model_module": "@jupyter-widgets/base",
          "model_name": "LayoutModel",
          "model_module_version": "1.2.0",
          "state": {
            "_model_module": "@jupyter-widgets/base",
            "_model_module_version": "1.2.0",
            "_model_name": "LayoutModel",
            "_view_count": null,
            "_view_module": "@jupyter-widgets/base",
            "_view_module_version": "1.2.0",
            "_view_name": "LayoutView",
            "align_content": null,
            "align_items": null,
            "align_self": null,
            "border": null,
            "bottom": null,
            "display": null,
            "flex": null,
            "flex_flow": null,
            "grid_area": null,
            "grid_auto_columns": null,
            "grid_auto_flow": null,
            "grid_auto_rows": null,
            "grid_column": null,
            "grid_gap": null,
            "grid_row": null,
            "grid_template_areas": null,
            "grid_template_columns": null,
            "grid_template_rows": null,
            "height": null,
            "justify_content": null,
            "justify_items": null,
            "left": null,
            "margin": null,
            "max_height": null,
            "max_width": null,
            "min_height": null,
            "min_width": null,
            "object_fit": null,
            "object_position": null,
            "order": null,
            "overflow": null,
            "overflow_x": null,
            "overflow_y": null,
            "padding": null,
            "right": null,
            "top": null,
            "visibility": null,
            "width": null
          }
        },
        "c38332d3b2a94d91bea3d7c84ab85e61": {
          "model_module": "@jupyter-widgets/controls",
          "model_name": "ProgressStyleModel",
          "model_module_version": "1.5.0",
          "state": {
            "_model_module": "@jupyter-widgets/controls",
            "_model_module_version": "1.5.0",
            "_model_name": "ProgressStyleModel",
            "_view_count": null,
            "_view_module": "@jupyter-widgets/base",
            "_view_module_version": "1.2.0",
            "_view_name": "StyleView",
            "bar_color": null,
            "description_width": ""
          }
        },
        "fac396dc8a874afeb487225ecae1f778": {
          "model_module": "@jupyter-widgets/base",
          "model_name": "LayoutModel",
          "model_module_version": "1.2.0",
          "state": {
            "_model_module": "@jupyter-widgets/base",
            "_model_module_version": "1.2.0",
            "_model_name": "LayoutModel",
            "_view_count": null,
            "_view_module": "@jupyter-widgets/base",
            "_view_module_version": "1.2.0",
            "_view_name": "LayoutView",
            "align_content": null,
            "align_items": null,
            "align_self": null,
            "border": null,
            "bottom": null,
            "display": null,
            "flex": null,
            "flex_flow": null,
            "grid_area": null,
            "grid_auto_columns": null,
            "grid_auto_flow": null,
            "grid_auto_rows": null,
            "grid_column": null,
            "grid_gap": null,
            "grid_row": null,
            "grid_template_areas": null,
            "grid_template_columns": null,
            "grid_template_rows": null,
            "height": null,
            "justify_content": null,
            "justify_items": null,
            "left": null,
            "margin": null,
            "max_height": null,
            "max_width": null,
            "min_height": null,
            "min_width": null,
            "object_fit": null,
            "object_position": null,
            "order": null,
            "overflow": null,
            "overflow_x": null,
            "overflow_y": null,
            "padding": null,
            "right": null,
            "top": null,
            "visibility": null,
            "width": null
          }
        },
        "02182fdfa2694799b4e3b4cebe0d71a8": {
          "model_module": "@jupyter-widgets/controls",
          "model_name": "DescriptionStyleModel",
          "model_module_version": "1.5.0",
          "state": {
            "_model_module": "@jupyter-widgets/controls",
            "_model_module_version": "1.5.0",
            "_model_name": "DescriptionStyleModel",
            "_view_count": null,
            "_view_module": "@jupyter-widgets/base",
            "_view_module_version": "1.2.0",
            "_view_name": "StyleView",
            "description_width": ""
          }
        },
        "760099bedef34b8aadb3dbccdc627a59": {
          "model_module": "@jupyter-widgets/controls",
          "model_name": "HBoxModel",
          "model_module_version": "1.5.0",
          "state": {
            "_dom_classes": [],
            "_model_module": "@jupyter-widgets/controls",
            "_model_module_version": "1.5.0",
            "_model_name": "HBoxModel",
            "_view_count": null,
            "_view_module": "@jupyter-widgets/controls",
            "_view_module_version": "1.5.0",
            "_view_name": "HBoxView",
            "box_style": "",
            "children": [
              "IPY_MODEL_851055bb213347a4a33695baf4ea7e15",
              "IPY_MODEL_b3bc6510d7a7470e99561bfc293453ff",
              "IPY_MODEL_10bca827c7aa498c98ce9c2f0e9ec887"
            ],
            "layout": "IPY_MODEL_148b010fed5f49f3999673ebc2e2c8c9"
          }
        },
        "851055bb213347a4a33695baf4ea7e15": {
          "model_module": "@jupyter-widgets/controls",
          "model_name": "HTMLModel",
          "model_module_version": "1.5.0",
          "state": {
            "_dom_classes": [],
            "_model_module": "@jupyter-widgets/controls",
            "_model_module_version": "1.5.0",
            "_model_name": "HTMLModel",
            "_view_count": null,
            "_view_module": "@jupyter-widgets/controls",
            "_view_module_version": "1.5.0",
            "_view_name": "HTMLView",
            "description": "",
            "description_tooltip": null,
            "layout": "IPY_MODEL_2f44fb6b4bce42349a73fe877fe08519",
            "placeholder": "​",
            "style": "IPY_MODEL_3e2f707633174d1fbd6f9e6d1c8d95a1",
            "value": "train lines: 100%"
          }
        },
        "b3bc6510d7a7470e99561bfc293453ff": {
          "model_module": "@jupyter-widgets/controls",
          "model_name": "FloatProgressModel",
          "model_module_version": "1.5.0",
          "state": {
            "_dom_classes": [],
            "_model_module": "@jupyter-widgets/controls",
            "_model_module_version": "1.5.0",
            "_model_name": "FloatProgressModel",
            "_view_count": null,
            "_view_module": "@jupyter-widgets/controls",
            "_view_module_version": "1.5.0",
            "_view_name": "ProgressView",
            "bar_style": "success",
            "description": "",
            "description_tooltip": null,
            "layout": "IPY_MODEL_478cbdab60dc4c92a2f86293cb1f4d0e",
            "max": 7,
            "min": 0,
            "orientation": "horizontal",
            "style": "IPY_MODEL_c74306fb505f4279bb747ac6fe5b58b3",
            "value": 7
          }
        },
        "10bca827c7aa498c98ce9c2f0e9ec887": {
          "model_module": "@jupyter-widgets/controls",
          "model_name": "HTMLModel",
          "model_module_version": "1.5.0",
          "state": {
            "_dom_classes": [],
            "_model_module": "@jupyter-widgets/controls",
            "_model_module_version": "1.5.0",
            "_model_name": "HTMLModel",
            "_view_count": null,
            "_view_module": "@jupyter-widgets/controls",
            "_view_module_version": "1.5.0",
            "_view_name": "HTMLView",
            "description": "",
            "description_tooltip": null,
            "layout": "IPY_MODEL_940309c8d35f4cbbb67a41a3f8168751",
            "placeholder": "​",
            "style": "IPY_MODEL_46f4531559bf4e04b1e1ea02a3dfe29e",
            "value": " 7/7 [00:00&lt;00:00, 419.82it/s]"
          }
        },
        "148b010fed5f49f3999673ebc2e2c8c9": {
          "model_module": "@jupyter-widgets/base",
          "model_name": "LayoutModel",
          "model_module_version": "1.2.0",
          "state": {
            "_model_module": "@jupyter-widgets/base",
            "_model_module_version": "1.2.0",
            "_model_name": "LayoutModel",
            "_view_count": null,
            "_view_module": "@jupyter-widgets/base",
            "_view_module_version": "1.2.0",
            "_view_name": "LayoutView",
            "align_content": null,
            "align_items": null,
            "align_self": null,
            "border": null,
            "bottom": null,
            "display": null,
            "flex": null,
            "flex_flow": null,
            "grid_area": null,
            "grid_auto_columns": null,
            "grid_auto_flow": null,
            "grid_auto_rows": null,
            "grid_column": null,
            "grid_gap": null,
            "grid_row": null,
            "grid_template_areas": null,
            "grid_template_columns": null,
            "grid_template_rows": null,
            "height": null,
            "justify_content": null,
            "justify_items": null,
            "left": null,
            "margin": null,
            "max_height": null,
            "max_width": null,
            "min_height": null,
            "min_width": null,
            "object_fit": null,
            "object_position": null,
            "order": null,
            "overflow": null,
            "overflow_x": null,
            "overflow_y": null,
            "padding": null,
            "right": null,
            "top": null,
            "visibility": null,
            "width": null
          }
        },
        "2f44fb6b4bce42349a73fe877fe08519": {
          "model_module": "@jupyter-widgets/base",
          "model_name": "LayoutModel",
          "model_module_version": "1.2.0",
          "state": {
            "_model_module": "@jupyter-widgets/base",
            "_model_module_version": "1.2.0",
            "_model_name": "LayoutModel",
            "_view_count": null,
            "_view_module": "@jupyter-widgets/base",
            "_view_module_version": "1.2.0",
            "_view_name": "LayoutView",
            "align_content": null,
            "align_items": null,
            "align_self": null,
            "border": null,
            "bottom": null,
            "display": null,
            "flex": null,
            "flex_flow": null,
            "grid_area": null,
            "grid_auto_columns": null,
            "grid_auto_flow": null,
            "grid_auto_rows": null,
            "grid_column": null,
            "grid_gap": null,
            "grid_row": null,
            "grid_template_areas": null,
            "grid_template_columns": null,
            "grid_template_rows": null,
            "height": null,
            "justify_content": null,
            "justify_items": null,
            "left": null,
            "margin": null,
            "max_height": null,
            "max_width": null,
            "min_height": null,
            "min_width": null,
            "object_fit": null,
            "object_position": null,
            "order": null,
            "overflow": null,
            "overflow_x": null,
            "overflow_y": null,
            "padding": null,
            "right": null,
            "top": null,
            "visibility": null,
            "width": null
          }
        },
        "3e2f707633174d1fbd6f9e6d1c8d95a1": {
          "model_module": "@jupyter-widgets/controls",
          "model_name": "DescriptionStyleModel",
          "model_module_version": "1.5.0",
          "state": {
            "_model_module": "@jupyter-widgets/controls",
            "_model_module_version": "1.5.0",
            "_model_name": "DescriptionStyleModel",
            "_view_count": null,
            "_view_module": "@jupyter-widgets/base",
            "_view_module_version": "1.2.0",
            "_view_name": "StyleView",
            "description_width": ""
          }
        },
        "478cbdab60dc4c92a2f86293cb1f4d0e": {
          "model_module": "@jupyter-widgets/base",
          "model_name": "LayoutModel",
          "model_module_version": "1.2.0",
          "state": {
            "_model_module": "@jupyter-widgets/base",
            "_model_module_version": "1.2.0",
            "_model_name": "LayoutModel",
            "_view_count": null,
            "_view_module": "@jupyter-widgets/base",
            "_view_module_version": "1.2.0",
            "_view_name": "LayoutView",
            "align_content": null,
            "align_items": null,
            "align_self": null,
            "border": null,
            "bottom": null,
            "display": null,
            "flex": null,
            "flex_flow": null,
            "grid_area": null,
            "grid_auto_columns": null,
            "grid_auto_flow": null,
            "grid_auto_rows": null,
            "grid_column": null,
            "grid_gap": null,
            "grid_row": null,
            "grid_template_areas": null,
            "grid_template_columns": null,
            "grid_template_rows": null,
            "height": null,
            "justify_content": null,
            "justify_items": null,
            "left": null,
            "margin": null,
            "max_height": null,
            "max_width": null,
            "min_height": null,
            "min_width": null,
            "object_fit": null,
            "object_position": null,
            "order": null,
            "overflow": null,
            "overflow_x": null,
            "overflow_y": null,
            "padding": null,
            "right": null,
            "top": null,
            "visibility": null,
            "width": null
          }
        },
        "c74306fb505f4279bb747ac6fe5b58b3": {
          "model_module": "@jupyter-widgets/controls",
          "model_name": "ProgressStyleModel",
          "model_module_version": "1.5.0",
          "state": {
            "_model_module": "@jupyter-widgets/controls",
            "_model_module_version": "1.5.0",
            "_model_name": "ProgressStyleModel",
            "_view_count": null,
            "_view_module": "@jupyter-widgets/base",
            "_view_module_version": "1.2.0",
            "_view_name": "StyleView",
            "bar_color": null,
            "description_width": ""
          }
        },
        "940309c8d35f4cbbb67a41a3f8168751": {
          "model_module": "@jupyter-widgets/base",
          "model_name": "LayoutModel",
          "model_module_version": "1.2.0",
          "state": {
            "_model_module": "@jupyter-widgets/base",
            "_model_module_version": "1.2.0",
            "_model_name": "LayoutModel",
            "_view_count": null,
            "_view_module": "@jupyter-widgets/base",
            "_view_module_version": "1.2.0",
            "_view_name": "LayoutView",
            "align_content": null,
            "align_items": null,
            "align_self": null,
            "border": null,
            "bottom": null,
            "display": null,
            "flex": null,
            "flex_flow": null,
            "grid_area": null,
            "grid_auto_columns": null,
            "grid_auto_flow": null,
            "grid_auto_rows": null,
            "grid_column": null,
            "grid_gap": null,
            "grid_row": null,
            "grid_template_areas": null,
            "grid_template_columns": null,
            "grid_template_rows": null,
            "height": null,
            "justify_content": null,
            "justify_items": null,
            "left": null,
            "margin": null,
            "max_height": null,
            "max_width": null,
            "min_height": null,
            "min_width": null,
            "object_fit": null,
            "object_position": null,
            "order": null,
            "overflow": null,
            "overflow_x": null,
            "overflow_y": null,
            "padding": null,
            "right": null,
            "top": null,
            "visibility": null,
            "width": null
          }
        },
        "46f4531559bf4e04b1e1ea02a3dfe29e": {
          "model_module": "@jupyter-widgets/controls",
          "model_name": "DescriptionStyleModel",
          "model_module_version": "1.5.0",
          "state": {
            "_model_module": "@jupyter-widgets/controls",
            "_model_module_version": "1.5.0",
            "_model_name": "DescriptionStyleModel",
            "_view_count": null,
            "_view_module": "@jupyter-widgets/base",
            "_view_module_version": "1.2.0",
            "_view_name": "StyleView",
            "description_width": ""
          }
        },
        "275568af5c664e7bbaf99fd9cf29dbd5": {
          "model_module": "@jupyter-widgets/controls",
          "model_name": "HBoxModel",
          "model_module_version": "1.5.0",
          "state": {
            "_dom_classes": [],
            "_model_module": "@jupyter-widgets/controls",
            "_model_module_version": "1.5.0",
            "_model_name": "HBoxModel",
            "_view_count": null,
            "_view_module": "@jupyter-widgets/controls",
            "_view_module_version": "1.5.0",
            "_view_name": "HBoxView",
            "box_style": "",
            "children": [
              "IPY_MODEL_38368edbcfdd42d99bb29f57e45dcae5",
              "IPY_MODEL_fefba29b747540d8bcf41956494a4f7d",
              "IPY_MODEL_dbec76e073f64e5ca934e82b656ea91b"
            ],
            "layout": "IPY_MODEL_17ae598338394cdda957c841ef27e8af"
          }
        },
        "38368edbcfdd42d99bb29f57e45dcae5": {
          "model_module": "@jupyter-widgets/controls",
          "model_name": "HTMLModel",
          "model_module_version": "1.5.0",
          "state": {
            "_dom_classes": [],
            "_model_module": "@jupyter-widgets/controls",
            "_model_module_version": "1.5.0",
            "_model_name": "HTMLModel",
            "_view_count": null,
            "_view_module": "@jupyter-widgets/controls",
            "_view_module_version": "1.5.0",
            "_view_name": "HTMLView",
            "description": "",
            "description_tooltip": null,
            "layout": "IPY_MODEL_a44f3181ca584f5d90e6ea8de5153f01",
            "placeholder": "​",
            "style": "IPY_MODEL_ea1e58f4e99047c5abd4660a63ef3d7c",
            "value": "train lines: 100%"
          }
        },
        "fefba29b747540d8bcf41956494a4f7d": {
          "model_module": "@jupyter-widgets/controls",
          "model_name": "FloatProgressModel",
          "model_module_version": "1.5.0",
          "state": {
            "_dom_classes": [],
            "_model_module": "@jupyter-widgets/controls",
            "_model_module_version": "1.5.0",
            "_model_name": "FloatProgressModel",
            "_view_count": null,
            "_view_module": "@jupyter-widgets/controls",
            "_view_module_version": "1.5.0",
            "_view_name": "ProgressView",
            "bar_style": "success",
            "description": "",
            "description_tooltip": null,
            "layout": "IPY_MODEL_2d3354613c0d446fb2e2f4a9802a5556",
            "max": 5000,
            "min": 0,
            "orientation": "horizontal",
            "style": "IPY_MODEL_73ec37120f054890b8d760a2602732d7",
            "value": 5000
          }
        },
        "dbec76e073f64e5ca934e82b656ea91b": {
          "model_module": "@jupyter-widgets/controls",
          "model_name": "HTMLModel",
          "model_module_version": "1.5.0",
          "state": {
            "_dom_classes": [],
            "_model_module": "@jupyter-widgets/controls",
            "_model_module_version": "1.5.0",
            "_model_name": "HTMLModel",
            "_view_count": null,
            "_view_module": "@jupyter-widgets/controls",
            "_view_module_version": "1.5.0",
            "_view_name": "HTMLView",
            "description": "",
            "description_tooltip": null,
            "layout": "IPY_MODEL_09553d5068984af0b44fdb079c842468",
            "placeholder": "​",
            "style": "IPY_MODEL_3f05194ee5be4ec19ef526217ddb2dac",
            "value": " 5000/5000 [00:08&lt;00:00, 610.78it/s]"
          }
        },
        "17ae598338394cdda957c841ef27e8af": {
          "model_module": "@jupyter-widgets/base",
          "model_name": "LayoutModel",
          "model_module_version": "1.2.0",
          "state": {
            "_model_module": "@jupyter-widgets/base",
            "_model_module_version": "1.2.0",
            "_model_name": "LayoutModel",
            "_view_count": null,
            "_view_module": "@jupyter-widgets/base",
            "_view_module_version": "1.2.0",
            "_view_name": "LayoutView",
            "align_content": null,
            "align_items": null,
            "align_self": null,
            "border": null,
            "bottom": null,
            "display": null,
            "flex": null,
            "flex_flow": null,
            "grid_area": null,
            "grid_auto_columns": null,
            "grid_auto_flow": null,
            "grid_auto_rows": null,
            "grid_column": null,
            "grid_gap": null,
            "grid_row": null,
            "grid_template_areas": null,
            "grid_template_columns": null,
            "grid_template_rows": null,
            "height": null,
            "justify_content": null,
            "justify_items": null,
            "left": null,
            "margin": null,
            "max_height": null,
            "max_width": null,
            "min_height": null,
            "min_width": null,
            "object_fit": null,
            "object_position": null,
            "order": null,
            "overflow": null,
            "overflow_x": null,
            "overflow_y": null,
            "padding": null,
            "right": null,
            "top": null,
            "visibility": null,
            "width": null
          }
        },
        "a44f3181ca584f5d90e6ea8de5153f01": {
          "model_module": "@jupyter-widgets/base",
          "model_name": "LayoutModel",
          "model_module_version": "1.2.0",
          "state": {
            "_model_module": "@jupyter-widgets/base",
            "_model_module_version": "1.2.0",
            "_model_name": "LayoutModel",
            "_view_count": null,
            "_view_module": "@jupyter-widgets/base",
            "_view_module_version": "1.2.0",
            "_view_name": "LayoutView",
            "align_content": null,
            "align_items": null,
            "align_self": null,
            "border": null,
            "bottom": null,
            "display": null,
            "flex": null,
            "flex_flow": null,
            "grid_area": null,
            "grid_auto_columns": null,
            "grid_auto_flow": null,
            "grid_auto_rows": null,
            "grid_column": null,
            "grid_gap": null,
            "grid_row": null,
            "grid_template_areas": null,
            "grid_template_columns": null,
            "grid_template_rows": null,
            "height": null,
            "justify_content": null,
            "justify_items": null,
            "left": null,
            "margin": null,
            "max_height": null,
            "max_width": null,
            "min_height": null,
            "min_width": null,
            "object_fit": null,
            "object_position": null,
            "order": null,
            "overflow": null,
            "overflow_x": null,
            "overflow_y": null,
            "padding": null,
            "right": null,
            "top": null,
            "visibility": null,
            "width": null
          }
        },
        "ea1e58f4e99047c5abd4660a63ef3d7c": {
          "model_module": "@jupyter-widgets/controls",
          "model_name": "DescriptionStyleModel",
          "model_module_version": "1.5.0",
          "state": {
            "_model_module": "@jupyter-widgets/controls",
            "_model_module_version": "1.5.0",
            "_model_name": "DescriptionStyleModel",
            "_view_count": null,
            "_view_module": "@jupyter-widgets/base",
            "_view_module_version": "1.2.0",
            "_view_name": "StyleView",
            "description_width": ""
          }
        },
        "2d3354613c0d446fb2e2f4a9802a5556": {
          "model_module": "@jupyter-widgets/base",
          "model_name": "LayoutModel",
          "model_module_version": "1.2.0",
          "state": {
            "_model_module": "@jupyter-widgets/base",
            "_model_module_version": "1.2.0",
            "_model_name": "LayoutModel",
            "_view_count": null,
            "_view_module": "@jupyter-widgets/base",
            "_view_module_version": "1.2.0",
            "_view_name": "LayoutView",
            "align_content": null,
            "align_items": null,
            "align_self": null,
            "border": null,
            "bottom": null,
            "display": null,
            "flex": null,
            "flex_flow": null,
            "grid_area": null,
            "grid_auto_columns": null,
            "grid_auto_flow": null,
            "grid_auto_rows": null,
            "grid_column": null,
            "grid_gap": null,
            "grid_row": null,
            "grid_template_areas": null,
            "grid_template_columns": null,
            "grid_template_rows": null,
            "height": null,
            "justify_content": null,
            "justify_items": null,
            "left": null,
            "margin": null,
            "max_height": null,
            "max_width": null,
            "min_height": null,
            "min_width": null,
            "object_fit": null,
            "object_position": null,
            "order": null,
            "overflow": null,
            "overflow_x": null,
            "overflow_y": null,
            "padding": null,
            "right": null,
            "top": null,
            "visibility": null,
            "width": null
          }
        },
        "73ec37120f054890b8d760a2602732d7": {
          "model_module": "@jupyter-widgets/controls",
          "model_name": "ProgressStyleModel",
          "model_module_version": "1.5.0",
          "state": {
            "_model_module": "@jupyter-widgets/controls",
            "_model_module_version": "1.5.0",
            "_model_name": "ProgressStyleModel",
            "_view_count": null,
            "_view_module": "@jupyter-widgets/base",
            "_view_module_version": "1.2.0",
            "_view_name": "StyleView",
            "bar_color": null,
            "description_width": ""
          }
        },
        "09553d5068984af0b44fdb079c842468": {
          "model_module": "@jupyter-widgets/base",
          "model_name": "LayoutModel",
          "model_module_version": "1.2.0",
          "state": {
            "_model_module": "@jupyter-widgets/base",
            "_model_module_version": "1.2.0",
            "_model_name": "LayoutModel",
            "_view_count": null,
            "_view_module": "@jupyter-widgets/base",
            "_view_module_version": "1.2.0",
            "_view_name": "LayoutView",
            "align_content": null,
            "align_items": null,
            "align_self": null,
            "border": null,
            "bottom": null,
            "display": null,
            "flex": null,
            "flex_flow": null,
            "grid_area": null,
            "grid_auto_columns": null,
            "grid_auto_flow": null,
            "grid_auto_rows": null,
            "grid_column": null,
            "grid_gap": null,
            "grid_row": null,
            "grid_template_areas": null,
            "grid_template_columns": null,
            "grid_template_rows": null,
            "height": null,
            "justify_content": null,
            "justify_items": null,
            "left": null,
            "margin": null,
            "max_height": null,
            "max_width": null,
            "min_height": null,
            "min_width": null,
            "object_fit": null,
            "object_position": null,
            "order": null,
            "overflow": null,
            "overflow_x": null,
            "overflow_y": null,
            "padding": null,
            "right": null,
            "top": null,
            "visibility": null,
            "width": null
          }
        },
        "3f05194ee5be4ec19ef526217ddb2dac": {
          "model_module": "@jupyter-widgets/controls",
          "model_name": "DescriptionStyleModel",
          "model_module_version": "1.5.0",
          "state": {
            "_model_module": "@jupyter-widgets/controls",
            "_model_module_version": "1.5.0",
            "_model_name": "DescriptionStyleModel",
            "_view_count": null,
            "_view_module": "@jupyter-widgets/base",
            "_view_module_version": "1.2.0",
            "_view_name": "StyleView",
            "description_width": ""
          }
        },
        "5c5d8d6c42d44c9c8f807642090627a4": {
          "model_module": "@jupyter-widgets/controls",
          "model_name": "HBoxModel",
          "model_module_version": "1.5.0",
          "state": {
            "_dom_classes": [],
            "_model_module": "@jupyter-widgets/controls",
            "_model_module_version": "1.5.0",
            "_model_name": "HBoxModel",
            "_view_count": null,
            "_view_module": "@jupyter-widgets/controls",
            "_view_module_version": "1.5.0",
            "_view_name": "HBoxView",
            "box_style": "",
            "children": [
              "IPY_MODEL_5739e305e4ef40f1ba2bc8e0b938d609",
              "IPY_MODEL_f2eddfe430114c1daf472588ced6b54d",
              "IPY_MODEL_080128f8cd4e41d2a977b93d419a1c5d"
            ],
            "layout": "IPY_MODEL_27e210e6a42448ff802d9c7085f049e5"
          }
        },
        "5739e305e4ef40f1ba2bc8e0b938d609": {
          "model_module": "@jupyter-widgets/controls",
          "model_name": "HTMLModel",
          "model_module_version": "1.5.0",
          "state": {
            "_dom_classes": [],
            "_model_module": "@jupyter-widgets/controls",
            "_model_module_version": "1.5.0",
            "_model_name": "HTMLModel",
            "_view_count": null,
            "_view_module": "@jupyter-widgets/controls",
            "_view_module_version": "1.5.0",
            "_view_name": "HTMLView",
            "description": "",
            "description_tooltip": null,
            "layout": "IPY_MODEL_9e92f60037e24bfaa133256423c9f157",
            "placeholder": "​",
            "style": "IPY_MODEL_6556ed8c35434f42b6255b9de6590298",
            "value": "train lines: 100%"
          }
        },
        "f2eddfe430114c1daf472588ced6b54d": {
          "model_module": "@jupyter-widgets/controls",
          "model_name": "FloatProgressModel",
          "model_module_version": "1.5.0",
          "state": {
            "_dom_classes": [],
            "_model_module": "@jupyter-widgets/controls",
            "_model_module_version": "1.5.0",
            "_model_name": "FloatProgressModel",
            "_view_count": null,
            "_view_module": "@jupyter-widgets/controls",
            "_view_module_version": "1.5.0",
            "_view_name": "ProgressView",
            "bar_style": "success",
            "description": "",
            "description_tooltip": null,
            "layout": "IPY_MODEL_2569fac4232d4d8db30eee2e384135bd",
            "max": 5000,
            "min": 0,
            "orientation": "horizontal",
            "style": "IPY_MODEL_a82ce8c1e53349daae802b9d58f0de35",
            "value": 5000
          }
        },
        "080128f8cd4e41d2a977b93d419a1c5d": {
          "model_module": "@jupyter-widgets/controls",
          "model_name": "HTMLModel",
          "model_module_version": "1.5.0",
          "state": {
            "_dom_classes": [],
            "_model_module": "@jupyter-widgets/controls",
            "_model_module_version": "1.5.0",
            "_model_name": "HTMLModel",
            "_view_count": null,
            "_view_module": "@jupyter-widgets/controls",
            "_view_module_version": "1.5.0",
            "_view_name": "HTMLView",
            "description": "",
            "description_tooltip": null,
            "layout": "IPY_MODEL_5cb1884029de4fd8a359455aa21c0f1e",
            "placeholder": "​",
            "style": "IPY_MODEL_12c2d2d7d74944d2aa339b3f35af79a5",
            "value": " 5000/5000 [00:10&lt;00:00, 487.65it/s]"
          }
        },
        "27e210e6a42448ff802d9c7085f049e5": {
          "model_module": "@jupyter-widgets/base",
          "model_name": "LayoutModel",
          "model_module_version": "1.2.0",
          "state": {
            "_model_module": "@jupyter-widgets/base",
            "_model_module_version": "1.2.0",
            "_model_name": "LayoutModel",
            "_view_count": null,
            "_view_module": "@jupyter-widgets/base",
            "_view_module_version": "1.2.0",
            "_view_name": "LayoutView",
            "align_content": null,
            "align_items": null,
            "align_self": null,
            "border": null,
            "bottom": null,
            "display": null,
            "flex": null,
            "flex_flow": null,
            "grid_area": null,
            "grid_auto_columns": null,
            "grid_auto_flow": null,
            "grid_auto_rows": null,
            "grid_column": null,
            "grid_gap": null,
            "grid_row": null,
            "grid_template_areas": null,
            "grid_template_columns": null,
            "grid_template_rows": null,
            "height": null,
            "justify_content": null,
            "justify_items": null,
            "left": null,
            "margin": null,
            "max_height": null,
            "max_width": null,
            "min_height": null,
            "min_width": null,
            "object_fit": null,
            "object_position": null,
            "order": null,
            "overflow": null,
            "overflow_x": null,
            "overflow_y": null,
            "padding": null,
            "right": null,
            "top": null,
            "visibility": null,
            "width": null
          }
        },
        "9e92f60037e24bfaa133256423c9f157": {
          "model_module": "@jupyter-widgets/base",
          "model_name": "LayoutModel",
          "model_module_version": "1.2.0",
          "state": {
            "_model_module": "@jupyter-widgets/base",
            "_model_module_version": "1.2.0",
            "_model_name": "LayoutModel",
            "_view_count": null,
            "_view_module": "@jupyter-widgets/base",
            "_view_module_version": "1.2.0",
            "_view_name": "LayoutView",
            "align_content": null,
            "align_items": null,
            "align_self": null,
            "border": null,
            "bottom": null,
            "display": null,
            "flex": null,
            "flex_flow": null,
            "grid_area": null,
            "grid_auto_columns": null,
            "grid_auto_flow": null,
            "grid_auto_rows": null,
            "grid_column": null,
            "grid_gap": null,
            "grid_row": null,
            "grid_template_areas": null,
            "grid_template_columns": null,
            "grid_template_rows": null,
            "height": null,
            "justify_content": null,
            "justify_items": null,
            "left": null,
            "margin": null,
            "max_height": null,
            "max_width": null,
            "min_height": null,
            "min_width": null,
            "object_fit": null,
            "object_position": null,
            "order": null,
            "overflow": null,
            "overflow_x": null,
            "overflow_y": null,
            "padding": null,
            "right": null,
            "top": null,
            "visibility": null,
            "width": null
          }
        },
        "6556ed8c35434f42b6255b9de6590298": {
          "model_module": "@jupyter-widgets/controls",
          "model_name": "DescriptionStyleModel",
          "model_module_version": "1.5.0",
          "state": {
            "_model_module": "@jupyter-widgets/controls",
            "_model_module_version": "1.5.0",
            "_model_name": "DescriptionStyleModel",
            "_view_count": null,
            "_view_module": "@jupyter-widgets/base",
            "_view_module_version": "1.2.0",
            "_view_name": "StyleView",
            "description_width": ""
          }
        },
        "2569fac4232d4d8db30eee2e384135bd": {
          "model_module": "@jupyter-widgets/base",
          "model_name": "LayoutModel",
          "model_module_version": "1.2.0",
          "state": {
            "_model_module": "@jupyter-widgets/base",
            "_model_module_version": "1.2.0",
            "_model_name": "LayoutModel",
            "_view_count": null,
            "_view_module": "@jupyter-widgets/base",
            "_view_module_version": "1.2.0",
            "_view_name": "LayoutView",
            "align_content": null,
            "align_items": null,
            "align_self": null,
            "border": null,
            "bottom": null,
            "display": null,
            "flex": null,
            "flex_flow": null,
            "grid_area": null,
            "grid_auto_columns": null,
            "grid_auto_flow": null,
            "grid_auto_rows": null,
            "grid_column": null,
            "grid_gap": null,
            "grid_row": null,
            "grid_template_areas": null,
            "grid_template_columns": null,
            "grid_template_rows": null,
            "height": null,
            "justify_content": null,
            "justify_items": null,
            "left": null,
            "margin": null,
            "max_height": null,
            "max_width": null,
            "min_height": null,
            "min_width": null,
            "object_fit": null,
            "object_position": null,
            "order": null,
            "overflow": null,
            "overflow_x": null,
            "overflow_y": null,
            "padding": null,
            "right": null,
            "top": null,
            "visibility": null,
            "width": null
          }
        },
        "a82ce8c1e53349daae802b9d58f0de35": {
          "model_module": "@jupyter-widgets/controls",
          "model_name": "ProgressStyleModel",
          "model_module_version": "1.5.0",
          "state": {
            "_model_module": "@jupyter-widgets/controls",
            "_model_module_version": "1.5.0",
            "_model_name": "ProgressStyleModel",
            "_view_count": null,
            "_view_module": "@jupyter-widgets/base",
            "_view_module_version": "1.2.0",
            "_view_name": "StyleView",
            "bar_color": null,
            "description_width": ""
          }
        },
        "5cb1884029de4fd8a359455aa21c0f1e": {
          "model_module": "@jupyter-widgets/base",
          "model_name": "LayoutModel",
          "model_module_version": "1.2.0",
          "state": {
            "_model_module": "@jupyter-widgets/base",
            "_model_module_version": "1.2.0",
            "_model_name": "LayoutModel",
            "_view_count": null,
            "_view_module": "@jupyter-widgets/base",
            "_view_module_version": "1.2.0",
            "_view_name": "LayoutView",
            "align_content": null,
            "align_items": null,
            "align_self": null,
            "border": null,
            "bottom": null,
            "display": null,
            "flex": null,
            "flex_flow": null,
            "grid_area": null,
            "grid_auto_columns": null,
            "grid_auto_flow": null,
            "grid_auto_rows": null,
            "grid_column": null,
            "grid_gap": null,
            "grid_row": null,
            "grid_template_areas": null,
            "grid_template_columns": null,
            "grid_template_rows": null,
            "height": null,
            "justify_content": null,
            "justify_items": null,
            "left": null,
            "margin": null,
            "max_height": null,
            "max_width": null,
            "min_height": null,
            "min_width": null,
            "object_fit": null,
            "object_position": null,
            "order": null,
            "overflow": null,
            "overflow_x": null,
            "overflow_y": null,
            "padding": null,
            "right": null,
            "top": null,
            "visibility": null,
            "width": null
          }
        },
        "12c2d2d7d74944d2aa339b3f35af79a5": {
          "model_module": "@jupyter-widgets/controls",
          "model_name": "DescriptionStyleModel",
          "model_module_version": "1.5.0",
          "state": {
            "_model_module": "@jupyter-widgets/controls",
            "_model_module_version": "1.5.0",
            "_model_name": "DescriptionStyleModel",
            "_view_count": null,
            "_view_module": "@jupyter-widgets/base",
            "_view_module_version": "1.2.0",
            "_view_name": "StyleView",
            "description_width": ""
          }
        },
        "69ba8eda46ed4c26a5b68e0212e87358": {
          "model_module": "@jupyter-widgets/controls",
          "model_name": "HBoxModel",
          "model_module_version": "1.5.0",
          "state": {
            "_dom_classes": [],
            "_model_module": "@jupyter-widgets/controls",
            "_model_module_version": "1.5.0",
            "_model_name": "HBoxModel",
            "_view_count": null,
            "_view_module": "@jupyter-widgets/controls",
            "_view_module_version": "1.5.0",
            "_view_name": "HBoxView",
            "box_style": "",
            "children": [
              "IPY_MODEL_0ed042a442ad49438e33d965c0672c53",
              "IPY_MODEL_f7d5ab9cfb4040dd9705c8104d49ad2b",
              "IPY_MODEL_7b5c880f6eec469bb1352c6eb9075573"
            ],
            "layout": "IPY_MODEL_b9c5f074bc6d4608add9276fe7f800a8"
          }
        },
        "0ed042a442ad49438e33d965c0672c53": {
          "model_module": "@jupyter-widgets/controls",
          "model_name": "HTMLModel",
          "model_module_version": "1.5.0",
          "state": {
            "_dom_classes": [],
            "_model_module": "@jupyter-widgets/controls",
            "_model_module_version": "1.5.0",
            "_model_name": "HTMLModel",
            "_view_count": null,
            "_view_module": "@jupyter-widgets/controls",
            "_view_module_version": "1.5.0",
            "_view_name": "HTMLView",
            "description": "",
            "description_tooltip": null,
            "layout": "IPY_MODEL_6c3926530478431ea25c1ff695bdd502",
            "placeholder": "​",
            "style": "IPY_MODEL_d501d09013d34501b7fcdc40c24df3c6",
            "value": "100%"
          }
        },
        "f7d5ab9cfb4040dd9705c8104d49ad2b": {
          "model_module": "@jupyter-widgets/controls",
          "model_name": "FloatProgressModel",
          "model_module_version": "1.5.0",
          "state": {
            "_dom_classes": [],
            "_model_module": "@jupyter-widgets/controls",
            "_model_module_version": "1.5.0",
            "_model_name": "FloatProgressModel",
            "_view_count": null,
            "_view_module": "@jupyter-widgets/controls",
            "_view_module_version": "1.5.0",
            "_view_name": "ProgressView",
            "bar_style": "success",
            "description": "",
            "description_tooltip": null,
            "layout": "IPY_MODEL_f3460d7c3826489aaac3475e4b083cef",
            "max": 120,
            "min": 0,
            "orientation": "horizontal",
            "style": "IPY_MODEL_b34c913966ab4ed9b6402bcfd054abf3",
            "value": 120
          }
        },
        "7b5c880f6eec469bb1352c6eb9075573": {
          "model_module": "@jupyter-widgets/controls",
          "model_name": "HTMLModel",
          "model_module_version": "1.5.0",
          "state": {
            "_dom_classes": [],
            "_model_module": "@jupyter-widgets/controls",
            "_model_module_version": "1.5.0",
            "_model_name": "HTMLModel",
            "_view_count": null,
            "_view_module": "@jupyter-widgets/controls",
            "_view_module_version": "1.5.0",
            "_view_name": "HTMLView",
            "description": "",
            "description_tooltip": null,
            "layout": "IPY_MODEL_e7fe273b654b48c08ce1b7eb207c6bc9",
            "placeholder": "​",
            "style": "IPY_MODEL_a93b04cc3fc941c586d07f08463102ff",
            "value": " 120/120 [00:00&lt;00:00, 150.88it/s]"
          }
        },
        "b9c5f074bc6d4608add9276fe7f800a8": {
          "model_module": "@jupyter-widgets/base",
          "model_name": "LayoutModel",
          "model_module_version": "1.2.0",
          "state": {
            "_model_module": "@jupyter-widgets/base",
            "_model_module_version": "1.2.0",
            "_model_name": "LayoutModel",
            "_view_count": null,
            "_view_module": "@jupyter-widgets/base",
            "_view_module_version": "1.2.0",
            "_view_name": "LayoutView",
            "align_content": null,
            "align_items": null,
            "align_self": null,
            "border": null,
            "bottom": null,
            "display": null,
            "flex": null,
            "flex_flow": null,
            "grid_area": null,
            "grid_auto_columns": null,
            "grid_auto_flow": null,
            "grid_auto_rows": null,
            "grid_column": null,
            "grid_gap": null,
            "grid_row": null,
            "grid_template_areas": null,
            "grid_template_columns": null,
            "grid_template_rows": null,
            "height": null,
            "justify_content": null,
            "justify_items": null,
            "left": null,
            "margin": null,
            "max_height": null,
            "max_width": null,
            "min_height": null,
            "min_width": null,
            "object_fit": null,
            "object_position": null,
            "order": null,
            "overflow": null,
            "overflow_x": null,
            "overflow_y": null,
            "padding": null,
            "right": null,
            "top": null,
            "visibility": null,
            "width": null
          }
        },
        "6c3926530478431ea25c1ff695bdd502": {
          "model_module": "@jupyter-widgets/base",
          "model_name": "LayoutModel",
          "model_module_version": "1.2.0",
          "state": {
            "_model_module": "@jupyter-widgets/base",
            "_model_module_version": "1.2.0",
            "_model_name": "LayoutModel",
            "_view_count": null,
            "_view_module": "@jupyter-widgets/base",
            "_view_module_version": "1.2.0",
            "_view_name": "LayoutView",
            "align_content": null,
            "align_items": null,
            "align_self": null,
            "border": null,
            "bottom": null,
            "display": null,
            "flex": null,
            "flex_flow": null,
            "grid_area": null,
            "grid_auto_columns": null,
            "grid_auto_flow": null,
            "grid_auto_rows": null,
            "grid_column": null,
            "grid_gap": null,
            "grid_row": null,
            "grid_template_areas": null,
            "grid_template_columns": null,
            "grid_template_rows": null,
            "height": null,
            "justify_content": null,
            "justify_items": null,
            "left": null,
            "margin": null,
            "max_height": null,
            "max_width": null,
            "min_height": null,
            "min_width": null,
            "object_fit": null,
            "object_position": null,
            "order": null,
            "overflow": null,
            "overflow_x": null,
            "overflow_y": null,
            "padding": null,
            "right": null,
            "top": null,
            "visibility": null,
            "width": null
          }
        },
        "d501d09013d34501b7fcdc40c24df3c6": {
          "model_module": "@jupyter-widgets/controls",
          "model_name": "DescriptionStyleModel",
          "model_module_version": "1.5.0",
          "state": {
            "_model_module": "@jupyter-widgets/controls",
            "_model_module_version": "1.5.0",
            "_model_name": "DescriptionStyleModel",
            "_view_count": null,
            "_view_module": "@jupyter-widgets/base",
            "_view_module_version": "1.2.0",
            "_view_name": "StyleView",
            "description_width": ""
          }
        },
        "f3460d7c3826489aaac3475e4b083cef": {
          "model_module": "@jupyter-widgets/base",
          "model_name": "LayoutModel",
          "model_module_version": "1.2.0",
          "state": {
            "_model_module": "@jupyter-widgets/base",
            "_model_module_version": "1.2.0",
            "_model_name": "LayoutModel",
            "_view_count": null,
            "_view_module": "@jupyter-widgets/base",
            "_view_module_version": "1.2.0",
            "_view_name": "LayoutView",
            "align_content": null,
            "align_items": null,
            "align_self": null,
            "border": null,
            "bottom": null,
            "display": null,
            "flex": null,
            "flex_flow": null,
            "grid_area": null,
            "grid_auto_columns": null,
            "grid_auto_flow": null,
            "grid_auto_rows": null,
            "grid_column": null,
            "grid_gap": null,
            "grid_row": null,
            "grid_template_areas": null,
            "grid_template_columns": null,
            "grid_template_rows": null,
            "height": null,
            "justify_content": null,
            "justify_items": null,
            "left": null,
            "margin": null,
            "max_height": null,
            "max_width": null,
            "min_height": null,
            "min_width": null,
            "object_fit": null,
            "object_position": null,
            "order": null,
            "overflow": null,
            "overflow_x": null,
            "overflow_y": null,
            "padding": null,
            "right": null,
            "top": null,
            "visibility": null,
            "width": null
          }
        },
        "b34c913966ab4ed9b6402bcfd054abf3": {
          "model_module": "@jupyter-widgets/controls",
          "model_name": "ProgressStyleModel",
          "model_module_version": "1.5.0",
          "state": {
            "_model_module": "@jupyter-widgets/controls",
            "_model_module_version": "1.5.0",
            "_model_name": "ProgressStyleModel",
            "_view_count": null,
            "_view_module": "@jupyter-widgets/base",
            "_view_module_version": "1.2.0",
            "_view_name": "StyleView",
            "bar_color": null,
            "description_width": ""
          }
        },
        "e7fe273b654b48c08ce1b7eb207c6bc9": {
          "model_module": "@jupyter-widgets/base",
          "model_name": "LayoutModel",
          "model_module_version": "1.2.0",
          "state": {
            "_model_module": "@jupyter-widgets/base",
            "_model_module_version": "1.2.0",
            "_model_name": "LayoutModel",
            "_view_count": null,
            "_view_module": "@jupyter-widgets/base",
            "_view_module_version": "1.2.0",
            "_view_name": "LayoutView",
            "align_content": null,
            "align_items": null,
            "align_self": null,
            "border": null,
            "bottom": null,
            "display": null,
            "flex": null,
            "flex_flow": null,
            "grid_area": null,
            "grid_auto_columns": null,
            "grid_auto_flow": null,
            "grid_auto_rows": null,
            "grid_column": null,
            "grid_gap": null,
            "grid_row": null,
            "grid_template_areas": null,
            "grid_template_columns": null,
            "grid_template_rows": null,
            "height": null,
            "justify_content": null,
            "justify_items": null,
            "left": null,
            "margin": null,
            "max_height": null,
            "max_width": null,
            "min_height": null,
            "min_width": null,
            "object_fit": null,
            "object_position": null,
            "order": null,
            "overflow": null,
            "overflow_x": null,
            "overflow_y": null,
            "padding": null,
            "right": null,
            "top": null,
            "visibility": null,
            "width": null
          }
        },
        "a93b04cc3fc941c586d07f08463102ff": {
          "model_module": "@jupyter-widgets/controls",
          "model_name": "DescriptionStyleModel",
          "model_module_version": "1.5.0",
          "state": {
            "_model_module": "@jupyter-widgets/controls",
            "_model_module_version": "1.5.0",
            "_model_name": "DescriptionStyleModel",
            "_view_count": null,
            "_view_module": "@jupyter-widgets/base",
            "_view_module_version": "1.2.0",
            "_view_name": "StyleView",
            "description_width": ""
          }
        },
        "1ca083ab654a4ebe9434bd8abd0f4f52": {
          "model_module": "@jupyter-widgets/controls",
          "model_name": "HBoxModel",
          "model_module_version": "1.5.0",
          "state": {
            "_dom_classes": [],
            "_model_module": "@jupyter-widgets/controls",
            "_model_module_version": "1.5.0",
            "_model_name": "HBoxModel",
            "_view_count": null,
            "_view_module": "@jupyter-widgets/controls",
            "_view_module_version": "1.5.0",
            "_view_name": "HBoxView",
            "box_style": "",
            "children": [
              "IPY_MODEL_be489f6e1d4448f082f63a4262563bd0",
              "IPY_MODEL_94b2908cd7c743f392c20435400ac905",
              "IPY_MODEL_41ad5c491de841b48ec872d8b66e2fb8"
            ],
            "layout": "IPY_MODEL_50a2c1fde7e74cb0bd58aaeb09a8c899"
          }
        },
        "be489f6e1d4448f082f63a4262563bd0": {
          "model_module": "@jupyter-widgets/controls",
          "model_name": "HTMLModel",
          "model_module_version": "1.5.0",
          "state": {
            "_dom_classes": [],
            "_model_module": "@jupyter-widgets/controls",
            "_model_module_version": "1.5.0",
            "_model_name": "HTMLModel",
            "_view_count": null,
            "_view_module": "@jupyter-widgets/controls",
            "_view_module_version": "1.5.0",
            "_view_name": "HTMLView",
            "description": "",
            "description_tooltip": null,
            "layout": "IPY_MODEL_5c619e1b38534ff4972ef08bfa2048ac",
            "placeholder": "​",
            "style": "IPY_MODEL_2cd4f9e9f0be46d389866f35656ff0d8",
            "value": "100%"
          }
        },
        "94b2908cd7c743f392c20435400ac905": {
          "model_module": "@jupyter-widgets/controls",
          "model_name": "FloatProgressModel",
          "model_module_version": "1.5.0",
          "state": {
            "_dom_classes": [],
            "_model_module": "@jupyter-widgets/controls",
            "_model_module_version": "1.5.0",
            "_model_name": "FloatProgressModel",
            "_view_count": null,
            "_view_module": "@jupyter-widgets/controls",
            "_view_module_version": "1.5.0",
            "_view_name": "ProgressView",
            "bar_style": "success",
            "description": "",
            "description_tooltip": null,
            "layout": "IPY_MODEL_2360b914be454e49b7c039df5aa9df4c",
            "max": 60,
            "min": 0,
            "orientation": "horizontal",
            "style": "IPY_MODEL_dc0337acfc834a138681d007f55632a8",
            "value": 60
          }
        },
        "41ad5c491de841b48ec872d8b66e2fb8": {
          "model_module": "@jupyter-widgets/controls",
          "model_name": "HTMLModel",
          "model_module_version": "1.5.0",
          "state": {
            "_dom_classes": [],
            "_model_module": "@jupyter-widgets/controls",
            "_model_module_version": "1.5.0",
            "_model_name": "HTMLModel",
            "_view_count": null,
            "_view_module": "@jupyter-widgets/controls",
            "_view_module_version": "1.5.0",
            "_view_name": "HTMLView",
            "description": "",
            "description_tooltip": null,
            "layout": "IPY_MODEL_e055002ee12843cba4d643a0a0506db9",
            "placeholder": "​",
            "style": "IPY_MODEL_0e56480123d64a36ba901c7fe63c4562",
            "value": " 60/60 [00:00&lt;00:00, 229.04it/s]"
          }
        },
        "50a2c1fde7e74cb0bd58aaeb09a8c899": {
          "model_module": "@jupyter-widgets/base",
          "model_name": "LayoutModel",
          "model_module_version": "1.2.0",
          "state": {
            "_model_module": "@jupyter-widgets/base",
            "_model_module_version": "1.2.0",
            "_model_name": "LayoutModel",
            "_view_count": null,
            "_view_module": "@jupyter-widgets/base",
            "_view_module_version": "1.2.0",
            "_view_name": "LayoutView",
            "align_content": null,
            "align_items": null,
            "align_self": null,
            "border": null,
            "bottom": null,
            "display": null,
            "flex": null,
            "flex_flow": null,
            "grid_area": null,
            "grid_auto_columns": null,
            "grid_auto_flow": null,
            "grid_auto_rows": null,
            "grid_column": null,
            "grid_gap": null,
            "grid_row": null,
            "grid_template_areas": null,
            "grid_template_columns": null,
            "grid_template_rows": null,
            "height": null,
            "justify_content": null,
            "justify_items": null,
            "left": null,
            "margin": null,
            "max_height": null,
            "max_width": null,
            "min_height": null,
            "min_width": null,
            "object_fit": null,
            "object_position": null,
            "order": null,
            "overflow": null,
            "overflow_x": null,
            "overflow_y": null,
            "padding": null,
            "right": null,
            "top": null,
            "visibility": null,
            "width": null
          }
        },
        "5c619e1b38534ff4972ef08bfa2048ac": {
          "model_module": "@jupyter-widgets/base",
          "model_name": "LayoutModel",
          "model_module_version": "1.2.0",
          "state": {
            "_model_module": "@jupyter-widgets/base",
            "_model_module_version": "1.2.0",
            "_model_name": "LayoutModel",
            "_view_count": null,
            "_view_module": "@jupyter-widgets/base",
            "_view_module_version": "1.2.0",
            "_view_name": "LayoutView",
            "align_content": null,
            "align_items": null,
            "align_self": null,
            "border": null,
            "bottom": null,
            "display": null,
            "flex": null,
            "flex_flow": null,
            "grid_area": null,
            "grid_auto_columns": null,
            "grid_auto_flow": null,
            "grid_auto_rows": null,
            "grid_column": null,
            "grid_gap": null,
            "grid_row": null,
            "grid_template_areas": null,
            "grid_template_columns": null,
            "grid_template_rows": null,
            "height": null,
            "justify_content": null,
            "justify_items": null,
            "left": null,
            "margin": null,
            "max_height": null,
            "max_width": null,
            "min_height": null,
            "min_width": null,
            "object_fit": null,
            "object_position": null,
            "order": null,
            "overflow": null,
            "overflow_x": null,
            "overflow_y": null,
            "padding": null,
            "right": null,
            "top": null,
            "visibility": null,
            "width": null
          }
        },
        "2cd4f9e9f0be46d389866f35656ff0d8": {
          "model_module": "@jupyter-widgets/controls",
          "model_name": "DescriptionStyleModel",
          "model_module_version": "1.5.0",
          "state": {
            "_model_module": "@jupyter-widgets/controls",
            "_model_module_version": "1.5.0",
            "_model_name": "DescriptionStyleModel",
            "_view_count": null,
            "_view_module": "@jupyter-widgets/base",
            "_view_module_version": "1.2.0",
            "_view_name": "StyleView",
            "description_width": ""
          }
        },
        "2360b914be454e49b7c039df5aa9df4c": {
          "model_module": "@jupyter-widgets/base",
          "model_name": "LayoutModel",
          "model_module_version": "1.2.0",
          "state": {
            "_model_module": "@jupyter-widgets/base",
            "_model_module_version": "1.2.0",
            "_model_name": "LayoutModel",
            "_view_count": null,
            "_view_module": "@jupyter-widgets/base",
            "_view_module_version": "1.2.0",
            "_view_name": "LayoutView",
            "align_content": null,
            "align_items": null,
            "align_self": null,
            "border": null,
            "bottom": null,
            "display": null,
            "flex": null,
            "flex_flow": null,
            "grid_area": null,
            "grid_auto_columns": null,
            "grid_auto_flow": null,
            "grid_auto_rows": null,
            "grid_column": null,
            "grid_gap": null,
            "grid_row": null,
            "grid_template_areas": null,
            "grid_template_columns": null,
            "grid_template_rows": null,
            "height": null,
            "justify_content": null,
            "justify_items": null,
            "left": null,
            "margin": null,
            "max_height": null,
            "max_width": null,
            "min_height": null,
            "min_width": null,
            "object_fit": null,
            "object_position": null,
            "order": null,
            "overflow": null,
            "overflow_x": null,
            "overflow_y": null,
            "padding": null,
            "right": null,
            "top": null,
            "visibility": null,
            "width": null
          }
        },
        "dc0337acfc834a138681d007f55632a8": {
          "model_module": "@jupyter-widgets/controls",
          "model_name": "ProgressStyleModel",
          "model_module_version": "1.5.0",
          "state": {
            "_model_module": "@jupyter-widgets/controls",
            "_model_module_version": "1.5.0",
            "_model_name": "ProgressStyleModel",
            "_view_count": null,
            "_view_module": "@jupyter-widgets/base",
            "_view_module_version": "1.2.0",
            "_view_name": "StyleView",
            "bar_color": null,
            "description_width": ""
          }
        },
        "e055002ee12843cba4d643a0a0506db9": {
          "model_module": "@jupyter-widgets/base",
          "model_name": "LayoutModel",
          "model_module_version": "1.2.0",
          "state": {
            "_model_module": "@jupyter-widgets/base",
            "_model_module_version": "1.2.0",
            "_model_name": "LayoutModel",
            "_view_count": null,
            "_view_module": "@jupyter-widgets/base",
            "_view_module_version": "1.2.0",
            "_view_name": "LayoutView",
            "align_content": null,
            "align_items": null,
            "align_self": null,
            "border": null,
            "bottom": null,
            "display": null,
            "flex": null,
            "flex_flow": null,
            "grid_area": null,
            "grid_auto_columns": null,
            "grid_auto_flow": null,
            "grid_auto_rows": null,
            "grid_column": null,
            "grid_gap": null,
            "grid_row": null,
            "grid_template_areas": null,
            "grid_template_columns": null,
            "grid_template_rows": null,
            "height": null,
            "justify_content": null,
            "justify_items": null,
            "left": null,
            "margin": null,
            "max_height": null,
            "max_width": null,
            "min_height": null,
            "min_width": null,
            "object_fit": null,
            "object_position": null,
            "order": null,
            "overflow": null,
            "overflow_x": null,
            "overflow_y": null,
            "padding": null,
            "right": null,
            "top": null,
            "visibility": null,
            "width": null
          }
        },
        "0e56480123d64a36ba901c7fe63c4562": {
          "model_module": "@jupyter-widgets/controls",
          "model_name": "DescriptionStyleModel",
          "model_module_version": "1.5.0",
          "state": {
            "_model_module": "@jupyter-widgets/controls",
            "_model_module_version": "1.5.0",
            "_model_name": "DescriptionStyleModel",
            "_view_count": null,
            "_view_module": "@jupyter-widgets/base",
            "_view_module_version": "1.2.0",
            "_view_name": "StyleView",
            "description_width": ""
          }
        },
        "7f73005284094c589d0f14a4d5110aac": {
          "model_module": "@jupyter-widgets/controls",
          "model_name": "HBoxModel",
          "model_module_version": "1.5.0",
          "state": {
            "_dom_classes": [],
            "_model_module": "@jupyter-widgets/controls",
            "_model_module_version": "1.5.0",
            "_model_name": "HBoxModel",
            "_view_count": null,
            "_view_module": "@jupyter-widgets/controls",
            "_view_module_version": "1.5.0",
            "_view_name": "HBoxView",
            "box_style": "",
            "children": [
              "IPY_MODEL_c390482303c5430e83b30cd4a3404dcd",
              "IPY_MODEL_21089ffa14ca437dafa0fa6b442e7061",
              "IPY_MODEL_8bb0ed52ee3d4567b2aad8e708fc4e62"
            ],
            "layout": "IPY_MODEL_aaa7385d800542b194ceaaee89200f44"
          }
        },
        "c390482303c5430e83b30cd4a3404dcd": {
          "model_module": "@jupyter-widgets/controls",
          "model_name": "HTMLModel",
          "model_module_version": "1.5.0",
          "state": {
            "_dom_classes": [],
            "_model_module": "@jupyter-widgets/controls",
            "_model_module_version": "1.5.0",
            "_model_name": "HTMLModel",
            "_view_count": null,
            "_view_module": "@jupyter-widgets/controls",
            "_view_module_version": "1.5.0",
            "_view_name": "HTMLView",
            "description": "",
            "description_tooltip": null,
            "layout": "IPY_MODEL_4f9fd3020d49430abd3c36a0f056de25",
            "placeholder": "​",
            "style": "IPY_MODEL_b32cc7d10a3048d0afd000c314a109e2",
            "value": "100%"
          }
        },
        "21089ffa14ca437dafa0fa6b442e7061": {
          "model_module": "@jupyter-widgets/controls",
          "model_name": "FloatProgressModel",
          "model_module_version": "1.5.0",
          "state": {
            "_dom_classes": [],
            "_model_module": "@jupyter-widgets/controls",
            "_model_module_version": "1.5.0",
            "_model_name": "FloatProgressModel",
            "_view_count": null,
            "_view_module": "@jupyter-widgets/controls",
            "_view_module_version": "1.5.0",
            "_view_name": "ProgressView",
            "bar_style": "success",
            "description": "",
            "description_tooltip": null,
            "layout": "IPY_MODEL_b84fb80719bb405b8097a2050f662623",
            "max": 1024,
            "min": 0,
            "orientation": "horizontal",
            "style": "IPY_MODEL_ceaf82ff22d743129b5388affee35581",
            "value": 1024
          }
        },
        "8bb0ed52ee3d4567b2aad8e708fc4e62": {
          "model_module": "@jupyter-widgets/controls",
          "model_name": "HTMLModel",
          "model_module_version": "1.5.0",
          "state": {
            "_dom_classes": [],
            "_model_module": "@jupyter-widgets/controls",
            "_model_module_version": "1.5.0",
            "_model_name": "HTMLModel",
            "_view_count": null,
            "_view_module": "@jupyter-widgets/controls",
            "_view_module_version": "1.5.0",
            "_view_name": "HTMLView",
            "description": "",
            "description_tooltip": null,
            "layout": "IPY_MODEL_c21633e66f0a4500b245d6d17671c104",
            "placeholder": "​",
            "style": "IPY_MODEL_bd095efc6acb4f0d8ce4708683952ba1",
            "value": " 1024/1024 [00:08&lt;00:00, 154.78it/s]"
          }
        },
        "aaa7385d800542b194ceaaee89200f44": {
          "model_module": "@jupyter-widgets/base",
          "model_name": "LayoutModel",
          "model_module_version": "1.2.0",
          "state": {
            "_model_module": "@jupyter-widgets/base",
            "_model_module_version": "1.2.0",
            "_model_name": "LayoutModel",
            "_view_count": null,
            "_view_module": "@jupyter-widgets/base",
            "_view_module_version": "1.2.0",
            "_view_name": "LayoutView",
            "align_content": null,
            "align_items": null,
            "align_self": null,
            "border": null,
            "bottom": null,
            "display": null,
            "flex": null,
            "flex_flow": null,
            "grid_area": null,
            "grid_auto_columns": null,
            "grid_auto_flow": null,
            "grid_auto_rows": null,
            "grid_column": null,
            "grid_gap": null,
            "grid_row": null,
            "grid_template_areas": null,
            "grid_template_columns": null,
            "grid_template_rows": null,
            "height": null,
            "justify_content": null,
            "justify_items": null,
            "left": null,
            "margin": null,
            "max_height": null,
            "max_width": null,
            "min_height": null,
            "min_width": null,
            "object_fit": null,
            "object_position": null,
            "order": null,
            "overflow": null,
            "overflow_x": null,
            "overflow_y": null,
            "padding": null,
            "right": null,
            "top": null,
            "visibility": null,
            "width": null
          }
        },
        "4f9fd3020d49430abd3c36a0f056de25": {
          "model_module": "@jupyter-widgets/base",
          "model_name": "LayoutModel",
          "model_module_version": "1.2.0",
          "state": {
            "_model_module": "@jupyter-widgets/base",
            "_model_module_version": "1.2.0",
            "_model_name": "LayoutModel",
            "_view_count": null,
            "_view_module": "@jupyter-widgets/base",
            "_view_module_version": "1.2.0",
            "_view_name": "LayoutView",
            "align_content": null,
            "align_items": null,
            "align_self": null,
            "border": null,
            "bottom": null,
            "display": null,
            "flex": null,
            "flex_flow": null,
            "grid_area": null,
            "grid_auto_columns": null,
            "grid_auto_flow": null,
            "grid_auto_rows": null,
            "grid_column": null,
            "grid_gap": null,
            "grid_row": null,
            "grid_template_areas": null,
            "grid_template_columns": null,
            "grid_template_rows": null,
            "height": null,
            "justify_content": null,
            "justify_items": null,
            "left": null,
            "margin": null,
            "max_height": null,
            "max_width": null,
            "min_height": null,
            "min_width": null,
            "object_fit": null,
            "object_position": null,
            "order": null,
            "overflow": null,
            "overflow_x": null,
            "overflow_y": null,
            "padding": null,
            "right": null,
            "top": null,
            "visibility": null,
            "width": null
          }
        },
        "b32cc7d10a3048d0afd000c314a109e2": {
          "model_module": "@jupyter-widgets/controls",
          "model_name": "DescriptionStyleModel",
          "model_module_version": "1.5.0",
          "state": {
            "_model_module": "@jupyter-widgets/controls",
            "_model_module_version": "1.5.0",
            "_model_name": "DescriptionStyleModel",
            "_view_count": null,
            "_view_module": "@jupyter-widgets/base",
            "_view_module_version": "1.2.0",
            "_view_name": "StyleView",
            "description_width": ""
          }
        },
        "b84fb80719bb405b8097a2050f662623": {
          "model_module": "@jupyter-widgets/base",
          "model_name": "LayoutModel",
          "model_module_version": "1.2.0",
          "state": {
            "_model_module": "@jupyter-widgets/base",
            "_model_module_version": "1.2.0",
            "_model_name": "LayoutModel",
            "_view_count": null,
            "_view_module": "@jupyter-widgets/base",
            "_view_module_version": "1.2.0",
            "_view_name": "LayoutView",
            "align_content": null,
            "align_items": null,
            "align_self": null,
            "border": null,
            "bottom": null,
            "display": null,
            "flex": null,
            "flex_flow": null,
            "grid_area": null,
            "grid_auto_columns": null,
            "grid_auto_flow": null,
            "grid_auto_rows": null,
            "grid_column": null,
            "grid_gap": null,
            "grid_row": null,
            "grid_template_areas": null,
            "grid_template_columns": null,
            "grid_template_rows": null,
            "height": null,
            "justify_content": null,
            "justify_items": null,
            "left": null,
            "margin": null,
            "max_height": null,
            "max_width": null,
            "min_height": null,
            "min_width": null,
            "object_fit": null,
            "object_position": null,
            "order": null,
            "overflow": null,
            "overflow_x": null,
            "overflow_y": null,
            "padding": null,
            "right": null,
            "top": null,
            "visibility": null,
            "width": null
          }
        },
        "ceaf82ff22d743129b5388affee35581": {
          "model_module": "@jupyter-widgets/controls",
          "model_name": "ProgressStyleModel",
          "model_module_version": "1.5.0",
          "state": {
            "_model_module": "@jupyter-widgets/controls",
            "_model_module_version": "1.5.0",
            "_model_name": "ProgressStyleModel",
            "_view_count": null,
            "_view_module": "@jupyter-widgets/base",
            "_view_module_version": "1.2.0",
            "_view_name": "StyleView",
            "bar_color": null,
            "description_width": ""
          }
        },
        "c21633e66f0a4500b245d6d17671c104": {
          "model_module": "@jupyter-widgets/base",
          "model_name": "LayoutModel",
          "model_module_version": "1.2.0",
          "state": {
            "_model_module": "@jupyter-widgets/base",
            "_model_module_version": "1.2.0",
            "_model_name": "LayoutModel",
            "_view_count": null,
            "_view_module": "@jupyter-widgets/base",
            "_view_module_version": "1.2.0",
            "_view_name": "LayoutView",
            "align_content": null,
            "align_items": null,
            "align_self": null,
            "border": null,
            "bottom": null,
            "display": null,
            "flex": null,
            "flex_flow": null,
            "grid_area": null,
            "grid_auto_columns": null,
            "grid_auto_flow": null,
            "grid_auto_rows": null,
            "grid_column": null,
            "grid_gap": null,
            "grid_row": null,
            "grid_template_areas": null,
            "grid_template_columns": null,
            "grid_template_rows": null,
            "height": null,
            "justify_content": null,
            "justify_items": null,
            "left": null,
            "margin": null,
            "max_height": null,
            "max_width": null,
            "min_height": null,
            "min_width": null,
            "object_fit": null,
            "object_position": null,
            "order": null,
            "overflow": null,
            "overflow_x": null,
            "overflow_y": null,
            "padding": null,
            "right": null,
            "top": null,
            "visibility": null,
            "width": null
          }
        },
        "bd095efc6acb4f0d8ce4708683952ba1": {
          "model_module": "@jupyter-widgets/controls",
          "model_name": "DescriptionStyleModel",
          "model_module_version": "1.5.0",
          "state": {
            "_model_module": "@jupyter-widgets/controls",
            "_model_module_version": "1.5.0",
            "_model_name": "DescriptionStyleModel",
            "_view_count": null,
            "_view_module": "@jupyter-widgets/base",
            "_view_module_version": "1.2.0",
            "_view_name": "StyleView",
            "description_width": ""
          }
        },
        "3fcb445a01a6409a891c46e792a8b47e": {
          "model_module": "@jupyter-widgets/controls",
          "model_name": "HBoxModel",
          "model_module_version": "1.5.0",
          "state": {
            "_dom_classes": [],
            "_model_module": "@jupyter-widgets/controls",
            "_model_module_version": "1.5.0",
            "_model_name": "HBoxModel",
            "_view_count": null,
            "_view_module": "@jupyter-widgets/controls",
            "_view_module_version": "1.5.0",
            "_view_name": "HBoxView",
            "box_style": "",
            "children": [
              "IPY_MODEL_9c63b66b3d3943aabf8357bce4137670",
              "IPY_MODEL_8007874520d045e092b50229c3cc5a54",
              "IPY_MODEL_6eaea048a55d4719b6d2f51badebad32"
            ],
            "layout": "IPY_MODEL_69ebd4768f9144d5ad8ef7481dc9a7b6"
          }
        },
        "9c63b66b3d3943aabf8357bce4137670": {
          "model_module": "@jupyter-widgets/controls",
          "model_name": "HTMLModel",
          "model_module_version": "1.5.0",
          "state": {
            "_dom_classes": [],
            "_model_module": "@jupyter-widgets/controls",
            "_model_module_version": "1.5.0",
            "_model_name": "HTMLModel",
            "_view_count": null,
            "_view_module": "@jupyter-widgets/controls",
            "_view_module_version": "1.5.0",
            "_view_name": "HTMLView",
            "description": "",
            "description_tooltip": null,
            "layout": "IPY_MODEL_65776d31e94d4938bab477f5c29046b7",
            "placeholder": "​",
            "style": "IPY_MODEL_08ed24cc1d654613914a365345547bfd",
            "value": "100%"
          }
        },
        "8007874520d045e092b50229c3cc5a54": {
          "model_module": "@jupyter-widgets/controls",
          "model_name": "FloatProgressModel",
          "model_module_version": "1.5.0",
          "state": {
            "_dom_classes": [],
            "_model_module": "@jupyter-widgets/controls",
            "_model_module_version": "1.5.0",
            "_model_name": "FloatProgressModel",
            "_view_count": null,
            "_view_module": "@jupyter-widgets/controls",
            "_view_module_version": "1.5.0",
            "_view_name": "ProgressView",
            "bar_style": "success",
            "description": "",
            "description_tooltip": null,
            "layout": "IPY_MODEL_ca7dc60b966849e2a33e2922784e5571",
            "max": 128,
            "min": 0,
            "orientation": "horizontal",
            "style": "IPY_MODEL_ed8f60e627d7480b95ca85a34df78100",
            "value": 128
          }
        },
        "6eaea048a55d4719b6d2f51badebad32": {
          "model_module": "@jupyter-widgets/controls",
          "model_name": "HTMLModel",
          "model_module_version": "1.5.0",
          "state": {
            "_dom_classes": [],
            "_model_module": "@jupyter-widgets/controls",
            "_model_module_version": "1.5.0",
            "_model_name": "HTMLModel",
            "_view_count": null,
            "_view_module": "@jupyter-widgets/controls",
            "_view_module_version": "1.5.0",
            "_view_name": "HTMLView",
            "description": "",
            "description_tooltip": null,
            "layout": "IPY_MODEL_809b815c63ae405bae9314736b5081d3",
            "placeholder": "​",
            "style": "IPY_MODEL_7df90beadbf04f82a5b7bfc309a18325",
            "value": " 128/128 [00:00&lt;00:00, 222.21it/s]"
          }
        },
        "69ebd4768f9144d5ad8ef7481dc9a7b6": {
          "model_module": "@jupyter-widgets/base",
          "model_name": "LayoutModel",
          "model_module_version": "1.2.0",
          "state": {
            "_model_module": "@jupyter-widgets/base",
            "_model_module_version": "1.2.0",
            "_model_name": "LayoutModel",
            "_view_count": null,
            "_view_module": "@jupyter-widgets/base",
            "_view_module_version": "1.2.0",
            "_view_name": "LayoutView",
            "align_content": null,
            "align_items": null,
            "align_self": null,
            "border": null,
            "bottom": null,
            "display": null,
            "flex": null,
            "flex_flow": null,
            "grid_area": null,
            "grid_auto_columns": null,
            "grid_auto_flow": null,
            "grid_auto_rows": null,
            "grid_column": null,
            "grid_gap": null,
            "grid_row": null,
            "grid_template_areas": null,
            "grid_template_columns": null,
            "grid_template_rows": null,
            "height": null,
            "justify_content": null,
            "justify_items": null,
            "left": null,
            "margin": null,
            "max_height": null,
            "max_width": null,
            "min_height": null,
            "min_width": null,
            "object_fit": null,
            "object_position": null,
            "order": null,
            "overflow": null,
            "overflow_x": null,
            "overflow_y": null,
            "padding": null,
            "right": null,
            "top": null,
            "visibility": null,
            "width": null
          }
        },
        "65776d31e94d4938bab477f5c29046b7": {
          "model_module": "@jupyter-widgets/base",
          "model_name": "LayoutModel",
          "model_module_version": "1.2.0",
          "state": {
            "_model_module": "@jupyter-widgets/base",
            "_model_module_version": "1.2.0",
            "_model_name": "LayoutModel",
            "_view_count": null,
            "_view_module": "@jupyter-widgets/base",
            "_view_module_version": "1.2.0",
            "_view_name": "LayoutView",
            "align_content": null,
            "align_items": null,
            "align_self": null,
            "border": null,
            "bottom": null,
            "display": null,
            "flex": null,
            "flex_flow": null,
            "grid_area": null,
            "grid_auto_columns": null,
            "grid_auto_flow": null,
            "grid_auto_rows": null,
            "grid_column": null,
            "grid_gap": null,
            "grid_row": null,
            "grid_template_areas": null,
            "grid_template_columns": null,
            "grid_template_rows": null,
            "height": null,
            "justify_content": null,
            "justify_items": null,
            "left": null,
            "margin": null,
            "max_height": null,
            "max_width": null,
            "min_height": null,
            "min_width": null,
            "object_fit": null,
            "object_position": null,
            "order": null,
            "overflow": null,
            "overflow_x": null,
            "overflow_y": null,
            "padding": null,
            "right": null,
            "top": null,
            "visibility": null,
            "width": null
          }
        },
        "08ed24cc1d654613914a365345547bfd": {
          "model_module": "@jupyter-widgets/controls",
          "model_name": "DescriptionStyleModel",
          "model_module_version": "1.5.0",
          "state": {
            "_model_module": "@jupyter-widgets/controls",
            "_model_module_version": "1.5.0",
            "_model_name": "DescriptionStyleModel",
            "_view_count": null,
            "_view_module": "@jupyter-widgets/base",
            "_view_module_version": "1.2.0",
            "_view_name": "StyleView",
            "description_width": ""
          }
        },
        "ca7dc60b966849e2a33e2922784e5571": {
          "model_module": "@jupyter-widgets/base",
          "model_name": "LayoutModel",
          "model_module_version": "1.2.0",
          "state": {
            "_model_module": "@jupyter-widgets/base",
            "_model_module_version": "1.2.0",
            "_model_name": "LayoutModel",
            "_view_count": null,
            "_view_module": "@jupyter-widgets/base",
            "_view_module_version": "1.2.0",
            "_view_name": "LayoutView",
            "align_content": null,
            "align_items": null,
            "align_self": null,
            "border": null,
            "bottom": null,
            "display": null,
            "flex": null,
            "flex_flow": null,
            "grid_area": null,
            "grid_auto_columns": null,
            "grid_auto_flow": null,
            "grid_auto_rows": null,
            "grid_column": null,
            "grid_gap": null,
            "grid_row": null,
            "grid_template_areas": null,
            "grid_template_columns": null,
            "grid_template_rows": null,
            "height": null,
            "justify_content": null,
            "justify_items": null,
            "left": null,
            "margin": null,
            "max_height": null,
            "max_width": null,
            "min_height": null,
            "min_width": null,
            "object_fit": null,
            "object_position": null,
            "order": null,
            "overflow": null,
            "overflow_x": null,
            "overflow_y": null,
            "padding": null,
            "right": null,
            "top": null,
            "visibility": null,
            "width": null
          }
        },
        "ed8f60e627d7480b95ca85a34df78100": {
          "model_module": "@jupyter-widgets/controls",
          "model_name": "ProgressStyleModel",
          "model_module_version": "1.5.0",
          "state": {
            "_model_module": "@jupyter-widgets/controls",
            "_model_module_version": "1.5.0",
            "_model_name": "ProgressStyleModel",
            "_view_count": null,
            "_view_module": "@jupyter-widgets/base",
            "_view_module_version": "1.2.0",
            "_view_name": "StyleView",
            "bar_color": null,
            "description_width": ""
          }
        },
        "809b815c63ae405bae9314736b5081d3": {
          "model_module": "@jupyter-widgets/base",
          "model_name": "LayoutModel",
          "model_module_version": "1.2.0",
          "state": {
            "_model_module": "@jupyter-widgets/base",
            "_model_module_version": "1.2.0",
            "_model_name": "LayoutModel",
            "_view_count": null,
            "_view_module": "@jupyter-widgets/base",
            "_view_module_version": "1.2.0",
            "_view_name": "LayoutView",
            "align_content": null,
            "align_items": null,
            "align_self": null,
            "border": null,
            "bottom": null,
            "display": null,
            "flex": null,
            "flex_flow": null,
            "grid_area": null,
            "grid_auto_columns": null,
            "grid_auto_flow": null,
            "grid_auto_rows": null,
            "grid_column": null,
            "grid_gap": null,
            "grid_row": null,
            "grid_template_areas": null,
            "grid_template_columns": null,
            "grid_template_rows": null,
            "height": null,
            "justify_content": null,
            "justify_items": null,
            "left": null,
            "margin": null,
            "max_height": null,
            "max_width": null,
            "min_height": null,
            "min_width": null,
            "object_fit": null,
            "object_position": null,
            "order": null,
            "overflow": null,
            "overflow_x": null,
            "overflow_y": null,
            "padding": null,
            "right": null,
            "top": null,
            "visibility": null,
            "width": null
          }
        },
        "7df90beadbf04f82a5b7bfc309a18325": {
          "model_module": "@jupyter-widgets/controls",
          "model_name": "DescriptionStyleModel",
          "model_module_version": "1.5.0",
          "state": {
            "_model_module": "@jupyter-widgets/controls",
            "_model_module_version": "1.5.0",
            "_model_name": "DescriptionStyleModel",
            "_view_count": null,
            "_view_module": "@jupyter-widgets/base",
            "_view_module_version": "1.2.0",
            "_view_name": "StyleView",
            "description_width": ""
          }
        },
        "1828cf7c1dbe443ba09c593a729cacbb": {
          "model_module": "@jupyter-widgets/controls",
          "model_name": "HBoxModel",
          "model_module_version": "1.5.0",
          "state": {
            "_dom_classes": [],
            "_model_module": "@jupyter-widgets/controls",
            "_model_module_version": "1.5.0",
            "_model_name": "HBoxModel",
            "_view_count": null,
            "_view_module": "@jupyter-widgets/controls",
            "_view_module_version": "1.5.0",
            "_view_name": "HBoxView",
            "box_style": "",
            "children": [
              "IPY_MODEL_107a980ac13141cdb217738eba66abd9",
              "IPY_MODEL_787c20ee109a450cba771a82857fa208",
              "IPY_MODEL_821613261352424cb2532813c7b217cc"
            ],
            "layout": "IPY_MODEL_7d86391150dd46bba7ca6fa86f9d8dbd"
          }
        },
        "107a980ac13141cdb217738eba66abd9": {
          "model_module": "@jupyter-widgets/controls",
          "model_name": "HTMLModel",
          "model_module_version": "1.5.0",
          "state": {
            "_dom_classes": [],
            "_model_module": "@jupyter-widgets/controls",
            "_model_module_version": "1.5.0",
            "_model_name": "HTMLModel",
            "_view_count": null,
            "_view_module": "@jupyter-widgets/controls",
            "_view_module_version": "1.5.0",
            "_view_name": "HTMLView",
            "description": "",
            "description_tooltip": null,
            "layout": "IPY_MODEL_ef7f33e3fb9144afbac901e7a10fe212",
            "placeholder": "​",
            "style": "IPY_MODEL_0308d31e951e478a81b799e0156a9258",
            "value": "100%"
          }
        },
        "787c20ee109a450cba771a82857fa208": {
          "model_module": "@jupyter-widgets/controls",
          "model_name": "FloatProgressModel",
          "model_module_version": "1.5.0",
          "state": {
            "_dom_classes": [],
            "_model_module": "@jupyter-widgets/controls",
            "_model_module_version": "1.5.0",
            "_model_name": "FloatProgressModel",
            "_view_count": null,
            "_view_module": "@jupyter-widgets/controls",
            "_view_module_version": "1.5.0",
            "_view_name": "ProgressView",
            "bar_style": "success",
            "description": "",
            "description_tooltip": null,
            "layout": "IPY_MODEL_ae8262f89cbf49908e929f0af863788c",
            "max": 1,
            "min": 0,
            "orientation": "horizontal",
            "style": "IPY_MODEL_d89fee86366440a6b4380590701d618e",
            "value": 1
          }
        },
        "821613261352424cb2532813c7b217cc": {
          "model_module": "@jupyter-widgets/controls",
          "model_name": "HTMLModel",
          "model_module_version": "1.5.0",
          "state": {
            "_dom_classes": [],
            "_model_module": "@jupyter-widgets/controls",
            "_model_module_version": "1.5.0",
            "_model_name": "HTMLModel",
            "_view_count": null,
            "_view_module": "@jupyter-widgets/controls",
            "_view_module_version": "1.5.0",
            "_view_name": "HTMLView",
            "description": "",
            "description_tooltip": null,
            "layout": "IPY_MODEL_0185a223192443da801812f4e859ace0",
            "placeholder": "​",
            "style": "IPY_MODEL_5adc5c6a54cf4200800cc4b0b04e254b",
            "value": " 1/1 [07:09&lt;00:00, 429.86s/it]"
          }
        },
        "7d86391150dd46bba7ca6fa86f9d8dbd": {
          "model_module": "@jupyter-widgets/base",
          "model_name": "LayoutModel",
          "model_module_version": "1.2.0",
          "state": {
            "_model_module": "@jupyter-widgets/base",
            "_model_module_version": "1.2.0",
            "_model_name": "LayoutModel",
            "_view_count": null,
            "_view_module": "@jupyter-widgets/base",
            "_view_module_version": "1.2.0",
            "_view_name": "LayoutView",
            "align_content": null,
            "align_items": null,
            "align_self": null,
            "border": null,
            "bottom": null,
            "display": null,
            "flex": null,
            "flex_flow": null,
            "grid_area": null,
            "grid_auto_columns": null,
            "grid_auto_flow": null,
            "grid_auto_rows": null,
            "grid_column": null,
            "grid_gap": null,
            "grid_row": null,
            "grid_template_areas": null,
            "grid_template_columns": null,
            "grid_template_rows": null,
            "height": null,
            "justify_content": null,
            "justify_items": null,
            "left": null,
            "margin": null,
            "max_height": null,
            "max_width": null,
            "min_height": null,
            "min_width": null,
            "object_fit": null,
            "object_position": null,
            "order": null,
            "overflow": null,
            "overflow_x": null,
            "overflow_y": null,
            "padding": null,
            "right": null,
            "top": null,
            "visibility": null,
            "width": null
          }
        },
        "ef7f33e3fb9144afbac901e7a10fe212": {
          "model_module": "@jupyter-widgets/base",
          "model_name": "LayoutModel",
          "model_module_version": "1.2.0",
          "state": {
            "_model_module": "@jupyter-widgets/base",
            "_model_module_version": "1.2.0",
            "_model_name": "LayoutModel",
            "_view_count": null,
            "_view_module": "@jupyter-widgets/base",
            "_view_module_version": "1.2.0",
            "_view_name": "LayoutView",
            "align_content": null,
            "align_items": null,
            "align_self": null,
            "border": null,
            "bottom": null,
            "display": null,
            "flex": null,
            "flex_flow": null,
            "grid_area": null,
            "grid_auto_columns": null,
            "grid_auto_flow": null,
            "grid_auto_rows": null,
            "grid_column": null,
            "grid_gap": null,
            "grid_row": null,
            "grid_template_areas": null,
            "grid_template_columns": null,
            "grid_template_rows": null,
            "height": null,
            "justify_content": null,
            "justify_items": null,
            "left": null,
            "margin": null,
            "max_height": null,
            "max_width": null,
            "min_height": null,
            "min_width": null,
            "object_fit": null,
            "object_position": null,
            "order": null,
            "overflow": null,
            "overflow_x": null,
            "overflow_y": null,
            "padding": null,
            "right": null,
            "top": null,
            "visibility": null,
            "width": null
          }
        },
        "0308d31e951e478a81b799e0156a9258": {
          "model_module": "@jupyter-widgets/controls",
          "model_name": "DescriptionStyleModel",
          "model_module_version": "1.5.0",
          "state": {
            "_model_module": "@jupyter-widgets/controls",
            "_model_module_version": "1.5.0",
            "_model_name": "DescriptionStyleModel",
            "_view_count": null,
            "_view_module": "@jupyter-widgets/base",
            "_view_module_version": "1.2.0",
            "_view_name": "StyleView",
            "description_width": ""
          }
        },
        "ae8262f89cbf49908e929f0af863788c": {
          "model_module": "@jupyter-widgets/base",
          "model_name": "LayoutModel",
          "model_module_version": "1.2.0",
          "state": {
            "_model_module": "@jupyter-widgets/base",
            "_model_module_version": "1.2.0",
            "_model_name": "LayoutModel",
            "_view_count": null,
            "_view_module": "@jupyter-widgets/base",
            "_view_module_version": "1.2.0",
            "_view_name": "LayoutView",
            "align_content": null,
            "align_items": null,
            "align_self": null,
            "border": null,
            "bottom": null,
            "display": null,
            "flex": null,
            "flex_flow": null,
            "grid_area": null,
            "grid_auto_columns": null,
            "grid_auto_flow": null,
            "grid_auto_rows": null,
            "grid_column": null,
            "grid_gap": null,
            "grid_row": null,
            "grid_template_areas": null,
            "grid_template_columns": null,
            "grid_template_rows": null,
            "height": null,
            "justify_content": null,
            "justify_items": null,
            "left": null,
            "margin": null,
            "max_height": null,
            "max_width": null,
            "min_height": null,
            "min_width": null,
            "object_fit": null,
            "object_position": null,
            "order": null,
            "overflow": null,
            "overflow_x": null,
            "overflow_y": null,
            "padding": null,
            "right": null,
            "top": null,
            "visibility": null,
            "width": null
          }
        },
        "d89fee86366440a6b4380590701d618e": {
          "model_module": "@jupyter-widgets/controls",
          "model_name": "ProgressStyleModel",
          "model_module_version": "1.5.0",
          "state": {
            "_model_module": "@jupyter-widgets/controls",
            "_model_module_version": "1.5.0",
            "_model_name": "ProgressStyleModel",
            "_view_count": null,
            "_view_module": "@jupyter-widgets/base",
            "_view_module_version": "1.2.0",
            "_view_name": "StyleView",
            "bar_color": null,
            "description_width": ""
          }
        },
        "0185a223192443da801812f4e859ace0": {
          "model_module": "@jupyter-widgets/base",
          "model_name": "LayoutModel",
          "model_module_version": "1.2.0",
          "state": {
            "_model_module": "@jupyter-widgets/base",
            "_model_module_version": "1.2.0",
            "_model_name": "LayoutModel",
            "_view_count": null,
            "_view_module": "@jupyter-widgets/base",
            "_view_module_version": "1.2.0",
            "_view_name": "LayoutView",
            "align_content": null,
            "align_items": null,
            "align_self": null,
            "border": null,
            "bottom": null,
            "display": null,
            "flex": null,
            "flex_flow": null,
            "grid_area": null,
            "grid_auto_columns": null,
            "grid_auto_flow": null,
            "grid_auto_rows": null,
            "grid_column": null,
            "grid_gap": null,
            "grid_row": null,
            "grid_template_areas": null,
            "grid_template_columns": null,
            "grid_template_rows": null,
            "height": null,
            "justify_content": null,
            "justify_items": null,
            "left": null,
            "margin": null,
            "max_height": null,
            "max_width": null,
            "min_height": null,
            "min_width": null,
            "object_fit": null,
            "object_position": null,
            "order": null,
            "overflow": null,
            "overflow_x": null,
            "overflow_y": null,
            "padding": null,
            "right": null,
            "top": null,
            "visibility": null,
            "width": null
          }
        },
        "5adc5c6a54cf4200800cc4b0b04e254b": {
          "model_module": "@jupyter-widgets/controls",
          "model_name": "DescriptionStyleModel",
          "model_module_version": "1.5.0",
          "state": {
            "_model_module": "@jupyter-widgets/controls",
            "_model_module_version": "1.5.0",
            "_model_name": "DescriptionStyleModel",
            "_view_count": null,
            "_view_module": "@jupyter-widgets/base",
            "_view_module_version": "1.2.0",
            "_view_name": "StyleView",
            "description_width": ""
          }
        },
        "2f0983562fd14df381eade6154523217": {
          "model_module": "@jupyter-widgets/controls",
          "model_name": "HBoxModel",
          "model_module_version": "1.5.0",
          "state": {
            "_dom_classes": [],
            "_model_module": "@jupyter-widgets/controls",
            "_model_module_version": "1.5.0",
            "_model_name": "HBoxModel",
            "_view_count": null,
            "_view_module": "@jupyter-widgets/controls",
            "_view_module_version": "1.5.0",
            "_view_name": "HBoxView",
            "box_style": "",
            "children": [
              "IPY_MODEL_7bf95fcd1cd54e768eb40bc36419aa9a",
              "IPY_MODEL_5a0b3071978d499a81d799f5b54ec665",
              "IPY_MODEL_850e4fa2135d4afb87d017121f7cf672"
            ],
            "layout": "IPY_MODEL_e741ec5badfe4900b40b6674ed789d7d"
          }
        },
        "7bf95fcd1cd54e768eb40bc36419aa9a": {
          "model_module": "@jupyter-widgets/controls",
          "model_name": "HTMLModel",
          "model_module_version": "1.5.0",
          "state": {
            "_dom_classes": [],
            "_model_module": "@jupyter-widgets/controls",
            "_model_module_version": "1.5.0",
            "_model_name": "HTMLModel",
            "_view_count": null,
            "_view_module": "@jupyter-widgets/controls",
            "_view_module_version": "1.5.0",
            "_view_name": "HTMLView",
            "description": "",
            "description_tooltip": null,
            "layout": "IPY_MODEL_bc079f3e41ee41e8a4637a89dbf9a6d3",
            "placeholder": "​",
            "style": "IPY_MODEL_8b0f46a3f4d64788811e31211ebba7cd",
            "value": "batches: 100%"
          }
        },
        "5a0b3071978d499a81d799f5b54ec665": {
          "model_module": "@jupyter-widgets/controls",
          "model_name": "FloatProgressModel",
          "model_module_version": "1.5.0",
          "state": {
            "_dom_classes": [],
            "_model_module": "@jupyter-widgets/controls",
            "_model_module_version": "1.5.0",
            "_model_name": "FloatProgressModel",
            "_view_count": null,
            "_view_module": "@jupyter-widgets/controls",
            "_view_module_version": "1.5.0",
            "_view_name": "ProgressView",
            "bar_style": "success",
            "description": "",
            "description_tooltip": null,
            "layout": "IPY_MODEL_0b1d73acc5744aecae4a2cc592f9dc69",
            "max": 34677,
            "min": 0,
            "orientation": "horizontal",
            "style": "IPY_MODEL_b8b392893f6549ffaf783d258231346e",
            "value": 34677
          }
        },
        "850e4fa2135d4afb87d017121f7cf672": {
          "model_module": "@jupyter-widgets/controls",
          "model_name": "HTMLModel",
          "model_module_version": "1.5.0",
          "state": {
            "_dom_classes": [],
            "_model_module": "@jupyter-widgets/controls",
            "_model_module_version": "1.5.0",
            "_model_name": "HTMLModel",
            "_view_count": null,
            "_view_module": "@jupyter-widgets/controls",
            "_view_module_version": "1.5.0",
            "_view_name": "HTMLView",
            "description": "",
            "description_tooltip": null,
            "layout": "IPY_MODEL_163b87665f5540e5b08a99618388c2fd",
            "placeholder": "​",
            "style": "IPY_MODEL_2ad0393387d44e3c81407b9e96bd4368",
            "value": " 34677/34677 [06:46&lt;00:00, 90.02it/s]"
          }
        },
        "e741ec5badfe4900b40b6674ed789d7d": {
          "model_module": "@jupyter-widgets/base",
          "model_name": "LayoutModel",
          "model_module_version": "1.2.0",
          "state": {
            "_model_module": "@jupyter-widgets/base",
            "_model_module_version": "1.2.0",
            "_model_name": "LayoutModel",
            "_view_count": null,
            "_view_module": "@jupyter-widgets/base",
            "_view_module_version": "1.2.0",
            "_view_name": "LayoutView",
            "align_content": null,
            "align_items": null,
            "align_self": null,
            "border": null,
            "bottom": null,
            "display": null,
            "flex": null,
            "flex_flow": null,
            "grid_area": null,
            "grid_auto_columns": null,
            "grid_auto_flow": null,
            "grid_auto_rows": null,
            "grid_column": null,
            "grid_gap": null,
            "grid_row": null,
            "grid_template_areas": null,
            "grid_template_columns": null,
            "grid_template_rows": null,
            "height": null,
            "justify_content": null,
            "justify_items": null,
            "left": null,
            "margin": null,
            "max_height": null,
            "max_width": null,
            "min_height": null,
            "min_width": null,
            "object_fit": null,
            "object_position": null,
            "order": null,
            "overflow": null,
            "overflow_x": null,
            "overflow_y": null,
            "padding": null,
            "right": null,
            "top": null,
            "visibility": null,
            "width": null
          }
        },
        "bc079f3e41ee41e8a4637a89dbf9a6d3": {
          "model_module": "@jupyter-widgets/base",
          "model_name": "LayoutModel",
          "model_module_version": "1.2.0",
          "state": {
            "_model_module": "@jupyter-widgets/base",
            "_model_module_version": "1.2.0",
            "_model_name": "LayoutModel",
            "_view_count": null,
            "_view_module": "@jupyter-widgets/base",
            "_view_module_version": "1.2.0",
            "_view_name": "LayoutView",
            "align_content": null,
            "align_items": null,
            "align_self": null,
            "border": null,
            "bottom": null,
            "display": null,
            "flex": null,
            "flex_flow": null,
            "grid_area": null,
            "grid_auto_columns": null,
            "grid_auto_flow": null,
            "grid_auto_rows": null,
            "grid_column": null,
            "grid_gap": null,
            "grid_row": null,
            "grid_template_areas": null,
            "grid_template_columns": null,
            "grid_template_rows": null,
            "height": null,
            "justify_content": null,
            "justify_items": null,
            "left": null,
            "margin": null,
            "max_height": null,
            "max_width": null,
            "min_height": null,
            "min_width": null,
            "object_fit": null,
            "object_position": null,
            "order": null,
            "overflow": null,
            "overflow_x": null,
            "overflow_y": null,
            "padding": null,
            "right": null,
            "top": null,
            "visibility": null,
            "width": null
          }
        },
        "8b0f46a3f4d64788811e31211ebba7cd": {
          "model_module": "@jupyter-widgets/controls",
          "model_name": "DescriptionStyleModel",
          "model_module_version": "1.5.0",
          "state": {
            "_model_module": "@jupyter-widgets/controls",
            "_model_module_version": "1.5.0",
            "_model_name": "DescriptionStyleModel",
            "_view_count": null,
            "_view_module": "@jupyter-widgets/base",
            "_view_module_version": "1.2.0",
            "_view_name": "StyleView",
            "description_width": ""
          }
        },
        "0b1d73acc5744aecae4a2cc592f9dc69": {
          "model_module": "@jupyter-widgets/base",
          "model_name": "LayoutModel",
          "model_module_version": "1.2.0",
          "state": {
            "_model_module": "@jupyter-widgets/base",
            "_model_module_version": "1.2.0",
            "_model_name": "LayoutModel",
            "_view_count": null,
            "_view_module": "@jupyter-widgets/base",
            "_view_module_version": "1.2.0",
            "_view_name": "LayoutView",
            "align_content": null,
            "align_items": null,
            "align_self": null,
            "border": null,
            "bottom": null,
            "display": null,
            "flex": null,
            "flex_flow": null,
            "grid_area": null,
            "grid_auto_columns": null,
            "grid_auto_flow": null,
            "grid_auto_rows": null,
            "grid_column": null,
            "grid_gap": null,
            "grid_row": null,
            "grid_template_areas": null,
            "grid_template_columns": null,
            "grid_template_rows": null,
            "height": null,
            "justify_content": null,
            "justify_items": null,
            "left": null,
            "margin": null,
            "max_height": null,
            "max_width": null,
            "min_height": null,
            "min_width": null,
            "object_fit": null,
            "object_position": null,
            "order": null,
            "overflow": null,
            "overflow_x": null,
            "overflow_y": null,
            "padding": null,
            "right": null,
            "top": null,
            "visibility": null,
            "width": null
          }
        },
        "b8b392893f6549ffaf783d258231346e": {
          "model_module": "@jupyter-widgets/controls",
          "model_name": "ProgressStyleModel",
          "model_module_version": "1.5.0",
          "state": {
            "_model_module": "@jupyter-widgets/controls",
            "_model_module_version": "1.5.0",
            "_model_name": "ProgressStyleModel",
            "_view_count": null,
            "_view_module": "@jupyter-widgets/base",
            "_view_module_version": "1.2.0",
            "_view_name": "StyleView",
            "bar_color": null,
            "description_width": ""
          }
        },
        "163b87665f5540e5b08a99618388c2fd": {
          "model_module": "@jupyter-widgets/base",
          "model_name": "LayoutModel",
          "model_module_version": "1.2.0",
          "state": {
            "_model_module": "@jupyter-widgets/base",
            "_model_module_version": "1.2.0",
            "_model_name": "LayoutModel",
            "_view_count": null,
            "_view_module": "@jupyter-widgets/base",
            "_view_module_version": "1.2.0",
            "_view_name": "LayoutView",
            "align_content": null,
            "align_items": null,
            "align_self": null,
            "border": null,
            "bottom": null,
            "display": null,
            "flex": null,
            "flex_flow": null,
            "grid_area": null,
            "grid_auto_columns": null,
            "grid_auto_flow": null,
            "grid_auto_rows": null,
            "grid_column": null,
            "grid_gap": null,
            "grid_row": null,
            "grid_template_areas": null,
            "grid_template_columns": null,
            "grid_template_rows": null,
            "height": null,
            "justify_content": null,
            "justify_items": null,
            "left": null,
            "margin": null,
            "max_height": null,
            "max_width": null,
            "min_height": null,
            "min_width": null,
            "object_fit": null,
            "object_position": null,
            "order": null,
            "overflow": null,
            "overflow_x": null,
            "overflow_y": null,
            "padding": null,
            "right": null,
            "top": null,
            "visibility": null,
            "width": null
          }
        },
        "2ad0393387d44e3c81407b9e96bd4368": {
          "model_module": "@jupyter-widgets/controls",
          "model_name": "DescriptionStyleModel",
          "model_module_version": "1.5.0",
          "state": {
            "_model_module": "@jupyter-widgets/controls",
            "_model_module_version": "1.5.0",
            "_model_name": "DescriptionStyleModel",
            "_view_count": null,
            "_view_module": "@jupyter-widgets/base",
            "_view_module_version": "1.2.0",
            "_view_name": "StyleView",
            "description_width": ""
          }
        },
        "6403646f325143628d1a4805a706d642": {
          "model_module": "@jupyter-widgets/controls",
          "model_name": "HBoxModel",
          "model_module_version": "1.5.0",
          "state": {
            "_dom_classes": [],
            "_model_module": "@jupyter-widgets/controls",
            "_model_module_version": "1.5.0",
            "_model_name": "HBoxModel",
            "_view_count": null,
            "_view_module": "@jupyter-widgets/controls",
            "_view_module_version": "1.5.0",
            "_view_name": "HBoxView",
            "box_style": "",
            "children": [
              "IPY_MODEL_17a3420ddcad45b0a5cd1633c1d48c9b",
              "IPY_MODEL_8c1ac3e465914da8b50e49e3c8f6237f",
              "IPY_MODEL_3ad149e6d7664148b3d417b9f5eac504"
            ],
            "layout": "IPY_MODEL_783bdefe25734e6bae6d8a63218d6865"
          }
        },
        "17a3420ddcad45b0a5cd1633c1d48c9b": {
          "model_module": "@jupyter-widgets/controls",
          "model_name": "HTMLModel",
          "model_module_version": "1.5.0",
          "state": {
            "_dom_classes": [],
            "_model_module": "@jupyter-widgets/controls",
            "_model_module_version": "1.5.0",
            "_model_name": "HTMLModel",
            "_view_count": null,
            "_view_module": "@jupyter-widgets/controls",
            "_view_module_version": "1.5.0",
            "_view_name": "HTMLView",
            "description": "",
            "description_tooltip": null,
            "layout": "IPY_MODEL_48bd2e62e643457b9281cc75d15d51ca",
            "placeholder": "​",
            "style": "IPY_MODEL_705fe7ad250f43f6b443f1c02eb5a4cd",
            "value": "batches: 100%"
          }
        },
        "8c1ac3e465914da8b50e49e3c8f6237f": {
          "model_module": "@jupyter-widgets/controls",
          "model_name": "FloatProgressModel",
          "model_module_version": "1.5.0",
          "state": {
            "_dom_classes": [],
            "_model_module": "@jupyter-widgets/controls",
            "_model_module_version": "1.5.0",
            "_model_name": "FloatProgressModel",
            "_view_count": null,
            "_view_module": "@jupyter-widgets/controls",
            "_view_module_version": "1.5.0",
            "_view_name": "ProgressView",
            "bar_style": "success",
            "description": "",
            "description_tooltip": null,
            "layout": "IPY_MODEL_8bb1e5fd0d2f4770bca7243696ad8101",
            "max": 4603,
            "min": 0,
            "orientation": "horizontal",
            "style": "IPY_MODEL_07ee58c47dea4e9e96595129eb632d04",
            "value": 4603
          }
        },
        "3ad149e6d7664148b3d417b9f5eac504": {
          "model_module": "@jupyter-widgets/controls",
          "model_name": "HTMLModel",
          "model_module_version": "1.5.0",
          "state": {
            "_dom_classes": [],
            "_model_module": "@jupyter-widgets/controls",
            "_model_module_version": "1.5.0",
            "_model_name": "HTMLModel",
            "_view_count": null,
            "_view_module": "@jupyter-widgets/controls",
            "_view_module_version": "1.5.0",
            "_view_name": "HTMLView",
            "description": "",
            "description_tooltip": null,
            "layout": "IPY_MODEL_12a5db05b63a4844a1212e69791660f7",
            "placeholder": "​",
            "style": "IPY_MODEL_90cec586947f4f29b1218843ff70f9c0",
            "value": " 4603/4603 [00:23&lt;00:00, 209.27it/s]"
          }
        },
        "783bdefe25734e6bae6d8a63218d6865": {
          "model_module": "@jupyter-widgets/base",
          "model_name": "LayoutModel",
          "model_module_version": "1.2.0",
          "state": {
            "_model_module": "@jupyter-widgets/base",
            "_model_module_version": "1.2.0",
            "_model_name": "LayoutModel",
            "_view_count": null,
            "_view_module": "@jupyter-widgets/base",
            "_view_module_version": "1.2.0",
            "_view_name": "LayoutView",
            "align_content": null,
            "align_items": null,
            "align_self": null,
            "border": null,
            "bottom": null,
            "display": null,
            "flex": null,
            "flex_flow": null,
            "grid_area": null,
            "grid_auto_columns": null,
            "grid_auto_flow": null,
            "grid_auto_rows": null,
            "grid_column": null,
            "grid_gap": null,
            "grid_row": null,
            "grid_template_areas": null,
            "grid_template_columns": null,
            "grid_template_rows": null,
            "height": null,
            "justify_content": null,
            "justify_items": null,
            "left": null,
            "margin": null,
            "max_height": null,
            "max_width": null,
            "min_height": null,
            "min_width": null,
            "object_fit": null,
            "object_position": null,
            "order": null,
            "overflow": null,
            "overflow_x": null,
            "overflow_y": null,
            "padding": null,
            "right": null,
            "top": null,
            "visibility": null,
            "width": null
          }
        },
        "48bd2e62e643457b9281cc75d15d51ca": {
          "model_module": "@jupyter-widgets/base",
          "model_name": "LayoutModel",
          "model_module_version": "1.2.0",
          "state": {
            "_model_module": "@jupyter-widgets/base",
            "_model_module_version": "1.2.0",
            "_model_name": "LayoutModel",
            "_view_count": null,
            "_view_module": "@jupyter-widgets/base",
            "_view_module_version": "1.2.0",
            "_view_name": "LayoutView",
            "align_content": null,
            "align_items": null,
            "align_self": null,
            "border": null,
            "bottom": null,
            "display": null,
            "flex": null,
            "flex_flow": null,
            "grid_area": null,
            "grid_auto_columns": null,
            "grid_auto_flow": null,
            "grid_auto_rows": null,
            "grid_column": null,
            "grid_gap": null,
            "grid_row": null,
            "grid_template_areas": null,
            "grid_template_columns": null,
            "grid_template_rows": null,
            "height": null,
            "justify_content": null,
            "justify_items": null,
            "left": null,
            "margin": null,
            "max_height": null,
            "max_width": null,
            "min_height": null,
            "min_width": null,
            "object_fit": null,
            "object_position": null,
            "order": null,
            "overflow": null,
            "overflow_x": null,
            "overflow_y": null,
            "padding": null,
            "right": null,
            "top": null,
            "visibility": null,
            "width": null
          }
        },
        "705fe7ad250f43f6b443f1c02eb5a4cd": {
          "model_module": "@jupyter-widgets/controls",
          "model_name": "DescriptionStyleModel",
          "model_module_version": "1.5.0",
          "state": {
            "_model_module": "@jupyter-widgets/controls",
            "_model_module_version": "1.5.0",
            "_model_name": "DescriptionStyleModel",
            "_view_count": null,
            "_view_module": "@jupyter-widgets/base",
            "_view_module_version": "1.2.0",
            "_view_name": "StyleView",
            "description_width": ""
          }
        },
        "8bb1e5fd0d2f4770bca7243696ad8101": {
          "model_module": "@jupyter-widgets/base",
          "model_name": "LayoutModel",
          "model_module_version": "1.2.0",
          "state": {
            "_model_module": "@jupyter-widgets/base",
            "_model_module_version": "1.2.0",
            "_model_name": "LayoutModel",
            "_view_count": null,
            "_view_module": "@jupyter-widgets/base",
            "_view_module_version": "1.2.0",
            "_view_name": "LayoutView",
            "align_content": null,
            "align_items": null,
            "align_self": null,
            "border": null,
            "bottom": null,
            "display": null,
            "flex": null,
            "flex_flow": null,
            "grid_area": null,
            "grid_auto_columns": null,
            "grid_auto_flow": null,
            "grid_auto_rows": null,
            "grid_column": null,
            "grid_gap": null,
            "grid_row": null,
            "grid_template_areas": null,
            "grid_template_columns": null,
            "grid_template_rows": null,
            "height": null,
            "justify_content": null,
            "justify_items": null,
            "left": null,
            "margin": null,
            "max_height": null,
            "max_width": null,
            "min_height": null,
            "min_width": null,
            "object_fit": null,
            "object_position": null,
            "order": null,
            "overflow": null,
            "overflow_x": null,
            "overflow_y": null,
            "padding": null,
            "right": null,
            "top": null,
            "visibility": null,
            "width": null
          }
        },
        "07ee58c47dea4e9e96595129eb632d04": {
          "model_module": "@jupyter-widgets/controls",
          "model_name": "ProgressStyleModel",
          "model_module_version": "1.5.0",
          "state": {
            "_model_module": "@jupyter-widgets/controls",
            "_model_module_version": "1.5.0",
            "_model_name": "ProgressStyleModel",
            "_view_count": null,
            "_view_module": "@jupyter-widgets/base",
            "_view_module_version": "1.2.0",
            "_view_name": "StyleView",
            "bar_color": null,
            "description_width": ""
          }
        },
        "12a5db05b63a4844a1212e69791660f7": {
          "model_module": "@jupyter-widgets/base",
          "model_name": "LayoutModel",
          "model_module_version": "1.2.0",
          "state": {
            "_model_module": "@jupyter-widgets/base",
            "_model_module_version": "1.2.0",
            "_model_name": "LayoutModel",
            "_view_count": null,
            "_view_module": "@jupyter-widgets/base",
            "_view_module_version": "1.2.0",
            "_view_name": "LayoutView",
            "align_content": null,
            "align_items": null,
            "align_self": null,
            "border": null,
            "bottom": null,
            "display": null,
            "flex": null,
            "flex_flow": null,
            "grid_area": null,
            "grid_auto_columns": null,
            "grid_auto_flow": null,
            "grid_auto_rows": null,
            "grid_column": null,
            "grid_gap": null,
            "grid_row": null,
            "grid_template_areas": null,
            "grid_template_columns": null,
            "grid_template_rows": null,
            "height": null,
            "justify_content": null,
            "justify_items": null,
            "left": null,
            "margin": null,
            "max_height": null,
            "max_width": null,
            "min_height": null,
            "min_width": null,
            "object_fit": null,
            "object_position": null,
            "order": null,
            "overflow": null,
            "overflow_x": null,
            "overflow_y": null,
            "padding": null,
            "right": null,
            "top": null,
            "visibility": null,
            "width": null
          }
        },
        "90cec586947f4f29b1218843ff70f9c0": {
          "model_module": "@jupyter-widgets/controls",
          "model_name": "DescriptionStyleModel",
          "model_module_version": "1.5.0",
          "state": {
            "_model_module": "@jupyter-widgets/controls",
            "_model_module_version": "1.5.0",
            "_model_name": "DescriptionStyleModel",
            "_view_count": null,
            "_view_module": "@jupyter-widgets/base",
            "_view_module_version": "1.2.0",
            "_view_name": "StyleView",
            "description_width": ""
          }
        }
      }
    }
  },
  "nbformat": 4,
  "nbformat_minor": 5
}